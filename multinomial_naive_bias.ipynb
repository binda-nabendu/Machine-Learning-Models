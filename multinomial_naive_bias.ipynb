{
 "cells": [
  {
   "cell_type": "code",
   "execution_count": 1,
   "id": "initial_id",
   "metadata": {
    "collapsed": true,
    "ExecuteTime": {
     "end_time": "2023-09-14T11:22:42.562037Z",
     "start_time": "2023-09-14T11:22:42.464945Z"
    }
   },
   "outputs": [
    {
     "name": "stdout",
     "output_type": "stream",
     "text": [
      "Predictions: [1 1]\n"
     ]
    }
   ],
   "source": [
    "from sklearn.feature_extraction.text import CountVectorizer\n",
    "from sklearn.naive_bayes import MultinomialNB\n",
    "from sklearn.metrics import accuracy_score\n",
    "\n",
    "# Sample text data\n",
    "corpus = [\n",
    "    \"This is a positive document.\",\n",
    "    \"This is a negative document.\",\n",
    "    \"I am neutral about this.\",\n",
    "    \"Positive sentiment is good.\",\n",
    "]\n",
    "\n",
    "# Label the documents\n",
    "labels = [1, 0, 2, 1]\n",
    "\n",
    "# Convert text data to a numerical format using CountVectorizer\n",
    "vectorizer = CountVectorizer()\n",
    "X = vectorizer.fit_transform(corpus)\n",
    "\n",
    "# Create a Multinomial Naive Bayes classifier\n",
    "mnb = MultinomialNB()\n",
    "\n",
    "# Train the classifier on the data\n",
    "mnb.fit(X, labels)\n",
    "\n",
    "# New test data\n",
    "test_data = [\"I love this product.\", \"I dislike this product.\"]\n",
    "\n",
    "# Convert test data to numerical format\n",
    "X_test = vectorizer.transform(test_data)\n",
    "\n",
    "# Make predictions on the test data\n",
    "y_pred = mnb.predict(X_test)\n",
    "\n",
    "# Display the predictions\n",
    "print(\"Predictions:\", y_pred)\n"
   ]
  }
 ],
 "metadata": {
  "kernelspec": {
   "display_name": "Python 3",
   "language": "python",
   "name": "python3"
  },
  "language_info": {
   "codemirror_mode": {
    "name": "ipython",
    "version": 2
   },
   "file_extension": ".py",
   "mimetype": "text/x-python",
   "name": "python",
   "nbconvert_exporter": "python",
   "pygments_lexer": "ipython2",
   "version": "2.7.6"
  }
 },
 "nbformat": 4,
 "nbformat_minor": 5
}
