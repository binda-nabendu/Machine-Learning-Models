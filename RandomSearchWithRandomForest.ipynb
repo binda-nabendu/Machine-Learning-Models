{
 "cells": [
  {
   "cell_type": "code",
   "execution_count": null,
   "outputs": [],
   "source": [
    "import pandas as pd\n",
    "import numpy as np"
   ],
   "metadata": {
    "collapsed": false
   },
   "id": "eeaced3377af800c"
  },
  {
   "cell_type": "code",
   "execution_count": null,
   "outputs": [],
   "source": [
    "from sklearn.datasets import load_breast_cancer"
   ],
   "metadata": {
    "collapsed": false
   },
   "id": "574d5004a07c82fa"
  },
  {
   "cell_type": "code",
   "execution_count": null,
   "id": "initial_id",
   "metadata": {
    "collapsed": true
   },
   "outputs": [],
   "source": [
    "cancer_data, cancer_status = load_breast_cancer(return_X_y=True)\n",
    "print(cancer_data.shape)"
   ]
  },
  {
   "cell_type": "code",
   "execution_count": null,
   "outputs": [],
   "source": [
    "cancer_data"
   ],
   "metadata": {
    "collapsed": false
   },
   "id": "988fa640902a1556"
  },
  {
   "cell_type": "code",
   "execution_count": null,
   "outputs": [],
   "source": [
    "columns = load_breast_cancer().feature_names"
   ],
   "metadata": {
    "collapsed": false
   },
   "id": "2cc2a912e4b08d42"
  },
  {
   "cell_type": "code",
   "execution_count": null,
   "outputs": [],
   "source": [
    "columns"
   ],
   "metadata": {
    "collapsed": false
   },
   "id": "67955fdba0c57de8"
  },
  {
   "cell_type": "code",
   "execution_count": null,
   "outputs": [],
   "source": [
    "data_set = pd.DataFrame(data= cancer_data, columns= columns)"
   ],
   "metadata": {
    "collapsed": false
   },
   "id": "f0ef5ecbf8414c51"
  },
  {
   "cell_type": "code",
   "execution_count": null,
   "outputs": [],
   "source": [
    "data_set"
   ],
   "metadata": {
    "collapsed": false
   },
   "id": "69cf847ffce015a0"
  },
  {
   "cell_type": "code",
   "execution_count": null,
   "outputs": [],
   "source": [
    "from sklearn.model_selection import train_test_split"
   ],
   "metadata": {
    "collapsed": false
   },
   "id": "aaca2c4f9171ab05"
  },
  {
   "cell_type": "code",
   "execution_count": null,
   "outputs": [],
   "source": [
    "X_train, X_test, y_train, y_test = train_test_split(data_set, cancer_status, test_size= .25, random_state= 34)"
   ],
   "metadata": {
    "collapsed": false
   },
   "id": "46f2a098fa38ac66"
  },
  {
   "cell_type": "code",
   "execution_count": null,
   "outputs": [],
   "source": [
    "from sklearn.preprocessing import StandardScaler"
   ],
   "metadata": {
    "collapsed": false
   },
   "id": "2a7932d3eedccd57"
  },
  {
   "cell_type": "code",
   "execution_count": null,
   "outputs": [],
   "source": [
    "ss = StandardScaler()"
   ],
   "metadata": {
    "collapsed": false
   },
   "id": "ae0ffbc7f9a4d858"
  },
  {
   "cell_type": "code",
   "execution_count": null,
   "outputs": [],
   "source": [
    "scaled_x_train = ss.fit_transform(X_train) \n",
    "scaled_x_test = ss.transform(X_test)"
   ],
   "metadata": {
    "collapsed": false
   },
   "id": "7a9260aa7a4363c6"
  },
  {
   "cell_type": "code",
   "execution_count": null,
   "outputs": [],
   "source": [
    "from sklearn.ensemble import RandomForestClassifier"
   ],
   "metadata": {
    "collapsed": false
   },
   "id": "6769f1604bce6be1"
  },
  {
   "cell_type": "code",
   "execution_count": null,
   "outputs": [],
   "source": [
    "random_forest_model = RandomForestClassifier()"
   ],
   "metadata": {
    "collapsed": false
   },
   "id": "6eee99b7c9b5519d"
  },
  {
   "cell_type": "code",
   "execution_count": null,
   "outputs": [],
   "source": [
    "random_forest_model.fit(scaled_x_train, y_train)"
   ],
   "metadata": {
    "collapsed": false
   },
   "id": "bdb92c79d480f9d6"
  },
  {
   "cell_type": "code",
   "execution_count": null,
   "outputs": [],
   "source": [
    "prediction_without_random_search = random_forest_model.predict(scaled_x_test)"
   ],
   "metadata": {
    "collapsed": false
   },
   "id": "d0463e5539ab42a7"
  },
  {
   "cell_type": "code",
   "execution_count": null,
   "outputs": [],
   "source": [
    "from sklearn.metrics import confusion_matrix"
   ],
   "metadata": {
    "collapsed": false
   },
   "id": "16e1b14ed550334d"
  },
  {
   "cell_type": "code",
   "execution_count": null,
   "outputs": [],
   "source": [
    "print(confusion_matrix(y_test, prediction_without_random_search))"
   ],
   "metadata": {
    "collapsed": false
   },
   "id": "7f2b5d663cbe915d"
  },
  {
   "cell_type": "code",
   "execution_count": null,
   "outputs": [],
   "source": [
    "from sklearn.metrics import accuracy_score"
   ],
   "metadata": {
    "collapsed": false
   },
   "id": "d35b86d27dd99cb3"
  },
  {
   "cell_type": "code",
   "execution_count": null,
   "outputs": [],
   "source": [
    "print(accuracy_score(y_test, prediction_without_random_search))"
   ],
   "metadata": {
    "collapsed": false
   },
   "id": "fa6fff002cfb72c4"
  },
  {
   "cell_type": "code",
   "execution_count": null,
   "outputs": [],
   "source": [
    "from scipy.stats import randint"
   ],
   "metadata": {
    "collapsed": false
   },
   "id": "68f32f1a2ab4fad4"
  },
  {
   "cell_type": "code",
   "execution_count": null,
   "outputs": [],
   "source": [
    "parameter_set = {\"max_depth\": [3, 5], \n",
    "    \"max_features\": randint(1, 11), \n",
    "    \"min_samples_split\": randint(2, 11), \n",
    "    \"bootstrap\": [True, False], \n",
    "    \"criterion\": [\"gini\", \"entropy\"]}"
   ],
   "metadata": {
    "collapsed": false
   },
   "id": "4a2c9b1804fd7422"
  },
  {
   "cell_type": "code",
   "execution_count": null,
   "outputs": [],
   "source": [
    "target_model_for_random_search = RandomForestClassifier(n_estimators=72)"
   ],
   "metadata": {
    "collapsed": false
   },
   "id": "4a7df5a779ae92c7"
  },
  {
   "cell_type": "code",
   "execution_count": null,
   "outputs": [],
   "source": [
    "from sklearn.model_selection import RandomizedSearchCV"
   ],
   "metadata": {
    "collapsed": false
   },
   "id": "28658a9b3da40850"
  },
  {
   "cell_type": "code",
   "execution_count": null,
   "outputs": [],
   "source": [
    "random_search = RandomizedSearchCV(target_model_for_random_search, param_distributions=parameter_set, \n",
    "    n_iter=20, cv=5) "
   ],
   "metadata": {
    "collapsed": false
   },
   "id": "4a3398e8d6ae90a"
  },
  {
   "cell_type": "code",
   "execution_count": null,
   "outputs": [],
   "source": [
    "random_search.fit(scaled_x_train, y_train)"
   ],
   "metadata": {
    "collapsed": false
   },
   "id": "f8006ed4ce6c89fc"
  },
  {
   "cell_type": "code",
   "execution_count": null,
   "outputs": [],
   "source": [
    "print(random_search.best_params_)"
   ],
   "metadata": {
    "collapsed": false
   },
   "id": "9e48446ab64dfed3"
  },
  {
   "cell_type": "code",
   "execution_count": null,
   "outputs": [],
   "source": [
    "update_model = RandomForestClassifier(bootstrap= True, criterion= 'gini', max_depth= 5, max_features= 3, min_samples_split= 3)"
   ],
   "metadata": {
    "collapsed": false
   },
   "id": "fb43a5fcd5def10c"
  },
  {
   "cell_type": "code",
   "execution_count": null,
   "outputs": [],
   "source": [
    "update_model.fit(scaled_x_train, y_train)"
   ],
   "metadata": {
    "collapsed": false
   },
   "id": "87451970d1d63db6"
  },
  {
   "cell_type": "code",
   "execution_count": null,
   "outputs": [],
   "source": [
    "new_prediction = update_model.predict(scaled_x_test)"
   ],
   "metadata": {
    "collapsed": false
   },
   "id": "f7d548348a1ae95d"
  },
  {
   "cell_type": "code",
   "execution_count": null,
   "outputs": [],
   "source": [
    "print(confusion_matrix(y_test, new_prediction))"
   ],
   "metadata": {
    "collapsed": false
   },
   "id": "a32bcd16bbbb375d"
  },
  {
   "cell_type": "code",
   "execution_count": null,
   "outputs": [],
   "source": [
    "import matplotlib.pyplot as plt\n",
    "import seaborn as sns"
   ],
   "metadata": {
    "collapsed": false
   },
   "id": "19e59437984c324a"
  },
  {
   "cell_type": "code",
   "execution_count": null,
   "outputs": [],
   "source": [
    "def plot_conf_matrix(cm, title):\n",
    "    plt.figure(figsize=(8, 6))\n",
    "    sns.heatmap(cm, annot=True, fmt=\"d\", cmap=\"rainbow\", linewidths=.5, cbar=False)\n",
    "    plt.title(title)\n",
    "    plt.xlabel('Predicted')\n",
    "    plt.ylabel('Actual')\n",
    "    plt.show()"
   ],
   "metadata": {
    "collapsed": false
   },
   "id": "e3451bbd5f3c9f4"
  },
  {
   "cell_type": "code",
   "execution_count": null,
   "outputs": [],
   "source": [
    "cm = confusion_matrix(y_test, new_prediction)\n",
    "plot_conf_matrix(cm, \"Test Data Confusion Matrix\")"
   ],
   "metadata": {
    "collapsed": false
   },
   "id": "f798dc26074267fc"
  }
 ],
 "metadata": {
  "kernelspec": {
   "display_name": "Python 3",
   "language": "python",
   "name": "python3"
  },
  "language_info": {
   "codemirror_mode": {
    "name": "ipython",
    "version": 2
   },
   "file_extension": ".py",
   "mimetype": "text/x-python",
   "name": "python",
   "nbconvert_exporter": "python",
   "pygments_lexer": "ipython2",
   "version": "2.7.6"
  }
 },
 "nbformat": 4,
 "nbformat_minor": 5
}
