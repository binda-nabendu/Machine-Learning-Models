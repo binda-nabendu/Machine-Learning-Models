{
 "cells": [
  {
   "cell_type": "code",
   "execution_count": 1,
   "metadata": {
    "collapsed": true,
    "ExecuteTime": {
     "end_time": "2023-08-18T18:16:28.873610500Z",
     "start_time": "2023-08-18T18:16:25.710327100Z"
    }
   },
   "outputs": [],
   "source": [
    "import pandas as pd\n",
    "import numpy as np"
   ]
  },
  {
   "cell_type": "code",
   "execution_count": 2,
   "outputs": [],
   "source": [
    "df = pd.read_csv('meterial\\\\Data Preprocessing Dummy Dataset - Sheet1.csv')"
   ],
   "metadata": {
    "collapsed": false,
    "ExecuteTime": {
     "end_time": "2023-08-18T18:16:46.067002200Z",
     "start_time": "2023-08-18T18:16:46.029021900Z"
    }
   }
  },
  {
   "cell_type": "code",
   "execution_count": 3,
   "outputs": [
    {
     "data": {
      "text/plain": "    Student ID       Age  Gender  Study Hours  Exam Score\n0            1  18.00000    Male      4.50000     85.0000\n1            2       NaN  Female      6.20000         NaN\n2            3  19.00000    Male      3.50000     70.0000\n3            4  22.00000  Female          NaN     98.0000\n4            5  21.00000    Male      5.10000         NaN\n..         ...       ...     ...          ...         ...\n82          83  43.97742    Male     17.22436    -25.3614\n83          84  44.28548  Female     17.37564    -26.7203\n84          85  44.59355    Male     17.52692    -28.0792\n85          86  44.90161     NaN     17.67821    -29.4381\n86          87  45.20968    Male     17.82949    -30.7970\n\n[87 rows x 5 columns]",
      "text/html": "<div>\n<style scoped>\n    .dataframe tbody tr th:only-of-type {\n        vertical-align: middle;\n    }\n\n    .dataframe tbody tr th {\n        vertical-align: top;\n    }\n\n    .dataframe thead th {\n        text-align: right;\n    }\n</style>\n<table border=\"1\" class=\"dataframe\">\n  <thead>\n    <tr style=\"text-align: right;\">\n      <th></th>\n      <th>Student ID</th>\n      <th>Age</th>\n      <th>Gender</th>\n      <th>Study Hours</th>\n      <th>Exam Score</th>\n    </tr>\n  </thead>\n  <tbody>\n    <tr>\n      <th>0</th>\n      <td>1</td>\n      <td>18.00000</td>\n      <td>Male</td>\n      <td>4.50000</td>\n      <td>85.0000</td>\n    </tr>\n    <tr>\n      <th>1</th>\n      <td>2</td>\n      <td>NaN</td>\n      <td>Female</td>\n      <td>6.20000</td>\n      <td>NaN</td>\n    </tr>\n    <tr>\n      <th>2</th>\n      <td>3</td>\n      <td>19.00000</td>\n      <td>Male</td>\n      <td>3.50000</td>\n      <td>70.0000</td>\n    </tr>\n    <tr>\n      <th>3</th>\n      <td>4</td>\n      <td>22.00000</td>\n      <td>Female</td>\n      <td>NaN</td>\n      <td>98.0000</td>\n    </tr>\n    <tr>\n      <th>4</th>\n      <td>5</td>\n      <td>21.00000</td>\n      <td>Male</td>\n      <td>5.10000</td>\n      <td>NaN</td>\n    </tr>\n    <tr>\n      <th>...</th>\n      <td>...</td>\n      <td>...</td>\n      <td>...</td>\n      <td>...</td>\n      <td>...</td>\n    </tr>\n    <tr>\n      <th>82</th>\n      <td>83</td>\n      <td>43.97742</td>\n      <td>Male</td>\n      <td>17.22436</td>\n      <td>-25.3614</td>\n    </tr>\n    <tr>\n      <th>83</th>\n      <td>84</td>\n      <td>44.28548</td>\n      <td>Female</td>\n      <td>17.37564</td>\n      <td>-26.7203</td>\n    </tr>\n    <tr>\n      <th>84</th>\n      <td>85</td>\n      <td>44.59355</td>\n      <td>Male</td>\n      <td>17.52692</td>\n      <td>-28.0792</td>\n    </tr>\n    <tr>\n      <th>85</th>\n      <td>86</td>\n      <td>44.90161</td>\n      <td>NaN</td>\n      <td>17.67821</td>\n      <td>-29.4381</td>\n    </tr>\n    <tr>\n      <th>86</th>\n      <td>87</td>\n      <td>45.20968</td>\n      <td>Male</td>\n      <td>17.82949</td>\n      <td>-30.7970</td>\n    </tr>\n  </tbody>\n</table>\n<p>87 rows × 5 columns</p>\n</div>"
     },
     "execution_count": 3,
     "metadata": {},
     "output_type": "execute_result"
    }
   ],
   "source": [
    "df"
   ],
   "metadata": {
    "collapsed": false,
    "ExecuteTime": {
     "end_time": "2023-08-18T18:16:47.717062900Z",
     "start_time": "2023-08-18T18:16:47.649103200Z"
    }
   }
  },
  {
   "cell_type": "code",
   "execution_count": null,
   "outputs": [],
   "source": [],
   "metadata": {
    "collapsed": false
   }
  }
 ],
 "metadata": {
  "kernelspec": {
   "display_name": "Python 3",
   "language": "python",
   "name": "python3"
  },
  "language_info": {
   "codemirror_mode": {
    "name": "ipython",
    "version": 2
   },
   "file_extension": ".py",
   "mimetype": "text/x-python",
   "name": "python",
   "nbconvert_exporter": "python",
   "pygments_lexer": "ipython2",
   "version": "2.7.6"
  }
 },
 "nbformat": 4,
 "nbformat_minor": 0
}
