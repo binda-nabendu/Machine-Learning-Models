{
 "cells": [
  {
   "cell_type": "code",
   "execution_count": 49,
   "metadata": {
    "ExecuteTime": {
     "end_time": "2023-08-19T07:07:23.537086600Z",
     "start_time": "2023-08-19T07:07:23.525748Z"
    }
   },
   "outputs": [],
   "source": [
    "import pandas as pd\n",
    "import numpy as np"
   ]
  },
  {
   "cell_type": "code",
   "execution_count": 50,
   "metadata": {
    "ExecuteTime": {
     "end_time": "2023-08-19T07:07:23.592112500Z",
     "start_time": "2023-08-19T07:07:23.539086100Z"
    }
   },
   "outputs": [],
   "source": [
    "from plotly import __version__"
   ]
  },
  {
   "cell_type": "markdown",
   "metadata": {},
   "source": [
    "# Cufflinks is a Python library that works as a connector between Pandas and Plotly"
   ]
  },
  {
   "cell_type": "code",
   "execution_count": 51,
   "metadata": {
    "ExecuteTime": {
     "end_time": "2023-08-19T07:07:24.124012900Z",
     "start_time": "2023-08-19T07:07:23.573125100Z"
    }
   },
   "outputs": [],
   "source": [
    "import cufflinks as cf"
   ]
  },
  {
   "cell_type": "code",
   "execution_count": 52,
   "metadata": {
    "ExecuteTime": {
     "end_time": "2023-08-19T07:07:24.140004500Z",
     "start_time": "2023-08-19T07:07:24.128010400Z"
    }
   },
   "outputs": [],
   "source": [
    "from plotly.offline import  download_plotlyjs, init_notebook_mode, iplot"
   ]
  },
  {
   "cell_type": "code",
   "execution_count": null,
   "metadata": {
    "ExecuteTime": {
     "end_time": "2023-08-19T07:07:24.568564300Z",
     "start_time": "2023-08-19T07:07:24.144002Z"
    }
   },
   "outputs": [],
   "source": [
    "init_notebook_mode(connected=True)"
   ]
  },
  {
   "cell_type": "code",
   "execution_count": null,
   "metadata": {
    "ExecuteTime": {
     "end_time": "2023-08-19T07:07:24.652518400Z",
     "start_time": "2023-08-19T07:07:24.574562400Z"
    }
   },
   "outputs": [],
   "source": [
    "%matplotlib inline"
   ]
  },
  {
   "cell_type": "code",
   "execution_count": null,
   "metadata": {
    "ExecuteTime": {
     "end_time": "2023-08-19T07:07:24.665860200Z",
     "start_time": "2023-08-19T07:07:24.634528900Z"
    }
   },
   "outputs": [],
   "source": [
    "cf.go_offline()"
   ]
  },
  {
   "cell_type": "code",
   "execution_count": null,
   "metadata": {
    "ExecuteTime": {
     "end_time": "2023-08-19T07:07:24.699156300Z",
     "start_time": "2023-08-19T07:07:24.668858700Z"
    }
   },
   "outputs": [],
   "source": [
    "df = pd.DataFrame(np.random.randn(100, 4), columns=['a', 'b', 'c', 'd'])"
   ]
  },
  {
   "cell_type": "code",
   "execution_count": null,
   "metadata": {
    "ExecuteTime": {
     "end_time": "2023-08-19T07:07:24.789107600Z",
     "start_time": "2023-08-19T07:07:24.685849200Z"
    }
   },
   "outputs": [],
   "source": [
    "df.head()"
   ]
  },
  {
   "cell_type": "code",
   "execution_count": null,
   "metadata": {
    "ExecuteTime": {
     "end_time": "2023-08-19T07:07:24.837078500Z",
     "start_time": "2023-08-19T07:07:24.733137900Z"
    }
   },
   "outputs": [],
   "source": [
    "df2 = pd.DataFrame({'Category' : 'A B C'.split(), 'Values' : [32, 43, 50]})"
   ]
  },
  {
   "cell_type": "code",
   "execution_count": null,
   "metadata": {
    "ExecuteTime": {
     "end_time": "2023-08-19T07:07:24.885062600Z",
     "start_time": "2023-08-19T07:07:24.767118600Z"
    }
   },
   "outputs": [],
   "source": [
    "df2"
   ]
  },
  {
   "cell_type": "code",
   "execution_count": null,
   "metadata": {
    "ExecuteTime": {
     "end_time": "2023-08-19T07:07:24.977998800Z",
     "start_time": "2023-08-19T07:07:24.800101100Z"
    }
   },
   "outputs": [],
   "source": [
    "df"
   ]
  },
  {
   "cell_type": "code",
   "execution_count": null,
   "metadata": {
    "ExecuteTime": {
     "end_time": "2023-08-19T07:07:26.041917600Z",
     "start_time": "2023-08-19T07:07:24.848072800Z"
    }
   },
   "outputs": [],
   "source": [
    "df.plot()"
   ]
  },
  {
   "cell_type": "code",
   "execution_count": null,
   "metadata": {
    "ExecuteTime": {
     "end_time": "2023-08-19T07:07:26.321798700Z",
     "start_time": "2023-08-19T07:07:26.039918100Z"
    }
   },
   "outputs": [],
   "source": [
    "df.iplot()"
   ]
  },
  {
   "cell_type": "code",
   "execution_count": null,
   "metadata": {
    "ExecuteTime": {
     "end_time": "2023-08-19T07:07:26.432967100Z",
     "start_time": "2023-08-19T07:07:26.324796200Z"
    }
   },
   "outputs": [],
   "source": [
    "df2.iplot()"
   ]
  },
  {
   "cell_type": "code",
   "execution_count": null,
   "metadata": {
    "ExecuteTime": {
     "end_time": "2023-08-19T07:07:26.625241800Z",
     "start_time": "2023-08-19T07:07:26.429969500Z"
    }
   },
   "outputs": [],
   "source": [
    "df.iplot(kind = 'bar')"
   ]
  },
  {
   "cell_type": "code",
   "execution_count": null,
   "metadata": {
    "ExecuteTime": {
     "end_time": "2023-08-19T07:07:26.787694Z",
     "start_time": "2023-08-19T07:07:26.605255100Z"
    }
   },
   "outputs": [],
   "source": [
    "df2.iplot(kind = 'bar', x = 'Category', y = 'Values')"
   ]
  },
  {
   "cell_type": "code",
   "execution_count": null,
   "metadata": {
    "ExecuteTime": {
     "end_time": "2023-08-19T07:07:26.919618Z",
     "start_time": "2023-08-19T07:07:26.781706300Z"
    }
   },
   "outputs": [],
   "source": [
    "df.iplot(kind = 'scatter', x = 'a', y = 'b')"
   ]
  },
  {
   "cell_type": "code",
   "execution_count": null,
   "metadata": {
    "ExecuteTime": {
     "end_time": "2023-08-19T07:07:27.159361300Z",
     "start_time": "2023-08-19T07:07:26.922618400Z"
    }
   },
   "outputs": [],
   "source": [
    "df.iplot(kind = 'scatter', x = 'a', y = 'b', mode = 'markers')"
   ]
  },
  {
   "cell_type": "code",
   "execution_count": null,
   "metadata": {
    "ExecuteTime": {
     "end_time": "2023-08-19T07:07:27.362168600Z",
     "start_time": "2023-08-19T07:07:27.145370Z"
    }
   },
   "outputs": [],
   "source": [
    "df.sum().iplot(kind = 'bar')"
   ]
  },
  {
   "cell_type": "code",
   "execution_count": null,
   "metadata": {
    "ExecuteTime": {
     "end_time": "2023-08-19T07:07:27.476104100Z",
     "start_time": "2023-08-19T07:07:27.332186100Z"
    }
   },
   "outputs": [],
   "source": [
    "df.count().iplot(kind = 'bar')"
   ]
  },
  {
   "cell_type": "code",
   "execution_count": null,
   "metadata": {
    "ExecuteTime": {
     "end_time": "2023-08-19T07:07:27.792468800Z",
     "start_time": "2023-08-19T07:07:27.478110400Z"
    }
   },
   "outputs": [],
   "source": [
    "df.iplot(kind = 'box')"
   ]
  },
  {
   "cell_type": "code",
   "execution_count": null,
   "metadata": {
    "ExecuteTime": {
     "end_time": "2023-08-19T07:07:27.843441Z",
     "start_time": "2023-08-19T07:07:27.794471700Z"
    }
   },
   "outputs": [],
   "source": [
    "df2"
   ]
  },
  {
   "cell_type": "code",
   "execution_count": null,
   "metadata": {
    "ExecuteTime": {
     "end_time": "2023-08-19T07:07:27.899920700Z",
     "start_time": "2023-08-19T07:07:27.836446100Z"
    }
   },
   "outputs": [],
   "source": [
    "pd3 = pd.DataFrame({'x' : [1, 2, 3, 14, 5], 'y':[10,20,30,40,50], 'z':[102, 289,13,234,121]})"
   ]
  },
  {
   "cell_type": "code",
   "execution_count": null,
   "metadata": {
    "ExecuteTime": {
     "end_time": "2023-08-19T07:07:28.144781600Z",
     "start_time": "2023-08-19T07:07:27.859432600Z"
    }
   },
   "outputs": [],
   "source": [
    "pd3"
   ]
  },
  {
   "cell_type": "code",
   "execution_count": null,
   "metadata": {
    "ExecuteTime": {
     "end_time": "2023-08-19T07:08:44.650411700Z",
     "start_time": "2023-08-19T07:08:44.434536200Z"
    }
   },
   "outputs": [],
   "source": [
    "df.iplot(kind = 'hist')"
   ]
  },
  {
   "cell_type": "code",
   "execution_count": null,
   "metadata": {
    "ExecuteTime": {
     "end_time": "2023-08-19T07:07:28.304716800Z",
     "start_time": "2023-08-19T07:07:27.923907200Z"
    }
   },
   "outputs": [],
   "source": [
    "df['a'].iplot(kind = 'hist')"
   ]
  },
  {
   "cell_type": "code",
   "execution_count": null,
   "metadata": {
    "ExecuteTime": {
     "end_time": "2023-08-19T07:07:28.475620300Z",
     "start_time": "2023-08-19T07:07:28.175767200Z"
    }
   },
   "outputs": [],
   "source": [
    "df.iplot(kind='surface')"
   ]
  },
  {
   "cell_type": "code",
   "execution_count": null,
   "metadata": {
    "ExecuteTime": {
     "end_time": "2023-08-19T07:10:30.692253Z",
     "start_time": "2023-08-19T07:10:30.610300400Z"
    }
   },
   "outputs": [],
   "source": [
    "df.columns"
   ]
  },
  {
   "cell_type": "code",
   "execution_count": null,
   "metadata": {
    "ExecuteTime": {
     "end_time": "2023-08-19T07:15:41.760531900Z",
     "start_time": "2023-08-19T07:15:41.736533300Z"
    }
   },
   "outputs": [],
   "source": [
    "df = pd.DataFrame(np.random.rand(4, 4), columns='a b c d '.split())"
   ]
  },
  {
   "cell_type": "code",
   "execution_count": null,
   "metadata": {
    "ExecuteTime": {
     "end_time": "2023-08-19T07:15:43.962308400Z",
     "start_time": "2023-08-19T07:15:43.385634600Z"
    }
   },
   "outputs": [],
   "source": [
    "df[['a', 'b']].iplot(kind = 'spread')"
   ]
  },
  {
   "cell_type": "code",
   "execution_count": null,
   "metadata": {
    "ExecuteTime": {
     "end_time": "2023-08-19T07:15:45.033699100Z",
     "start_time": "2023-08-19T07:15:44.721877200Z"
    }
   },
   "outputs": [],
   "source": [
    "df[['a', 'b']].iplot(kind = 'bubble', x = 'a', y = 'b')"
   ]
  },
  {
   "cell_type": "code",
   "execution_count": null,
   "metadata": {
    "ExecuteTime": {
     "end_time": "2023-08-19T07:16:30.480685Z",
     "start_time": "2023-08-19T07:16:29.744101400Z"
    }
   },
   "outputs": [],
   "source": [
    "df.scatter_matrix()#need all column numerical"
   ]
  },
  {
   "cell_type": "code",
   "execution_count": null,
   "metadata": {},
   "outputs": [],
   "source": []
  }
 ],
 "metadata": {
  "kernelspec": {
   "display_name": "Python 3 (ipykernel)",
   "language": "python",
   "name": "python3"
  },
  "language_info": {
   "codemirror_mode": {
    "name": "ipython",
    "version": 3
   },
   "file_extension": ".py",
   "mimetype": "text/x-python",
   "name": "python",
   "nbconvert_exporter": "python",
   "pygments_lexer": "ipython3",
   "version": "3.10.12"
  }
 },
 "nbformat": 4,
 "nbformat_minor": 1
}
