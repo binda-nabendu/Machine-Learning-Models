{
 "cells": [
  {
   "cell_type": "code",
   "execution_count": 110,
   "metadata": {
    "collapsed": true,
    "ExecuteTime": {
     "end_time": "2023-07-23T12:20:52.477808500Z",
     "start_time": "2023-07-23T12:20:51.811192100Z"
    }
   },
   "outputs": [],
   "source": [
    "import numpy as np\n",
    "import pandas as pd"
   ]
  },
  {
   "cell_type": "code",
   "execution_count": 111,
   "outputs": [],
   "source": [
    "from numpy.random import randn"
   ],
   "metadata": {
    "collapsed": false,
    "ExecuteTime": {
     "end_time": "2023-07-23T12:20:52.477808500Z",
     "start_time": "2023-07-23T12:20:51.825184700Z"
    }
   }
  },
  {
   "cell_type": "code",
   "execution_count": 112,
   "outputs": [],
   "source": [
    "np.random.seed(111)"
   ],
   "metadata": {
    "collapsed": false,
    "ExecuteTime": {
     "end_time": "2023-07-23T12:20:52.478808300Z",
     "start_time": "2023-07-23T12:20:51.837178100Z"
    }
   }
  },
  {
   "cell_type": "code",
   "execution_count": 113,
   "outputs": [],
   "source": [
    "df = pd.DataFrame(randn(5, 4), ['A','B', 'C', 'D', 'E'], ['W', 'X', 'Y', 'Z'])"
   ],
   "metadata": {
    "collapsed": false,
    "ExecuteTime": {
     "end_time": "2023-07-23T12:20:52.479808200Z",
     "start_time": "2023-07-23T12:20:51.857165900Z"
    }
   }
  },
  {
   "cell_type": "code",
   "execution_count": 114,
   "outputs": [
    {
     "data": {
      "text/plain": "          W         X         Y         Z\nA -1.133838  0.384319  1.496554 -0.355382\nB -0.787534 -0.459439 -0.059169 -0.354174\nC -0.735523 -1.183940  0.238894 -0.589920\nD -1.440585  0.773703 -1.027967 -0.090986\nE  0.492003  0.424672  1.283049  0.315986",
      "text/html": "<div>\n<style scoped>\n    .dataframe tbody tr th:only-of-type {\n        vertical-align: middle;\n    }\n\n    .dataframe tbody tr th {\n        vertical-align: top;\n    }\n\n    .dataframe thead th {\n        text-align: right;\n    }\n</style>\n<table border=\"1\" class=\"dataframe\">\n  <thead>\n    <tr style=\"text-align: right;\">\n      <th></th>\n      <th>W</th>\n      <th>X</th>\n      <th>Y</th>\n      <th>Z</th>\n    </tr>\n  </thead>\n  <tbody>\n    <tr>\n      <th>A</th>\n      <td>-1.133838</td>\n      <td>0.384319</td>\n      <td>1.496554</td>\n      <td>-0.355382</td>\n    </tr>\n    <tr>\n      <th>B</th>\n      <td>-0.787534</td>\n      <td>-0.459439</td>\n      <td>-0.059169</td>\n      <td>-0.354174</td>\n    </tr>\n    <tr>\n      <th>C</th>\n      <td>-0.735523</td>\n      <td>-1.183940</td>\n      <td>0.238894</td>\n      <td>-0.589920</td>\n    </tr>\n    <tr>\n      <th>D</th>\n      <td>-1.440585</td>\n      <td>0.773703</td>\n      <td>-1.027967</td>\n      <td>-0.090986</td>\n    </tr>\n    <tr>\n      <th>E</th>\n      <td>0.492003</td>\n      <td>0.424672</td>\n      <td>1.283049</td>\n      <td>0.315986</td>\n    </tr>\n  </tbody>\n</table>\n</div>"
     },
     "execution_count": 114,
     "metadata": {},
     "output_type": "execute_result"
    }
   ],
   "source": [
    "df"
   ],
   "metadata": {
    "collapsed": false,
    "ExecuteTime": {
     "end_time": "2023-07-23T12:20:52.481806500Z",
     "start_time": "2023-07-23T12:20:51.874157Z"
    }
   }
  },
  {
   "cell_type": "code",
   "execution_count": 115,
   "outputs": [
    {
     "data": {
      "text/plain": "A   -1.133838\nB   -0.787534\nC   -0.735523\nD   -1.440585\nE    0.492003\nName: W, dtype: float64"
     },
     "execution_count": 115,
     "metadata": {},
     "output_type": "execute_result"
    }
   ],
   "source": [
    "df['W']"
   ],
   "metadata": {
    "collapsed": false,
    "ExecuteTime": {
     "end_time": "2023-07-23T12:20:52.482806400Z",
     "start_time": "2023-07-23T12:20:51.917132100Z"
    }
   }
  },
  {
   "cell_type": "code",
   "execution_count": 116,
   "outputs": [
    {
     "data": {
      "text/plain": "W   -1.133838\nX    0.384319\nY    1.496554\nZ   -0.355382\nName: A, dtype: float64"
     },
     "execution_count": 116,
     "metadata": {},
     "output_type": "execute_result"
    }
   ],
   "source": [
    "df.loc['A'] #to see dedicated row"
   ],
   "metadata": {
    "collapsed": false,
    "ExecuteTime": {
     "end_time": "2023-07-23T12:20:52.482806400Z",
     "start_time": "2023-07-23T12:20:51.945115600Z"
    }
   }
  },
  {
   "cell_type": "code",
   "execution_count": 117,
   "outputs": [
    {
     "data": {
      "text/plain": "W   -0.787534\nX   -0.459439\nY   -0.059169\nZ   -0.354174\nName: B, dtype: float64"
     },
     "execution_count": 117,
     "metadata": {},
     "output_type": "execute_result"
    }
   ],
   "source": [
    "df.iloc[1] # to see row using index"
   ],
   "metadata": {
    "collapsed": false,
    "ExecuteTime": {
     "end_time": "2023-07-23T12:20:52.482806400Z",
     "start_time": "2023-07-23T12:20:51.977097100Z"
    }
   }
  },
  {
   "cell_type": "code",
   "execution_count": 118,
   "outputs": [
    {
     "data": {
      "text/plain": "          W         X\nA -1.133838  0.384319\nB -0.787534 -0.459439\nC -0.735523 -1.183940\nD -1.440585  0.773703\nE  0.492003  0.424672",
      "text/html": "<div>\n<style scoped>\n    .dataframe tbody tr th:only-of-type {\n        vertical-align: middle;\n    }\n\n    .dataframe tbody tr th {\n        vertical-align: top;\n    }\n\n    .dataframe thead th {\n        text-align: right;\n    }\n</style>\n<table border=\"1\" class=\"dataframe\">\n  <thead>\n    <tr style=\"text-align: right;\">\n      <th></th>\n      <th>W</th>\n      <th>X</th>\n    </tr>\n  </thead>\n  <tbody>\n    <tr>\n      <th>A</th>\n      <td>-1.133838</td>\n      <td>0.384319</td>\n    </tr>\n    <tr>\n      <th>B</th>\n      <td>-0.787534</td>\n      <td>-0.459439</td>\n    </tr>\n    <tr>\n      <th>C</th>\n      <td>-0.735523</td>\n      <td>-1.183940</td>\n    </tr>\n    <tr>\n      <th>D</th>\n      <td>-1.440585</td>\n      <td>0.773703</td>\n    </tr>\n    <tr>\n      <th>E</th>\n      <td>0.492003</td>\n      <td>0.424672</td>\n    </tr>\n  </tbody>\n</table>\n</div>"
     },
     "execution_count": 118,
     "metadata": {},
     "output_type": "execute_result"
    }
   ],
   "source": [
    "df[['W','X']]"
   ],
   "metadata": {
    "collapsed": false,
    "ExecuteTime": {
     "end_time": "2023-07-23T12:20:52.538774Z",
     "start_time": "2023-07-23T12:20:52.009079Z"
    }
   }
  },
  {
   "cell_type": "code",
   "execution_count": 119,
   "outputs": [],
   "source": [
    "df['V'] = df['W'] + df['X']"
   ],
   "metadata": {
    "collapsed": false,
    "ExecuteTime": {
     "end_time": "2023-07-23T12:20:52.539774100Z",
     "start_time": "2023-07-23T12:20:52.046057500Z"
    }
   }
  },
  {
   "cell_type": "code",
   "execution_count": 120,
   "outputs": [
    {
     "data": {
      "text/plain": "          W         X         Y         Z         V\nA -1.133838  0.384319  1.496554 -0.355382 -0.749519\nB -0.787534 -0.459439 -0.059169 -0.354174 -1.246972\nC -0.735523 -1.183940  0.238894 -0.589920 -1.919463\nD -1.440585  0.773703 -1.027967 -0.090986 -0.666882\nE  0.492003  0.424672  1.283049  0.315986  0.916675",
      "text/html": "<div>\n<style scoped>\n    .dataframe tbody tr th:only-of-type {\n        vertical-align: middle;\n    }\n\n    .dataframe tbody tr th {\n        vertical-align: top;\n    }\n\n    .dataframe thead th {\n        text-align: right;\n    }\n</style>\n<table border=\"1\" class=\"dataframe\">\n  <thead>\n    <tr style=\"text-align: right;\">\n      <th></th>\n      <th>W</th>\n      <th>X</th>\n      <th>Y</th>\n      <th>Z</th>\n      <th>V</th>\n    </tr>\n  </thead>\n  <tbody>\n    <tr>\n      <th>A</th>\n      <td>-1.133838</td>\n      <td>0.384319</td>\n      <td>1.496554</td>\n      <td>-0.355382</td>\n      <td>-0.749519</td>\n    </tr>\n    <tr>\n      <th>B</th>\n      <td>-0.787534</td>\n      <td>-0.459439</td>\n      <td>-0.059169</td>\n      <td>-0.354174</td>\n      <td>-1.246972</td>\n    </tr>\n    <tr>\n      <th>C</th>\n      <td>-0.735523</td>\n      <td>-1.183940</td>\n      <td>0.238894</td>\n      <td>-0.589920</td>\n      <td>-1.919463</td>\n    </tr>\n    <tr>\n      <th>D</th>\n      <td>-1.440585</td>\n      <td>0.773703</td>\n      <td>-1.027967</td>\n      <td>-0.090986</td>\n      <td>-0.666882</td>\n    </tr>\n    <tr>\n      <th>E</th>\n      <td>0.492003</td>\n      <td>0.424672</td>\n      <td>1.283049</td>\n      <td>0.315986</td>\n      <td>0.916675</td>\n    </tr>\n  </tbody>\n</table>\n</div>"
     },
     "execution_count": 120,
     "metadata": {},
     "output_type": "execute_result"
    }
   ],
   "source": [
    "df"
   ],
   "metadata": {
    "collapsed": false,
    "ExecuteTime": {
     "end_time": "2023-07-23T12:20:52.540774500Z",
     "start_time": "2023-07-23T12:20:52.073041800Z"
    }
   }
  },
  {
   "cell_type": "code",
   "execution_count": 121,
   "outputs": [
    {
     "data": {
      "text/plain": "          W         X         Y         Z\nA -1.133838  0.384319  1.496554 -0.355382\nB -0.787534 -0.459439 -0.059169 -0.354174\nC -0.735523 -1.183940  0.238894 -0.589920\nD -1.440585  0.773703 -1.027967 -0.090986\nE  0.492003  0.424672  1.283049  0.315986",
      "text/html": "<div>\n<style scoped>\n    .dataframe tbody tr th:only-of-type {\n        vertical-align: middle;\n    }\n\n    .dataframe tbody tr th {\n        vertical-align: top;\n    }\n\n    .dataframe thead th {\n        text-align: right;\n    }\n</style>\n<table border=\"1\" class=\"dataframe\">\n  <thead>\n    <tr style=\"text-align: right;\">\n      <th></th>\n      <th>W</th>\n      <th>X</th>\n      <th>Y</th>\n      <th>Z</th>\n    </tr>\n  </thead>\n  <tbody>\n    <tr>\n      <th>A</th>\n      <td>-1.133838</td>\n      <td>0.384319</td>\n      <td>1.496554</td>\n      <td>-0.355382</td>\n    </tr>\n    <tr>\n      <th>B</th>\n      <td>-0.787534</td>\n      <td>-0.459439</td>\n      <td>-0.059169</td>\n      <td>-0.354174</td>\n    </tr>\n    <tr>\n      <th>C</th>\n      <td>-0.735523</td>\n      <td>-1.183940</td>\n      <td>0.238894</td>\n      <td>-0.589920</td>\n    </tr>\n    <tr>\n      <th>D</th>\n      <td>-1.440585</td>\n      <td>0.773703</td>\n      <td>-1.027967</td>\n      <td>-0.090986</td>\n    </tr>\n    <tr>\n      <th>E</th>\n      <td>0.492003</td>\n      <td>0.424672</td>\n      <td>1.283049</td>\n      <td>0.315986</td>\n    </tr>\n  </tbody>\n</table>\n</div>"
     },
     "execution_count": 121,
     "metadata": {},
     "output_type": "execute_result"
    }
   ],
   "source": [
    "df.drop('V', axis = 1)"
   ],
   "metadata": {
    "collapsed": false,
    "ExecuteTime": {
     "end_time": "2023-07-23T12:20:52.541772300Z",
     "start_time": "2023-07-23T12:20:52.124013Z"
    }
   }
  },
  {
   "cell_type": "code",
   "execution_count": 122,
   "outputs": [
    {
     "data": {
      "text/plain": "          W         X         Y         Z         V\nA -1.133838  0.384319  1.496554 -0.355382 -0.749519\nB -0.787534 -0.459439 -0.059169 -0.354174 -1.246972\nC -0.735523 -1.183940  0.238894 -0.589920 -1.919463\nD -1.440585  0.773703 -1.027967 -0.090986 -0.666882\nE  0.492003  0.424672  1.283049  0.315986  0.916675",
      "text/html": "<div>\n<style scoped>\n    .dataframe tbody tr th:only-of-type {\n        vertical-align: middle;\n    }\n\n    .dataframe tbody tr th {\n        vertical-align: top;\n    }\n\n    .dataframe thead th {\n        text-align: right;\n    }\n</style>\n<table border=\"1\" class=\"dataframe\">\n  <thead>\n    <tr style=\"text-align: right;\">\n      <th></th>\n      <th>W</th>\n      <th>X</th>\n      <th>Y</th>\n      <th>Z</th>\n      <th>V</th>\n    </tr>\n  </thead>\n  <tbody>\n    <tr>\n      <th>A</th>\n      <td>-1.133838</td>\n      <td>0.384319</td>\n      <td>1.496554</td>\n      <td>-0.355382</td>\n      <td>-0.749519</td>\n    </tr>\n    <tr>\n      <th>B</th>\n      <td>-0.787534</td>\n      <td>-0.459439</td>\n      <td>-0.059169</td>\n      <td>-0.354174</td>\n      <td>-1.246972</td>\n    </tr>\n    <tr>\n      <th>C</th>\n      <td>-0.735523</td>\n      <td>-1.183940</td>\n      <td>0.238894</td>\n      <td>-0.589920</td>\n      <td>-1.919463</td>\n    </tr>\n    <tr>\n      <th>D</th>\n      <td>-1.440585</td>\n      <td>0.773703</td>\n      <td>-1.027967</td>\n      <td>-0.090986</td>\n      <td>-0.666882</td>\n    </tr>\n    <tr>\n      <th>E</th>\n      <td>0.492003</td>\n      <td>0.424672</td>\n      <td>1.283049</td>\n      <td>0.315986</td>\n      <td>0.916675</td>\n    </tr>\n  </tbody>\n</table>\n</div>"
     },
     "execution_count": 122,
     "metadata": {},
     "output_type": "execute_result"
    }
   ],
   "source": [
    "df"
   ],
   "metadata": {
    "collapsed": false,
    "ExecuteTime": {
     "end_time": "2023-07-23T12:20:52.542773300Z",
     "start_time": "2023-07-23T12:20:52.153996300Z"
    }
   }
  },
  {
   "cell_type": "code",
   "execution_count": 123,
   "outputs": [],
   "source": [
    "df.drop('V', axis = 1, inplace= True)"
   ],
   "metadata": {
    "collapsed": false,
    "ExecuteTime": {
     "end_time": "2023-07-23T12:20:52.543772800Z",
     "start_time": "2023-07-23T12:20:52.202967500Z"
    }
   }
  },
  {
   "cell_type": "code",
   "execution_count": 124,
   "outputs": [
    {
     "data": {
      "text/plain": "          W         X         Y         Z\nA -1.133838  0.384319  1.496554 -0.355382\nB -0.787534 -0.459439 -0.059169 -0.354174\nC -0.735523 -1.183940  0.238894 -0.589920\nD -1.440585  0.773703 -1.027967 -0.090986\nE  0.492003  0.424672  1.283049  0.315986",
      "text/html": "<div>\n<style scoped>\n    .dataframe tbody tr th:only-of-type {\n        vertical-align: middle;\n    }\n\n    .dataframe tbody tr th {\n        vertical-align: top;\n    }\n\n    .dataframe thead th {\n        text-align: right;\n    }\n</style>\n<table border=\"1\" class=\"dataframe\">\n  <thead>\n    <tr style=\"text-align: right;\">\n      <th></th>\n      <th>W</th>\n      <th>X</th>\n      <th>Y</th>\n      <th>Z</th>\n    </tr>\n  </thead>\n  <tbody>\n    <tr>\n      <th>A</th>\n      <td>-1.133838</td>\n      <td>0.384319</td>\n      <td>1.496554</td>\n      <td>-0.355382</td>\n    </tr>\n    <tr>\n      <th>B</th>\n      <td>-0.787534</td>\n      <td>-0.459439</td>\n      <td>-0.059169</td>\n      <td>-0.354174</td>\n    </tr>\n    <tr>\n      <th>C</th>\n      <td>-0.735523</td>\n      <td>-1.183940</td>\n      <td>0.238894</td>\n      <td>-0.589920</td>\n    </tr>\n    <tr>\n      <th>D</th>\n      <td>-1.440585</td>\n      <td>0.773703</td>\n      <td>-1.027967</td>\n      <td>-0.090986</td>\n    </tr>\n    <tr>\n      <th>E</th>\n      <td>0.492003</td>\n      <td>0.424672</td>\n      <td>1.283049</td>\n      <td>0.315986</td>\n    </tr>\n  </tbody>\n</table>\n</div>"
     },
     "execution_count": 124,
     "metadata": {},
     "output_type": "execute_result"
    }
   ],
   "source": [
    "df"
   ],
   "metadata": {
    "collapsed": false,
    "ExecuteTime": {
     "end_time": "2023-07-23T12:20:52.547768200Z",
     "start_time": "2023-07-23T12:20:52.219958200Z"
    }
   }
  },
  {
   "cell_type": "code",
   "execution_count": 125,
   "outputs": [
    {
     "data": {
      "text/plain": "W   -0.735523\nX   -1.183940\nY    0.238894\nZ   -0.589920\nName: C, dtype: float64"
     },
     "execution_count": 125,
     "metadata": {},
     "output_type": "execute_result"
    }
   ],
   "source": [
    "df.iloc[2]"
   ],
   "metadata": {
    "collapsed": false,
    "ExecuteTime": {
     "end_time": "2023-07-23T12:20:52.547768200Z",
     "start_time": "2023-07-23T12:20:52.264930800Z"
    }
   }
  },
  {
   "cell_type": "code",
   "execution_count": 126,
   "outputs": [
    {
     "data": {
      "text/plain": "W   -1.133838\nX    0.384319\nY    1.496554\nZ   -0.355382\nName: A, dtype: float64"
     },
     "execution_count": 126,
     "metadata": {},
     "output_type": "execute_result"
    }
   ],
   "source": [
    "df.loc['A']"
   ],
   "metadata": {
    "collapsed": false,
    "ExecuteTime": {
     "end_time": "2023-07-23T12:20:52.549767700Z",
     "start_time": "2023-07-23T12:20:52.282920400Z"
    }
   }
  },
  {
   "cell_type": "code",
   "execution_count": 127,
   "outputs": [
    {
     "data": {
      "text/plain": "(5, 4)"
     },
     "execution_count": 127,
     "metadata": {},
     "output_type": "execute_result"
    }
   ],
   "source": [
    "df.shape"
   ],
   "metadata": {
    "collapsed": false,
    "ExecuteTime": {
     "end_time": "2023-07-23T12:20:52.550766700Z",
     "start_time": "2023-07-23T12:20:52.314902900Z"
    }
   }
  },
  {
   "cell_type": "code",
   "execution_count": 128,
   "outputs": [
    {
     "data": {
      "text/plain": "          X         Y\nA  0.384319  1.496554\nB -0.459439 -0.059169",
      "text/html": "<div>\n<style scoped>\n    .dataframe tbody tr th:only-of-type {\n        vertical-align: middle;\n    }\n\n    .dataframe tbody tr th {\n        vertical-align: top;\n    }\n\n    .dataframe thead th {\n        text-align: right;\n    }\n</style>\n<table border=\"1\" class=\"dataframe\">\n  <thead>\n    <tr style=\"text-align: right;\">\n      <th></th>\n      <th>X</th>\n      <th>Y</th>\n    </tr>\n  </thead>\n  <tbody>\n    <tr>\n      <th>A</th>\n      <td>0.384319</td>\n      <td>1.496554</td>\n    </tr>\n    <tr>\n      <th>B</th>\n      <td>-0.459439</td>\n      <td>-0.059169</td>\n    </tr>\n  </tbody>\n</table>\n</div>"
     },
     "execution_count": 128,
     "metadata": {},
     "output_type": "execute_result"
    }
   ],
   "source": [
    "df.loc[['A', 'B'], ['X', 'Y']]"
   ],
   "metadata": {
    "collapsed": false,
    "ExecuteTime": {
     "end_time": "2023-07-23T12:20:52.551767200Z",
     "start_time": "2023-07-23T12:20:52.348883Z"
    }
   }
  },
  {
   "cell_type": "code",
   "execution_count": 129,
   "outputs": [],
   "source": [
    "#conditional selection\n",
    "dfstate = df > 0"
   ],
   "metadata": {
    "collapsed": false,
    "ExecuteTime": {
     "end_time": "2023-07-23T12:20:52.552765800Z",
     "start_time": "2023-07-23T12:20:52.398854300Z"
    }
   }
  },
  {
   "cell_type": "code",
   "execution_count": 130,
   "outputs": [
    {
     "data": {
      "text/plain": "       W      X      Y      Z\nA  False   True   True  False\nB  False  False  False  False\nC  False  False   True  False\nD  False   True  False  False\nE   True   True   True   True",
      "text/html": "<div>\n<style scoped>\n    .dataframe tbody tr th:only-of-type {\n        vertical-align: middle;\n    }\n\n    .dataframe tbody tr th {\n        vertical-align: top;\n    }\n\n    .dataframe thead th {\n        text-align: right;\n    }\n</style>\n<table border=\"1\" class=\"dataframe\">\n  <thead>\n    <tr style=\"text-align: right;\">\n      <th></th>\n      <th>W</th>\n      <th>X</th>\n      <th>Y</th>\n      <th>Z</th>\n    </tr>\n  </thead>\n  <tbody>\n    <tr>\n      <th>A</th>\n      <td>False</td>\n      <td>True</td>\n      <td>True</td>\n      <td>False</td>\n    </tr>\n    <tr>\n      <th>B</th>\n      <td>False</td>\n      <td>False</td>\n      <td>False</td>\n      <td>False</td>\n    </tr>\n    <tr>\n      <th>C</th>\n      <td>False</td>\n      <td>False</td>\n      <td>True</td>\n      <td>False</td>\n    </tr>\n    <tr>\n      <th>D</th>\n      <td>False</td>\n      <td>True</td>\n      <td>False</td>\n      <td>False</td>\n    </tr>\n    <tr>\n      <th>E</th>\n      <td>True</td>\n      <td>True</td>\n      <td>True</td>\n      <td>True</td>\n    </tr>\n  </tbody>\n</table>\n</div>"
     },
     "execution_count": 130,
     "metadata": {},
     "output_type": "execute_result"
    }
   ],
   "source": [
    "dfstate"
   ],
   "metadata": {
    "collapsed": false,
    "ExecuteTime": {
     "end_time": "2023-07-23T12:20:52.553766400Z",
     "start_time": "2023-07-23T12:20:52.429837200Z"
    }
   }
  },
  {
   "cell_type": "code",
   "execution_count": 131,
   "outputs": [
    {
     "data": {
      "text/plain": "          W         X         Y         Z\nA       NaN  0.384319  1.496554       NaN\nB       NaN       NaN       NaN       NaN\nC       NaN       NaN  0.238894       NaN\nD       NaN  0.773703       NaN       NaN\nE  0.492003  0.424672  1.283049  0.315986",
      "text/html": "<div>\n<style scoped>\n    .dataframe tbody tr th:only-of-type {\n        vertical-align: middle;\n    }\n\n    .dataframe tbody tr th {\n        vertical-align: top;\n    }\n\n    .dataframe thead th {\n        text-align: right;\n    }\n</style>\n<table border=\"1\" class=\"dataframe\">\n  <thead>\n    <tr style=\"text-align: right;\">\n      <th></th>\n      <th>W</th>\n      <th>X</th>\n      <th>Y</th>\n      <th>Z</th>\n    </tr>\n  </thead>\n  <tbody>\n    <tr>\n      <th>A</th>\n      <td>NaN</td>\n      <td>0.384319</td>\n      <td>1.496554</td>\n      <td>NaN</td>\n    </tr>\n    <tr>\n      <th>B</th>\n      <td>NaN</td>\n      <td>NaN</td>\n      <td>NaN</td>\n      <td>NaN</td>\n    </tr>\n    <tr>\n      <th>C</th>\n      <td>NaN</td>\n      <td>NaN</td>\n      <td>0.238894</td>\n      <td>NaN</td>\n    </tr>\n    <tr>\n      <th>D</th>\n      <td>NaN</td>\n      <td>0.773703</td>\n      <td>NaN</td>\n      <td>NaN</td>\n    </tr>\n    <tr>\n      <th>E</th>\n      <td>0.492003</td>\n      <td>0.424672</td>\n      <td>1.283049</td>\n      <td>0.315986</td>\n    </tr>\n  </tbody>\n</table>\n</div>"
     },
     "execution_count": 131,
     "metadata": {},
     "output_type": "execute_result"
    }
   ],
   "source": [
    "df[dfstate] # it only provide those value whose are true"
   ],
   "metadata": {
    "collapsed": false,
    "ExecuteTime": {
     "end_time": "2023-07-23T12:20:52.709675300Z",
     "start_time": "2023-07-23T12:20:52.484804900Z"
    }
   }
  },
  {
   "cell_type": "code",
   "execution_count": 132,
   "outputs": [
    {
     "data": {
      "text/plain": "          W         X         Y         Z\nA       NaN  0.384319  1.496554       NaN\nB       NaN       NaN       NaN       NaN\nC       NaN       NaN  0.238894       NaN\nD       NaN  0.773703       NaN       NaN\nE  0.492003  0.424672  1.283049  0.315986",
      "text/html": "<div>\n<style scoped>\n    .dataframe tbody tr th:only-of-type {\n        vertical-align: middle;\n    }\n\n    .dataframe tbody tr th {\n        vertical-align: top;\n    }\n\n    .dataframe thead th {\n        text-align: right;\n    }\n</style>\n<table border=\"1\" class=\"dataframe\">\n  <thead>\n    <tr style=\"text-align: right;\">\n      <th></th>\n      <th>W</th>\n      <th>X</th>\n      <th>Y</th>\n      <th>Z</th>\n    </tr>\n  </thead>\n  <tbody>\n    <tr>\n      <th>A</th>\n      <td>NaN</td>\n      <td>0.384319</td>\n      <td>1.496554</td>\n      <td>NaN</td>\n    </tr>\n    <tr>\n      <th>B</th>\n      <td>NaN</td>\n      <td>NaN</td>\n      <td>NaN</td>\n      <td>NaN</td>\n    </tr>\n    <tr>\n      <th>C</th>\n      <td>NaN</td>\n      <td>NaN</td>\n      <td>0.238894</td>\n      <td>NaN</td>\n    </tr>\n    <tr>\n      <th>D</th>\n      <td>NaN</td>\n      <td>0.773703</td>\n      <td>NaN</td>\n      <td>NaN</td>\n    </tr>\n    <tr>\n      <th>E</th>\n      <td>0.492003</td>\n      <td>0.424672</td>\n      <td>1.283049</td>\n      <td>0.315986</td>\n    </tr>\n  </tbody>\n</table>\n</div>"
     },
     "execution_count": 132,
     "metadata": {},
     "output_type": "execute_result"
    }
   ],
   "source": [
    "df[df > 0]"
   ],
   "metadata": {
    "collapsed": false,
    "ExecuteTime": {
     "end_time": "2023-07-23T12:20:52.712674Z",
     "start_time": "2023-07-23T12:20:52.533777300Z"
    }
   }
  },
  {
   "cell_type": "code",
   "execution_count": 133,
   "outputs": [
    {
     "data": {
      "text/plain": "A    False\nB    False\nC    False\nD    False\nE     True\nName: W, dtype: bool"
     },
     "execution_count": 133,
     "metadata": {},
     "output_type": "execute_result"
    }
   ],
   "source": [
    "df['W'] > 0"
   ],
   "metadata": {
    "collapsed": false,
    "ExecuteTime": {
     "end_time": "2023-07-23T12:20:52.771641Z",
     "start_time": "2023-07-23T12:20:52.566757600Z"
    }
   }
  },
  {
   "cell_type": "code",
   "execution_count": 134,
   "outputs": [
    {
     "data": {
      "text/plain": "          W         X         Y         Z\nE  0.492003  0.424672  1.283049  0.315986",
      "text/html": "<div>\n<style scoped>\n    .dataframe tbody tr th:only-of-type {\n        vertical-align: middle;\n    }\n\n    .dataframe tbody tr th {\n        vertical-align: top;\n    }\n\n    .dataframe thead th {\n        text-align: right;\n    }\n</style>\n<table border=\"1\" class=\"dataframe\">\n  <thead>\n    <tr style=\"text-align: right;\">\n      <th></th>\n      <th>W</th>\n      <th>X</th>\n      <th>Y</th>\n      <th>Z</th>\n    </tr>\n  </thead>\n  <tbody>\n    <tr>\n      <th>E</th>\n      <td>0.492003</td>\n      <td>0.424672</td>\n      <td>1.283049</td>\n      <td>0.315986</td>\n    </tr>\n  </tbody>\n</table>\n</div>"
     },
     "execution_count": 134,
     "metadata": {},
     "output_type": "execute_result"
    }
   ],
   "source": [
    "df[df['W']>0]"
   ],
   "metadata": {
    "collapsed": false,
    "ExecuteTime": {
     "end_time": "2023-07-23T12:20:52.946538600Z",
     "start_time": "2023-07-23T12:20:52.599739600Z"
    }
   }
  },
  {
   "cell_type": "code",
   "execution_count": 135,
   "outputs": [
    {
     "data": {
      "text/plain": "          W         X         Y         Z\nA -1.133838  0.384319  1.496554 -0.355382\nB -0.787534 -0.459439 -0.059169 -0.354174\nC -0.735523 -1.183940  0.238894 -0.589920\nD -1.440585  0.773703 -1.027967 -0.090986\nE  0.492003  0.424672  1.283049  0.315986",
      "text/html": "<div>\n<style scoped>\n    .dataframe tbody tr th:only-of-type {\n        vertical-align: middle;\n    }\n\n    .dataframe tbody tr th {\n        vertical-align: top;\n    }\n\n    .dataframe thead th {\n        text-align: right;\n    }\n</style>\n<table border=\"1\" class=\"dataframe\">\n  <thead>\n    <tr style=\"text-align: right;\">\n      <th></th>\n      <th>W</th>\n      <th>X</th>\n      <th>Y</th>\n      <th>Z</th>\n    </tr>\n  </thead>\n  <tbody>\n    <tr>\n      <th>A</th>\n      <td>-1.133838</td>\n      <td>0.384319</td>\n      <td>1.496554</td>\n      <td>-0.355382</td>\n    </tr>\n    <tr>\n      <th>B</th>\n      <td>-0.787534</td>\n      <td>-0.459439</td>\n      <td>-0.059169</td>\n      <td>-0.354174</td>\n    </tr>\n    <tr>\n      <th>C</th>\n      <td>-0.735523</td>\n      <td>-1.183940</td>\n      <td>0.238894</td>\n      <td>-0.589920</td>\n    </tr>\n    <tr>\n      <th>D</th>\n      <td>-1.440585</td>\n      <td>0.773703</td>\n      <td>-1.027967</td>\n      <td>-0.090986</td>\n    </tr>\n    <tr>\n      <th>E</th>\n      <td>0.492003</td>\n      <td>0.424672</td>\n      <td>1.283049</td>\n      <td>0.315986</td>\n    </tr>\n  </tbody>\n</table>\n</div>"
     },
     "execution_count": 135,
     "metadata": {},
     "output_type": "execute_result"
    }
   ],
   "source": [
    "df"
   ],
   "metadata": {
    "collapsed": false,
    "ExecuteTime": {
     "end_time": "2023-07-23T12:20:53.044483100Z",
     "start_time": "2023-07-23T12:20:52.635719300Z"
    }
   }
  },
  {
   "cell_type": "code",
   "execution_count": 136,
   "outputs": [
    {
     "data": {
      "text/plain": "          W         X         Y         Z\nA -1.133838  0.384319  1.496554 -0.355382\nB -0.787534 -0.459439 -0.059169 -0.354174\nC -0.735523 -1.183940  0.238894 -0.589920\nD -1.440585  0.773703 -1.027967 -0.090986",
      "text/html": "<div>\n<style scoped>\n    .dataframe tbody tr th:only-of-type {\n        vertical-align: middle;\n    }\n\n    .dataframe tbody tr th {\n        vertical-align: top;\n    }\n\n    .dataframe thead th {\n        text-align: right;\n    }\n</style>\n<table border=\"1\" class=\"dataframe\">\n  <thead>\n    <tr style=\"text-align: right;\">\n      <th></th>\n      <th>W</th>\n      <th>X</th>\n      <th>Y</th>\n      <th>Z</th>\n    </tr>\n  </thead>\n  <tbody>\n    <tr>\n      <th>A</th>\n      <td>-1.133838</td>\n      <td>0.384319</td>\n      <td>1.496554</td>\n      <td>-0.355382</td>\n    </tr>\n    <tr>\n      <th>B</th>\n      <td>-0.787534</td>\n      <td>-0.459439</td>\n      <td>-0.059169</td>\n      <td>-0.354174</td>\n    </tr>\n    <tr>\n      <th>C</th>\n      <td>-0.735523</td>\n      <td>-1.183940</td>\n      <td>0.238894</td>\n      <td>-0.589920</td>\n    </tr>\n    <tr>\n      <th>D</th>\n      <td>-1.440585</td>\n      <td>0.773703</td>\n      <td>-1.027967</td>\n      <td>-0.090986</td>\n    </tr>\n  </tbody>\n</table>\n</div>"
     },
     "execution_count": 136,
     "metadata": {},
     "output_type": "execute_result"
    }
   ],
   "source": [
    "df[df['Z'] < 0]"
   ],
   "metadata": {
    "collapsed": false,
    "ExecuteTime": {
     "end_time": "2023-07-23T12:20:53.124435200Z",
     "start_time": "2023-07-23T12:20:52.673696900Z"
    }
   }
  },
  {
   "cell_type": "code",
   "execution_count": 137,
   "outputs": [
    {
     "data": {
      "text/plain": "E    0.424672\nName: X, dtype: float64"
     },
     "execution_count": 137,
     "metadata": {},
     "output_type": "execute_result"
    }
   ],
   "source": [
    "df[df['Z']> 0]['X']"
   ],
   "metadata": {
    "collapsed": false,
    "ExecuteTime": {
     "end_time": "2023-07-23T12:20:53.172409Z",
     "start_time": "2023-07-23T12:20:52.709675300Z"
    }
   }
  },
  {
   "cell_type": "code",
   "execution_count": 138,
   "outputs": [
    {
     "data": {
      "text/plain": "          X         Y\nE  0.424672  1.283049",
      "text/html": "<div>\n<style scoped>\n    .dataframe tbody tr th:only-of-type {\n        vertical-align: middle;\n    }\n\n    .dataframe tbody tr th {\n        vertical-align: top;\n    }\n\n    .dataframe thead th {\n        text-align: right;\n    }\n</style>\n<table border=\"1\" class=\"dataframe\">\n  <thead>\n    <tr style=\"text-align: right;\">\n      <th></th>\n      <th>X</th>\n      <th>Y</th>\n    </tr>\n  </thead>\n  <tbody>\n    <tr>\n      <th>E</th>\n      <td>0.424672</td>\n      <td>1.283049</td>\n    </tr>\n  </tbody>\n</table>\n</div>"
     },
     "execution_count": 138,
     "metadata": {},
     "output_type": "execute_result"
    }
   ],
   "source": [
    "df[df['Z']> 0][['X', 'Y']]"
   ],
   "metadata": {
    "collapsed": false,
    "ExecuteTime": {
     "end_time": "2023-07-23T12:20:53.283346200Z",
     "start_time": "2023-07-23T12:20:52.736660500Z"
    }
   }
  },
  {
   "cell_type": "code",
   "execution_count": 139,
   "outputs": [
    {
     "data": {
      "text/plain": "          W         X         Y         Z\nA -1.133838  0.384319  1.496554 -0.355382\nB -0.787534 -0.459439 -0.059169 -0.354174\nC -0.735523 -1.183940  0.238894 -0.589920\nD -1.440585  0.773703 -1.027967 -0.090986\nE  0.492003  0.424672  1.283049  0.315986",
      "text/html": "<div>\n<style scoped>\n    .dataframe tbody tr th:only-of-type {\n        vertical-align: middle;\n    }\n\n    .dataframe tbody tr th {\n        vertical-align: top;\n    }\n\n    .dataframe thead th {\n        text-align: right;\n    }\n</style>\n<table border=\"1\" class=\"dataframe\">\n  <thead>\n    <tr style=\"text-align: right;\">\n      <th></th>\n      <th>W</th>\n      <th>X</th>\n      <th>Y</th>\n      <th>Z</th>\n    </tr>\n  </thead>\n  <tbody>\n    <tr>\n      <th>A</th>\n      <td>-1.133838</td>\n      <td>0.384319</td>\n      <td>1.496554</td>\n      <td>-0.355382</td>\n    </tr>\n    <tr>\n      <th>B</th>\n      <td>-0.787534</td>\n      <td>-0.459439</td>\n      <td>-0.059169</td>\n      <td>-0.354174</td>\n    </tr>\n    <tr>\n      <th>C</th>\n      <td>-0.735523</td>\n      <td>-1.183940</td>\n      <td>0.238894</td>\n      <td>-0.589920</td>\n    </tr>\n    <tr>\n      <th>D</th>\n      <td>-1.440585</td>\n      <td>0.773703</td>\n      <td>-1.027967</td>\n      <td>-0.090986</td>\n    </tr>\n    <tr>\n      <th>E</th>\n      <td>0.492003</td>\n      <td>0.424672</td>\n      <td>1.283049</td>\n      <td>0.315986</td>\n    </tr>\n  </tbody>\n</table>\n</div>"
     },
     "execution_count": 139,
     "metadata": {},
     "output_type": "execute_result"
    }
   ],
   "source": [
    "df"
   ],
   "metadata": {
    "collapsed": false,
    "ExecuteTime": {
     "end_time": "2023-07-23T12:20:53.333315Z",
     "start_time": "2023-07-23T12:20:52.764644100Z"
    }
   }
  },
  {
   "cell_type": "code",
   "execution_count": 140,
   "outputs": [
    {
     "data": {
      "text/plain": "Empty DataFrame\nColumns: [W, X, Y, Z]\nIndex: []",
      "text/html": "<div>\n<style scoped>\n    .dataframe tbody tr th:only-of-type {\n        vertical-align: middle;\n    }\n\n    .dataframe tbody tr th {\n        vertical-align: top;\n    }\n\n    .dataframe thead th {\n        text-align: right;\n    }\n</style>\n<table border=\"1\" class=\"dataframe\">\n  <thead>\n    <tr style=\"text-align: right;\">\n      <th></th>\n      <th>W</th>\n      <th>X</th>\n      <th>Y</th>\n      <th>Z</th>\n    </tr>\n  </thead>\n  <tbody>\n  </tbody>\n</table>\n</div>"
     },
     "execution_count": 140,
     "metadata": {},
     "output_type": "execute_result"
    }
   ],
   "source": [
    "df[(df['W'] > 0) & (df['X'] < 0)]\n",
    "\n",
    "# but it gives error\n",
    "# df[(df['W'] > 0) and (df['X'] < 0)]\n"
   ],
   "metadata": {
    "collapsed": false,
    "ExecuteTime": {
     "end_time": "2023-07-23T12:20:53.358302400Z",
     "start_time": "2023-07-23T12:20:52.795626900Z"
    }
   }
  },
  {
   "cell_type": "code",
   "execution_count": 141,
   "outputs": [
    {
     "data": {
      "text/plain": "          W         X         Y         Z\nA -1.133838  0.384319  1.496554 -0.355382\nB -0.787534 -0.459439 -0.059169 -0.354174\nC -0.735523 -1.183940  0.238894 -0.589920\nD -1.440585  0.773703 -1.027967 -0.090986\nE  0.492003  0.424672  1.283049  0.315986",
      "text/html": "<div>\n<style scoped>\n    .dataframe tbody tr th:only-of-type {\n        vertical-align: middle;\n    }\n\n    .dataframe tbody tr th {\n        vertical-align: top;\n    }\n\n    .dataframe thead th {\n        text-align: right;\n    }\n</style>\n<table border=\"1\" class=\"dataframe\">\n  <thead>\n    <tr style=\"text-align: right;\">\n      <th></th>\n      <th>W</th>\n      <th>X</th>\n      <th>Y</th>\n      <th>Z</th>\n    </tr>\n  </thead>\n  <tbody>\n    <tr>\n      <th>A</th>\n      <td>-1.133838</td>\n      <td>0.384319</td>\n      <td>1.496554</td>\n      <td>-0.355382</td>\n    </tr>\n    <tr>\n      <th>B</th>\n      <td>-0.787534</td>\n      <td>-0.459439</td>\n      <td>-0.059169</td>\n      <td>-0.354174</td>\n    </tr>\n    <tr>\n      <th>C</th>\n      <td>-0.735523</td>\n      <td>-1.183940</td>\n      <td>0.238894</td>\n      <td>-0.589920</td>\n    </tr>\n    <tr>\n      <th>D</th>\n      <td>-1.440585</td>\n      <td>0.773703</td>\n      <td>-1.027967</td>\n      <td>-0.090986</td>\n    </tr>\n    <tr>\n      <th>E</th>\n      <td>0.492003</td>\n      <td>0.424672</td>\n      <td>1.283049</td>\n      <td>0.315986</td>\n    </tr>\n  </tbody>\n</table>\n</div>"
     },
     "execution_count": 141,
     "metadata": {},
     "output_type": "execute_result"
    }
   ],
   "source": [
    "df"
   ],
   "metadata": {
    "collapsed": false,
    "ExecuteTime": {
     "end_time": "2023-07-23T12:20:53.420271700Z",
     "start_time": "2023-07-23T12:20:52.828606900Z"
    }
   }
  },
  {
   "cell_type": "markdown",
   "source": [
    "Reset index to default"
   ],
   "metadata": {
    "collapsed": false
   }
  },
  {
   "cell_type": "code",
   "execution_count": 142,
   "outputs": [
    {
     "data": {
      "text/plain": "  index         W         X         Y         Z\n0     A -1.133838  0.384319  1.496554 -0.355382\n1     B -0.787534 -0.459439 -0.059169 -0.354174\n2     C -0.735523 -1.183940  0.238894 -0.589920\n3     D -1.440585  0.773703 -1.027967 -0.090986\n4     E  0.492003  0.424672  1.283049  0.315986",
      "text/html": "<div>\n<style scoped>\n    .dataframe tbody tr th:only-of-type {\n        vertical-align: middle;\n    }\n\n    .dataframe tbody tr th {\n        vertical-align: top;\n    }\n\n    .dataframe thead th {\n        text-align: right;\n    }\n</style>\n<table border=\"1\" class=\"dataframe\">\n  <thead>\n    <tr style=\"text-align: right;\">\n      <th></th>\n      <th>index</th>\n      <th>W</th>\n      <th>X</th>\n      <th>Y</th>\n      <th>Z</th>\n    </tr>\n  </thead>\n  <tbody>\n    <tr>\n      <th>0</th>\n      <td>A</td>\n      <td>-1.133838</td>\n      <td>0.384319</td>\n      <td>1.496554</td>\n      <td>-0.355382</td>\n    </tr>\n    <tr>\n      <th>1</th>\n      <td>B</td>\n      <td>-0.787534</td>\n      <td>-0.459439</td>\n      <td>-0.059169</td>\n      <td>-0.354174</td>\n    </tr>\n    <tr>\n      <th>2</th>\n      <td>C</td>\n      <td>-0.735523</td>\n      <td>-1.183940</td>\n      <td>0.238894</td>\n      <td>-0.589920</td>\n    </tr>\n    <tr>\n      <th>3</th>\n      <td>D</td>\n      <td>-1.440585</td>\n      <td>0.773703</td>\n      <td>-1.027967</td>\n      <td>-0.090986</td>\n    </tr>\n    <tr>\n      <th>4</th>\n      <td>E</td>\n      <td>0.492003</td>\n      <td>0.424672</td>\n      <td>1.283049</td>\n      <td>0.315986</td>\n    </tr>\n  </tbody>\n</table>\n</div>"
     },
     "execution_count": 142,
     "metadata": {},
     "output_type": "execute_result"
    }
   ],
   "source": [
    "df.reset_index() # temporarly\n"
   ],
   "metadata": {
    "collapsed": false,
    "ExecuteTime": {
     "end_time": "2023-07-23T12:20:53.457246900Z",
     "start_time": "2023-07-23T12:20:52.859589500Z"
    }
   }
  },
  {
   "cell_type": "code",
   "execution_count": 143,
   "outputs": [
    {
     "data": {
      "text/plain": "          W         X         Y         Z\nA -1.133838  0.384319  1.496554 -0.355382\nB -0.787534 -0.459439 -0.059169 -0.354174\nC -0.735523 -1.183940  0.238894 -0.589920\nD -1.440585  0.773703 -1.027967 -0.090986\nE  0.492003  0.424672  1.283049  0.315986",
      "text/html": "<div>\n<style scoped>\n    .dataframe tbody tr th:only-of-type {\n        vertical-align: middle;\n    }\n\n    .dataframe tbody tr th {\n        vertical-align: top;\n    }\n\n    .dataframe thead th {\n        text-align: right;\n    }\n</style>\n<table border=\"1\" class=\"dataframe\">\n  <thead>\n    <tr style=\"text-align: right;\">\n      <th></th>\n      <th>W</th>\n      <th>X</th>\n      <th>Y</th>\n      <th>Z</th>\n    </tr>\n  </thead>\n  <tbody>\n    <tr>\n      <th>A</th>\n      <td>-1.133838</td>\n      <td>0.384319</td>\n      <td>1.496554</td>\n      <td>-0.355382</td>\n    </tr>\n    <tr>\n      <th>B</th>\n      <td>-0.787534</td>\n      <td>-0.459439</td>\n      <td>-0.059169</td>\n      <td>-0.354174</td>\n    </tr>\n    <tr>\n      <th>C</th>\n      <td>-0.735523</td>\n      <td>-1.183940</td>\n      <td>0.238894</td>\n      <td>-0.589920</td>\n    </tr>\n    <tr>\n      <th>D</th>\n      <td>-1.440585</td>\n      <td>0.773703</td>\n      <td>-1.027967</td>\n      <td>-0.090986</td>\n    </tr>\n    <tr>\n      <th>E</th>\n      <td>0.492003</td>\n      <td>0.424672</td>\n      <td>1.283049</td>\n      <td>0.315986</td>\n    </tr>\n  </tbody>\n</table>\n</div>"
     },
     "execution_count": 143,
     "metadata": {},
     "output_type": "execute_result"
    }
   ],
   "source": [
    "df"
   ],
   "metadata": {
    "collapsed": false,
    "ExecuteTime": {
     "end_time": "2023-07-23T12:20:53.468242100Z",
     "start_time": "2023-07-23T12:20:52.893570400Z"
    }
   }
  },
  {
   "cell_type": "code",
   "execution_count": 146,
   "outputs": [],
   "source": [
    "df.reset_index(inplace=True)"
   ],
   "metadata": {
    "collapsed": false,
    "ExecuteTime": {
     "end_time": "2023-07-23T12:21:08.368785600Z",
     "start_time": "2023-07-23T12:21:08.332808500Z"
    }
   }
  },
  {
   "cell_type": "code",
   "execution_count": 147,
   "outputs": [
    {
     "data": {
      "text/plain": "  index         W         X         Y         Z\n0     A -1.133838  0.384319  1.496554 -0.355382\n1     B -0.787534 -0.459439 -0.059169 -0.354174\n2     C -0.735523 -1.183940  0.238894 -0.589920\n3     D -1.440585  0.773703 -1.027967 -0.090986\n4     E  0.492003  0.424672  1.283049  0.315986",
      "text/html": "<div>\n<style scoped>\n    .dataframe tbody tr th:only-of-type {\n        vertical-align: middle;\n    }\n\n    .dataframe tbody tr th {\n        vertical-align: top;\n    }\n\n    .dataframe thead th {\n        text-align: right;\n    }\n</style>\n<table border=\"1\" class=\"dataframe\">\n  <thead>\n    <tr style=\"text-align: right;\">\n      <th></th>\n      <th>index</th>\n      <th>W</th>\n      <th>X</th>\n      <th>Y</th>\n      <th>Z</th>\n    </tr>\n  </thead>\n  <tbody>\n    <tr>\n      <th>0</th>\n      <td>A</td>\n      <td>-1.133838</td>\n      <td>0.384319</td>\n      <td>1.496554</td>\n      <td>-0.355382</td>\n    </tr>\n    <tr>\n      <th>1</th>\n      <td>B</td>\n      <td>-0.787534</td>\n      <td>-0.459439</td>\n      <td>-0.059169</td>\n      <td>-0.354174</td>\n    </tr>\n    <tr>\n      <th>2</th>\n      <td>C</td>\n      <td>-0.735523</td>\n      <td>-1.183940</td>\n      <td>0.238894</td>\n      <td>-0.589920</td>\n    </tr>\n    <tr>\n      <th>3</th>\n      <td>D</td>\n      <td>-1.440585</td>\n      <td>0.773703</td>\n      <td>-1.027967</td>\n      <td>-0.090986</td>\n    </tr>\n    <tr>\n      <th>4</th>\n      <td>E</td>\n      <td>0.492003</td>\n      <td>0.424672</td>\n      <td>1.283049</td>\n      <td>0.315986</td>\n    </tr>\n  </tbody>\n</table>\n</div>"
     },
     "execution_count": 147,
     "metadata": {},
     "output_type": "execute_result"
    }
   ],
   "source": [
    "df"
   ],
   "metadata": {
    "collapsed": false,
    "ExecuteTime": {
     "end_time": "2023-07-23T12:21:11.774954Z",
     "start_time": "2023-07-23T12:21:11.742972500Z"
    }
   }
  },
  {
   "cell_type": "code",
   "execution_count": 148,
   "outputs": [],
   "source": [
    "news_set = \"ra br se se dd\".split()\n",
    "df['V'] = news_set #assing a new column with value"
   ],
   "metadata": {
    "collapsed": false,
    "ExecuteTime": {
     "end_time": "2023-07-23T12:23:52.850947100Z",
     "start_time": "2023-07-23T12:23:52.813966300Z"
    }
   }
  },
  {
   "cell_type": "code",
   "execution_count": 149,
   "outputs": [
    {
     "data": {
      "text/plain": "  index         W         X         Y         Z   V\n0     A -1.133838  0.384319  1.496554 -0.355382  ra\n1     B -0.787534 -0.459439 -0.059169 -0.354174  br\n2     C -0.735523 -1.183940  0.238894 -0.589920  se\n3     D -1.440585  0.773703 -1.027967 -0.090986  se\n4     E  0.492003  0.424672  1.283049  0.315986  dd",
      "text/html": "<div>\n<style scoped>\n    .dataframe tbody tr th:only-of-type {\n        vertical-align: middle;\n    }\n\n    .dataframe tbody tr th {\n        vertical-align: top;\n    }\n\n    .dataframe thead th {\n        text-align: right;\n    }\n</style>\n<table border=\"1\" class=\"dataframe\">\n  <thead>\n    <tr style=\"text-align: right;\">\n      <th></th>\n      <th>index</th>\n      <th>W</th>\n      <th>X</th>\n      <th>Y</th>\n      <th>Z</th>\n      <th>V</th>\n    </tr>\n  </thead>\n  <tbody>\n    <tr>\n      <th>0</th>\n      <td>A</td>\n      <td>-1.133838</td>\n      <td>0.384319</td>\n      <td>1.496554</td>\n      <td>-0.355382</td>\n      <td>ra</td>\n    </tr>\n    <tr>\n      <th>1</th>\n      <td>B</td>\n      <td>-0.787534</td>\n      <td>-0.459439</td>\n      <td>-0.059169</td>\n      <td>-0.354174</td>\n      <td>br</td>\n    </tr>\n    <tr>\n      <th>2</th>\n      <td>C</td>\n      <td>-0.735523</td>\n      <td>-1.183940</td>\n      <td>0.238894</td>\n      <td>-0.589920</td>\n      <td>se</td>\n    </tr>\n    <tr>\n      <th>3</th>\n      <td>D</td>\n      <td>-1.440585</td>\n      <td>0.773703</td>\n      <td>-1.027967</td>\n      <td>-0.090986</td>\n      <td>se</td>\n    </tr>\n    <tr>\n      <th>4</th>\n      <td>E</td>\n      <td>0.492003</td>\n      <td>0.424672</td>\n      <td>1.283049</td>\n      <td>0.315986</td>\n      <td>dd</td>\n    </tr>\n  </tbody>\n</table>\n</div>"
     },
     "execution_count": 149,
     "metadata": {},
     "output_type": "execute_result"
    }
   ],
   "source": [
    "df"
   ],
   "metadata": {
    "collapsed": false,
    "ExecuteTime": {
     "end_time": "2023-07-23T12:23:55.130680300Z",
     "start_time": "2023-07-23T12:23:55.063720200Z"
    }
   }
  },
  {
   "cell_type": "code",
   "execution_count": 150,
   "outputs": [
    {
     "data": {
      "text/plain": "   index         W         X         Y         Z\nV                                               \nra     A -1.133838  0.384319  1.496554 -0.355382\nbr     B -0.787534 -0.459439 -0.059169 -0.354174\nse     C -0.735523 -1.183940  0.238894 -0.589920\nse     D -1.440585  0.773703 -1.027967 -0.090986\ndd     E  0.492003  0.424672  1.283049  0.315986",
      "text/html": "<div>\n<style scoped>\n    .dataframe tbody tr th:only-of-type {\n        vertical-align: middle;\n    }\n\n    .dataframe tbody tr th {\n        vertical-align: top;\n    }\n\n    .dataframe thead th {\n        text-align: right;\n    }\n</style>\n<table border=\"1\" class=\"dataframe\">\n  <thead>\n    <tr style=\"text-align: right;\">\n      <th></th>\n      <th>index</th>\n      <th>W</th>\n      <th>X</th>\n      <th>Y</th>\n      <th>Z</th>\n    </tr>\n    <tr>\n      <th>V</th>\n      <th></th>\n      <th></th>\n      <th></th>\n      <th></th>\n      <th></th>\n    </tr>\n  </thead>\n  <tbody>\n    <tr>\n      <th>ra</th>\n      <td>A</td>\n      <td>-1.133838</td>\n      <td>0.384319</td>\n      <td>1.496554</td>\n      <td>-0.355382</td>\n    </tr>\n    <tr>\n      <th>br</th>\n      <td>B</td>\n      <td>-0.787534</td>\n      <td>-0.459439</td>\n      <td>-0.059169</td>\n      <td>-0.354174</td>\n    </tr>\n    <tr>\n      <th>se</th>\n      <td>C</td>\n      <td>-0.735523</td>\n      <td>-1.183940</td>\n      <td>0.238894</td>\n      <td>-0.589920</td>\n    </tr>\n    <tr>\n      <th>se</th>\n      <td>D</td>\n      <td>-1.440585</td>\n      <td>0.773703</td>\n      <td>-1.027967</td>\n      <td>-0.090986</td>\n    </tr>\n    <tr>\n      <th>dd</th>\n      <td>E</td>\n      <td>0.492003</td>\n      <td>0.424672</td>\n      <td>1.283049</td>\n      <td>0.315986</td>\n    </tr>\n  </tbody>\n</table>\n</div>"
     },
     "execution_count": 150,
     "metadata": {},
     "output_type": "execute_result"
    }
   ],
   "source": [
    "df.set_index('V')"
   ],
   "metadata": {
    "collapsed": false,
    "ExecuteTime": {
     "end_time": "2023-07-23T12:25:39.784484500Z",
     "start_time": "2023-07-23T12:25:39.686539400Z"
    }
   }
  },
  {
   "cell_type": "code",
   "execution_count": 151,
   "outputs": [
    {
     "data": {
      "text/plain": "  index         W         X         Y         Z   V\n0     A -1.133838  0.384319  1.496554 -0.355382  ra\n1     B -0.787534 -0.459439 -0.059169 -0.354174  br\n2     C -0.735523 -1.183940  0.238894 -0.589920  se\n3     D -1.440585  0.773703 -1.027967 -0.090986  se\n4     E  0.492003  0.424672  1.283049  0.315986  dd",
      "text/html": "<div>\n<style scoped>\n    .dataframe tbody tr th:only-of-type {\n        vertical-align: middle;\n    }\n\n    .dataframe tbody tr th {\n        vertical-align: top;\n    }\n\n    .dataframe thead th {\n        text-align: right;\n    }\n</style>\n<table border=\"1\" class=\"dataframe\">\n  <thead>\n    <tr style=\"text-align: right;\">\n      <th></th>\n      <th>index</th>\n      <th>W</th>\n      <th>X</th>\n      <th>Y</th>\n      <th>Z</th>\n      <th>V</th>\n    </tr>\n  </thead>\n  <tbody>\n    <tr>\n      <th>0</th>\n      <td>A</td>\n      <td>-1.133838</td>\n      <td>0.384319</td>\n      <td>1.496554</td>\n      <td>-0.355382</td>\n      <td>ra</td>\n    </tr>\n    <tr>\n      <th>1</th>\n      <td>B</td>\n      <td>-0.787534</td>\n      <td>-0.459439</td>\n      <td>-0.059169</td>\n      <td>-0.354174</td>\n      <td>br</td>\n    </tr>\n    <tr>\n      <th>2</th>\n      <td>C</td>\n      <td>-0.735523</td>\n      <td>-1.183940</td>\n      <td>0.238894</td>\n      <td>-0.589920</td>\n      <td>se</td>\n    </tr>\n    <tr>\n      <th>3</th>\n      <td>D</td>\n      <td>-1.440585</td>\n      <td>0.773703</td>\n      <td>-1.027967</td>\n      <td>-0.090986</td>\n      <td>se</td>\n    </tr>\n    <tr>\n      <th>4</th>\n      <td>E</td>\n      <td>0.492003</td>\n      <td>0.424672</td>\n      <td>1.283049</td>\n      <td>0.315986</td>\n      <td>dd</td>\n    </tr>\n  </tbody>\n</table>\n</div>"
     },
     "execution_count": 151,
     "metadata": {},
     "output_type": "execute_result"
    }
   ],
   "source": [
    "df"
   ],
   "metadata": {
    "collapsed": false,
    "ExecuteTime": {
     "end_time": "2023-07-23T12:25:48.045478600Z",
     "start_time": "2023-07-23T12:25:47.979512600Z"
    }
   }
  },
  {
   "cell_type": "code",
   "execution_count": 152,
   "outputs": [
    {
     "data": {
      "text/plain": "              W         X         Y         Z   V\nindex                                            \nA     -1.133838  0.384319  1.496554 -0.355382  ra\nB     -0.787534 -0.459439 -0.059169 -0.354174  br\nC     -0.735523 -1.183940  0.238894 -0.589920  se\nD     -1.440585  0.773703 -1.027967 -0.090986  se\nE      0.492003  0.424672  1.283049  0.315986  dd",
      "text/html": "<div>\n<style scoped>\n    .dataframe tbody tr th:only-of-type {\n        vertical-align: middle;\n    }\n\n    .dataframe tbody tr th {\n        vertical-align: top;\n    }\n\n    .dataframe thead th {\n        text-align: right;\n    }\n</style>\n<table border=\"1\" class=\"dataframe\">\n  <thead>\n    <tr style=\"text-align: right;\">\n      <th></th>\n      <th>W</th>\n      <th>X</th>\n      <th>Y</th>\n      <th>Z</th>\n      <th>V</th>\n    </tr>\n    <tr>\n      <th>index</th>\n      <th></th>\n      <th></th>\n      <th></th>\n      <th></th>\n      <th></th>\n    </tr>\n  </thead>\n  <tbody>\n    <tr>\n      <th>A</th>\n      <td>-1.133838</td>\n      <td>0.384319</td>\n      <td>1.496554</td>\n      <td>-0.355382</td>\n      <td>ra</td>\n    </tr>\n    <tr>\n      <th>B</th>\n      <td>-0.787534</td>\n      <td>-0.459439</td>\n      <td>-0.059169</td>\n      <td>-0.354174</td>\n      <td>br</td>\n    </tr>\n    <tr>\n      <th>C</th>\n      <td>-0.735523</td>\n      <td>-1.183940</td>\n      <td>0.238894</td>\n      <td>-0.589920</td>\n      <td>se</td>\n    </tr>\n    <tr>\n      <th>D</th>\n      <td>-1.440585</td>\n      <td>0.773703</td>\n      <td>-1.027967</td>\n      <td>-0.090986</td>\n      <td>se</td>\n    </tr>\n    <tr>\n      <th>E</th>\n      <td>0.492003</td>\n      <td>0.424672</td>\n      <td>1.283049</td>\n      <td>0.315986</td>\n      <td>dd</td>\n    </tr>\n  </tbody>\n</table>\n</div>"
     },
     "execution_count": 152,
     "metadata": {},
     "output_type": "execute_result"
    }
   ],
   "source": [
    "df.set_index('index')"
   ],
   "metadata": {
    "collapsed": false,
    "ExecuteTime": {
     "end_time": "2023-07-23T12:26:03.106226700Z",
     "start_time": "2023-07-23T12:26:03.034271400Z"
    }
   }
  },
  {
   "cell_type": "code",
   "execution_count": 153,
   "outputs": [
    {
     "data": {
      "text/plain": "  index         W         X         Y         Z   V\n0     A -1.133838  0.384319  1.496554 -0.355382  ra\n1     B -0.787534 -0.459439 -0.059169 -0.354174  br\n2     C -0.735523 -1.183940  0.238894 -0.589920  se\n3     D -1.440585  0.773703 -1.027967 -0.090986  se\n4     E  0.492003  0.424672  1.283049  0.315986  dd",
      "text/html": "<div>\n<style scoped>\n    .dataframe tbody tr th:only-of-type {\n        vertical-align: middle;\n    }\n\n    .dataframe tbody tr th {\n        vertical-align: top;\n    }\n\n    .dataframe thead th {\n        text-align: right;\n    }\n</style>\n<table border=\"1\" class=\"dataframe\">\n  <thead>\n    <tr style=\"text-align: right;\">\n      <th></th>\n      <th>index</th>\n      <th>W</th>\n      <th>X</th>\n      <th>Y</th>\n      <th>Z</th>\n      <th>V</th>\n    </tr>\n  </thead>\n  <tbody>\n    <tr>\n      <th>0</th>\n      <td>A</td>\n      <td>-1.133838</td>\n      <td>0.384319</td>\n      <td>1.496554</td>\n      <td>-0.355382</td>\n      <td>ra</td>\n    </tr>\n    <tr>\n      <th>1</th>\n      <td>B</td>\n      <td>-0.787534</td>\n      <td>-0.459439</td>\n      <td>-0.059169</td>\n      <td>-0.354174</td>\n      <td>br</td>\n    </tr>\n    <tr>\n      <th>2</th>\n      <td>C</td>\n      <td>-0.735523</td>\n      <td>-1.183940</td>\n      <td>0.238894</td>\n      <td>-0.589920</td>\n      <td>se</td>\n    </tr>\n    <tr>\n      <th>3</th>\n      <td>D</td>\n      <td>-1.440585</td>\n      <td>0.773703</td>\n      <td>-1.027967</td>\n      <td>-0.090986</td>\n      <td>se</td>\n    </tr>\n    <tr>\n      <th>4</th>\n      <td>E</td>\n      <td>0.492003</td>\n      <td>0.424672</td>\n      <td>1.283049</td>\n      <td>0.315986</td>\n      <td>dd</td>\n    </tr>\n  </tbody>\n</table>\n</div>"
     },
     "execution_count": 153,
     "metadata": {},
     "output_type": "execute_result"
    }
   ],
   "source": [
    "df"
   ],
   "metadata": {
    "collapsed": false,
    "ExecuteTime": {
     "end_time": "2023-07-23T12:26:10.498558600Z",
     "start_time": "2023-07-23T12:26:10.424600200Z"
    }
   }
  },
  {
   "cell_type": "code",
   "execution_count": 154,
   "outputs": [],
   "source": [
    "df.set_index('index', inplace=True)"
   ],
   "metadata": {
    "collapsed": false,
    "ExecuteTime": {
     "end_time": "2023-07-23T12:26:27.511038400Z",
     "start_time": "2023-07-23T12:26:27.418047400Z"
    }
   }
  },
  {
   "cell_type": "code",
   "execution_count": 181,
   "outputs": [],
   "source": [
    "names = \"rimi sujon nita rimi limon\".split()\n",
    "age = [23, 54, 13, 6, 67, 78, 12]\n",
    "session = \"A B C D E F\".split()\n",
    "name_age_combo = list(zip(names, age, session))"
   ],
   "metadata": {
    "collapsed": false,
    "ExecuteTime": {
     "end_time": "2023-07-23T13:18:06.437280900Z",
     "start_time": "2023-07-23T13:18:06.411296600Z"
    }
   }
  },
  {
   "cell_type": "code",
   "execution_count": 182,
   "outputs": [
    {
     "data": {
      "text/plain": "[('rimi', 23, 'A'),\n ('sujon', 54, 'B'),\n ('nita', 13, 'C'),\n ('rimi', 6, 'D'),\n ('limon', 67, 'E')]"
     },
     "execution_count": 182,
     "metadata": {},
     "output_type": "execute_result"
    }
   ],
   "source": [
    "name_age_combo"
   ],
   "metadata": {
    "collapsed": false,
    "ExecuteTime": {
     "end_time": "2023-07-23T13:18:06.996638700Z",
     "start_time": "2023-07-23T13:18:06.937672300Z"
    }
   }
  },
  {
   "cell_type": "code",
   "execution_count": 183,
   "outputs": [
    {
     "data": {
      "text/plain": "('sujon', 54, 'B')"
     },
     "execution_count": 183,
     "metadata": {},
     "output_type": "execute_result"
    }
   ],
   "source": [
    "name_age_combo[1]"
   ],
   "metadata": {
    "collapsed": false,
    "ExecuteTime": {
     "end_time": "2023-07-23T13:18:07.393412800Z",
     "start_time": "2023-07-23T13:18:07.346439Z"
    }
   }
  },
  {
   "cell_type": "code",
   "execution_count": 184,
   "outputs": [],
   "source": [
    "multi = pd.MultiIndex.from_tuples(name_age_combo)"
   ],
   "metadata": {
    "collapsed": false,
    "ExecuteTime": {
     "end_time": "2023-07-23T13:18:08.314437300Z",
     "start_time": "2023-07-23T13:18:08.274459200Z"
    }
   }
  },
  {
   "cell_type": "code",
   "execution_count": 185,
   "outputs": [],
   "source": [
    "df = pd.DataFrame(randn(5, 2), multi, ['A', 'B'])"
   ],
   "metadata": {
    "collapsed": false,
    "ExecuteTime": {
     "end_time": "2023-07-23T13:18:08.813756500Z",
     "start_time": "2023-07-23T13:18:08.775777900Z"
    }
   }
  },
  {
   "cell_type": "code",
   "execution_count": 186,
   "outputs": [
    {
     "data": {
      "text/plain": "                   A         B\nrimi  23 A  2.597164 -0.058266\nsujon 54 B -0.945287  0.541172\nnita  13 C -0.055009  1.120021\nrimi  6  D -0.191643 -0.610138\nlimon 67 E -0.444579 -2.204009",
      "text/html": "<div>\n<style scoped>\n    .dataframe tbody tr th:only-of-type {\n        vertical-align: middle;\n    }\n\n    .dataframe tbody tr th {\n        vertical-align: top;\n    }\n\n    .dataframe thead th {\n        text-align: right;\n    }\n</style>\n<table border=\"1\" class=\"dataframe\">\n  <thead>\n    <tr style=\"text-align: right;\">\n      <th></th>\n      <th></th>\n      <th></th>\n      <th>A</th>\n      <th>B</th>\n    </tr>\n  </thead>\n  <tbody>\n    <tr>\n      <th>rimi</th>\n      <th>23</th>\n      <th>A</th>\n      <td>2.597164</td>\n      <td>-0.058266</td>\n    </tr>\n    <tr>\n      <th>sujon</th>\n      <th>54</th>\n      <th>B</th>\n      <td>-0.945287</td>\n      <td>0.541172</td>\n    </tr>\n    <tr>\n      <th>nita</th>\n      <th>13</th>\n      <th>C</th>\n      <td>-0.055009</td>\n      <td>1.120021</td>\n    </tr>\n    <tr>\n      <th>rimi</th>\n      <th>6</th>\n      <th>D</th>\n      <td>-0.191643</td>\n      <td>-0.610138</td>\n    </tr>\n    <tr>\n      <th>limon</th>\n      <th>67</th>\n      <th>E</th>\n      <td>-0.444579</td>\n      <td>-2.204009</td>\n    </tr>\n  </tbody>\n</table>\n</div>"
     },
     "execution_count": 186,
     "metadata": {},
     "output_type": "execute_result"
    }
   ],
   "source": [
    "df"
   ],
   "metadata": {
    "collapsed": false,
    "ExecuteTime": {
     "end_time": "2023-07-23T13:18:09.279489400Z",
     "start_time": "2023-07-23T13:18:09.221522600Z"
    }
   }
  },
  {
   "cell_type": "code",
   "execution_count": 168,
   "outputs": [],
   "source": [
    "name_age_combo[1][2] = 'V'"
   ],
   "metadata": {
    "collapsed": false,
    "ExecuteTime": {
     "end_time": "2023-07-23T13:10:54.062684Z",
     "start_time": "2023-07-23T13:10:54.042696700Z"
    }
   }
  },
  {
   "cell_type": "code",
   "execution_count": 188,
   "outputs": [
    {
     "data": {
      "text/plain": "                     A         B\nname  age id                    \nrimi  23  A   2.597164 -0.058266\nsujon 54  B  -0.945287  0.541172\nnita  13  C  -0.055009  1.120021\nrimi  6   D  -0.191643 -0.610138\nlimon 67  E  -0.444579 -2.204009",
      "text/html": "<div>\n<style scoped>\n    .dataframe tbody tr th:only-of-type {\n        vertical-align: middle;\n    }\n\n    .dataframe tbody tr th {\n        vertical-align: top;\n    }\n\n    .dataframe thead th {\n        text-align: right;\n    }\n</style>\n<table border=\"1\" class=\"dataframe\">\n  <thead>\n    <tr style=\"text-align: right;\">\n      <th></th>\n      <th></th>\n      <th></th>\n      <th>A</th>\n      <th>B</th>\n    </tr>\n    <tr>\n      <th>name</th>\n      <th>age</th>\n      <th>id</th>\n      <th></th>\n      <th></th>\n    </tr>\n  </thead>\n  <tbody>\n    <tr>\n      <th>rimi</th>\n      <th>23</th>\n      <th>A</th>\n      <td>2.597164</td>\n      <td>-0.058266</td>\n    </tr>\n    <tr>\n      <th>sujon</th>\n      <th>54</th>\n      <th>B</th>\n      <td>-0.945287</td>\n      <td>0.541172</td>\n    </tr>\n    <tr>\n      <th>nita</th>\n      <th>13</th>\n      <th>C</th>\n      <td>-0.055009</td>\n      <td>1.120021</td>\n    </tr>\n    <tr>\n      <th>rimi</th>\n      <th>6</th>\n      <th>D</th>\n      <td>-0.191643</td>\n      <td>-0.610138</td>\n    </tr>\n    <tr>\n      <th>limon</th>\n      <th>67</th>\n      <th>E</th>\n      <td>-0.444579</td>\n      <td>-2.204009</td>\n    </tr>\n  </tbody>\n</table>\n</div>"
     },
     "execution_count": 188,
     "metadata": {},
     "output_type": "execute_result"
    }
   ],
   "source": [
    "df.index.names = \"name age id\".split()\n",
    "df"
   ],
   "metadata": {
    "collapsed": false,
    "ExecuteTime": {
     "end_time": "2023-07-23T13:23:33.961462500Z",
     "start_time": "2023-07-23T13:23:33.907451900Z"
    }
   }
  },
  {
   "cell_type": "code",
   "execution_count": 196,
   "outputs": [
    {
     "data": {
      "text/plain": "id\nA   -0.058266\nName: B, dtype: float64"
     },
     "execution_count": 196,
     "metadata": {},
     "output_type": "execute_result"
    }
   ],
   "source": [
    "# df.loc[['rimi', 23]]['A']#not work\n",
    "df.loc['rimi'].loc[23]['B'] # way to access multilabel index"
   ],
   "metadata": {
    "collapsed": false,
    "ExecuteTime": {
     "end_time": "2023-07-23T13:26:45.143714500Z",
     "start_time": "2023-07-23T13:26:45.108735100Z"
    }
   }
  },
  {
   "cell_type": "code",
   "execution_count": 197,
   "outputs": [
    {
     "data": {
      "text/plain": "               A         B\nage id                    \n23  A   2.597164 -0.058266\n6   D  -0.191643 -0.610138",
      "text/html": "<div>\n<style scoped>\n    .dataframe tbody tr th:only-of-type {\n        vertical-align: middle;\n    }\n\n    .dataframe tbody tr th {\n        vertical-align: top;\n    }\n\n    .dataframe thead th {\n        text-align: right;\n    }\n</style>\n<table border=\"1\" class=\"dataframe\">\n  <thead>\n    <tr style=\"text-align: right;\">\n      <th></th>\n      <th></th>\n      <th>A</th>\n      <th>B</th>\n    </tr>\n    <tr>\n      <th>age</th>\n      <th>id</th>\n      <th></th>\n      <th></th>\n    </tr>\n  </thead>\n  <tbody>\n    <tr>\n      <th>23</th>\n      <th>A</th>\n      <td>2.597164</td>\n      <td>-0.058266</td>\n    </tr>\n    <tr>\n      <th>6</th>\n      <th>D</th>\n      <td>-0.191643</td>\n      <td>-0.610138</td>\n    </tr>\n  </tbody>\n</table>\n</div>"
     },
     "execution_count": 197,
     "metadata": {},
     "output_type": "execute_result"
    }
   ],
   "source": [
    "df.xs('rimi')"
   ],
   "metadata": {
    "collapsed": false,
    "ExecuteTime": {
     "end_time": "2023-07-23T13:28:31.234549500Z",
     "start_time": "2023-07-23T13:28:31.148600200Z"
    }
   }
  },
  {
   "cell_type": "code",
   "execution_count": 203,
   "outputs": [
    {
     "data": {
      "text/plain": "                A         B\nname id                    \nrimi A   2.597164 -0.058266",
      "text/html": "<div>\n<style scoped>\n    .dataframe tbody tr th:only-of-type {\n        vertical-align: middle;\n    }\n\n    .dataframe tbody tr th {\n        vertical-align: top;\n    }\n\n    .dataframe thead th {\n        text-align: right;\n    }\n</style>\n<table border=\"1\" class=\"dataframe\">\n  <thead>\n    <tr style=\"text-align: right;\">\n      <th></th>\n      <th></th>\n      <th>A</th>\n      <th>B</th>\n    </tr>\n    <tr>\n      <th>name</th>\n      <th>id</th>\n      <th></th>\n      <th></th>\n    </tr>\n  </thead>\n  <tbody>\n    <tr>\n      <th>rimi</th>\n      <th>A</th>\n      <td>2.597164</td>\n      <td>-0.058266</td>\n    </tr>\n  </tbody>\n</table>\n</div>"
     },
     "execution_count": 203,
     "metadata": {},
     "output_type": "execute_result"
    }
   ],
   "source": [
    "df.xs(23, level= 'age')"
   ],
   "metadata": {
    "collapsed": false,
    "ExecuteTime": {
     "end_time": "2023-07-23T13:30:40.524276200Z",
     "start_time": "2023-07-23T13:30:40.485299Z"
    }
   }
  },
  {
   "cell_type": "code",
   "execution_count": 169,
   "outputs": [
    {
     "data": {
      "text/plain": "[('rimi', 23, 'A'),\n ['sumon', 12, 'V'],\n ('nita', 13, 'C'),\n ('sumon', 6, 'D'),\n ('limon', 67, 'E')]"
     },
     "execution_count": 169,
     "metadata": {},
     "output_type": "execute_result"
    }
   ],
   "source": [
    "name_age_combo"
   ],
   "metadata": {
    "collapsed": false,
    "ExecuteTime": {
     "end_time": "2023-07-23T13:10:55.124082700Z",
     "start_time": "2023-07-23T13:10:55.104086200Z"
    }
   }
  },
  {
   "cell_type": "code",
   "execution_count": null,
   "outputs": [],
   "source": [],
   "metadata": {
    "collapsed": false
   }
  }
 ],
 "metadata": {
  "kernelspec": {
   "display_name": "Python 3",
   "language": "python",
   "name": "python3"
  },
  "language_info": {
   "codemirror_mode": {
    "name": "ipython",
    "version": 2
   },
   "file_extension": ".py",
   "mimetype": "text/x-python",
   "name": "python",
   "nbconvert_exporter": "python",
   "pygments_lexer": "ipython2",
   "version": "2.7.6"
  }
 },
 "nbformat": 4,
 "nbformat_minor": 0
}
