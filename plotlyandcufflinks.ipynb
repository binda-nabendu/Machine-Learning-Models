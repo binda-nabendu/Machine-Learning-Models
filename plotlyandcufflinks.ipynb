{
 "cells": [
  {
   "cell_type": "code",
   "execution_count": null,
   "metadata": {
    "collapsed": true
   },
   "outputs": [],
   "source": [
    "import pandas as pd\n",
    "import numpy as np"
   ]
  },
  {
   "cell_type": "code",
   "execution_count": null,
   "outputs": [],
   "source": [
    "from plotly import __version__"
   ],
   "metadata": {
    "collapsed": false
   }
  },
  {
   "cell_type": "code",
   "execution_count": null,
   "outputs": [],
   "source": [
    "import cufflinks as cf"
   ],
   "metadata": {
    "collapsed": false
   }
  },
  {
   "cell_type": "code",
   "execution_count": null,
   "outputs": [],
   "source": [
    "from plotly.offline import  download_plotlyjs, init_notebook_mode, iplot"
   ],
   "metadata": {
    "collapsed": false
   }
  },
  {
   "cell_type": "code",
   "execution_count": null,
   "outputs": [],
   "source": [
    "init_notebook_mode(connected=True)"
   ],
   "metadata": {
    "collapsed": false
   }
  },
  {
   "cell_type": "code",
   "execution_count": null,
   "outputs": [],
   "source": [
    "%matplotlib inline"
   ],
   "metadata": {
    "collapsed": false
   }
  },
  {
   "cell_type": "code",
   "execution_count": null,
   "outputs": [],
   "source": [
    "cf.go_offline()"
   ],
   "metadata": {
    "collapsed": false
   }
  },
  {
   "cell_type": "code",
   "execution_count": null,
   "outputs": [],
   "source": [
    "df = pd.DataFrame(np.random.randn(100, 4), columns=['a', 'b', 'c', 'd'])"
   ],
   "metadata": {
    "collapsed": false
   }
  },
  {
   "cell_type": "code",
   "execution_count": null,
   "outputs": [],
   "source": [
    "df.head()"
   ],
   "metadata": {
    "collapsed": false
   }
  },
  {
   "cell_type": "code",
   "execution_count": null,
   "outputs": [],
   "source": [
    "df2 = pd.DataFrame({'Category' : 'A B C'.split(), 'Values' : [32, 43, 50]})"
   ],
   "metadata": {
    "collapsed": false
   }
  },
  {
   "cell_type": "code",
   "execution_count": null,
   "outputs": [],
   "source": [
    "df2"
   ],
   "metadata": {
    "collapsed": false
   }
  },
  {
   "cell_type": "code",
   "execution_count": null,
   "outputs": [],
   "source": [
    "df"
   ],
   "metadata": {
    "collapsed": false
   }
  },
  {
   "cell_type": "code",
   "execution_count": null,
   "outputs": [],
   "source": [
    "df.plot()"
   ],
   "metadata": {
    "collapsed": false
   }
  },
  {
   "cell_type": "code",
   "execution_count": null,
   "outputs": [],
   "source": [
    "df.iplot()"
   ],
   "metadata": {
    "collapsed": false
   }
  },
  {
   "cell_type": "code",
   "execution_count": null,
   "outputs": [],
   "source": [
    "df2.iplot()"
   ],
   "metadata": {
    "collapsed": false
   }
  },
  {
   "cell_type": "code",
   "execution_count": null,
   "outputs": [],
   "source": [
    "df.iplot(kind = 'scatter', x = 'a', y = 'b')"
   ],
   "metadata": {
    "collapsed": false
   }
  },
  {
   "cell_type": "code",
   "execution_count": null,
   "outputs": [],
   "source": [
    "df.iplot(kind = 'scatter', x = 'a', y = 'b', mode = 'markers')"
   ],
   "metadata": {
    "collapsed": false
   }
  },
  {
   "cell_type": "code",
   "execution_count": 24,
   "outputs": [
    {
     "data": {
      "application/vnd.plotly.v1+json": {
       "data": [
        {
         "marker": {
          "color": "rgba(255, 153, 51, 0.6)",
          "line": {
           "color": "rgba(255, 153, 51, 1.0)",
           "width": 1
          }
         },
         "name": "Values",
         "orientation": "v",
         "text": "",
         "x": [
          "A",
          "B",
          "C"
         ],
         "y": [
          32,
          43,
          50
         ],
         "type": "bar"
        }
       ],
       "layout": {
        "legend": {
         "bgcolor": "#F5F6F9",
         "font": {
          "color": "#4D5663"
         }
        },
        "paper_bgcolor": "#F5F6F9",
        "plot_bgcolor": "#F5F6F9",
        "template": {
         "data": {
          "barpolar": [
           {
            "marker": {
             "line": {
              "color": "#E5ECF6",
              "width": 0.5
             },
             "pattern": {
              "fillmode": "overlay",
              "size": 10,
              "solidity": 0.2
             }
            },
            "type": "barpolar"
           }
          ],
          "bar": [
           {
            "error_x": {
             "color": "#2a3f5f"
            },
            "error_y": {
             "color": "#2a3f5f"
            },
            "marker": {
             "line": {
              "color": "#E5ECF6",
              "width": 0.5
             },
             "pattern": {
              "fillmode": "overlay",
              "size": 10,
              "solidity": 0.2
             }
            },
            "type": "bar"
           }
          ],
          "carpet": [
           {
            "aaxis": {
             "endlinecolor": "#2a3f5f",
             "gridcolor": "white",
             "linecolor": "white",
             "minorgridcolor": "white",
             "startlinecolor": "#2a3f5f"
            },
            "baxis": {
             "endlinecolor": "#2a3f5f",
             "gridcolor": "white",
             "linecolor": "white",
             "minorgridcolor": "white",
             "startlinecolor": "#2a3f5f"
            },
            "type": "carpet"
           }
          ],
          "choropleth": [
           {
            "colorbar": {
             "outlinewidth": 0,
             "ticks": ""
            },
            "type": "choropleth"
           }
          ],
          "contourcarpet": [
           {
            "colorbar": {
             "outlinewidth": 0,
             "ticks": ""
            },
            "type": "contourcarpet"
           }
          ],
          "contour": [
           {
            "colorbar": {
             "outlinewidth": 0,
             "ticks": ""
            },
            "colorscale": [
             [
              0.0,
              "#0d0887"
             ],
             [
              0.1111111111111111,
              "#46039f"
             ],
             [
              0.2222222222222222,
              "#7201a8"
             ],
             [
              0.3333333333333333,
              "#9c179e"
             ],
             [
              0.4444444444444444,
              "#bd3786"
             ],
             [
              0.5555555555555556,
              "#d8576b"
             ],
             [
              0.6666666666666666,
              "#ed7953"
             ],
             [
              0.7777777777777778,
              "#fb9f3a"
             ],
             [
              0.8888888888888888,
              "#fdca26"
             ],
             [
              1.0,
              "#f0f921"
             ]
            ],
            "type": "contour"
           }
          ],
          "heatmapgl": [
           {
            "colorbar": {
             "outlinewidth": 0,
             "ticks": ""
            },
            "colorscale": [
             [
              0.0,
              "#0d0887"
             ],
             [
              0.1111111111111111,
              "#46039f"
             ],
             [
              0.2222222222222222,
              "#7201a8"
             ],
             [
              0.3333333333333333,
              "#9c179e"
             ],
             [
              0.4444444444444444,
              "#bd3786"
             ],
             [
              0.5555555555555556,
              "#d8576b"
             ],
             [
              0.6666666666666666,
              "#ed7953"
             ],
             [
              0.7777777777777778,
              "#fb9f3a"
             ],
             [
              0.8888888888888888,
              "#fdca26"
             ],
             [
              1.0,
              "#f0f921"
             ]
            ],
            "type": "heatmapgl"
           }
          ],
          "heatmap": [
           {
            "colorbar": {
             "outlinewidth": 0,
             "ticks": ""
            },
            "colorscale": [
             [
              0.0,
              "#0d0887"
             ],
             [
              0.1111111111111111,
              "#46039f"
             ],
             [
              0.2222222222222222,
              "#7201a8"
             ],
             [
              0.3333333333333333,
              "#9c179e"
             ],
             [
              0.4444444444444444,
              "#bd3786"
             ],
             [
              0.5555555555555556,
              "#d8576b"
             ],
             [
              0.6666666666666666,
              "#ed7953"
             ],
             [
              0.7777777777777778,
              "#fb9f3a"
             ],
             [
              0.8888888888888888,
              "#fdca26"
             ],
             [
              1.0,
              "#f0f921"
             ]
            ],
            "type": "heatmap"
           }
          ],
          "histogram2dcontour": [
           {
            "colorbar": {
             "outlinewidth": 0,
             "ticks": ""
            },
            "colorscale": [
             [
              0.0,
              "#0d0887"
             ],
             [
              0.1111111111111111,
              "#46039f"
             ],
             [
              0.2222222222222222,
              "#7201a8"
             ],
             [
              0.3333333333333333,
              "#9c179e"
             ],
             [
              0.4444444444444444,
              "#bd3786"
             ],
             [
              0.5555555555555556,
              "#d8576b"
             ],
             [
              0.6666666666666666,
              "#ed7953"
             ],
             [
              0.7777777777777778,
              "#fb9f3a"
             ],
             [
              0.8888888888888888,
              "#fdca26"
             ],
             [
              1.0,
              "#f0f921"
             ]
            ],
            "type": "histogram2dcontour"
           }
          ],
          "histogram2d": [
           {
            "colorbar": {
             "outlinewidth": 0,
             "ticks": ""
            },
            "colorscale": [
             [
              0.0,
              "#0d0887"
             ],
             [
              0.1111111111111111,
              "#46039f"
             ],
             [
              0.2222222222222222,
              "#7201a8"
             ],
             [
              0.3333333333333333,
              "#9c179e"
             ],
             [
              0.4444444444444444,
              "#bd3786"
             ],
             [
              0.5555555555555556,
              "#d8576b"
             ],
             [
              0.6666666666666666,
              "#ed7953"
             ],
             [
              0.7777777777777778,
              "#fb9f3a"
             ],
             [
              0.8888888888888888,
              "#fdca26"
             ],
             [
              1.0,
              "#f0f921"
             ]
            ],
            "type": "histogram2d"
           }
          ],
          "histogram": [
           {
            "marker": {
             "pattern": {
              "fillmode": "overlay",
              "size": 10,
              "solidity": 0.2
             }
            },
            "type": "histogram"
           }
          ],
          "mesh3d": [
           {
            "colorbar": {
             "outlinewidth": 0,
             "ticks": ""
            },
            "type": "mesh3d"
           }
          ],
          "parcoords": [
           {
            "line": {
             "colorbar": {
              "outlinewidth": 0,
              "ticks": ""
             }
            },
            "type": "parcoords"
           }
          ],
          "pie": [
           {
            "automargin": true,
            "type": "pie"
           }
          ],
          "scatter3d": [
           {
            "line": {
             "colorbar": {
              "outlinewidth": 0,
              "ticks": ""
             }
            },
            "marker": {
             "colorbar": {
              "outlinewidth": 0,
              "ticks": ""
             }
            },
            "type": "scatter3d"
           }
          ],
          "scattercarpet": [
           {
            "marker": {
             "colorbar": {
              "outlinewidth": 0,
              "ticks": ""
             }
            },
            "type": "scattercarpet"
           }
          ],
          "scattergeo": [
           {
            "marker": {
             "colorbar": {
              "outlinewidth": 0,
              "ticks": ""
             }
            },
            "type": "scattergeo"
           }
          ],
          "scattergl": [
           {
            "marker": {
             "colorbar": {
              "outlinewidth": 0,
              "ticks": ""
             }
            },
            "type": "scattergl"
           }
          ],
          "scattermapbox": [
           {
            "marker": {
             "colorbar": {
              "outlinewidth": 0,
              "ticks": ""
             }
            },
            "type": "scattermapbox"
           }
          ],
          "scatterpolargl": [
           {
            "marker": {
             "colorbar": {
              "outlinewidth": 0,
              "ticks": ""
             }
            },
            "type": "scatterpolargl"
           }
          ],
          "scatterpolar": [
           {
            "marker": {
             "colorbar": {
              "outlinewidth": 0,
              "ticks": ""
             }
            },
            "type": "scatterpolar"
           }
          ],
          "scatter": [
           {
            "fillpattern": {
             "fillmode": "overlay",
             "size": 10,
             "solidity": 0.2
            },
            "type": "scatter"
           }
          ],
          "scatterternary": [
           {
            "marker": {
             "colorbar": {
              "outlinewidth": 0,
              "ticks": ""
             }
            },
            "type": "scatterternary"
           }
          ],
          "surface": [
           {
            "colorbar": {
             "outlinewidth": 0,
             "ticks": ""
            },
            "colorscale": [
             [
              0.0,
              "#0d0887"
             ],
             [
              0.1111111111111111,
              "#46039f"
             ],
             [
              0.2222222222222222,
              "#7201a8"
             ],
             [
              0.3333333333333333,
              "#9c179e"
             ],
             [
              0.4444444444444444,
              "#bd3786"
             ],
             [
              0.5555555555555556,
              "#d8576b"
             ],
             [
              0.6666666666666666,
              "#ed7953"
             ],
             [
              0.7777777777777778,
              "#fb9f3a"
             ],
             [
              0.8888888888888888,
              "#fdca26"
             ],
             [
              1.0,
              "#f0f921"
             ]
            ],
            "type": "surface"
           }
          ],
          "table": [
           {
            "cells": {
             "fill": {
              "color": "#EBF0F8"
             },
             "line": {
              "color": "white"
             }
            },
            "header": {
             "fill": {
              "color": "#C8D4E3"
             },
             "line": {
              "color": "white"
             }
            },
            "type": "table"
           }
          ]
         },
         "layout": {
          "annotationdefaults": {
           "arrowcolor": "#2a3f5f",
           "arrowhead": 0,
           "arrowwidth": 1
          },
          "autotypenumbers": "strict",
          "coloraxis": {
           "colorbar": {
            "outlinewidth": 0,
            "ticks": ""
           }
          },
          "colorscale": {
           "diverging": [
            [
             0,
             "#8e0152"
            ],
            [
             0.1,
             "#c51b7d"
            ],
            [
             0.2,
             "#de77ae"
            ],
            [
             0.3,
             "#f1b6da"
            ],
            [
             0.4,
             "#fde0ef"
            ],
            [
             0.5,
             "#f7f7f7"
            ],
            [
             0.6,
             "#e6f5d0"
            ],
            [
             0.7,
             "#b8e186"
            ],
            [
             0.8,
             "#7fbc41"
            ],
            [
             0.9,
             "#4d9221"
            ],
            [
             1,
             "#276419"
            ]
           ],
           "sequential": [
            [
             0.0,
             "#0d0887"
            ],
            [
             0.1111111111111111,
             "#46039f"
            ],
            [
             0.2222222222222222,
             "#7201a8"
            ],
            [
             0.3333333333333333,
             "#9c179e"
            ],
            [
             0.4444444444444444,
             "#bd3786"
            ],
            [
             0.5555555555555556,
             "#d8576b"
            ],
            [
             0.6666666666666666,
             "#ed7953"
            ],
            [
             0.7777777777777778,
             "#fb9f3a"
            ],
            [
             0.8888888888888888,
             "#fdca26"
            ],
            [
             1.0,
             "#f0f921"
            ]
           ],
           "sequentialminus": [
            [
             0.0,
             "#0d0887"
            ],
            [
             0.1111111111111111,
             "#46039f"
            ],
            [
             0.2222222222222222,
             "#7201a8"
            ],
            [
             0.3333333333333333,
             "#9c179e"
            ],
            [
             0.4444444444444444,
             "#bd3786"
            ],
            [
             0.5555555555555556,
             "#d8576b"
            ],
            [
             0.6666666666666666,
             "#ed7953"
            ],
            [
             0.7777777777777778,
             "#fb9f3a"
            ],
            [
             0.8888888888888888,
             "#fdca26"
            ],
            [
             1.0,
             "#f0f921"
            ]
           ]
          },
          "colorway": [
           "#636efa",
           "#EF553B",
           "#00cc96",
           "#ab63fa",
           "#FFA15A",
           "#19d3f3",
           "#FF6692",
           "#B6E880",
           "#FF97FF",
           "#FECB52"
          ],
          "font": {
           "color": "#2a3f5f"
          },
          "geo": {
           "bgcolor": "white",
           "lakecolor": "white",
           "landcolor": "#E5ECF6",
           "showlakes": true,
           "showland": true,
           "subunitcolor": "white"
          },
          "hoverlabel": {
           "align": "left"
          },
          "hovermode": "closest",
          "mapbox": {
           "style": "light"
          },
          "paper_bgcolor": "white",
          "plot_bgcolor": "#E5ECF6",
          "polar": {
           "angularaxis": {
            "gridcolor": "white",
            "linecolor": "white",
            "ticks": ""
           },
           "bgcolor": "#E5ECF6",
           "radialaxis": {
            "gridcolor": "white",
            "linecolor": "white",
            "ticks": ""
           }
          },
          "scene": {
           "xaxis": {
            "backgroundcolor": "#E5ECF6",
            "gridcolor": "white",
            "gridwidth": 2,
            "linecolor": "white",
            "showbackground": true,
            "ticks": "",
            "zerolinecolor": "white"
           },
           "yaxis": {
            "backgroundcolor": "#E5ECF6",
            "gridcolor": "white",
            "gridwidth": 2,
            "linecolor": "white",
            "showbackground": true,
            "ticks": "",
            "zerolinecolor": "white"
           },
           "zaxis": {
            "backgroundcolor": "#E5ECF6",
            "gridcolor": "white",
            "gridwidth": 2,
            "linecolor": "white",
            "showbackground": true,
            "ticks": "",
            "zerolinecolor": "white"
           }
          },
          "shapedefaults": {
           "line": {
            "color": "#2a3f5f"
           }
          },
          "ternary": {
           "aaxis": {
            "gridcolor": "white",
            "linecolor": "white",
            "ticks": ""
           },
           "baxis": {
            "gridcolor": "white",
            "linecolor": "white",
            "ticks": ""
           },
           "bgcolor": "#E5ECF6",
           "caxis": {
            "gridcolor": "white",
            "linecolor": "white",
            "ticks": ""
           }
          },
          "title": {
           "x": 0.05
          },
          "xaxis": {
           "automargin": true,
           "gridcolor": "white",
           "linecolor": "white",
           "ticks": "",
           "title": {
            "standoff": 15
           },
           "zerolinecolor": "white",
           "zerolinewidth": 2
          },
          "yaxis": {
           "automargin": true,
           "gridcolor": "white",
           "linecolor": "white",
           "ticks": "",
           "title": {
            "standoff": 15
           },
           "zerolinecolor": "white",
           "zerolinewidth": 2
          }
         }
        },
        "title": {
         "font": {
          "color": "#4D5663"
         }
        },
        "xaxis": {
         "gridcolor": "#E1E5ED",
         "showgrid": true,
         "tickfont": {
          "color": "#4D5663"
         },
         "title": {
          "font": {
           "color": "#4D5663"
          },
          "text": ""
         },
         "zerolinecolor": "#E1E5ED"
        },
        "yaxis": {
         "gridcolor": "#E1E5ED",
         "showgrid": true,
         "tickfont": {
          "color": "#4D5663"
         },
         "title": {
          "font": {
           "color": "#4D5663"
          },
          "text": ""
         },
         "zerolinecolor": "#E1E5ED"
        }
       },
       "config": {
        "showLink": true,
        "linkText": "Export to plot.ly",
        "plotlyServerURL": "https://plot.ly"
       }
      },
      "text/html": "<div>                            <div id=\"9d929e83-7d3a-420a-8ca9-d464ebac6a3d\" class=\"plotly-graph-div\" style=\"height:525px; width:100%;\"></div>            <script type=\"text/javascript\">                require([\"plotly\"], function(Plotly) {                    window.PLOTLYENV=window.PLOTLYENV || {};\n                    window.PLOTLYENV.BASE_URL='https://plot.ly';                                    if (document.getElementById(\"9d929e83-7d3a-420a-8ca9-d464ebac6a3d\")) {                    Plotly.newPlot(                        \"9d929e83-7d3a-420a-8ca9-d464ebac6a3d\",                        [{\"marker\":{\"color\":\"rgba(255, 153, 51, 0.6)\",\"line\":{\"color\":\"rgba(255, 153, 51, 1.0)\",\"width\":1}},\"name\":\"Values\",\"orientation\":\"v\",\"text\":\"\",\"x\":[\"A\",\"B\",\"C\"],\"y\":[32,43,50],\"type\":\"bar\"}],                        {\"legend\":{\"bgcolor\":\"#F5F6F9\",\"font\":{\"color\":\"#4D5663\"}},\"paper_bgcolor\":\"#F5F6F9\",\"plot_bgcolor\":\"#F5F6F9\",\"template\":{\"data\":{\"barpolar\":[{\"marker\":{\"line\":{\"color\":\"#E5ECF6\",\"width\":0.5},\"pattern\":{\"fillmode\":\"overlay\",\"size\":10,\"solidity\":0.2}},\"type\":\"barpolar\"}],\"bar\":[{\"error_x\":{\"color\":\"#2a3f5f\"},\"error_y\":{\"color\":\"#2a3f5f\"},\"marker\":{\"line\":{\"color\":\"#E5ECF6\",\"width\":0.5},\"pattern\":{\"fillmode\":\"overlay\",\"size\":10,\"solidity\":0.2}},\"type\":\"bar\"}],\"carpet\":[{\"aaxis\":{\"endlinecolor\":\"#2a3f5f\",\"gridcolor\":\"white\",\"linecolor\":\"white\",\"minorgridcolor\":\"white\",\"startlinecolor\":\"#2a3f5f\"},\"baxis\":{\"endlinecolor\":\"#2a3f5f\",\"gridcolor\":\"white\",\"linecolor\":\"white\",\"minorgridcolor\":\"white\",\"startlinecolor\":\"#2a3f5f\"},\"type\":\"carpet\"}],\"choropleth\":[{\"colorbar\":{\"outlinewidth\":0,\"ticks\":\"\"},\"type\":\"choropleth\"}],\"contourcarpet\":[{\"colorbar\":{\"outlinewidth\":0,\"ticks\":\"\"},\"type\":\"contourcarpet\"}],\"contour\":[{\"colorbar\":{\"outlinewidth\":0,\"ticks\":\"\"},\"colorscale\":[[0.0,\"#0d0887\"],[0.1111111111111111,\"#46039f\"],[0.2222222222222222,\"#7201a8\"],[0.3333333333333333,\"#9c179e\"],[0.4444444444444444,\"#bd3786\"],[0.5555555555555556,\"#d8576b\"],[0.6666666666666666,\"#ed7953\"],[0.7777777777777778,\"#fb9f3a\"],[0.8888888888888888,\"#fdca26\"],[1.0,\"#f0f921\"]],\"type\":\"contour\"}],\"heatmapgl\":[{\"colorbar\":{\"outlinewidth\":0,\"ticks\":\"\"},\"colorscale\":[[0.0,\"#0d0887\"],[0.1111111111111111,\"#46039f\"],[0.2222222222222222,\"#7201a8\"],[0.3333333333333333,\"#9c179e\"],[0.4444444444444444,\"#bd3786\"],[0.5555555555555556,\"#d8576b\"],[0.6666666666666666,\"#ed7953\"],[0.7777777777777778,\"#fb9f3a\"],[0.8888888888888888,\"#fdca26\"],[1.0,\"#f0f921\"]],\"type\":\"heatmapgl\"}],\"heatmap\":[{\"colorbar\":{\"outlinewidth\":0,\"ticks\":\"\"},\"colorscale\":[[0.0,\"#0d0887\"],[0.1111111111111111,\"#46039f\"],[0.2222222222222222,\"#7201a8\"],[0.3333333333333333,\"#9c179e\"],[0.4444444444444444,\"#bd3786\"],[0.5555555555555556,\"#d8576b\"],[0.6666666666666666,\"#ed7953\"],[0.7777777777777778,\"#fb9f3a\"],[0.8888888888888888,\"#fdca26\"],[1.0,\"#f0f921\"]],\"type\":\"heatmap\"}],\"histogram2dcontour\":[{\"colorbar\":{\"outlinewidth\":0,\"ticks\":\"\"},\"colorscale\":[[0.0,\"#0d0887\"],[0.1111111111111111,\"#46039f\"],[0.2222222222222222,\"#7201a8\"],[0.3333333333333333,\"#9c179e\"],[0.4444444444444444,\"#bd3786\"],[0.5555555555555556,\"#d8576b\"],[0.6666666666666666,\"#ed7953\"],[0.7777777777777778,\"#fb9f3a\"],[0.8888888888888888,\"#fdca26\"],[1.0,\"#f0f921\"]],\"type\":\"histogram2dcontour\"}],\"histogram2d\":[{\"colorbar\":{\"outlinewidth\":0,\"ticks\":\"\"},\"colorscale\":[[0.0,\"#0d0887\"],[0.1111111111111111,\"#46039f\"],[0.2222222222222222,\"#7201a8\"],[0.3333333333333333,\"#9c179e\"],[0.4444444444444444,\"#bd3786\"],[0.5555555555555556,\"#d8576b\"],[0.6666666666666666,\"#ed7953\"],[0.7777777777777778,\"#fb9f3a\"],[0.8888888888888888,\"#fdca26\"],[1.0,\"#f0f921\"]],\"type\":\"histogram2d\"}],\"histogram\":[{\"marker\":{\"pattern\":{\"fillmode\":\"overlay\",\"size\":10,\"solidity\":0.2}},\"type\":\"histogram\"}],\"mesh3d\":[{\"colorbar\":{\"outlinewidth\":0,\"ticks\":\"\"},\"type\":\"mesh3d\"}],\"parcoords\":[{\"line\":{\"colorbar\":{\"outlinewidth\":0,\"ticks\":\"\"}},\"type\":\"parcoords\"}],\"pie\":[{\"automargin\":true,\"type\":\"pie\"}],\"scatter3d\":[{\"line\":{\"colorbar\":{\"outlinewidth\":0,\"ticks\":\"\"}},\"marker\":{\"colorbar\":{\"outlinewidth\":0,\"ticks\":\"\"}},\"type\":\"scatter3d\"}],\"scattercarpet\":[{\"marker\":{\"colorbar\":{\"outlinewidth\":0,\"ticks\":\"\"}},\"type\":\"scattercarpet\"}],\"scattergeo\":[{\"marker\":{\"colorbar\":{\"outlinewidth\":0,\"ticks\":\"\"}},\"type\":\"scattergeo\"}],\"scattergl\":[{\"marker\":{\"colorbar\":{\"outlinewidth\":0,\"ticks\":\"\"}},\"type\":\"scattergl\"}],\"scattermapbox\":[{\"marker\":{\"colorbar\":{\"outlinewidth\":0,\"ticks\":\"\"}},\"type\":\"scattermapbox\"}],\"scatterpolargl\":[{\"marker\":{\"colorbar\":{\"outlinewidth\":0,\"ticks\":\"\"}},\"type\":\"scatterpolargl\"}],\"scatterpolar\":[{\"marker\":{\"colorbar\":{\"outlinewidth\":0,\"ticks\":\"\"}},\"type\":\"scatterpolar\"}],\"scatter\":[{\"fillpattern\":{\"fillmode\":\"overlay\",\"size\":10,\"solidity\":0.2},\"type\":\"scatter\"}],\"scatterternary\":[{\"marker\":{\"colorbar\":{\"outlinewidth\":0,\"ticks\":\"\"}},\"type\":\"scatterternary\"}],\"surface\":[{\"colorbar\":{\"outlinewidth\":0,\"ticks\":\"\"},\"colorscale\":[[0.0,\"#0d0887\"],[0.1111111111111111,\"#46039f\"],[0.2222222222222222,\"#7201a8\"],[0.3333333333333333,\"#9c179e\"],[0.4444444444444444,\"#bd3786\"],[0.5555555555555556,\"#d8576b\"],[0.6666666666666666,\"#ed7953\"],[0.7777777777777778,\"#fb9f3a\"],[0.8888888888888888,\"#fdca26\"],[1.0,\"#f0f921\"]],\"type\":\"surface\"}],\"table\":[{\"cells\":{\"fill\":{\"color\":\"#EBF0F8\"},\"line\":{\"color\":\"white\"}},\"header\":{\"fill\":{\"color\":\"#C8D4E3\"},\"line\":{\"color\":\"white\"}},\"type\":\"table\"}]},\"layout\":{\"annotationdefaults\":{\"arrowcolor\":\"#2a3f5f\",\"arrowhead\":0,\"arrowwidth\":1},\"autotypenumbers\":\"strict\",\"coloraxis\":{\"colorbar\":{\"outlinewidth\":0,\"ticks\":\"\"}},\"colorscale\":{\"diverging\":[[0,\"#8e0152\"],[0.1,\"#c51b7d\"],[0.2,\"#de77ae\"],[0.3,\"#f1b6da\"],[0.4,\"#fde0ef\"],[0.5,\"#f7f7f7\"],[0.6,\"#e6f5d0\"],[0.7,\"#b8e186\"],[0.8,\"#7fbc41\"],[0.9,\"#4d9221\"],[1,\"#276419\"]],\"sequential\":[[0.0,\"#0d0887\"],[0.1111111111111111,\"#46039f\"],[0.2222222222222222,\"#7201a8\"],[0.3333333333333333,\"#9c179e\"],[0.4444444444444444,\"#bd3786\"],[0.5555555555555556,\"#d8576b\"],[0.6666666666666666,\"#ed7953\"],[0.7777777777777778,\"#fb9f3a\"],[0.8888888888888888,\"#fdca26\"],[1.0,\"#f0f921\"]],\"sequentialminus\":[[0.0,\"#0d0887\"],[0.1111111111111111,\"#46039f\"],[0.2222222222222222,\"#7201a8\"],[0.3333333333333333,\"#9c179e\"],[0.4444444444444444,\"#bd3786\"],[0.5555555555555556,\"#d8576b\"],[0.6666666666666666,\"#ed7953\"],[0.7777777777777778,\"#fb9f3a\"],[0.8888888888888888,\"#fdca26\"],[1.0,\"#f0f921\"]]},\"colorway\":[\"#636efa\",\"#EF553B\",\"#00cc96\",\"#ab63fa\",\"#FFA15A\",\"#19d3f3\",\"#FF6692\",\"#B6E880\",\"#FF97FF\",\"#FECB52\"],\"font\":{\"color\":\"#2a3f5f\"},\"geo\":{\"bgcolor\":\"white\",\"lakecolor\":\"white\",\"landcolor\":\"#E5ECF6\",\"showlakes\":true,\"showland\":true,\"subunitcolor\":\"white\"},\"hoverlabel\":{\"align\":\"left\"},\"hovermode\":\"closest\",\"mapbox\":{\"style\":\"light\"},\"paper_bgcolor\":\"white\",\"plot_bgcolor\":\"#E5ECF6\",\"polar\":{\"angularaxis\":{\"gridcolor\":\"white\",\"linecolor\":\"white\",\"ticks\":\"\"},\"bgcolor\":\"#E5ECF6\",\"radialaxis\":{\"gridcolor\":\"white\",\"linecolor\":\"white\",\"ticks\":\"\"}},\"scene\":{\"xaxis\":{\"backgroundcolor\":\"#E5ECF6\",\"gridcolor\":\"white\",\"gridwidth\":2,\"linecolor\":\"white\",\"showbackground\":true,\"ticks\":\"\",\"zerolinecolor\":\"white\"},\"yaxis\":{\"backgroundcolor\":\"#E5ECF6\",\"gridcolor\":\"white\",\"gridwidth\":2,\"linecolor\":\"white\",\"showbackground\":true,\"ticks\":\"\",\"zerolinecolor\":\"white\"},\"zaxis\":{\"backgroundcolor\":\"#E5ECF6\",\"gridcolor\":\"white\",\"gridwidth\":2,\"linecolor\":\"white\",\"showbackground\":true,\"ticks\":\"\",\"zerolinecolor\":\"white\"}},\"shapedefaults\":{\"line\":{\"color\":\"#2a3f5f\"}},\"ternary\":{\"aaxis\":{\"gridcolor\":\"white\",\"linecolor\":\"white\",\"ticks\":\"\"},\"baxis\":{\"gridcolor\":\"white\",\"linecolor\":\"white\",\"ticks\":\"\"},\"bgcolor\":\"#E5ECF6\",\"caxis\":{\"gridcolor\":\"white\",\"linecolor\":\"white\",\"ticks\":\"\"}},\"title\":{\"x\":0.05},\"xaxis\":{\"automargin\":true,\"gridcolor\":\"white\",\"linecolor\":\"white\",\"ticks\":\"\",\"title\":{\"standoff\":15},\"zerolinecolor\":\"white\",\"zerolinewidth\":2},\"yaxis\":{\"automargin\":true,\"gridcolor\":\"white\",\"linecolor\":\"white\",\"ticks\":\"\",\"title\":{\"standoff\":15},\"zerolinecolor\":\"white\",\"zerolinewidth\":2}}},\"title\":{\"font\":{\"color\":\"#4D5663\"}},\"xaxis\":{\"gridcolor\":\"#E1E5ED\",\"showgrid\":true,\"tickfont\":{\"color\":\"#4D5663\"},\"title\":{\"font\":{\"color\":\"#4D5663\"},\"text\":\"\"},\"zerolinecolor\":\"#E1E5ED\"},\"yaxis\":{\"gridcolor\":\"#E1E5ED\",\"showgrid\":true,\"tickfont\":{\"color\":\"#4D5663\"},\"title\":{\"font\":{\"color\":\"#4D5663\"},\"text\":\"\"},\"zerolinecolor\":\"#E1E5ED\"}},                        {\"showLink\": true, \"linkText\": \"Export to plot.ly\", \"plotlyServerURL\": \"https://plot.ly\", \"responsive\": true}                    ).then(function(){\n                            \nvar gd = document.getElementById('9d929e83-7d3a-420a-8ca9-d464ebac6a3d');\nvar x = new MutationObserver(function (mutations, observer) {{\n        var display = window.getComputedStyle(gd).display;\n        if (!display || display === 'none') {{\n            console.log([gd, 'removed!']);\n            Plotly.purge(gd);\n            observer.disconnect();\n        }}\n}});\n\n// Listen for the removal of the full notebook cells\nvar notebookContainer = gd.closest('#notebook-container');\nif (notebookContainer) {{\n    x.observe(notebookContainer, {childList: true});\n}}\n\n// Listen for the clearing of the current output cell\nvar outputEl = gd.closest('.output');\nif (outputEl) {{\n    x.observe(outputEl, {childList: true});\n}}\n\n                        })                };                });            </script>        </div>"
     },
     "metadata": {},
     "output_type": "display_data"
    }
   ],
   "source": [
    "df2.iplot(kind = 'bar', x = 'Category', y = 'Values')"
   ],
   "metadata": {
    "collapsed": false,
    "ExecuteTime": {
     "end_time": "2023-07-24T20:18:03.151541Z",
     "start_time": "2023-07-24T20:18:03.054596100Z"
    }
   }
  },
  {
   "cell_type": "code",
   "execution_count": 25,
   "outputs": [
    {
     "data": {
      "application/vnd.plotly.v1+json": {
       "data": [
        {
         "marker": {
          "color": "rgba(255, 153, 51, 0.6)",
          "line": {
           "color": "rgba(255, 153, 51, 1.0)",
           "width": 1
          }
         },
         "name": "a",
         "orientation": "v",
         "text": "",
         "x": [
          0,
          1,
          2,
          3,
          4,
          5,
          6,
          7,
          8,
          9,
          10,
          11,
          12,
          13,
          14,
          15,
          16,
          17,
          18,
          19,
          20,
          21,
          22,
          23,
          24,
          25,
          26,
          27,
          28,
          29,
          30,
          31,
          32,
          33,
          34,
          35,
          36,
          37,
          38,
          39,
          40,
          41,
          42,
          43,
          44,
          45,
          46,
          47,
          48,
          49,
          50,
          51,
          52,
          53,
          54,
          55,
          56,
          57,
          58,
          59,
          60,
          61,
          62,
          63,
          64,
          65,
          66,
          67,
          68,
          69,
          70,
          71,
          72,
          73,
          74,
          75,
          76,
          77,
          78,
          79,
          80,
          81,
          82,
          83,
          84,
          85,
          86,
          87,
          88,
          89,
          90,
          91,
          92,
          93,
          94,
          95,
          96,
          97,
          98,
          99
         ],
         "y": [
          -0.47955835117961326,
          2.208528985383365,
          0.4679589633910048,
          -0.8551162799251366,
          1.2525226501637672,
          1.1319214520231038,
          0.15812173899452547,
          -0.9092022524719334,
          0.32852802693340066,
          -0.4676903591186404,
          -0.3493277560093259,
          1.1183452949278738,
          1.0373688122425815,
          -0.6453414703455302,
          0.03229546532035661,
          -0.6023069851028888,
          0.9121079412160702,
          1.0498745999585175,
          1.0919176486482147,
          0.19191573392508898,
          -0.18942501228613742,
          -0.81840921813167,
          -1.190074307457328,
          -0.9366038728507515,
          -0.856021391260267,
          -0.5615826830665962,
          0.6378853019783909,
          -0.4469043426630658,
          -0.30437064195722396,
          0.12651643036377053,
          1.5701773925381344,
          -0.9580031126548217,
          0.04328220572876478,
          0.2725744951757658,
          0.4222972618869988,
          -0.2920985389545437,
          0.16214011253466665,
          0.9540490890422607,
          1.7225130817761656,
          -0.10512997495124377,
          -0.17633757215891804,
          1.45413051536654,
          -1.0519315569532932,
          1.1387557835791358,
          1.1861446893126402,
          -1.7580736056974662,
          0.5292123753306647,
          -0.9993961605133591,
          0.4656671775443968,
          0.14081276623774347,
          1.010413912098985,
          0.2809253841822681,
          -0.17599998665524727,
          1.502021151027751,
          -0.3838066673391768,
          1.198474820214525,
          -0.44721845335323585,
          -0.14370261165006484,
          -0.8260516382539377,
          -0.6809444591047652,
          0.5975261318282004,
          -1.2671176535438404,
          -0.1451011980098431,
          -0.12245751430090913,
          -2.9311413567274505,
          0.3903574906989734,
          -0.5444592065848942,
          1.4805370340162713,
          -1.516818137400796,
          -0.36807158571373966,
          -0.16298781561838693,
          -2.180519736923615,
          1.1825365269446158,
          0.7316658802037822,
          0.011666208316439941,
          0.1859449212009432,
          -0.1704869670034482,
          0.5086650732355799,
          -0.6469319358610637,
          0.6787103800007991,
          -0.09385953422313559,
          1.1944846327409775,
          -0.1503167358094551,
          0.5904644508340733,
          0.42582199360480877,
          1.1586090185110205,
          -2.8031677845866,
          -0.6654053838251582,
          0.5205929889517756,
          0.2436354199909118,
          -0.4517153603280674,
          1.3044889871740712,
          0.3173682234696028,
          -0.7952936213078645,
          -0.9817079635434631,
          -0.10268464581201636,
          -0.49954305222214757,
          1.393297854592929,
          -0.5971193120230532,
          0.6050202842451881
         ],
         "type": "bar"
        },
        {
         "marker": {
          "color": "rgba(55, 128, 191, 0.6)",
          "line": {
           "color": "rgba(55, 128, 191, 1.0)",
           "width": 1
          }
         },
         "name": "b",
         "orientation": "v",
         "text": "",
         "x": [
          0,
          1,
          2,
          3,
          4,
          5,
          6,
          7,
          8,
          9,
          10,
          11,
          12,
          13,
          14,
          15,
          16,
          17,
          18,
          19,
          20,
          21,
          22,
          23,
          24,
          25,
          26,
          27,
          28,
          29,
          30,
          31,
          32,
          33,
          34,
          35,
          36,
          37,
          38,
          39,
          40,
          41,
          42,
          43,
          44,
          45,
          46,
          47,
          48,
          49,
          50,
          51,
          52,
          53,
          54,
          55,
          56,
          57,
          58,
          59,
          60,
          61,
          62,
          63,
          64,
          65,
          66,
          67,
          68,
          69,
          70,
          71,
          72,
          73,
          74,
          75,
          76,
          77,
          78,
          79,
          80,
          81,
          82,
          83,
          84,
          85,
          86,
          87,
          88,
          89,
          90,
          91,
          92,
          93,
          94,
          95,
          96,
          97,
          98,
          99
         ],
         "y": [
          -1.271843621889942,
          -2.9194771482654533,
          1.0778027419907863,
          -3.3880158092068644,
          0.16727993160964663,
          0.752657149357646,
          -0.23471773455215122,
          -0.5405081781298487,
          -2.718485469093071,
          1.3977621771945667,
          1.9146685524277431,
          0.5442835285398985,
          0.6920694699070546,
          1.3288616436071947,
          -1.6990132510416547,
          1.9951469381152758,
          -0.19244562711695304,
          -0.32523784472144124,
          0.6042049624099904,
          0.3423085542626006,
          -0.005723712507034573,
          0.1660708792426556,
          -0.25674707460214397,
          -0.1226287964154879,
          -1.0156204214589089,
          1.348641230156133,
          -0.8398316440997098,
          -0.8179472960460081,
          -1.4349465992015384,
          -1.499440425603565,
          1.517245350105534,
          -0.5308778868191003,
          -1.3472959906321316,
          -1.0406469384731583,
          -0.4977387501764713,
          1.275667989295518,
          1.1295127491665227,
          -1.6061400217783806,
          -0.8171279627165152,
          -0.4932602218745369,
          -0.7406254851198281,
          -0.199395177148563,
          1.0415158118454182,
          0.3306663594538813,
          0.08367312089908913,
          1.6710661620083822,
          1.6242630288549933,
          1.2441631698928521,
          -1.8427327464637056,
          -1.07841115026537,
          1.0373216854219938,
          1.243928951642244,
          0.4028753220836608,
          0.10716839746295827,
          -1.2469087711768443,
          -0.4416009998087673,
          -0.1468232659953732,
          1.9061089235064455,
          -1.4600887886691467,
          -1.3472652348843102,
          -0.19782739179798506,
          -0.564060507366717,
          0.6601245441938398,
          -1.8642517504969234,
          -0.853855547211736,
          -1.1533885564167732,
          0.5137118780719806,
          -0.8602111272746457,
          0.5283454136479098,
          -0.3927459258059125,
          -0.9987993727603097,
          0.685678981657241,
          1.0824709572760371,
          -0.8563875703591132,
          -0.08003984227964277,
          0.7121193710585941,
          1.029592809196191,
          -0.33060904117985307,
          0.597189021016201,
          1.994985364857601,
          1.5750586947586183,
          0.3732431896844038,
          0.2183568914505785,
          -1.5701190492530126,
          -0.021869881075446528,
          -1.6773201519956382,
          -0.35426462746605936,
          0.8111479806834876,
          0.17462866309631145,
          1.1811359917261979,
          -1.7985183343782079,
          -0.40976299717349285,
          -0.5766078869323968,
          -0.6599137284909488,
          -0.6276952753342473,
          1.5578846219563145,
          2.3818500342349207,
          0.5361410686341836,
          1.2528965783784614,
          0.9650038473548902
         ],
         "type": "bar"
        },
        {
         "marker": {
          "color": "rgba(50, 171, 96, 0.6)",
          "line": {
           "color": "rgba(50, 171, 96, 1.0)",
           "width": 1
          }
         },
         "name": "c",
         "orientation": "v",
         "text": "",
         "x": [
          0,
          1,
          2,
          3,
          4,
          5,
          6,
          7,
          8,
          9,
          10,
          11,
          12,
          13,
          14,
          15,
          16,
          17,
          18,
          19,
          20,
          21,
          22,
          23,
          24,
          25,
          26,
          27,
          28,
          29,
          30,
          31,
          32,
          33,
          34,
          35,
          36,
          37,
          38,
          39,
          40,
          41,
          42,
          43,
          44,
          45,
          46,
          47,
          48,
          49,
          50,
          51,
          52,
          53,
          54,
          55,
          56,
          57,
          58,
          59,
          60,
          61,
          62,
          63,
          64,
          65,
          66,
          67,
          68,
          69,
          70,
          71,
          72,
          73,
          74,
          75,
          76,
          77,
          78,
          79,
          80,
          81,
          82,
          83,
          84,
          85,
          86,
          87,
          88,
          89,
          90,
          91,
          92,
          93,
          94,
          95,
          96,
          97,
          98,
          99
         ],
         "y": [
          0.5967508133460097,
          -0.8310625436125187,
          -1.186075281486645,
          0.6839892029061092,
          0.33422412175490246,
          -0.3071702767291182,
          1.251127175522188,
          1.0003552532728113,
          -0.2377420517392665,
          -0.4697527063118209,
          0.5708434518927604,
          -1.1947960195694187,
          -0.5211675599806131,
          0.7158714474367859,
          0.8614422238381686,
          0.43157178546055064,
          1.3963028975464862,
          1.4875988076170195,
          1.7131776145581348,
          0.3262254353589354,
          -0.12552377386028193,
          -1.9022985701321304,
          -0.9120719616111599,
          1.7616033628142032,
          -0.6068907813949179,
          -0.2530358940260846,
          1.6050900725008113,
          0.8389317650171128,
          -0.002909916373665522,
          1.7231613931499312,
          0.42853309202866596,
          0.38562358104400046,
          -0.5816457524323265,
          -0.29516448723984784,
          1.1591737980493135,
          0.8823222830691667,
          -0.8290692062440366,
          -0.30242559226682475,
          0.6861308003160629,
          0.6657148569745158,
          -1.2223430945458924,
          -0.18390371544912945,
          -1.9892801418727477,
          -0.5532126817386545,
          0.14529208070328165,
          0.10530396944482108,
          0.840048514744419,
          0.3109258403053101,
          1.5149418881661314,
          0.6960741286557455,
          -0.5746995322937898,
          -1.2642798722621171,
          -0.8331997062746668,
          -0.4809489987602823,
          0.4879521164814944,
          -0.18970553016049113,
          -1.4460945647428922,
          -0.4197210086423235,
          1.0938141648237734,
          0.420365178460334,
          0.5437047780521163,
          2.1277396369110932,
          -1.4824255251585405,
          0.28014790326698,
          -1.0364764598428098,
          -1.0137255975534307,
          -0.5384372338453128,
          -1.7448174988513143,
          -1.2147675382539436,
          -0.1530862898792282,
          0.5975523415648675,
          -2.176185464348007,
          -1.2617209685508644,
          -1.3528072617329616,
          -0.6708566559177003,
          0.8891581711084477,
          0.44228700217665634,
          -0.09034793894769927,
          -0.8941483893465868,
          0.7359420705726158,
          -1.2330121017486972,
          -0.6461715862327733,
          -1.3642461847256528,
          0.24212955976515083,
          0.89404271749321,
          -0.7611759721173983,
          -0.2716282449010879,
          -0.7042685796637618,
          1.5145953401125853,
          0.36400562879899206,
          0.39065002581296315,
          -0.6182500302110686,
          0.5498062925369558,
          0.5543231928198981,
          2.3708937729816464,
          1.0361563012612234,
          -0.7183668727969715,
          -0.16522583193793056,
          0.4526790472959542,
          0.768056606707704
         ],
         "type": "bar"
        },
        {
         "marker": {
          "color": "rgba(128, 0, 128, 0.6)",
          "line": {
           "color": "rgba(128, 0, 128, 1.0)",
           "width": 1
          }
         },
         "name": "d",
         "orientation": "v",
         "text": "",
         "x": [
          0,
          1,
          2,
          3,
          4,
          5,
          6,
          7,
          8,
          9,
          10,
          11,
          12,
          13,
          14,
          15,
          16,
          17,
          18,
          19,
          20,
          21,
          22,
          23,
          24,
          25,
          26,
          27,
          28,
          29,
          30,
          31,
          32,
          33,
          34,
          35,
          36,
          37,
          38,
          39,
          40,
          41,
          42,
          43,
          44,
          45,
          46,
          47,
          48,
          49,
          50,
          51,
          52,
          53,
          54,
          55,
          56,
          57,
          58,
          59,
          60,
          61,
          62,
          63,
          64,
          65,
          66,
          67,
          68,
          69,
          70,
          71,
          72,
          73,
          74,
          75,
          76,
          77,
          78,
          79,
          80,
          81,
          82,
          83,
          84,
          85,
          86,
          87,
          88,
          89,
          90,
          91,
          92,
          93,
          94,
          95,
          96,
          97,
          98,
          99
         ],
         "y": [
          -0.21618728541816296,
          1.2525459226652675,
          -0.3358009163971509,
          -0.8184760749598912,
          -0.3772166077514853,
          -1.3861624474993819,
          0.30740710849638947,
          0.275202583116614,
          -1.3240388450379998,
          -0.7257645398150134,
          0.07045922949442338,
          -0.48676497457833123,
          -0.6106546321456783,
          0.6769412416691347,
          0.6236781296783847,
          0.8984182754961492,
          -1.208042194254034,
          -0.1659269927069783,
          -1.276342627133373,
          -0.6859594465868938,
          1.4403530242834823,
          -0.24477321840964772,
          -1.5222734448540447,
          0.14917116882110168,
          -0.13808883464957145,
          -0.4375375783247449,
          1.567233581242451,
          1.5565760717056871,
          -0.72034678773032,
          -0.7287806352140853,
          0.22302539078996866,
          -2.0335464140443538,
          0.3157987247980749,
          1.0890092593239864,
          -0.1513529934338727,
          -0.7978244768567099,
          0.3821087333243263,
          -1.6202464811848905,
          0.7034416052270022,
          -0.9791495147711768,
          -0.6134779201626838,
          -0.04851198245023964,
          1.20411303148368,
          -0.6614127908787752,
          0.452880998327755,
          1.6639408358453316,
          0.11648833214149902,
          -0.27393767537970026,
          0.06903471091473971,
          0.1385728064149139,
          -0.7919898601517497,
          -0.47316026107910164,
          -0.49955084677851036,
          -0.26818185877208356,
          -0.3619998555526626,
          0.4699353492725758,
          1.2321408411404553,
          -1.0803311292418136,
          -0.17751174030516542,
          0.6243373549201932,
          0.36301153604288394,
          -1.4370960940189874,
          0.07234991480975235,
          0.2330486893618556,
          0.04109102379992068,
          0.15324613118464026,
          0.4840986053270673,
          -0.539567382808983,
          -0.17519068744518013,
          0.8079551946384139,
          -1.850316786185605,
          -1.3192894598113594,
          -1.1041588175263408,
          -0.4795675713229714,
          -0.08268057407004485,
          0.8291394204101675,
          1.1569962886971963,
          0.17575314100585898,
          -0.7416799714059854,
          -0.07150431966075302,
          -0.6864755436356272,
          -0.26215642090932006,
          -1.0576739331278184,
          -0.6623089486977592,
          -1.7711151174399706,
          2.212812051653826,
          -0.46079828894359876,
          -1.654960509967774,
          0.06838860174176283,
          -1.2181228796557841,
          0.5446319116403866,
          0.32939615965767904,
          0.7440103538166203,
          -0.01972462708917305,
          -0.49069094822653325,
          1.020485452966454,
          -1.3701495514676203,
          0.2853686307035859,
          1.0522408642498642,
          -1.536015059559466
         ],
         "type": "bar"
        }
       ],
       "layout": {
        "legend": {
         "bgcolor": "#F5F6F9",
         "font": {
          "color": "#4D5663"
         }
        },
        "paper_bgcolor": "#F5F6F9",
        "plot_bgcolor": "#F5F6F9",
        "template": {
         "data": {
          "barpolar": [
           {
            "marker": {
             "line": {
              "color": "#E5ECF6",
              "width": 0.5
             },
             "pattern": {
              "fillmode": "overlay",
              "size": 10,
              "solidity": 0.2
             }
            },
            "type": "barpolar"
           }
          ],
          "bar": [
           {
            "error_x": {
             "color": "#2a3f5f"
            },
            "error_y": {
             "color": "#2a3f5f"
            },
            "marker": {
             "line": {
              "color": "#E5ECF6",
              "width": 0.5
             },
             "pattern": {
              "fillmode": "overlay",
              "size": 10,
              "solidity": 0.2
             }
            },
            "type": "bar"
           }
          ],
          "carpet": [
           {
            "aaxis": {
             "endlinecolor": "#2a3f5f",
             "gridcolor": "white",
             "linecolor": "white",
             "minorgridcolor": "white",
             "startlinecolor": "#2a3f5f"
            },
            "baxis": {
             "endlinecolor": "#2a3f5f",
             "gridcolor": "white",
             "linecolor": "white",
             "minorgridcolor": "white",
             "startlinecolor": "#2a3f5f"
            },
            "type": "carpet"
           }
          ],
          "choropleth": [
           {
            "colorbar": {
             "outlinewidth": 0,
             "ticks": ""
            },
            "type": "choropleth"
           }
          ],
          "contourcarpet": [
           {
            "colorbar": {
             "outlinewidth": 0,
             "ticks": ""
            },
            "type": "contourcarpet"
           }
          ],
          "contour": [
           {
            "colorbar": {
             "outlinewidth": 0,
             "ticks": ""
            },
            "colorscale": [
             [
              0.0,
              "#0d0887"
             ],
             [
              0.1111111111111111,
              "#46039f"
             ],
             [
              0.2222222222222222,
              "#7201a8"
             ],
             [
              0.3333333333333333,
              "#9c179e"
             ],
             [
              0.4444444444444444,
              "#bd3786"
             ],
             [
              0.5555555555555556,
              "#d8576b"
             ],
             [
              0.6666666666666666,
              "#ed7953"
             ],
             [
              0.7777777777777778,
              "#fb9f3a"
             ],
             [
              0.8888888888888888,
              "#fdca26"
             ],
             [
              1.0,
              "#f0f921"
             ]
            ],
            "type": "contour"
           }
          ],
          "heatmapgl": [
           {
            "colorbar": {
             "outlinewidth": 0,
             "ticks": ""
            },
            "colorscale": [
             [
              0.0,
              "#0d0887"
             ],
             [
              0.1111111111111111,
              "#46039f"
             ],
             [
              0.2222222222222222,
              "#7201a8"
             ],
             [
              0.3333333333333333,
              "#9c179e"
             ],
             [
              0.4444444444444444,
              "#bd3786"
             ],
             [
              0.5555555555555556,
              "#d8576b"
             ],
             [
              0.6666666666666666,
              "#ed7953"
             ],
             [
              0.7777777777777778,
              "#fb9f3a"
             ],
             [
              0.8888888888888888,
              "#fdca26"
             ],
             [
              1.0,
              "#f0f921"
             ]
            ],
            "type": "heatmapgl"
           }
          ],
          "heatmap": [
           {
            "colorbar": {
             "outlinewidth": 0,
             "ticks": ""
            },
            "colorscale": [
             [
              0.0,
              "#0d0887"
             ],
             [
              0.1111111111111111,
              "#46039f"
             ],
             [
              0.2222222222222222,
              "#7201a8"
             ],
             [
              0.3333333333333333,
              "#9c179e"
             ],
             [
              0.4444444444444444,
              "#bd3786"
             ],
             [
              0.5555555555555556,
              "#d8576b"
             ],
             [
              0.6666666666666666,
              "#ed7953"
             ],
             [
              0.7777777777777778,
              "#fb9f3a"
             ],
             [
              0.8888888888888888,
              "#fdca26"
             ],
             [
              1.0,
              "#f0f921"
             ]
            ],
            "type": "heatmap"
           }
          ],
          "histogram2dcontour": [
           {
            "colorbar": {
             "outlinewidth": 0,
             "ticks": ""
            },
            "colorscale": [
             [
              0.0,
              "#0d0887"
             ],
             [
              0.1111111111111111,
              "#46039f"
             ],
             [
              0.2222222222222222,
              "#7201a8"
             ],
             [
              0.3333333333333333,
              "#9c179e"
             ],
             [
              0.4444444444444444,
              "#bd3786"
             ],
             [
              0.5555555555555556,
              "#d8576b"
             ],
             [
              0.6666666666666666,
              "#ed7953"
             ],
             [
              0.7777777777777778,
              "#fb9f3a"
             ],
             [
              0.8888888888888888,
              "#fdca26"
             ],
             [
              1.0,
              "#f0f921"
             ]
            ],
            "type": "histogram2dcontour"
           }
          ],
          "histogram2d": [
           {
            "colorbar": {
             "outlinewidth": 0,
             "ticks": ""
            },
            "colorscale": [
             [
              0.0,
              "#0d0887"
             ],
             [
              0.1111111111111111,
              "#46039f"
             ],
             [
              0.2222222222222222,
              "#7201a8"
             ],
             [
              0.3333333333333333,
              "#9c179e"
             ],
             [
              0.4444444444444444,
              "#bd3786"
             ],
             [
              0.5555555555555556,
              "#d8576b"
             ],
             [
              0.6666666666666666,
              "#ed7953"
             ],
             [
              0.7777777777777778,
              "#fb9f3a"
             ],
             [
              0.8888888888888888,
              "#fdca26"
             ],
             [
              1.0,
              "#f0f921"
             ]
            ],
            "type": "histogram2d"
           }
          ],
          "histogram": [
           {
            "marker": {
             "pattern": {
              "fillmode": "overlay",
              "size": 10,
              "solidity": 0.2
             }
            },
            "type": "histogram"
           }
          ],
          "mesh3d": [
           {
            "colorbar": {
             "outlinewidth": 0,
             "ticks": ""
            },
            "type": "mesh3d"
           }
          ],
          "parcoords": [
           {
            "line": {
             "colorbar": {
              "outlinewidth": 0,
              "ticks": ""
             }
            },
            "type": "parcoords"
           }
          ],
          "pie": [
           {
            "automargin": true,
            "type": "pie"
           }
          ],
          "scatter3d": [
           {
            "line": {
             "colorbar": {
              "outlinewidth": 0,
              "ticks": ""
             }
            },
            "marker": {
             "colorbar": {
              "outlinewidth": 0,
              "ticks": ""
             }
            },
            "type": "scatter3d"
           }
          ],
          "scattercarpet": [
           {
            "marker": {
             "colorbar": {
              "outlinewidth": 0,
              "ticks": ""
             }
            },
            "type": "scattercarpet"
           }
          ],
          "scattergeo": [
           {
            "marker": {
             "colorbar": {
              "outlinewidth": 0,
              "ticks": ""
             }
            },
            "type": "scattergeo"
           }
          ],
          "scattergl": [
           {
            "marker": {
             "colorbar": {
              "outlinewidth": 0,
              "ticks": ""
             }
            },
            "type": "scattergl"
           }
          ],
          "scattermapbox": [
           {
            "marker": {
             "colorbar": {
              "outlinewidth": 0,
              "ticks": ""
             }
            },
            "type": "scattermapbox"
           }
          ],
          "scatterpolargl": [
           {
            "marker": {
             "colorbar": {
              "outlinewidth": 0,
              "ticks": ""
             }
            },
            "type": "scatterpolargl"
           }
          ],
          "scatterpolar": [
           {
            "marker": {
             "colorbar": {
              "outlinewidth": 0,
              "ticks": ""
             }
            },
            "type": "scatterpolar"
           }
          ],
          "scatter": [
           {
            "fillpattern": {
             "fillmode": "overlay",
             "size": 10,
             "solidity": 0.2
            },
            "type": "scatter"
           }
          ],
          "scatterternary": [
           {
            "marker": {
             "colorbar": {
              "outlinewidth": 0,
              "ticks": ""
             }
            },
            "type": "scatterternary"
           }
          ],
          "surface": [
           {
            "colorbar": {
             "outlinewidth": 0,
             "ticks": ""
            },
            "colorscale": [
             [
              0.0,
              "#0d0887"
             ],
             [
              0.1111111111111111,
              "#46039f"
             ],
             [
              0.2222222222222222,
              "#7201a8"
             ],
             [
              0.3333333333333333,
              "#9c179e"
             ],
             [
              0.4444444444444444,
              "#bd3786"
             ],
             [
              0.5555555555555556,
              "#d8576b"
             ],
             [
              0.6666666666666666,
              "#ed7953"
             ],
             [
              0.7777777777777778,
              "#fb9f3a"
             ],
             [
              0.8888888888888888,
              "#fdca26"
             ],
             [
              1.0,
              "#f0f921"
             ]
            ],
            "type": "surface"
           }
          ],
          "table": [
           {
            "cells": {
             "fill": {
              "color": "#EBF0F8"
             },
             "line": {
              "color": "white"
             }
            },
            "header": {
             "fill": {
              "color": "#C8D4E3"
             },
             "line": {
              "color": "white"
             }
            },
            "type": "table"
           }
          ]
         },
         "layout": {
          "annotationdefaults": {
           "arrowcolor": "#2a3f5f",
           "arrowhead": 0,
           "arrowwidth": 1
          },
          "autotypenumbers": "strict",
          "coloraxis": {
           "colorbar": {
            "outlinewidth": 0,
            "ticks": ""
           }
          },
          "colorscale": {
           "diverging": [
            [
             0,
             "#8e0152"
            ],
            [
             0.1,
             "#c51b7d"
            ],
            [
             0.2,
             "#de77ae"
            ],
            [
             0.3,
             "#f1b6da"
            ],
            [
             0.4,
             "#fde0ef"
            ],
            [
             0.5,
             "#f7f7f7"
            ],
            [
             0.6,
             "#e6f5d0"
            ],
            [
             0.7,
             "#b8e186"
            ],
            [
             0.8,
             "#7fbc41"
            ],
            [
             0.9,
             "#4d9221"
            ],
            [
             1,
             "#276419"
            ]
           ],
           "sequential": [
            [
             0.0,
             "#0d0887"
            ],
            [
             0.1111111111111111,
             "#46039f"
            ],
            [
             0.2222222222222222,
             "#7201a8"
            ],
            [
             0.3333333333333333,
             "#9c179e"
            ],
            [
             0.4444444444444444,
             "#bd3786"
            ],
            [
             0.5555555555555556,
             "#d8576b"
            ],
            [
             0.6666666666666666,
             "#ed7953"
            ],
            [
             0.7777777777777778,
             "#fb9f3a"
            ],
            [
             0.8888888888888888,
             "#fdca26"
            ],
            [
             1.0,
             "#f0f921"
            ]
           ],
           "sequentialminus": [
            [
             0.0,
             "#0d0887"
            ],
            [
             0.1111111111111111,
             "#46039f"
            ],
            [
             0.2222222222222222,
             "#7201a8"
            ],
            [
             0.3333333333333333,
             "#9c179e"
            ],
            [
             0.4444444444444444,
             "#bd3786"
            ],
            [
             0.5555555555555556,
             "#d8576b"
            ],
            [
             0.6666666666666666,
             "#ed7953"
            ],
            [
             0.7777777777777778,
             "#fb9f3a"
            ],
            [
             0.8888888888888888,
             "#fdca26"
            ],
            [
             1.0,
             "#f0f921"
            ]
           ]
          },
          "colorway": [
           "#636efa",
           "#EF553B",
           "#00cc96",
           "#ab63fa",
           "#FFA15A",
           "#19d3f3",
           "#FF6692",
           "#B6E880",
           "#FF97FF",
           "#FECB52"
          ],
          "font": {
           "color": "#2a3f5f"
          },
          "geo": {
           "bgcolor": "white",
           "lakecolor": "white",
           "landcolor": "#E5ECF6",
           "showlakes": true,
           "showland": true,
           "subunitcolor": "white"
          },
          "hoverlabel": {
           "align": "left"
          },
          "hovermode": "closest",
          "mapbox": {
           "style": "light"
          },
          "paper_bgcolor": "white",
          "plot_bgcolor": "#E5ECF6",
          "polar": {
           "angularaxis": {
            "gridcolor": "white",
            "linecolor": "white",
            "ticks": ""
           },
           "bgcolor": "#E5ECF6",
           "radialaxis": {
            "gridcolor": "white",
            "linecolor": "white",
            "ticks": ""
           }
          },
          "scene": {
           "xaxis": {
            "backgroundcolor": "#E5ECF6",
            "gridcolor": "white",
            "gridwidth": 2,
            "linecolor": "white",
            "showbackground": true,
            "ticks": "",
            "zerolinecolor": "white"
           },
           "yaxis": {
            "backgroundcolor": "#E5ECF6",
            "gridcolor": "white",
            "gridwidth": 2,
            "linecolor": "white",
            "showbackground": true,
            "ticks": "",
            "zerolinecolor": "white"
           },
           "zaxis": {
            "backgroundcolor": "#E5ECF6",
            "gridcolor": "white",
            "gridwidth": 2,
            "linecolor": "white",
            "showbackground": true,
            "ticks": "",
            "zerolinecolor": "white"
           }
          },
          "shapedefaults": {
           "line": {
            "color": "#2a3f5f"
           }
          },
          "ternary": {
           "aaxis": {
            "gridcolor": "white",
            "linecolor": "white",
            "ticks": ""
           },
           "baxis": {
            "gridcolor": "white",
            "linecolor": "white",
            "ticks": ""
           },
           "bgcolor": "#E5ECF6",
           "caxis": {
            "gridcolor": "white",
            "linecolor": "white",
            "ticks": ""
           }
          },
          "title": {
           "x": 0.05
          },
          "xaxis": {
           "automargin": true,
           "gridcolor": "white",
           "linecolor": "white",
           "ticks": "",
           "title": {
            "standoff": 15
           },
           "zerolinecolor": "white",
           "zerolinewidth": 2
          },
          "yaxis": {
           "automargin": true,
           "gridcolor": "white",
           "linecolor": "white",
           "ticks": "",
           "title": {
            "standoff": 15
           },
           "zerolinecolor": "white",
           "zerolinewidth": 2
          }
         }
        },
        "title": {
         "font": {
          "color": "#4D5663"
         }
        },
        "xaxis": {
         "gridcolor": "#E1E5ED",
         "showgrid": true,
         "tickfont": {
          "color": "#4D5663"
         },
         "title": {
          "font": {
           "color": "#4D5663"
          },
          "text": ""
         },
         "zerolinecolor": "#E1E5ED"
        },
        "yaxis": {
         "gridcolor": "#E1E5ED",
         "showgrid": true,
         "tickfont": {
          "color": "#4D5663"
         },
         "title": {
          "font": {
           "color": "#4D5663"
          },
          "text": ""
         },
         "zerolinecolor": "#E1E5ED"
        }
       },
       "config": {
        "showLink": true,
        "linkText": "Export to plot.ly",
        "plotlyServerURL": "https://plot.ly"
       }
      },
      "text/html": "<div>                            <div id=\"100ba439-7236-4143-b9c4-6e16c2191d01\" class=\"plotly-graph-div\" style=\"height:525px; width:100%;\"></div>            <script type=\"text/javascript\">                require([\"plotly\"], function(Plotly) {                    window.PLOTLYENV=window.PLOTLYENV || {};\n                    window.PLOTLYENV.BASE_URL='https://plot.ly';                                    if (document.getElementById(\"100ba439-7236-4143-b9c4-6e16c2191d01\")) {                    Plotly.newPlot(                        \"100ba439-7236-4143-b9c4-6e16c2191d01\",                        [{\"marker\":{\"color\":\"rgba(255, 153, 51, 0.6)\",\"line\":{\"color\":\"rgba(255, 153, 51, 1.0)\",\"width\":1}},\"name\":\"a\",\"orientation\":\"v\",\"text\":\"\",\"x\":[0,1,2,3,4,5,6,7,8,9,10,11,12,13,14,15,16,17,18,19,20,21,22,23,24,25,26,27,28,29,30,31,32,33,34,35,36,37,38,39,40,41,42,43,44,45,46,47,48,49,50,51,52,53,54,55,56,57,58,59,60,61,62,63,64,65,66,67,68,69,70,71,72,73,74,75,76,77,78,79,80,81,82,83,84,85,86,87,88,89,90,91,92,93,94,95,96,97,98,99],\"y\":[-0.47955835117961326,2.208528985383365,0.4679589633910048,-0.8551162799251366,1.2525226501637672,1.1319214520231038,0.15812173899452547,-0.9092022524719334,0.32852802693340066,-0.4676903591186404,-0.3493277560093259,1.1183452949278738,1.0373688122425815,-0.6453414703455302,0.03229546532035661,-0.6023069851028888,0.9121079412160702,1.0498745999585175,1.0919176486482147,0.19191573392508898,-0.18942501228613742,-0.81840921813167,-1.190074307457328,-0.9366038728507515,-0.856021391260267,-0.5615826830665962,0.6378853019783909,-0.4469043426630658,-0.30437064195722396,0.12651643036377053,1.5701773925381344,-0.9580031126548217,0.04328220572876478,0.2725744951757658,0.4222972618869988,-0.2920985389545437,0.16214011253466665,0.9540490890422607,1.7225130817761656,-0.10512997495124377,-0.17633757215891804,1.45413051536654,-1.0519315569532932,1.1387557835791358,1.1861446893126402,-1.7580736056974662,0.5292123753306647,-0.9993961605133591,0.4656671775443968,0.14081276623774347,1.010413912098985,0.2809253841822681,-0.17599998665524727,1.502021151027751,-0.3838066673391768,1.198474820214525,-0.44721845335323585,-0.14370261165006484,-0.8260516382539377,-0.6809444591047652,0.5975261318282004,-1.2671176535438404,-0.1451011980098431,-0.12245751430090913,-2.9311413567274505,0.3903574906989734,-0.5444592065848942,1.4805370340162713,-1.516818137400796,-0.36807158571373966,-0.16298781561838693,-2.180519736923615,1.1825365269446158,0.7316658802037822,0.011666208316439941,0.1859449212009432,-0.1704869670034482,0.5086650732355799,-0.6469319358610637,0.6787103800007991,-0.09385953422313559,1.1944846327409775,-0.1503167358094551,0.5904644508340733,0.42582199360480877,1.1586090185110205,-2.8031677845866,-0.6654053838251582,0.5205929889517756,0.2436354199909118,-0.4517153603280674,1.3044889871740712,0.3173682234696028,-0.7952936213078645,-0.9817079635434631,-0.10268464581201636,-0.49954305222214757,1.393297854592929,-0.5971193120230532,0.6050202842451881],\"type\":\"bar\"},{\"marker\":{\"color\":\"rgba(55, 128, 191, 0.6)\",\"line\":{\"color\":\"rgba(55, 128, 191, 1.0)\",\"width\":1}},\"name\":\"b\",\"orientation\":\"v\",\"text\":\"\",\"x\":[0,1,2,3,4,5,6,7,8,9,10,11,12,13,14,15,16,17,18,19,20,21,22,23,24,25,26,27,28,29,30,31,32,33,34,35,36,37,38,39,40,41,42,43,44,45,46,47,48,49,50,51,52,53,54,55,56,57,58,59,60,61,62,63,64,65,66,67,68,69,70,71,72,73,74,75,76,77,78,79,80,81,82,83,84,85,86,87,88,89,90,91,92,93,94,95,96,97,98,99],\"y\":[-1.271843621889942,-2.9194771482654533,1.0778027419907863,-3.3880158092068644,0.16727993160964663,0.752657149357646,-0.23471773455215122,-0.5405081781298487,-2.718485469093071,1.3977621771945667,1.9146685524277431,0.5442835285398985,0.6920694699070546,1.3288616436071947,-1.6990132510416547,1.9951469381152758,-0.19244562711695304,-0.32523784472144124,0.6042049624099904,0.3423085542626006,-0.005723712507034573,0.1660708792426556,-0.25674707460214397,-0.1226287964154879,-1.0156204214589089,1.348641230156133,-0.8398316440997098,-0.8179472960460081,-1.4349465992015384,-1.499440425603565,1.517245350105534,-0.5308778868191003,-1.3472959906321316,-1.0406469384731583,-0.4977387501764713,1.275667989295518,1.1295127491665227,-1.6061400217783806,-0.8171279627165152,-0.4932602218745369,-0.7406254851198281,-0.199395177148563,1.0415158118454182,0.3306663594538813,0.08367312089908913,1.6710661620083822,1.6242630288549933,1.2441631698928521,-1.8427327464637056,-1.07841115026537,1.0373216854219938,1.243928951642244,0.4028753220836608,0.10716839746295827,-1.2469087711768443,-0.4416009998087673,-0.1468232659953732,1.9061089235064455,-1.4600887886691467,-1.3472652348843102,-0.19782739179798506,-0.564060507366717,0.6601245441938398,-1.8642517504969234,-0.853855547211736,-1.1533885564167732,0.5137118780719806,-0.8602111272746457,0.5283454136479098,-0.3927459258059125,-0.9987993727603097,0.685678981657241,1.0824709572760371,-0.8563875703591132,-0.08003984227964277,0.7121193710585941,1.029592809196191,-0.33060904117985307,0.597189021016201,1.994985364857601,1.5750586947586183,0.3732431896844038,0.2183568914505785,-1.5701190492530126,-0.021869881075446528,-1.6773201519956382,-0.35426462746605936,0.8111479806834876,0.17462866309631145,1.1811359917261979,-1.7985183343782079,-0.40976299717349285,-0.5766078869323968,-0.6599137284909488,-0.6276952753342473,1.5578846219563145,2.3818500342349207,0.5361410686341836,1.2528965783784614,0.9650038473548902],\"type\":\"bar\"},{\"marker\":{\"color\":\"rgba(50, 171, 96, 0.6)\",\"line\":{\"color\":\"rgba(50, 171, 96, 1.0)\",\"width\":1}},\"name\":\"c\",\"orientation\":\"v\",\"text\":\"\",\"x\":[0,1,2,3,4,5,6,7,8,9,10,11,12,13,14,15,16,17,18,19,20,21,22,23,24,25,26,27,28,29,30,31,32,33,34,35,36,37,38,39,40,41,42,43,44,45,46,47,48,49,50,51,52,53,54,55,56,57,58,59,60,61,62,63,64,65,66,67,68,69,70,71,72,73,74,75,76,77,78,79,80,81,82,83,84,85,86,87,88,89,90,91,92,93,94,95,96,97,98,99],\"y\":[0.5967508133460097,-0.8310625436125187,-1.186075281486645,0.6839892029061092,0.33422412175490246,-0.3071702767291182,1.251127175522188,1.0003552532728113,-0.2377420517392665,-0.4697527063118209,0.5708434518927604,-1.1947960195694187,-0.5211675599806131,0.7158714474367859,0.8614422238381686,0.43157178546055064,1.3963028975464862,1.4875988076170195,1.7131776145581348,0.3262254353589354,-0.12552377386028193,-1.9022985701321304,-0.9120719616111599,1.7616033628142032,-0.6068907813949179,-0.2530358940260846,1.6050900725008113,0.8389317650171128,-0.002909916373665522,1.7231613931499312,0.42853309202866596,0.38562358104400046,-0.5816457524323265,-0.29516448723984784,1.1591737980493135,0.8823222830691667,-0.8290692062440366,-0.30242559226682475,0.6861308003160629,0.6657148569745158,-1.2223430945458924,-0.18390371544912945,-1.9892801418727477,-0.5532126817386545,0.14529208070328165,0.10530396944482108,0.840048514744419,0.3109258403053101,1.5149418881661314,0.6960741286557455,-0.5746995322937898,-1.2642798722621171,-0.8331997062746668,-0.4809489987602823,0.4879521164814944,-0.18970553016049113,-1.4460945647428922,-0.4197210086423235,1.0938141648237734,0.420365178460334,0.5437047780521163,2.1277396369110932,-1.4824255251585405,0.28014790326698,-1.0364764598428098,-1.0137255975534307,-0.5384372338453128,-1.7448174988513143,-1.2147675382539436,-0.1530862898792282,0.5975523415648675,-2.176185464348007,-1.2617209685508644,-1.3528072617329616,-0.6708566559177003,0.8891581711084477,0.44228700217665634,-0.09034793894769927,-0.8941483893465868,0.7359420705726158,-1.2330121017486972,-0.6461715862327733,-1.3642461847256528,0.24212955976515083,0.89404271749321,-0.7611759721173983,-0.2716282449010879,-0.7042685796637618,1.5145953401125853,0.36400562879899206,0.39065002581296315,-0.6182500302110686,0.5498062925369558,0.5543231928198981,2.3708937729816464,1.0361563012612234,-0.7183668727969715,-0.16522583193793056,0.4526790472959542,0.768056606707704],\"type\":\"bar\"},{\"marker\":{\"color\":\"rgba(128, 0, 128, 0.6)\",\"line\":{\"color\":\"rgba(128, 0, 128, 1.0)\",\"width\":1}},\"name\":\"d\",\"orientation\":\"v\",\"text\":\"\",\"x\":[0,1,2,3,4,5,6,7,8,9,10,11,12,13,14,15,16,17,18,19,20,21,22,23,24,25,26,27,28,29,30,31,32,33,34,35,36,37,38,39,40,41,42,43,44,45,46,47,48,49,50,51,52,53,54,55,56,57,58,59,60,61,62,63,64,65,66,67,68,69,70,71,72,73,74,75,76,77,78,79,80,81,82,83,84,85,86,87,88,89,90,91,92,93,94,95,96,97,98,99],\"y\":[-0.21618728541816296,1.2525459226652675,-0.3358009163971509,-0.8184760749598912,-0.3772166077514853,-1.3861624474993819,0.30740710849638947,0.275202583116614,-1.3240388450379998,-0.7257645398150134,0.07045922949442338,-0.48676497457833123,-0.6106546321456783,0.6769412416691347,0.6236781296783847,0.8984182754961492,-1.208042194254034,-0.1659269927069783,-1.276342627133373,-0.6859594465868938,1.4403530242834823,-0.24477321840964772,-1.5222734448540447,0.14917116882110168,-0.13808883464957145,-0.4375375783247449,1.567233581242451,1.5565760717056871,-0.72034678773032,-0.7287806352140853,0.22302539078996866,-2.0335464140443538,0.3157987247980749,1.0890092593239864,-0.1513529934338727,-0.7978244768567099,0.3821087333243263,-1.6202464811848905,0.7034416052270022,-0.9791495147711768,-0.6134779201626838,-0.04851198245023964,1.20411303148368,-0.6614127908787752,0.452880998327755,1.6639408358453316,0.11648833214149902,-0.27393767537970026,0.06903471091473971,0.1385728064149139,-0.7919898601517497,-0.47316026107910164,-0.49955084677851036,-0.26818185877208356,-0.3619998555526626,0.4699353492725758,1.2321408411404553,-1.0803311292418136,-0.17751174030516542,0.6243373549201932,0.36301153604288394,-1.4370960940189874,0.07234991480975235,0.2330486893618556,0.04109102379992068,0.15324613118464026,0.4840986053270673,-0.539567382808983,-0.17519068744518013,0.8079551946384139,-1.850316786185605,-1.3192894598113594,-1.1041588175263408,-0.4795675713229714,-0.08268057407004485,0.8291394204101675,1.1569962886971963,0.17575314100585898,-0.7416799714059854,-0.07150431966075302,-0.6864755436356272,-0.26215642090932006,-1.0576739331278184,-0.6623089486977592,-1.7711151174399706,2.212812051653826,-0.46079828894359876,-1.654960509967774,0.06838860174176283,-1.2181228796557841,0.5446319116403866,0.32939615965767904,0.7440103538166203,-0.01972462708917305,-0.49069094822653325,1.020485452966454,-1.3701495514676203,0.2853686307035859,1.0522408642498642,-1.536015059559466],\"type\":\"bar\"}],                        {\"legend\":{\"bgcolor\":\"#F5F6F9\",\"font\":{\"color\":\"#4D5663\"}},\"paper_bgcolor\":\"#F5F6F9\",\"plot_bgcolor\":\"#F5F6F9\",\"template\":{\"data\":{\"barpolar\":[{\"marker\":{\"line\":{\"color\":\"#E5ECF6\",\"width\":0.5},\"pattern\":{\"fillmode\":\"overlay\",\"size\":10,\"solidity\":0.2}},\"type\":\"barpolar\"}],\"bar\":[{\"error_x\":{\"color\":\"#2a3f5f\"},\"error_y\":{\"color\":\"#2a3f5f\"},\"marker\":{\"line\":{\"color\":\"#E5ECF6\",\"width\":0.5},\"pattern\":{\"fillmode\":\"overlay\",\"size\":10,\"solidity\":0.2}},\"type\":\"bar\"}],\"carpet\":[{\"aaxis\":{\"endlinecolor\":\"#2a3f5f\",\"gridcolor\":\"white\",\"linecolor\":\"white\",\"minorgridcolor\":\"white\",\"startlinecolor\":\"#2a3f5f\"},\"baxis\":{\"endlinecolor\":\"#2a3f5f\",\"gridcolor\":\"white\",\"linecolor\":\"white\",\"minorgridcolor\":\"white\",\"startlinecolor\":\"#2a3f5f\"},\"type\":\"carpet\"}],\"choropleth\":[{\"colorbar\":{\"outlinewidth\":0,\"ticks\":\"\"},\"type\":\"choropleth\"}],\"contourcarpet\":[{\"colorbar\":{\"outlinewidth\":0,\"ticks\":\"\"},\"type\":\"contourcarpet\"}],\"contour\":[{\"colorbar\":{\"outlinewidth\":0,\"ticks\":\"\"},\"colorscale\":[[0.0,\"#0d0887\"],[0.1111111111111111,\"#46039f\"],[0.2222222222222222,\"#7201a8\"],[0.3333333333333333,\"#9c179e\"],[0.4444444444444444,\"#bd3786\"],[0.5555555555555556,\"#d8576b\"],[0.6666666666666666,\"#ed7953\"],[0.7777777777777778,\"#fb9f3a\"],[0.8888888888888888,\"#fdca26\"],[1.0,\"#f0f921\"]],\"type\":\"contour\"}],\"heatmapgl\":[{\"colorbar\":{\"outlinewidth\":0,\"ticks\":\"\"},\"colorscale\":[[0.0,\"#0d0887\"],[0.1111111111111111,\"#46039f\"],[0.2222222222222222,\"#7201a8\"],[0.3333333333333333,\"#9c179e\"],[0.4444444444444444,\"#bd3786\"],[0.5555555555555556,\"#d8576b\"],[0.6666666666666666,\"#ed7953\"],[0.7777777777777778,\"#fb9f3a\"],[0.8888888888888888,\"#fdca26\"],[1.0,\"#f0f921\"]],\"type\":\"heatmapgl\"}],\"heatmap\":[{\"colorbar\":{\"outlinewidth\":0,\"ticks\":\"\"},\"colorscale\":[[0.0,\"#0d0887\"],[0.1111111111111111,\"#46039f\"],[0.2222222222222222,\"#7201a8\"],[0.3333333333333333,\"#9c179e\"],[0.4444444444444444,\"#bd3786\"],[0.5555555555555556,\"#d8576b\"],[0.6666666666666666,\"#ed7953\"],[0.7777777777777778,\"#fb9f3a\"],[0.8888888888888888,\"#fdca26\"],[1.0,\"#f0f921\"]],\"type\":\"heatmap\"}],\"histogram2dcontour\":[{\"colorbar\":{\"outlinewidth\":0,\"ticks\":\"\"},\"colorscale\":[[0.0,\"#0d0887\"],[0.1111111111111111,\"#46039f\"],[0.2222222222222222,\"#7201a8\"],[0.3333333333333333,\"#9c179e\"],[0.4444444444444444,\"#bd3786\"],[0.5555555555555556,\"#d8576b\"],[0.6666666666666666,\"#ed7953\"],[0.7777777777777778,\"#fb9f3a\"],[0.8888888888888888,\"#fdca26\"],[1.0,\"#f0f921\"]],\"type\":\"histogram2dcontour\"}],\"histogram2d\":[{\"colorbar\":{\"outlinewidth\":0,\"ticks\":\"\"},\"colorscale\":[[0.0,\"#0d0887\"],[0.1111111111111111,\"#46039f\"],[0.2222222222222222,\"#7201a8\"],[0.3333333333333333,\"#9c179e\"],[0.4444444444444444,\"#bd3786\"],[0.5555555555555556,\"#d8576b\"],[0.6666666666666666,\"#ed7953\"],[0.7777777777777778,\"#fb9f3a\"],[0.8888888888888888,\"#fdca26\"],[1.0,\"#f0f921\"]],\"type\":\"histogram2d\"}],\"histogram\":[{\"marker\":{\"pattern\":{\"fillmode\":\"overlay\",\"size\":10,\"solidity\":0.2}},\"type\":\"histogram\"}],\"mesh3d\":[{\"colorbar\":{\"outlinewidth\":0,\"ticks\":\"\"},\"type\":\"mesh3d\"}],\"parcoords\":[{\"line\":{\"colorbar\":{\"outlinewidth\":0,\"ticks\":\"\"}},\"type\":\"parcoords\"}],\"pie\":[{\"automargin\":true,\"type\":\"pie\"}],\"scatter3d\":[{\"line\":{\"colorbar\":{\"outlinewidth\":0,\"ticks\":\"\"}},\"marker\":{\"colorbar\":{\"outlinewidth\":0,\"ticks\":\"\"}},\"type\":\"scatter3d\"}],\"scattercarpet\":[{\"marker\":{\"colorbar\":{\"outlinewidth\":0,\"ticks\":\"\"}},\"type\":\"scattercarpet\"}],\"scattergeo\":[{\"marker\":{\"colorbar\":{\"outlinewidth\":0,\"ticks\":\"\"}},\"type\":\"scattergeo\"}],\"scattergl\":[{\"marker\":{\"colorbar\":{\"outlinewidth\":0,\"ticks\":\"\"}},\"type\":\"scattergl\"}],\"scattermapbox\":[{\"marker\":{\"colorbar\":{\"outlinewidth\":0,\"ticks\":\"\"}},\"type\":\"scattermapbox\"}],\"scatterpolargl\":[{\"marker\":{\"colorbar\":{\"outlinewidth\":0,\"ticks\":\"\"}},\"type\":\"scatterpolargl\"}],\"scatterpolar\":[{\"marker\":{\"colorbar\":{\"outlinewidth\":0,\"ticks\":\"\"}},\"type\":\"scatterpolar\"}],\"scatter\":[{\"fillpattern\":{\"fillmode\":\"overlay\",\"size\":10,\"solidity\":0.2},\"type\":\"scatter\"}],\"scatterternary\":[{\"marker\":{\"colorbar\":{\"outlinewidth\":0,\"ticks\":\"\"}},\"type\":\"scatterternary\"}],\"surface\":[{\"colorbar\":{\"outlinewidth\":0,\"ticks\":\"\"},\"colorscale\":[[0.0,\"#0d0887\"],[0.1111111111111111,\"#46039f\"],[0.2222222222222222,\"#7201a8\"],[0.3333333333333333,\"#9c179e\"],[0.4444444444444444,\"#bd3786\"],[0.5555555555555556,\"#d8576b\"],[0.6666666666666666,\"#ed7953\"],[0.7777777777777778,\"#fb9f3a\"],[0.8888888888888888,\"#fdca26\"],[1.0,\"#f0f921\"]],\"type\":\"surface\"}],\"table\":[{\"cells\":{\"fill\":{\"color\":\"#EBF0F8\"},\"line\":{\"color\":\"white\"}},\"header\":{\"fill\":{\"color\":\"#C8D4E3\"},\"line\":{\"color\":\"white\"}},\"type\":\"table\"}]},\"layout\":{\"annotationdefaults\":{\"arrowcolor\":\"#2a3f5f\",\"arrowhead\":0,\"arrowwidth\":1},\"autotypenumbers\":\"strict\",\"coloraxis\":{\"colorbar\":{\"outlinewidth\":0,\"ticks\":\"\"}},\"colorscale\":{\"diverging\":[[0,\"#8e0152\"],[0.1,\"#c51b7d\"],[0.2,\"#de77ae\"],[0.3,\"#f1b6da\"],[0.4,\"#fde0ef\"],[0.5,\"#f7f7f7\"],[0.6,\"#e6f5d0\"],[0.7,\"#b8e186\"],[0.8,\"#7fbc41\"],[0.9,\"#4d9221\"],[1,\"#276419\"]],\"sequential\":[[0.0,\"#0d0887\"],[0.1111111111111111,\"#46039f\"],[0.2222222222222222,\"#7201a8\"],[0.3333333333333333,\"#9c179e\"],[0.4444444444444444,\"#bd3786\"],[0.5555555555555556,\"#d8576b\"],[0.6666666666666666,\"#ed7953\"],[0.7777777777777778,\"#fb9f3a\"],[0.8888888888888888,\"#fdca26\"],[1.0,\"#f0f921\"]],\"sequentialminus\":[[0.0,\"#0d0887\"],[0.1111111111111111,\"#46039f\"],[0.2222222222222222,\"#7201a8\"],[0.3333333333333333,\"#9c179e\"],[0.4444444444444444,\"#bd3786\"],[0.5555555555555556,\"#d8576b\"],[0.6666666666666666,\"#ed7953\"],[0.7777777777777778,\"#fb9f3a\"],[0.8888888888888888,\"#fdca26\"],[1.0,\"#f0f921\"]]},\"colorway\":[\"#636efa\",\"#EF553B\",\"#00cc96\",\"#ab63fa\",\"#FFA15A\",\"#19d3f3\",\"#FF6692\",\"#B6E880\",\"#FF97FF\",\"#FECB52\"],\"font\":{\"color\":\"#2a3f5f\"},\"geo\":{\"bgcolor\":\"white\",\"lakecolor\":\"white\",\"landcolor\":\"#E5ECF6\",\"showlakes\":true,\"showland\":true,\"subunitcolor\":\"white\"},\"hoverlabel\":{\"align\":\"left\"},\"hovermode\":\"closest\",\"mapbox\":{\"style\":\"light\"},\"paper_bgcolor\":\"white\",\"plot_bgcolor\":\"#E5ECF6\",\"polar\":{\"angularaxis\":{\"gridcolor\":\"white\",\"linecolor\":\"white\",\"ticks\":\"\"},\"bgcolor\":\"#E5ECF6\",\"radialaxis\":{\"gridcolor\":\"white\",\"linecolor\":\"white\",\"ticks\":\"\"}},\"scene\":{\"xaxis\":{\"backgroundcolor\":\"#E5ECF6\",\"gridcolor\":\"white\",\"gridwidth\":2,\"linecolor\":\"white\",\"showbackground\":true,\"ticks\":\"\",\"zerolinecolor\":\"white\"},\"yaxis\":{\"backgroundcolor\":\"#E5ECF6\",\"gridcolor\":\"white\",\"gridwidth\":2,\"linecolor\":\"white\",\"showbackground\":true,\"ticks\":\"\",\"zerolinecolor\":\"white\"},\"zaxis\":{\"backgroundcolor\":\"#E5ECF6\",\"gridcolor\":\"white\",\"gridwidth\":2,\"linecolor\":\"white\",\"showbackground\":true,\"ticks\":\"\",\"zerolinecolor\":\"white\"}},\"shapedefaults\":{\"line\":{\"color\":\"#2a3f5f\"}},\"ternary\":{\"aaxis\":{\"gridcolor\":\"white\",\"linecolor\":\"white\",\"ticks\":\"\"},\"baxis\":{\"gridcolor\":\"white\",\"linecolor\":\"white\",\"ticks\":\"\"},\"bgcolor\":\"#E5ECF6\",\"caxis\":{\"gridcolor\":\"white\",\"linecolor\":\"white\",\"ticks\":\"\"}},\"title\":{\"x\":0.05},\"xaxis\":{\"automargin\":true,\"gridcolor\":\"white\",\"linecolor\":\"white\",\"ticks\":\"\",\"title\":{\"standoff\":15},\"zerolinecolor\":\"white\",\"zerolinewidth\":2},\"yaxis\":{\"automargin\":true,\"gridcolor\":\"white\",\"linecolor\":\"white\",\"ticks\":\"\",\"title\":{\"standoff\":15},\"zerolinecolor\":\"white\",\"zerolinewidth\":2}}},\"title\":{\"font\":{\"color\":\"#4D5663\"}},\"xaxis\":{\"gridcolor\":\"#E1E5ED\",\"showgrid\":true,\"tickfont\":{\"color\":\"#4D5663\"},\"title\":{\"font\":{\"color\":\"#4D5663\"},\"text\":\"\"},\"zerolinecolor\":\"#E1E5ED\"},\"yaxis\":{\"gridcolor\":\"#E1E5ED\",\"showgrid\":true,\"tickfont\":{\"color\":\"#4D5663\"},\"title\":{\"font\":{\"color\":\"#4D5663\"},\"text\":\"\"},\"zerolinecolor\":\"#E1E5ED\"}},                        {\"showLink\": true, \"linkText\": \"Export to plot.ly\", \"plotlyServerURL\": \"https://plot.ly\", \"responsive\": true}                    ).then(function(){\n                            \nvar gd = document.getElementById('100ba439-7236-4143-b9c4-6e16c2191d01');\nvar x = new MutationObserver(function (mutations, observer) {{\n        var display = window.getComputedStyle(gd).display;\n        if (!display || display === 'none') {{\n            console.log([gd, 'removed!']);\n            Plotly.purge(gd);\n            observer.disconnect();\n        }}\n}});\n\n// Listen for the removal of the full notebook cells\nvar notebookContainer = gd.closest('#notebook-container');\nif (notebookContainer) {{\n    x.observe(notebookContainer, {childList: true});\n}}\n\n// Listen for the clearing of the current output cell\nvar outputEl = gd.closest('.output');\nif (outputEl) {{\n    x.observe(outputEl, {childList: true});\n}}\n\n                        })                };                });            </script>        </div>"
     },
     "metadata": {},
     "output_type": "display_data"
    }
   ],
   "source": [
    "df.iplot(kind = 'bar')"
   ],
   "metadata": {
    "collapsed": false,
    "ExecuteTime": {
     "end_time": "2023-07-24T20:19:14.955732200Z",
     "start_time": "2023-07-24T20:19:14.862775400Z"
    }
   }
  },
  {
   "cell_type": "code",
   "execution_count": 26,
   "outputs": [
    {
     "data": {
      "application/vnd.plotly.v1+json": {
       "data": [
        {
         "marker": {
          "color": "rgba(255, 153, 51, 0.6)",
          "line": {
           "color": "rgba(255, 153, 51, 1.0)",
           "width": 1
          }
         },
         "name": "None",
         "orientation": "v",
         "text": "",
         "x": [
          "a",
          "b",
          "c",
          "d"
         ],
         "y": [
          4.5132589961732705,
          -4.189317927608397,
          2.04601405818161,
          -15.155729095185412
         ],
         "type": "bar"
        }
       ],
       "layout": {
        "legend": {
         "bgcolor": "#F5F6F9",
         "font": {
          "color": "#4D5663"
         }
        },
        "paper_bgcolor": "#F5F6F9",
        "plot_bgcolor": "#F5F6F9",
        "template": {
         "data": {
          "barpolar": [
           {
            "marker": {
             "line": {
              "color": "#E5ECF6",
              "width": 0.5
             },
             "pattern": {
              "fillmode": "overlay",
              "size": 10,
              "solidity": 0.2
             }
            },
            "type": "barpolar"
           }
          ],
          "bar": [
           {
            "error_x": {
             "color": "#2a3f5f"
            },
            "error_y": {
             "color": "#2a3f5f"
            },
            "marker": {
             "line": {
              "color": "#E5ECF6",
              "width": 0.5
             },
             "pattern": {
              "fillmode": "overlay",
              "size": 10,
              "solidity": 0.2
             }
            },
            "type": "bar"
           }
          ],
          "carpet": [
           {
            "aaxis": {
             "endlinecolor": "#2a3f5f",
             "gridcolor": "white",
             "linecolor": "white",
             "minorgridcolor": "white",
             "startlinecolor": "#2a3f5f"
            },
            "baxis": {
             "endlinecolor": "#2a3f5f",
             "gridcolor": "white",
             "linecolor": "white",
             "minorgridcolor": "white",
             "startlinecolor": "#2a3f5f"
            },
            "type": "carpet"
           }
          ],
          "choropleth": [
           {
            "colorbar": {
             "outlinewidth": 0,
             "ticks": ""
            },
            "type": "choropleth"
           }
          ],
          "contourcarpet": [
           {
            "colorbar": {
             "outlinewidth": 0,
             "ticks": ""
            },
            "type": "contourcarpet"
           }
          ],
          "contour": [
           {
            "colorbar": {
             "outlinewidth": 0,
             "ticks": ""
            },
            "colorscale": [
             [
              0.0,
              "#0d0887"
             ],
             [
              0.1111111111111111,
              "#46039f"
             ],
             [
              0.2222222222222222,
              "#7201a8"
             ],
             [
              0.3333333333333333,
              "#9c179e"
             ],
             [
              0.4444444444444444,
              "#bd3786"
             ],
             [
              0.5555555555555556,
              "#d8576b"
             ],
             [
              0.6666666666666666,
              "#ed7953"
             ],
             [
              0.7777777777777778,
              "#fb9f3a"
             ],
             [
              0.8888888888888888,
              "#fdca26"
             ],
             [
              1.0,
              "#f0f921"
             ]
            ],
            "type": "contour"
           }
          ],
          "heatmapgl": [
           {
            "colorbar": {
             "outlinewidth": 0,
             "ticks": ""
            },
            "colorscale": [
             [
              0.0,
              "#0d0887"
             ],
             [
              0.1111111111111111,
              "#46039f"
             ],
             [
              0.2222222222222222,
              "#7201a8"
             ],
             [
              0.3333333333333333,
              "#9c179e"
             ],
             [
              0.4444444444444444,
              "#bd3786"
             ],
             [
              0.5555555555555556,
              "#d8576b"
             ],
             [
              0.6666666666666666,
              "#ed7953"
             ],
             [
              0.7777777777777778,
              "#fb9f3a"
             ],
             [
              0.8888888888888888,
              "#fdca26"
             ],
             [
              1.0,
              "#f0f921"
             ]
            ],
            "type": "heatmapgl"
           }
          ],
          "heatmap": [
           {
            "colorbar": {
             "outlinewidth": 0,
             "ticks": ""
            },
            "colorscale": [
             [
              0.0,
              "#0d0887"
             ],
             [
              0.1111111111111111,
              "#46039f"
             ],
             [
              0.2222222222222222,
              "#7201a8"
             ],
             [
              0.3333333333333333,
              "#9c179e"
             ],
             [
              0.4444444444444444,
              "#bd3786"
             ],
             [
              0.5555555555555556,
              "#d8576b"
             ],
             [
              0.6666666666666666,
              "#ed7953"
             ],
             [
              0.7777777777777778,
              "#fb9f3a"
             ],
             [
              0.8888888888888888,
              "#fdca26"
             ],
             [
              1.0,
              "#f0f921"
             ]
            ],
            "type": "heatmap"
           }
          ],
          "histogram2dcontour": [
           {
            "colorbar": {
             "outlinewidth": 0,
             "ticks": ""
            },
            "colorscale": [
             [
              0.0,
              "#0d0887"
             ],
             [
              0.1111111111111111,
              "#46039f"
             ],
             [
              0.2222222222222222,
              "#7201a8"
             ],
             [
              0.3333333333333333,
              "#9c179e"
             ],
             [
              0.4444444444444444,
              "#bd3786"
             ],
             [
              0.5555555555555556,
              "#d8576b"
             ],
             [
              0.6666666666666666,
              "#ed7953"
             ],
             [
              0.7777777777777778,
              "#fb9f3a"
             ],
             [
              0.8888888888888888,
              "#fdca26"
             ],
             [
              1.0,
              "#f0f921"
             ]
            ],
            "type": "histogram2dcontour"
           }
          ],
          "histogram2d": [
           {
            "colorbar": {
             "outlinewidth": 0,
             "ticks": ""
            },
            "colorscale": [
             [
              0.0,
              "#0d0887"
             ],
             [
              0.1111111111111111,
              "#46039f"
             ],
             [
              0.2222222222222222,
              "#7201a8"
             ],
             [
              0.3333333333333333,
              "#9c179e"
             ],
             [
              0.4444444444444444,
              "#bd3786"
             ],
             [
              0.5555555555555556,
              "#d8576b"
             ],
             [
              0.6666666666666666,
              "#ed7953"
             ],
             [
              0.7777777777777778,
              "#fb9f3a"
             ],
             [
              0.8888888888888888,
              "#fdca26"
             ],
             [
              1.0,
              "#f0f921"
             ]
            ],
            "type": "histogram2d"
           }
          ],
          "histogram": [
           {
            "marker": {
             "pattern": {
              "fillmode": "overlay",
              "size": 10,
              "solidity": 0.2
             }
            },
            "type": "histogram"
           }
          ],
          "mesh3d": [
           {
            "colorbar": {
             "outlinewidth": 0,
             "ticks": ""
            },
            "type": "mesh3d"
           }
          ],
          "parcoords": [
           {
            "line": {
             "colorbar": {
              "outlinewidth": 0,
              "ticks": ""
             }
            },
            "type": "parcoords"
           }
          ],
          "pie": [
           {
            "automargin": true,
            "type": "pie"
           }
          ],
          "scatter3d": [
           {
            "line": {
             "colorbar": {
              "outlinewidth": 0,
              "ticks": ""
             }
            },
            "marker": {
             "colorbar": {
              "outlinewidth": 0,
              "ticks": ""
             }
            },
            "type": "scatter3d"
           }
          ],
          "scattercarpet": [
           {
            "marker": {
             "colorbar": {
              "outlinewidth": 0,
              "ticks": ""
             }
            },
            "type": "scattercarpet"
           }
          ],
          "scattergeo": [
           {
            "marker": {
             "colorbar": {
              "outlinewidth": 0,
              "ticks": ""
             }
            },
            "type": "scattergeo"
           }
          ],
          "scattergl": [
           {
            "marker": {
             "colorbar": {
              "outlinewidth": 0,
              "ticks": ""
             }
            },
            "type": "scattergl"
           }
          ],
          "scattermapbox": [
           {
            "marker": {
             "colorbar": {
              "outlinewidth": 0,
              "ticks": ""
             }
            },
            "type": "scattermapbox"
           }
          ],
          "scatterpolargl": [
           {
            "marker": {
             "colorbar": {
              "outlinewidth": 0,
              "ticks": ""
             }
            },
            "type": "scatterpolargl"
           }
          ],
          "scatterpolar": [
           {
            "marker": {
             "colorbar": {
              "outlinewidth": 0,
              "ticks": ""
             }
            },
            "type": "scatterpolar"
           }
          ],
          "scatter": [
           {
            "fillpattern": {
             "fillmode": "overlay",
             "size": 10,
             "solidity": 0.2
            },
            "type": "scatter"
           }
          ],
          "scatterternary": [
           {
            "marker": {
             "colorbar": {
              "outlinewidth": 0,
              "ticks": ""
             }
            },
            "type": "scatterternary"
           }
          ],
          "surface": [
           {
            "colorbar": {
             "outlinewidth": 0,
             "ticks": ""
            },
            "colorscale": [
             [
              0.0,
              "#0d0887"
             ],
             [
              0.1111111111111111,
              "#46039f"
             ],
             [
              0.2222222222222222,
              "#7201a8"
             ],
             [
              0.3333333333333333,
              "#9c179e"
             ],
             [
              0.4444444444444444,
              "#bd3786"
             ],
             [
              0.5555555555555556,
              "#d8576b"
             ],
             [
              0.6666666666666666,
              "#ed7953"
             ],
             [
              0.7777777777777778,
              "#fb9f3a"
             ],
             [
              0.8888888888888888,
              "#fdca26"
             ],
             [
              1.0,
              "#f0f921"
             ]
            ],
            "type": "surface"
           }
          ],
          "table": [
           {
            "cells": {
             "fill": {
              "color": "#EBF0F8"
             },
             "line": {
              "color": "white"
             }
            },
            "header": {
             "fill": {
              "color": "#C8D4E3"
             },
             "line": {
              "color": "white"
             }
            },
            "type": "table"
           }
          ]
         },
         "layout": {
          "annotationdefaults": {
           "arrowcolor": "#2a3f5f",
           "arrowhead": 0,
           "arrowwidth": 1
          },
          "autotypenumbers": "strict",
          "coloraxis": {
           "colorbar": {
            "outlinewidth": 0,
            "ticks": ""
           }
          },
          "colorscale": {
           "diverging": [
            [
             0,
             "#8e0152"
            ],
            [
             0.1,
             "#c51b7d"
            ],
            [
             0.2,
             "#de77ae"
            ],
            [
             0.3,
             "#f1b6da"
            ],
            [
             0.4,
             "#fde0ef"
            ],
            [
             0.5,
             "#f7f7f7"
            ],
            [
             0.6,
             "#e6f5d0"
            ],
            [
             0.7,
             "#b8e186"
            ],
            [
             0.8,
             "#7fbc41"
            ],
            [
             0.9,
             "#4d9221"
            ],
            [
             1,
             "#276419"
            ]
           ],
           "sequential": [
            [
             0.0,
             "#0d0887"
            ],
            [
             0.1111111111111111,
             "#46039f"
            ],
            [
             0.2222222222222222,
             "#7201a8"
            ],
            [
             0.3333333333333333,
             "#9c179e"
            ],
            [
             0.4444444444444444,
             "#bd3786"
            ],
            [
             0.5555555555555556,
             "#d8576b"
            ],
            [
             0.6666666666666666,
             "#ed7953"
            ],
            [
             0.7777777777777778,
             "#fb9f3a"
            ],
            [
             0.8888888888888888,
             "#fdca26"
            ],
            [
             1.0,
             "#f0f921"
            ]
           ],
           "sequentialminus": [
            [
             0.0,
             "#0d0887"
            ],
            [
             0.1111111111111111,
             "#46039f"
            ],
            [
             0.2222222222222222,
             "#7201a8"
            ],
            [
             0.3333333333333333,
             "#9c179e"
            ],
            [
             0.4444444444444444,
             "#bd3786"
            ],
            [
             0.5555555555555556,
             "#d8576b"
            ],
            [
             0.6666666666666666,
             "#ed7953"
            ],
            [
             0.7777777777777778,
             "#fb9f3a"
            ],
            [
             0.8888888888888888,
             "#fdca26"
            ],
            [
             1.0,
             "#f0f921"
            ]
           ]
          },
          "colorway": [
           "#636efa",
           "#EF553B",
           "#00cc96",
           "#ab63fa",
           "#FFA15A",
           "#19d3f3",
           "#FF6692",
           "#B6E880",
           "#FF97FF",
           "#FECB52"
          ],
          "font": {
           "color": "#2a3f5f"
          },
          "geo": {
           "bgcolor": "white",
           "lakecolor": "white",
           "landcolor": "#E5ECF6",
           "showlakes": true,
           "showland": true,
           "subunitcolor": "white"
          },
          "hoverlabel": {
           "align": "left"
          },
          "hovermode": "closest",
          "mapbox": {
           "style": "light"
          },
          "paper_bgcolor": "white",
          "plot_bgcolor": "#E5ECF6",
          "polar": {
           "angularaxis": {
            "gridcolor": "white",
            "linecolor": "white",
            "ticks": ""
           },
           "bgcolor": "#E5ECF6",
           "radialaxis": {
            "gridcolor": "white",
            "linecolor": "white",
            "ticks": ""
           }
          },
          "scene": {
           "xaxis": {
            "backgroundcolor": "#E5ECF6",
            "gridcolor": "white",
            "gridwidth": 2,
            "linecolor": "white",
            "showbackground": true,
            "ticks": "",
            "zerolinecolor": "white"
           },
           "yaxis": {
            "backgroundcolor": "#E5ECF6",
            "gridcolor": "white",
            "gridwidth": 2,
            "linecolor": "white",
            "showbackground": true,
            "ticks": "",
            "zerolinecolor": "white"
           },
           "zaxis": {
            "backgroundcolor": "#E5ECF6",
            "gridcolor": "white",
            "gridwidth": 2,
            "linecolor": "white",
            "showbackground": true,
            "ticks": "",
            "zerolinecolor": "white"
           }
          },
          "shapedefaults": {
           "line": {
            "color": "#2a3f5f"
           }
          },
          "ternary": {
           "aaxis": {
            "gridcolor": "white",
            "linecolor": "white",
            "ticks": ""
           },
           "baxis": {
            "gridcolor": "white",
            "linecolor": "white",
            "ticks": ""
           },
           "bgcolor": "#E5ECF6",
           "caxis": {
            "gridcolor": "white",
            "linecolor": "white",
            "ticks": ""
           }
          },
          "title": {
           "x": 0.05
          },
          "xaxis": {
           "automargin": true,
           "gridcolor": "white",
           "linecolor": "white",
           "ticks": "",
           "title": {
            "standoff": 15
           },
           "zerolinecolor": "white",
           "zerolinewidth": 2
          },
          "yaxis": {
           "automargin": true,
           "gridcolor": "white",
           "linecolor": "white",
           "ticks": "",
           "title": {
            "standoff": 15
           },
           "zerolinecolor": "white",
           "zerolinewidth": 2
          }
         }
        },
        "title": {
         "font": {
          "color": "#4D5663"
         }
        },
        "xaxis": {
         "gridcolor": "#E1E5ED",
         "showgrid": true,
         "tickfont": {
          "color": "#4D5663"
         },
         "title": {
          "font": {
           "color": "#4D5663"
          },
          "text": ""
         },
         "zerolinecolor": "#E1E5ED"
        },
        "yaxis": {
         "gridcolor": "#E1E5ED",
         "showgrid": true,
         "tickfont": {
          "color": "#4D5663"
         },
         "title": {
          "font": {
           "color": "#4D5663"
          },
          "text": ""
         },
         "zerolinecolor": "#E1E5ED"
        }
       },
       "config": {
        "showLink": true,
        "linkText": "Export to plot.ly",
        "plotlyServerURL": "https://plot.ly"
       }
      },
      "text/html": "<div>                            <div id=\"7f57467f-e41e-4b16-b221-39cbcebb69a9\" class=\"plotly-graph-div\" style=\"height:525px; width:100%;\"></div>            <script type=\"text/javascript\">                require([\"plotly\"], function(Plotly) {                    window.PLOTLYENV=window.PLOTLYENV || {};\n                    window.PLOTLYENV.BASE_URL='https://plot.ly';                                    if (document.getElementById(\"7f57467f-e41e-4b16-b221-39cbcebb69a9\")) {                    Plotly.newPlot(                        \"7f57467f-e41e-4b16-b221-39cbcebb69a9\",                        [{\"marker\":{\"color\":\"rgba(255, 153, 51, 0.6)\",\"line\":{\"color\":\"rgba(255, 153, 51, 1.0)\",\"width\":1}},\"name\":\"None\",\"orientation\":\"v\",\"text\":\"\",\"x\":[\"a\",\"b\",\"c\",\"d\"],\"y\":[4.5132589961732705,-4.189317927608397,2.04601405818161,-15.155729095185412],\"type\":\"bar\"}],                        {\"legend\":{\"bgcolor\":\"#F5F6F9\",\"font\":{\"color\":\"#4D5663\"}},\"paper_bgcolor\":\"#F5F6F9\",\"plot_bgcolor\":\"#F5F6F9\",\"template\":{\"data\":{\"barpolar\":[{\"marker\":{\"line\":{\"color\":\"#E5ECF6\",\"width\":0.5},\"pattern\":{\"fillmode\":\"overlay\",\"size\":10,\"solidity\":0.2}},\"type\":\"barpolar\"}],\"bar\":[{\"error_x\":{\"color\":\"#2a3f5f\"},\"error_y\":{\"color\":\"#2a3f5f\"},\"marker\":{\"line\":{\"color\":\"#E5ECF6\",\"width\":0.5},\"pattern\":{\"fillmode\":\"overlay\",\"size\":10,\"solidity\":0.2}},\"type\":\"bar\"}],\"carpet\":[{\"aaxis\":{\"endlinecolor\":\"#2a3f5f\",\"gridcolor\":\"white\",\"linecolor\":\"white\",\"minorgridcolor\":\"white\",\"startlinecolor\":\"#2a3f5f\"},\"baxis\":{\"endlinecolor\":\"#2a3f5f\",\"gridcolor\":\"white\",\"linecolor\":\"white\",\"minorgridcolor\":\"white\",\"startlinecolor\":\"#2a3f5f\"},\"type\":\"carpet\"}],\"choropleth\":[{\"colorbar\":{\"outlinewidth\":0,\"ticks\":\"\"},\"type\":\"choropleth\"}],\"contourcarpet\":[{\"colorbar\":{\"outlinewidth\":0,\"ticks\":\"\"},\"type\":\"contourcarpet\"}],\"contour\":[{\"colorbar\":{\"outlinewidth\":0,\"ticks\":\"\"},\"colorscale\":[[0.0,\"#0d0887\"],[0.1111111111111111,\"#46039f\"],[0.2222222222222222,\"#7201a8\"],[0.3333333333333333,\"#9c179e\"],[0.4444444444444444,\"#bd3786\"],[0.5555555555555556,\"#d8576b\"],[0.6666666666666666,\"#ed7953\"],[0.7777777777777778,\"#fb9f3a\"],[0.8888888888888888,\"#fdca26\"],[1.0,\"#f0f921\"]],\"type\":\"contour\"}],\"heatmapgl\":[{\"colorbar\":{\"outlinewidth\":0,\"ticks\":\"\"},\"colorscale\":[[0.0,\"#0d0887\"],[0.1111111111111111,\"#46039f\"],[0.2222222222222222,\"#7201a8\"],[0.3333333333333333,\"#9c179e\"],[0.4444444444444444,\"#bd3786\"],[0.5555555555555556,\"#d8576b\"],[0.6666666666666666,\"#ed7953\"],[0.7777777777777778,\"#fb9f3a\"],[0.8888888888888888,\"#fdca26\"],[1.0,\"#f0f921\"]],\"type\":\"heatmapgl\"}],\"heatmap\":[{\"colorbar\":{\"outlinewidth\":0,\"ticks\":\"\"},\"colorscale\":[[0.0,\"#0d0887\"],[0.1111111111111111,\"#46039f\"],[0.2222222222222222,\"#7201a8\"],[0.3333333333333333,\"#9c179e\"],[0.4444444444444444,\"#bd3786\"],[0.5555555555555556,\"#d8576b\"],[0.6666666666666666,\"#ed7953\"],[0.7777777777777778,\"#fb9f3a\"],[0.8888888888888888,\"#fdca26\"],[1.0,\"#f0f921\"]],\"type\":\"heatmap\"}],\"histogram2dcontour\":[{\"colorbar\":{\"outlinewidth\":0,\"ticks\":\"\"},\"colorscale\":[[0.0,\"#0d0887\"],[0.1111111111111111,\"#46039f\"],[0.2222222222222222,\"#7201a8\"],[0.3333333333333333,\"#9c179e\"],[0.4444444444444444,\"#bd3786\"],[0.5555555555555556,\"#d8576b\"],[0.6666666666666666,\"#ed7953\"],[0.7777777777777778,\"#fb9f3a\"],[0.8888888888888888,\"#fdca26\"],[1.0,\"#f0f921\"]],\"type\":\"histogram2dcontour\"}],\"histogram2d\":[{\"colorbar\":{\"outlinewidth\":0,\"ticks\":\"\"},\"colorscale\":[[0.0,\"#0d0887\"],[0.1111111111111111,\"#46039f\"],[0.2222222222222222,\"#7201a8\"],[0.3333333333333333,\"#9c179e\"],[0.4444444444444444,\"#bd3786\"],[0.5555555555555556,\"#d8576b\"],[0.6666666666666666,\"#ed7953\"],[0.7777777777777778,\"#fb9f3a\"],[0.8888888888888888,\"#fdca26\"],[1.0,\"#f0f921\"]],\"type\":\"histogram2d\"}],\"histogram\":[{\"marker\":{\"pattern\":{\"fillmode\":\"overlay\",\"size\":10,\"solidity\":0.2}},\"type\":\"histogram\"}],\"mesh3d\":[{\"colorbar\":{\"outlinewidth\":0,\"ticks\":\"\"},\"type\":\"mesh3d\"}],\"parcoords\":[{\"line\":{\"colorbar\":{\"outlinewidth\":0,\"ticks\":\"\"}},\"type\":\"parcoords\"}],\"pie\":[{\"automargin\":true,\"type\":\"pie\"}],\"scatter3d\":[{\"line\":{\"colorbar\":{\"outlinewidth\":0,\"ticks\":\"\"}},\"marker\":{\"colorbar\":{\"outlinewidth\":0,\"ticks\":\"\"}},\"type\":\"scatter3d\"}],\"scattercarpet\":[{\"marker\":{\"colorbar\":{\"outlinewidth\":0,\"ticks\":\"\"}},\"type\":\"scattercarpet\"}],\"scattergeo\":[{\"marker\":{\"colorbar\":{\"outlinewidth\":0,\"ticks\":\"\"}},\"type\":\"scattergeo\"}],\"scattergl\":[{\"marker\":{\"colorbar\":{\"outlinewidth\":0,\"ticks\":\"\"}},\"type\":\"scattergl\"}],\"scattermapbox\":[{\"marker\":{\"colorbar\":{\"outlinewidth\":0,\"ticks\":\"\"}},\"type\":\"scattermapbox\"}],\"scatterpolargl\":[{\"marker\":{\"colorbar\":{\"outlinewidth\":0,\"ticks\":\"\"}},\"type\":\"scatterpolargl\"}],\"scatterpolar\":[{\"marker\":{\"colorbar\":{\"outlinewidth\":0,\"ticks\":\"\"}},\"type\":\"scatterpolar\"}],\"scatter\":[{\"fillpattern\":{\"fillmode\":\"overlay\",\"size\":10,\"solidity\":0.2},\"type\":\"scatter\"}],\"scatterternary\":[{\"marker\":{\"colorbar\":{\"outlinewidth\":0,\"ticks\":\"\"}},\"type\":\"scatterternary\"}],\"surface\":[{\"colorbar\":{\"outlinewidth\":0,\"ticks\":\"\"},\"colorscale\":[[0.0,\"#0d0887\"],[0.1111111111111111,\"#46039f\"],[0.2222222222222222,\"#7201a8\"],[0.3333333333333333,\"#9c179e\"],[0.4444444444444444,\"#bd3786\"],[0.5555555555555556,\"#d8576b\"],[0.6666666666666666,\"#ed7953\"],[0.7777777777777778,\"#fb9f3a\"],[0.8888888888888888,\"#fdca26\"],[1.0,\"#f0f921\"]],\"type\":\"surface\"}],\"table\":[{\"cells\":{\"fill\":{\"color\":\"#EBF0F8\"},\"line\":{\"color\":\"white\"}},\"header\":{\"fill\":{\"color\":\"#C8D4E3\"},\"line\":{\"color\":\"white\"}},\"type\":\"table\"}]},\"layout\":{\"annotationdefaults\":{\"arrowcolor\":\"#2a3f5f\",\"arrowhead\":0,\"arrowwidth\":1},\"autotypenumbers\":\"strict\",\"coloraxis\":{\"colorbar\":{\"outlinewidth\":0,\"ticks\":\"\"}},\"colorscale\":{\"diverging\":[[0,\"#8e0152\"],[0.1,\"#c51b7d\"],[0.2,\"#de77ae\"],[0.3,\"#f1b6da\"],[0.4,\"#fde0ef\"],[0.5,\"#f7f7f7\"],[0.6,\"#e6f5d0\"],[0.7,\"#b8e186\"],[0.8,\"#7fbc41\"],[0.9,\"#4d9221\"],[1,\"#276419\"]],\"sequential\":[[0.0,\"#0d0887\"],[0.1111111111111111,\"#46039f\"],[0.2222222222222222,\"#7201a8\"],[0.3333333333333333,\"#9c179e\"],[0.4444444444444444,\"#bd3786\"],[0.5555555555555556,\"#d8576b\"],[0.6666666666666666,\"#ed7953\"],[0.7777777777777778,\"#fb9f3a\"],[0.8888888888888888,\"#fdca26\"],[1.0,\"#f0f921\"]],\"sequentialminus\":[[0.0,\"#0d0887\"],[0.1111111111111111,\"#46039f\"],[0.2222222222222222,\"#7201a8\"],[0.3333333333333333,\"#9c179e\"],[0.4444444444444444,\"#bd3786\"],[0.5555555555555556,\"#d8576b\"],[0.6666666666666666,\"#ed7953\"],[0.7777777777777778,\"#fb9f3a\"],[0.8888888888888888,\"#fdca26\"],[1.0,\"#f0f921\"]]},\"colorway\":[\"#636efa\",\"#EF553B\",\"#00cc96\",\"#ab63fa\",\"#FFA15A\",\"#19d3f3\",\"#FF6692\",\"#B6E880\",\"#FF97FF\",\"#FECB52\"],\"font\":{\"color\":\"#2a3f5f\"},\"geo\":{\"bgcolor\":\"white\",\"lakecolor\":\"white\",\"landcolor\":\"#E5ECF6\",\"showlakes\":true,\"showland\":true,\"subunitcolor\":\"white\"},\"hoverlabel\":{\"align\":\"left\"},\"hovermode\":\"closest\",\"mapbox\":{\"style\":\"light\"},\"paper_bgcolor\":\"white\",\"plot_bgcolor\":\"#E5ECF6\",\"polar\":{\"angularaxis\":{\"gridcolor\":\"white\",\"linecolor\":\"white\",\"ticks\":\"\"},\"bgcolor\":\"#E5ECF6\",\"radialaxis\":{\"gridcolor\":\"white\",\"linecolor\":\"white\",\"ticks\":\"\"}},\"scene\":{\"xaxis\":{\"backgroundcolor\":\"#E5ECF6\",\"gridcolor\":\"white\",\"gridwidth\":2,\"linecolor\":\"white\",\"showbackground\":true,\"ticks\":\"\",\"zerolinecolor\":\"white\"},\"yaxis\":{\"backgroundcolor\":\"#E5ECF6\",\"gridcolor\":\"white\",\"gridwidth\":2,\"linecolor\":\"white\",\"showbackground\":true,\"ticks\":\"\",\"zerolinecolor\":\"white\"},\"zaxis\":{\"backgroundcolor\":\"#E5ECF6\",\"gridcolor\":\"white\",\"gridwidth\":2,\"linecolor\":\"white\",\"showbackground\":true,\"ticks\":\"\",\"zerolinecolor\":\"white\"}},\"shapedefaults\":{\"line\":{\"color\":\"#2a3f5f\"}},\"ternary\":{\"aaxis\":{\"gridcolor\":\"white\",\"linecolor\":\"white\",\"ticks\":\"\"},\"baxis\":{\"gridcolor\":\"white\",\"linecolor\":\"white\",\"ticks\":\"\"},\"bgcolor\":\"#E5ECF6\",\"caxis\":{\"gridcolor\":\"white\",\"linecolor\":\"white\",\"ticks\":\"\"}},\"title\":{\"x\":0.05},\"xaxis\":{\"automargin\":true,\"gridcolor\":\"white\",\"linecolor\":\"white\",\"ticks\":\"\",\"title\":{\"standoff\":15},\"zerolinecolor\":\"white\",\"zerolinewidth\":2},\"yaxis\":{\"automargin\":true,\"gridcolor\":\"white\",\"linecolor\":\"white\",\"ticks\":\"\",\"title\":{\"standoff\":15},\"zerolinecolor\":\"white\",\"zerolinewidth\":2}}},\"title\":{\"font\":{\"color\":\"#4D5663\"}},\"xaxis\":{\"gridcolor\":\"#E1E5ED\",\"showgrid\":true,\"tickfont\":{\"color\":\"#4D5663\"},\"title\":{\"font\":{\"color\":\"#4D5663\"},\"text\":\"\"},\"zerolinecolor\":\"#E1E5ED\"},\"yaxis\":{\"gridcolor\":\"#E1E5ED\",\"showgrid\":true,\"tickfont\":{\"color\":\"#4D5663\"},\"title\":{\"font\":{\"color\":\"#4D5663\"},\"text\":\"\"},\"zerolinecolor\":\"#E1E5ED\"}},                        {\"showLink\": true, \"linkText\": \"Export to plot.ly\", \"plotlyServerURL\": \"https://plot.ly\", \"responsive\": true}                    ).then(function(){\n                            \nvar gd = document.getElementById('7f57467f-e41e-4b16-b221-39cbcebb69a9');\nvar x = new MutationObserver(function (mutations, observer) {{\n        var display = window.getComputedStyle(gd).display;\n        if (!display || display === 'none') {{\n            console.log([gd, 'removed!']);\n            Plotly.purge(gd);\n            observer.disconnect();\n        }}\n}});\n\n// Listen for the removal of the full notebook cells\nvar notebookContainer = gd.closest('#notebook-container');\nif (notebookContainer) {{\n    x.observe(notebookContainer, {childList: true});\n}}\n\n// Listen for the clearing of the current output cell\nvar outputEl = gd.closest('.output');\nif (outputEl) {{\n    x.observe(outputEl, {childList: true});\n}}\n\n                        })                };                });            </script>        </div>"
     },
     "metadata": {},
     "output_type": "display_data"
    }
   ],
   "source": [
    "df.sum().iplot(kind = 'bar')"
   ],
   "metadata": {
    "collapsed": false,
    "ExecuteTime": {
     "end_time": "2023-07-24T20:19:51.787933400Z",
     "start_time": "2023-07-24T20:19:51.702976800Z"
    }
   }
  },
  {
   "cell_type": "code",
   "execution_count": 27,
   "outputs": [
    {
     "data": {
      "application/vnd.plotly.v1+json": {
       "data": [
        {
         "boxpoints": false,
         "line": {
          "width": 1.3
         },
         "marker": {
          "color": "rgba(255, 153, 51, 1.0)"
         },
         "name": "a",
         "orientation": "v",
         "y": [
          -0.47955835117961326,
          2.208528985383365,
          0.4679589633910048,
          -0.8551162799251366,
          1.2525226501637672,
          1.1319214520231038,
          0.15812173899452547,
          -0.9092022524719334,
          0.32852802693340066,
          -0.4676903591186404,
          -0.3493277560093259,
          1.1183452949278738,
          1.0373688122425815,
          -0.6453414703455302,
          0.03229546532035661,
          -0.6023069851028888,
          0.9121079412160702,
          1.0498745999585175,
          1.0919176486482147,
          0.19191573392508898,
          -0.18942501228613742,
          -0.81840921813167,
          -1.190074307457328,
          -0.9366038728507515,
          -0.856021391260267,
          -0.5615826830665962,
          0.6378853019783909,
          -0.4469043426630658,
          -0.30437064195722396,
          0.12651643036377053,
          1.5701773925381344,
          -0.9580031126548217,
          0.04328220572876478,
          0.2725744951757658,
          0.4222972618869988,
          -0.2920985389545437,
          0.16214011253466665,
          0.9540490890422607,
          1.7225130817761656,
          -0.10512997495124377,
          -0.17633757215891804,
          1.45413051536654,
          -1.0519315569532932,
          1.1387557835791358,
          1.1861446893126402,
          -1.7580736056974662,
          0.5292123753306647,
          -0.9993961605133591,
          0.4656671775443968,
          0.14081276623774347,
          1.010413912098985,
          0.2809253841822681,
          -0.17599998665524727,
          1.502021151027751,
          -0.3838066673391768,
          1.198474820214525,
          -0.44721845335323585,
          -0.14370261165006484,
          -0.8260516382539377,
          -0.6809444591047652,
          0.5975261318282004,
          -1.2671176535438404,
          -0.1451011980098431,
          -0.12245751430090913,
          -2.9311413567274505,
          0.3903574906989734,
          -0.5444592065848942,
          1.4805370340162713,
          -1.516818137400796,
          -0.36807158571373966,
          -0.16298781561838693,
          -2.180519736923615,
          1.1825365269446158,
          0.7316658802037822,
          0.011666208316439941,
          0.1859449212009432,
          -0.1704869670034482,
          0.5086650732355799,
          -0.6469319358610637,
          0.6787103800007991,
          -0.09385953422313559,
          1.1944846327409775,
          -0.1503167358094551,
          0.5904644508340733,
          0.42582199360480877,
          1.1586090185110205,
          -2.8031677845866,
          -0.6654053838251582,
          0.5205929889517756,
          0.2436354199909118,
          -0.4517153603280674,
          1.3044889871740712,
          0.3173682234696028,
          -0.7952936213078645,
          -0.9817079635434631,
          -0.10268464581201636,
          -0.49954305222214757,
          1.393297854592929,
          -0.5971193120230532,
          0.6050202842451881
         ],
         "type": "box"
        },
        {
         "boxpoints": false,
         "line": {
          "width": 1.3
         },
         "marker": {
          "color": "rgba(55, 128, 191, 1.0)"
         },
         "name": "b",
         "orientation": "v",
         "y": [
          -1.271843621889942,
          -2.9194771482654533,
          1.0778027419907863,
          -3.3880158092068644,
          0.16727993160964663,
          0.752657149357646,
          -0.23471773455215122,
          -0.5405081781298487,
          -2.718485469093071,
          1.3977621771945667,
          1.9146685524277431,
          0.5442835285398985,
          0.6920694699070546,
          1.3288616436071947,
          -1.6990132510416547,
          1.9951469381152758,
          -0.19244562711695304,
          -0.32523784472144124,
          0.6042049624099904,
          0.3423085542626006,
          -0.005723712507034573,
          0.1660708792426556,
          -0.25674707460214397,
          -0.1226287964154879,
          -1.0156204214589089,
          1.348641230156133,
          -0.8398316440997098,
          -0.8179472960460081,
          -1.4349465992015384,
          -1.499440425603565,
          1.517245350105534,
          -0.5308778868191003,
          -1.3472959906321316,
          -1.0406469384731583,
          -0.4977387501764713,
          1.275667989295518,
          1.1295127491665227,
          -1.6061400217783806,
          -0.8171279627165152,
          -0.4932602218745369,
          -0.7406254851198281,
          -0.199395177148563,
          1.0415158118454182,
          0.3306663594538813,
          0.08367312089908913,
          1.6710661620083822,
          1.6242630288549933,
          1.2441631698928521,
          -1.8427327464637056,
          -1.07841115026537,
          1.0373216854219938,
          1.243928951642244,
          0.4028753220836608,
          0.10716839746295827,
          -1.2469087711768443,
          -0.4416009998087673,
          -0.1468232659953732,
          1.9061089235064455,
          -1.4600887886691467,
          -1.3472652348843102,
          -0.19782739179798506,
          -0.564060507366717,
          0.6601245441938398,
          -1.8642517504969234,
          -0.853855547211736,
          -1.1533885564167732,
          0.5137118780719806,
          -0.8602111272746457,
          0.5283454136479098,
          -0.3927459258059125,
          -0.9987993727603097,
          0.685678981657241,
          1.0824709572760371,
          -0.8563875703591132,
          -0.08003984227964277,
          0.7121193710585941,
          1.029592809196191,
          -0.33060904117985307,
          0.597189021016201,
          1.994985364857601,
          1.5750586947586183,
          0.3732431896844038,
          0.2183568914505785,
          -1.5701190492530126,
          -0.021869881075446528,
          -1.6773201519956382,
          -0.35426462746605936,
          0.8111479806834876,
          0.17462866309631145,
          1.1811359917261979,
          -1.7985183343782079,
          -0.40976299717349285,
          -0.5766078869323968,
          -0.6599137284909488,
          -0.6276952753342473,
          1.5578846219563145,
          2.3818500342349207,
          0.5361410686341836,
          1.2528965783784614,
          0.9650038473548902
         ],
         "type": "box"
        },
        {
         "boxpoints": false,
         "line": {
          "width": 1.3
         },
         "marker": {
          "color": "rgba(50, 171, 96, 1.0)"
         },
         "name": "c",
         "orientation": "v",
         "y": [
          0.5967508133460097,
          -0.8310625436125187,
          -1.186075281486645,
          0.6839892029061092,
          0.33422412175490246,
          -0.3071702767291182,
          1.251127175522188,
          1.0003552532728113,
          -0.2377420517392665,
          -0.4697527063118209,
          0.5708434518927604,
          -1.1947960195694187,
          -0.5211675599806131,
          0.7158714474367859,
          0.8614422238381686,
          0.43157178546055064,
          1.3963028975464862,
          1.4875988076170195,
          1.7131776145581348,
          0.3262254353589354,
          -0.12552377386028193,
          -1.9022985701321304,
          -0.9120719616111599,
          1.7616033628142032,
          -0.6068907813949179,
          -0.2530358940260846,
          1.6050900725008113,
          0.8389317650171128,
          -0.002909916373665522,
          1.7231613931499312,
          0.42853309202866596,
          0.38562358104400046,
          -0.5816457524323265,
          -0.29516448723984784,
          1.1591737980493135,
          0.8823222830691667,
          -0.8290692062440366,
          -0.30242559226682475,
          0.6861308003160629,
          0.6657148569745158,
          -1.2223430945458924,
          -0.18390371544912945,
          -1.9892801418727477,
          -0.5532126817386545,
          0.14529208070328165,
          0.10530396944482108,
          0.840048514744419,
          0.3109258403053101,
          1.5149418881661314,
          0.6960741286557455,
          -0.5746995322937898,
          -1.2642798722621171,
          -0.8331997062746668,
          -0.4809489987602823,
          0.4879521164814944,
          -0.18970553016049113,
          -1.4460945647428922,
          -0.4197210086423235,
          1.0938141648237734,
          0.420365178460334,
          0.5437047780521163,
          2.1277396369110932,
          -1.4824255251585405,
          0.28014790326698,
          -1.0364764598428098,
          -1.0137255975534307,
          -0.5384372338453128,
          -1.7448174988513143,
          -1.2147675382539436,
          -0.1530862898792282,
          0.5975523415648675,
          -2.176185464348007,
          -1.2617209685508644,
          -1.3528072617329616,
          -0.6708566559177003,
          0.8891581711084477,
          0.44228700217665634,
          -0.09034793894769927,
          -0.8941483893465868,
          0.7359420705726158,
          -1.2330121017486972,
          -0.6461715862327733,
          -1.3642461847256528,
          0.24212955976515083,
          0.89404271749321,
          -0.7611759721173983,
          -0.2716282449010879,
          -0.7042685796637618,
          1.5145953401125853,
          0.36400562879899206,
          0.39065002581296315,
          -0.6182500302110686,
          0.5498062925369558,
          0.5543231928198981,
          2.3708937729816464,
          1.0361563012612234,
          -0.7183668727969715,
          -0.16522583193793056,
          0.4526790472959542,
          0.768056606707704
         ],
         "type": "box"
        },
        {
         "boxpoints": false,
         "line": {
          "width": 1.3
         },
         "marker": {
          "color": "rgba(128, 0, 128, 1.0)"
         },
         "name": "d",
         "orientation": "v",
         "y": [
          -0.21618728541816296,
          1.2525459226652675,
          -0.3358009163971509,
          -0.8184760749598912,
          -0.3772166077514853,
          -1.3861624474993819,
          0.30740710849638947,
          0.275202583116614,
          -1.3240388450379998,
          -0.7257645398150134,
          0.07045922949442338,
          -0.48676497457833123,
          -0.6106546321456783,
          0.6769412416691347,
          0.6236781296783847,
          0.8984182754961492,
          -1.208042194254034,
          -0.1659269927069783,
          -1.276342627133373,
          -0.6859594465868938,
          1.4403530242834823,
          -0.24477321840964772,
          -1.5222734448540447,
          0.14917116882110168,
          -0.13808883464957145,
          -0.4375375783247449,
          1.567233581242451,
          1.5565760717056871,
          -0.72034678773032,
          -0.7287806352140853,
          0.22302539078996866,
          -2.0335464140443538,
          0.3157987247980749,
          1.0890092593239864,
          -0.1513529934338727,
          -0.7978244768567099,
          0.3821087333243263,
          -1.6202464811848905,
          0.7034416052270022,
          -0.9791495147711768,
          -0.6134779201626838,
          -0.04851198245023964,
          1.20411303148368,
          -0.6614127908787752,
          0.452880998327755,
          1.6639408358453316,
          0.11648833214149902,
          -0.27393767537970026,
          0.06903471091473971,
          0.1385728064149139,
          -0.7919898601517497,
          -0.47316026107910164,
          -0.49955084677851036,
          -0.26818185877208356,
          -0.3619998555526626,
          0.4699353492725758,
          1.2321408411404553,
          -1.0803311292418136,
          -0.17751174030516542,
          0.6243373549201932,
          0.36301153604288394,
          -1.4370960940189874,
          0.07234991480975235,
          0.2330486893618556,
          0.04109102379992068,
          0.15324613118464026,
          0.4840986053270673,
          -0.539567382808983,
          -0.17519068744518013,
          0.8079551946384139,
          -1.850316786185605,
          -1.3192894598113594,
          -1.1041588175263408,
          -0.4795675713229714,
          -0.08268057407004485,
          0.8291394204101675,
          1.1569962886971963,
          0.17575314100585898,
          -0.7416799714059854,
          -0.07150431966075302,
          -0.6864755436356272,
          -0.26215642090932006,
          -1.0576739331278184,
          -0.6623089486977592,
          -1.7711151174399706,
          2.212812051653826,
          -0.46079828894359876,
          -1.654960509967774,
          0.06838860174176283,
          -1.2181228796557841,
          0.5446319116403866,
          0.32939615965767904,
          0.7440103538166203,
          -0.01972462708917305,
          -0.49069094822653325,
          1.020485452966454,
          -1.3701495514676203,
          0.2853686307035859,
          1.0522408642498642,
          -1.536015059559466
         ],
         "type": "box"
        }
       ],
       "layout": {
        "legend": {
         "bgcolor": "#F5F6F9",
         "font": {
          "color": "#4D5663"
         }
        },
        "paper_bgcolor": "#F5F6F9",
        "plot_bgcolor": "#F5F6F9",
        "template": {
         "data": {
          "barpolar": [
           {
            "marker": {
             "line": {
              "color": "#E5ECF6",
              "width": 0.5
             },
             "pattern": {
              "fillmode": "overlay",
              "size": 10,
              "solidity": 0.2
             }
            },
            "type": "barpolar"
           }
          ],
          "bar": [
           {
            "error_x": {
             "color": "#2a3f5f"
            },
            "error_y": {
             "color": "#2a3f5f"
            },
            "marker": {
             "line": {
              "color": "#E5ECF6",
              "width": 0.5
             },
             "pattern": {
              "fillmode": "overlay",
              "size": 10,
              "solidity": 0.2
             }
            },
            "type": "bar"
           }
          ],
          "carpet": [
           {
            "aaxis": {
             "endlinecolor": "#2a3f5f",
             "gridcolor": "white",
             "linecolor": "white",
             "minorgridcolor": "white",
             "startlinecolor": "#2a3f5f"
            },
            "baxis": {
             "endlinecolor": "#2a3f5f",
             "gridcolor": "white",
             "linecolor": "white",
             "minorgridcolor": "white",
             "startlinecolor": "#2a3f5f"
            },
            "type": "carpet"
           }
          ],
          "choropleth": [
           {
            "colorbar": {
             "outlinewidth": 0,
             "ticks": ""
            },
            "type": "choropleth"
           }
          ],
          "contourcarpet": [
           {
            "colorbar": {
             "outlinewidth": 0,
             "ticks": ""
            },
            "type": "contourcarpet"
           }
          ],
          "contour": [
           {
            "colorbar": {
             "outlinewidth": 0,
             "ticks": ""
            },
            "colorscale": [
             [
              0.0,
              "#0d0887"
             ],
             [
              0.1111111111111111,
              "#46039f"
             ],
             [
              0.2222222222222222,
              "#7201a8"
             ],
             [
              0.3333333333333333,
              "#9c179e"
             ],
             [
              0.4444444444444444,
              "#bd3786"
             ],
             [
              0.5555555555555556,
              "#d8576b"
             ],
             [
              0.6666666666666666,
              "#ed7953"
             ],
             [
              0.7777777777777778,
              "#fb9f3a"
             ],
             [
              0.8888888888888888,
              "#fdca26"
             ],
             [
              1.0,
              "#f0f921"
             ]
            ],
            "type": "contour"
           }
          ],
          "heatmapgl": [
           {
            "colorbar": {
             "outlinewidth": 0,
             "ticks": ""
            },
            "colorscale": [
             [
              0.0,
              "#0d0887"
             ],
             [
              0.1111111111111111,
              "#46039f"
             ],
             [
              0.2222222222222222,
              "#7201a8"
             ],
             [
              0.3333333333333333,
              "#9c179e"
             ],
             [
              0.4444444444444444,
              "#bd3786"
             ],
             [
              0.5555555555555556,
              "#d8576b"
             ],
             [
              0.6666666666666666,
              "#ed7953"
             ],
             [
              0.7777777777777778,
              "#fb9f3a"
             ],
             [
              0.8888888888888888,
              "#fdca26"
             ],
             [
              1.0,
              "#f0f921"
             ]
            ],
            "type": "heatmapgl"
           }
          ],
          "heatmap": [
           {
            "colorbar": {
             "outlinewidth": 0,
             "ticks": ""
            },
            "colorscale": [
             [
              0.0,
              "#0d0887"
             ],
             [
              0.1111111111111111,
              "#46039f"
             ],
             [
              0.2222222222222222,
              "#7201a8"
             ],
             [
              0.3333333333333333,
              "#9c179e"
             ],
             [
              0.4444444444444444,
              "#bd3786"
             ],
             [
              0.5555555555555556,
              "#d8576b"
             ],
             [
              0.6666666666666666,
              "#ed7953"
             ],
             [
              0.7777777777777778,
              "#fb9f3a"
             ],
             [
              0.8888888888888888,
              "#fdca26"
             ],
             [
              1.0,
              "#f0f921"
             ]
            ],
            "type": "heatmap"
           }
          ],
          "histogram2dcontour": [
           {
            "colorbar": {
             "outlinewidth": 0,
             "ticks": ""
            },
            "colorscale": [
             [
              0.0,
              "#0d0887"
             ],
             [
              0.1111111111111111,
              "#46039f"
             ],
             [
              0.2222222222222222,
              "#7201a8"
             ],
             [
              0.3333333333333333,
              "#9c179e"
             ],
             [
              0.4444444444444444,
              "#bd3786"
             ],
             [
              0.5555555555555556,
              "#d8576b"
             ],
             [
              0.6666666666666666,
              "#ed7953"
             ],
             [
              0.7777777777777778,
              "#fb9f3a"
             ],
             [
              0.8888888888888888,
              "#fdca26"
             ],
             [
              1.0,
              "#f0f921"
             ]
            ],
            "type": "histogram2dcontour"
           }
          ],
          "histogram2d": [
           {
            "colorbar": {
             "outlinewidth": 0,
             "ticks": ""
            },
            "colorscale": [
             [
              0.0,
              "#0d0887"
             ],
             [
              0.1111111111111111,
              "#46039f"
             ],
             [
              0.2222222222222222,
              "#7201a8"
             ],
             [
              0.3333333333333333,
              "#9c179e"
             ],
             [
              0.4444444444444444,
              "#bd3786"
             ],
             [
              0.5555555555555556,
              "#d8576b"
             ],
             [
              0.6666666666666666,
              "#ed7953"
             ],
             [
              0.7777777777777778,
              "#fb9f3a"
             ],
             [
              0.8888888888888888,
              "#fdca26"
             ],
             [
              1.0,
              "#f0f921"
             ]
            ],
            "type": "histogram2d"
           }
          ],
          "histogram": [
           {
            "marker": {
             "pattern": {
              "fillmode": "overlay",
              "size": 10,
              "solidity": 0.2
             }
            },
            "type": "histogram"
           }
          ],
          "mesh3d": [
           {
            "colorbar": {
             "outlinewidth": 0,
             "ticks": ""
            },
            "type": "mesh3d"
           }
          ],
          "parcoords": [
           {
            "line": {
             "colorbar": {
              "outlinewidth": 0,
              "ticks": ""
             }
            },
            "type": "parcoords"
           }
          ],
          "pie": [
           {
            "automargin": true,
            "type": "pie"
           }
          ],
          "scatter3d": [
           {
            "line": {
             "colorbar": {
              "outlinewidth": 0,
              "ticks": ""
             }
            },
            "marker": {
             "colorbar": {
              "outlinewidth": 0,
              "ticks": ""
             }
            },
            "type": "scatter3d"
           }
          ],
          "scattercarpet": [
           {
            "marker": {
             "colorbar": {
              "outlinewidth": 0,
              "ticks": ""
             }
            },
            "type": "scattercarpet"
           }
          ],
          "scattergeo": [
           {
            "marker": {
             "colorbar": {
              "outlinewidth": 0,
              "ticks": ""
             }
            },
            "type": "scattergeo"
           }
          ],
          "scattergl": [
           {
            "marker": {
             "colorbar": {
              "outlinewidth": 0,
              "ticks": ""
             }
            },
            "type": "scattergl"
           }
          ],
          "scattermapbox": [
           {
            "marker": {
             "colorbar": {
              "outlinewidth": 0,
              "ticks": ""
             }
            },
            "type": "scattermapbox"
           }
          ],
          "scatterpolargl": [
           {
            "marker": {
             "colorbar": {
              "outlinewidth": 0,
              "ticks": ""
             }
            },
            "type": "scatterpolargl"
           }
          ],
          "scatterpolar": [
           {
            "marker": {
             "colorbar": {
              "outlinewidth": 0,
              "ticks": ""
             }
            },
            "type": "scatterpolar"
           }
          ],
          "scatter": [
           {
            "fillpattern": {
             "fillmode": "overlay",
             "size": 10,
             "solidity": 0.2
            },
            "type": "scatter"
           }
          ],
          "scatterternary": [
           {
            "marker": {
             "colorbar": {
              "outlinewidth": 0,
              "ticks": ""
             }
            },
            "type": "scatterternary"
           }
          ],
          "surface": [
           {
            "colorbar": {
             "outlinewidth": 0,
             "ticks": ""
            },
            "colorscale": [
             [
              0.0,
              "#0d0887"
             ],
             [
              0.1111111111111111,
              "#46039f"
             ],
             [
              0.2222222222222222,
              "#7201a8"
             ],
             [
              0.3333333333333333,
              "#9c179e"
             ],
             [
              0.4444444444444444,
              "#bd3786"
             ],
             [
              0.5555555555555556,
              "#d8576b"
             ],
             [
              0.6666666666666666,
              "#ed7953"
             ],
             [
              0.7777777777777778,
              "#fb9f3a"
             ],
             [
              0.8888888888888888,
              "#fdca26"
             ],
             [
              1.0,
              "#f0f921"
             ]
            ],
            "type": "surface"
           }
          ],
          "table": [
           {
            "cells": {
             "fill": {
              "color": "#EBF0F8"
             },
             "line": {
              "color": "white"
             }
            },
            "header": {
             "fill": {
              "color": "#C8D4E3"
             },
             "line": {
              "color": "white"
             }
            },
            "type": "table"
           }
          ]
         },
         "layout": {
          "annotationdefaults": {
           "arrowcolor": "#2a3f5f",
           "arrowhead": 0,
           "arrowwidth": 1
          },
          "autotypenumbers": "strict",
          "coloraxis": {
           "colorbar": {
            "outlinewidth": 0,
            "ticks": ""
           }
          },
          "colorscale": {
           "diverging": [
            [
             0,
             "#8e0152"
            ],
            [
             0.1,
             "#c51b7d"
            ],
            [
             0.2,
             "#de77ae"
            ],
            [
             0.3,
             "#f1b6da"
            ],
            [
             0.4,
             "#fde0ef"
            ],
            [
             0.5,
             "#f7f7f7"
            ],
            [
             0.6,
             "#e6f5d0"
            ],
            [
             0.7,
             "#b8e186"
            ],
            [
             0.8,
             "#7fbc41"
            ],
            [
             0.9,
             "#4d9221"
            ],
            [
             1,
             "#276419"
            ]
           ],
           "sequential": [
            [
             0.0,
             "#0d0887"
            ],
            [
             0.1111111111111111,
             "#46039f"
            ],
            [
             0.2222222222222222,
             "#7201a8"
            ],
            [
             0.3333333333333333,
             "#9c179e"
            ],
            [
             0.4444444444444444,
             "#bd3786"
            ],
            [
             0.5555555555555556,
             "#d8576b"
            ],
            [
             0.6666666666666666,
             "#ed7953"
            ],
            [
             0.7777777777777778,
             "#fb9f3a"
            ],
            [
             0.8888888888888888,
             "#fdca26"
            ],
            [
             1.0,
             "#f0f921"
            ]
           ],
           "sequentialminus": [
            [
             0.0,
             "#0d0887"
            ],
            [
             0.1111111111111111,
             "#46039f"
            ],
            [
             0.2222222222222222,
             "#7201a8"
            ],
            [
             0.3333333333333333,
             "#9c179e"
            ],
            [
             0.4444444444444444,
             "#bd3786"
            ],
            [
             0.5555555555555556,
             "#d8576b"
            ],
            [
             0.6666666666666666,
             "#ed7953"
            ],
            [
             0.7777777777777778,
             "#fb9f3a"
            ],
            [
             0.8888888888888888,
             "#fdca26"
            ],
            [
             1.0,
             "#f0f921"
            ]
           ]
          },
          "colorway": [
           "#636efa",
           "#EF553B",
           "#00cc96",
           "#ab63fa",
           "#FFA15A",
           "#19d3f3",
           "#FF6692",
           "#B6E880",
           "#FF97FF",
           "#FECB52"
          ],
          "font": {
           "color": "#2a3f5f"
          },
          "geo": {
           "bgcolor": "white",
           "lakecolor": "white",
           "landcolor": "#E5ECF6",
           "showlakes": true,
           "showland": true,
           "subunitcolor": "white"
          },
          "hoverlabel": {
           "align": "left"
          },
          "hovermode": "closest",
          "mapbox": {
           "style": "light"
          },
          "paper_bgcolor": "white",
          "plot_bgcolor": "#E5ECF6",
          "polar": {
           "angularaxis": {
            "gridcolor": "white",
            "linecolor": "white",
            "ticks": ""
           },
           "bgcolor": "#E5ECF6",
           "radialaxis": {
            "gridcolor": "white",
            "linecolor": "white",
            "ticks": ""
           }
          },
          "scene": {
           "xaxis": {
            "backgroundcolor": "#E5ECF6",
            "gridcolor": "white",
            "gridwidth": 2,
            "linecolor": "white",
            "showbackground": true,
            "ticks": "",
            "zerolinecolor": "white"
           },
           "yaxis": {
            "backgroundcolor": "#E5ECF6",
            "gridcolor": "white",
            "gridwidth": 2,
            "linecolor": "white",
            "showbackground": true,
            "ticks": "",
            "zerolinecolor": "white"
           },
           "zaxis": {
            "backgroundcolor": "#E5ECF6",
            "gridcolor": "white",
            "gridwidth": 2,
            "linecolor": "white",
            "showbackground": true,
            "ticks": "",
            "zerolinecolor": "white"
           }
          },
          "shapedefaults": {
           "line": {
            "color": "#2a3f5f"
           }
          },
          "ternary": {
           "aaxis": {
            "gridcolor": "white",
            "linecolor": "white",
            "ticks": ""
           },
           "baxis": {
            "gridcolor": "white",
            "linecolor": "white",
            "ticks": ""
           },
           "bgcolor": "#E5ECF6",
           "caxis": {
            "gridcolor": "white",
            "linecolor": "white",
            "ticks": ""
           }
          },
          "title": {
           "x": 0.05
          },
          "xaxis": {
           "automargin": true,
           "gridcolor": "white",
           "linecolor": "white",
           "ticks": "",
           "title": {
            "standoff": 15
           },
           "zerolinecolor": "white",
           "zerolinewidth": 2
          },
          "yaxis": {
           "automargin": true,
           "gridcolor": "white",
           "linecolor": "white",
           "ticks": "",
           "title": {
            "standoff": 15
           },
           "zerolinecolor": "white",
           "zerolinewidth": 2
          }
         }
        },
        "title": {
         "font": {
          "color": "#4D5663"
         }
        },
        "xaxis": {
         "gridcolor": "#E1E5ED",
         "showgrid": true,
         "tickfont": {
          "color": "#4D5663"
         },
         "title": {
          "font": {
           "color": "#4D5663"
          },
          "text": ""
         },
         "zerolinecolor": "#E1E5ED"
        },
        "yaxis": {
         "gridcolor": "#E1E5ED",
         "showgrid": true,
         "tickfont": {
          "color": "#4D5663"
         },
         "title": {
          "font": {
           "color": "#4D5663"
          },
          "text": ""
         },
         "zerolinecolor": "#E1E5ED"
        }
       },
       "config": {
        "showLink": true,
        "linkText": "Export to plot.ly",
        "plotlyServerURL": "https://plot.ly"
       }
      },
      "text/html": "<div>                            <div id=\"b11725be-1ae9-4a25-b6b1-3f8b574fa679\" class=\"plotly-graph-div\" style=\"height:525px; width:100%;\"></div>            <script type=\"text/javascript\">                require([\"plotly\"], function(Plotly) {                    window.PLOTLYENV=window.PLOTLYENV || {};\n                    window.PLOTLYENV.BASE_URL='https://plot.ly';                                    if (document.getElementById(\"b11725be-1ae9-4a25-b6b1-3f8b574fa679\")) {                    Plotly.newPlot(                        \"b11725be-1ae9-4a25-b6b1-3f8b574fa679\",                        [{\"boxpoints\":false,\"line\":{\"width\":1.3},\"marker\":{\"color\":\"rgba(255, 153, 51, 1.0)\"},\"name\":\"a\",\"orientation\":\"v\",\"y\":[-0.47955835117961326,2.208528985383365,0.4679589633910048,-0.8551162799251366,1.2525226501637672,1.1319214520231038,0.15812173899452547,-0.9092022524719334,0.32852802693340066,-0.4676903591186404,-0.3493277560093259,1.1183452949278738,1.0373688122425815,-0.6453414703455302,0.03229546532035661,-0.6023069851028888,0.9121079412160702,1.0498745999585175,1.0919176486482147,0.19191573392508898,-0.18942501228613742,-0.81840921813167,-1.190074307457328,-0.9366038728507515,-0.856021391260267,-0.5615826830665962,0.6378853019783909,-0.4469043426630658,-0.30437064195722396,0.12651643036377053,1.5701773925381344,-0.9580031126548217,0.04328220572876478,0.2725744951757658,0.4222972618869988,-0.2920985389545437,0.16214011253466665,0.9540490890422607,1.7225130817761656,-0.10512997495124377,-0.17633757215891804,1.45413051536654,-1.0519315569532932,1.1387557835791358,1.1861446893126402,-1.7580736056974662,0.5292123753306647,-0.9993961605133591,0.4656671775443968,0.14081276623774347,1.010413912098985,0.2809253841822681,-0.17599998665524727,1.502021151027751,-0.3838066673391768,1.198474820214525,-0.44721845335323585,-0.14370261165006484,-0.8260516382539377,-0.6809444591047652,0.5975261318282004,-1.2671176535438404,-0.1451011980098431,-0.12245751430090913,-2.9311413567274505,0.3903574906989734,-0.5444592065848942,1.4805370340162713,-1.516818137400796,-0.36807158571373966,-0.16298781561838693,-2.180519736923615,1.1825365269446158,0.7316658802037822,0.011666208316439941,0.1859449212009432,-0.1704869670034482,0.5086650732355799,-0.6469319358610637,0.6787103800007991,-0.09385953422313559,1.1944846327409775,-0.1503167358094551,0.5904644508340733,0.42582199360480877,1.1586090185110205,-2.8031677845866,-0.6654053838251582,0.5205929889517756,0.2436354199909118,-0.4517153603280674,1.3044889871740712,0.3173682234696028,-0.7952936213078645,-0.9817079635434631,-0.10268464581201636,-0.49954305222214757,1.393297854592929,-0.5971193120230532,0.6050202842451881],\"type\":\"box\"},{\"boxpoints\":false,\"line\":{\"width\":1.3},\"marker\":{\"color\":\"rgba(55, 128, 191, 1.0)\"},\"name\":\"b\",\"orientation\":\"v\",\"y\":[-1.271843621889942,-2.9194771482654533,1.0778027419907863,-3.3880158092068644,0.16727993160964663,0.752657149357646,-0.23471773455215122,-0.5405081781298487,-2.718485469093071,1.3977621771945667,1.9146685524277431,0.5442835285398985,0.6920694699070546,1.3288616436071947,-1.6990132510416547,1.9951469381152758,-0.19244562711695304,-0.32523784472144124,0.6042049624099904,0.3423085542626006,-0.005723712507034573,0.1660708792426556,-0.25674707460214397,-0.1226287964154879,-1.0156204214589089,1.348641230156133,-0.8398316440997098,-0.8179472960460081,-1.4349465992015384,-1.499440425603565,1.517245350105534,-0.5308778868191003,-1.3472959906321316,-1.0406469384731583,-0.4977387501764713,1.275667989295518,1.1295127491665227,-1.6061400217783806,-0.8171279627165152,-0.4932602218745369,-0.7406254851198281,-0.199395177148563,1.0415158118454182,0.3306663594538813,0.08367312089908913,1.6710661620083822,1.6242630288549933,1.2441631698928521,-1.8427327464637056,-1.07841115026537,1.0373216854219938,1.243928951642244,0.4028753220836608,0.10716839746295827,-1.2469087711768443,-0.4416009998087673,-0.1468232659953732,1.9061089235064455,-1.4600887886691467,-1.3472652348843102,-0.19782739179798506,-0.564060507366717,0.6601245441938398,-1.8642517504969234,-0.853855547211736,-1.1533885564167732,0.5137118780719806,-0.8602111272746457,0.5283454136479098,-0.3927459258059125,-0.9987993727603097,0.685678981657241,1.0824709572760371,-0.8563875703591132,-0.08003984227964277,0.7121193710585941,1.029592809196191,-0.33060904117985307,0.597189021016201,1.994985364857601,1.5750586947586183,0.3732431896844038,0.2183568914505785,-1.5701190492530126,-0.021869881075446528,-1.6773201519956382,-0.35426462746605936,0.8111479806834876,0.17462866309631145,1.1811359917261979,-1.7985183343782079,-0.40976299717349285,-0.5766078869323968,-0.6599137284909488,-0.6276952753342473,1.5578846219563145,2.3818500342349207,0.5361410686341836,1.2528965783784614,0.9650038473548902],\"type\":\"box\"},{\"boxpoints\":false,\"line\":{\"width\":1.3},\"marker\":{\"color\":\"rgba(50, 171, 96, 1.0)\"},\"name\":\"c\",\"orientation\":\"v\",\"y\":[0.5967508133460097,-0.8310625436125187,-1.186075281486645,0.6839892029061092,0.33422412175490246,-0.3071702767291182,1.251127175522188,1.0003552532728113,-0.2377420517392665,-0.4697527063118209,0.5708434518927604,-1.1947960195694187,-0.5211675599806131,0.7158714474367859,0.8614422238381686,0.43157178546055064,1.3963028975464862,1.4875988076170195,1.7131776145581348,0.3262254353589354,-0.12552377386028193,-1.9022985701321304,-0.9120719616111599,1.7616033628142032,-0.6068907813949179,-0.2530358940260846,1.6050900725008113,0.8389317650171128,-0.002909916373665522,1.7231613931499312,0.42853309202866596,0.38562358104400046,-0.5816457524323265,-0.29516448723984784,1.1591737980493135,0.8823222830691667,-0.8290692062440366,-0.30242559226682475,0.6861308003160629,0.6657148569745158,-1.2223430945458924,-0.18390371544912945,-1.9892801418727477,-0.5532126817386545,0.14529208070328165,0.10530396944482108,0.840048514744419,0.3109258403053101,1.5149418881661314,0.6960741286557455,-0.5746995322937898,-1.2642798722621171,-0.8331997062746668,-0.4809489987602823,0.4879521164814944,-0.18970553016049113,-1.4460945647428922,-0.4197210086423235,1.0938141648237734,0.420365178460334,0.5437047780521163,2.1277396369110932,-1.4824255251585405,0.28014790326698,-1.0364764598428098,-1.0137255975534307,-0.5384372338453128,-1.7448174988513143,-1.2147675382539436,-0.1530862898792282,0.5975523415648675,-2.176185464348007,-1.2617209685508644,-1.3528072617329616,-0.6708566559177003,0.8891581711084477,0.44228700217665634,-0.09034793894769927,-0.8941483893465868,0.7359420705726158,-1.2330121017486972,-0.6461715862327733,-1.3642461847256528,0.24212955976515083,0.89404271749321,-0.7611759721173983,-0.2716282449010879,-0.7042685796637618,1.5145953401125853,0.36400562879899206,0.39065002581296315,-0.6182500302110686,0.5498062925369558,0.5543231928198981,2.3708937729816464,1.0361563012612234,-0.7183668727969715,-0.16522583193793056,0.4526790472959542,0.768056606707704],\"type\":\"box\"},{\"boxpoints\":false,\"line\":{\"width\":1.3},\"marker\":{\"color\":\"rgba(128, 0, 128, 1.0)\"},\"name\":\"d\",\"orientation\":\"v\",\"y\":[-0.21618728541816296,1.2525459226652675,-0.3358009163971509,-0.8184760749598912,-0.3772166077514853,-1.3861624474993819,0.30740710849638947,0.275202583116614,-1.3240388450379998,-0.7257645398150134,0.07045922949442338,-0.48676497457833123,-0.6106546321456783,0.6769412416691347,0.6236781296783847,0.8984182754961492,-1.208042194254034,-0.1659269927069783,-1.276342627133373,-0.6859594465868938,1.4403530242834823,-0.24477321840964772,-1.5222734448540447,0.14917116882110168,-0.13808883464957145,-0.4375375783247449,1.567233581242451,1.5565760717056871,-0.72034678773032,-0.7287806352140853,0.22302539078996866,-2.0335464140443538,0.3157987247980749,1.0890092593239864,-0.1513529934338727,-0.7978244768567099,0.3821087333243263,-1.6202464811848905,0.7034416052270022,-0.9791495147711768,-0.6134779201626838,-0.04851198245023964,1.20411303148368,-0.6614127908787752,0.452880998327755,1.6639408358453316,0.11648833214149902,-0.27393767537970026,0.06903471091473971,0.1385728064149139,-0.7919898601517497,-0.47316026107910164,-0.49955084677851036,-0.26818185877208356,-0.3619998555526626,0.4699353492725758,1.2321408411404553,-1.0803311292418136,-0.17751174030516542,0.6243373549201932,0.36301153604288394,-1.4370960940189874,0.07234991480975235,0.2330486893618556,0.04109102379992068,0.15324613118464026,0.4840986053270673,-0.539567382808983,-0.17519068744518013,0.8079551946384139,-1.850316786185605,-1.3192894598113594,-1.1041588175263408,-0.4795675713229714,-0.08268057407004485,0.8291394204101675,1.1569962886971963,0.17575314100585898,-0.7416799714059854,-0.07150431966075302,-0.6864755436356272,-0.26215642090932006,-1.0576739331278184,-0.6623089486977592,-1.7711151174399706,2.212812051653826,-0.46079828894359876,-1.654960509967774,0.06838860174176283,-1.2181228796557841,0.5446319116403866,0.32939615965767904,0.7440103538166203,-0.01972462708917305,-0.49069094822653325,1.020485452966454,-1.3701495514676203,0.2853686307035859,1.0522408642498642,-1.536015059559466],\"type\":\"box\"}],                        {\"legend\":{\"bgcolor\":\"#F5F6F9\",\"font\":{\"color\":\"#4D5663\"}},\"paper_bgcolor\":\"#F5F6F9\",\"plot_bgcolor\":\"#F5F6F9\",\"template\":{\"data\":{\"barpolar\":[{\"marker\":{\"line\":{\"color\":\"#E5ECF6\",\"width\":0.5},\"pattern\":{\"fillmode\":\"overlay\",\"size\":10,\"solidity\":0.2}},\"type\":\"barpolar\"}],\"bar\":[{\"error_x\":{\"color\":\"#2a3f5f\"},\"error_y\":{\"color\":\"#2a3f5f\"},\"marker\":{\"line\":{\"color\":\"#E5ECF6\",\"width\":0.5},\"pattern\":{\"fillmode\":\"overlay\",\"size\":10,\"solidity\":0.2}},\"type\":\"bar\"}],\"carpet\":[{\"aaxis\":{\"endlinecolor\":\"#2a3f5f\",\"gridcolor\":\"white\",\"linecolor\":\"white\",\"minorgridcolor\":\"white\",\"startlinecolor\":\"#2a3f5f\"},\"baxis\":{\"endlinecolor\":\"#2a3f5f\",\"gridcolor\":\"white\",\"linecolor\":\"white\",\"minorgridcolor\":\"white\",\"startlinecolor\":\"#2a3f5f\"},\"type\":\"carpet\"}],\"choropleth\":[{\"colorbar\":{\"outlinewidth\":0,\"ticks\":\"\"},\"type\":\"choropleth\"}],\"contourcarpet\":[{\"colorbar\":{\"outlinewidth\":0,\"ticks\":\"\"},\"type\":\"contourcarpet\"}],\"contour\":[{\"colorbar\":{\"outlinewidth\":0,\"ticks\":\"\"},\"colorscale\":[[0.0,\"#0d0887\"],[0.1111111111111111,\"#46039f\"],[0.2222222222222222,\"#7201a8\"],[0.3333333333333333,\"#9c179e\"],[0.4444444444444444,\"#bd3786\"],[0.5555555555555556,\"#d8576b\"],[0.6666666666666666,\"#ed7953\"],[0.7777777777777778,\"#fb9f3a\"],[0.8888888888888888,\"#fdca26\"],[1.0,\"#f0f921\"]],\"type\":\"contour\"}],\"heatmapgl\":[{\"colorbar\":{\"outlinewidth\":0,\"ticks\":\"\"},\"colorscale\":[[0.0,\"#0d0887\"],[0.1111111111111111,\"#46039f\"],[0.2222222222222222,\"#7201a8\"],[0.3333333333333333,\"#9c179e\"],[0.4444444444444444,\"#bd3786\"],[0.5555555555555556,\"#d8576b\"],[0.6666666666666666,\"#ed7953\"],[0.7777777777777778,\"#fb9f3a\"],[0.8888888888888888,\"#fdca26\"],[1.0,\"#f0f921\"]],\"type\":\"heatmapgl\"}],\"heatmap\":[{\"colorbar\":{\"outlinewidth\":0,\"ticks\":\"\"},\"colorscale\":[[0.0,\"#0d0887\"],[0.1111111111111111,\"#46039f\"],[0.2222222222222222,\"#7201a8\"],[0.3333333333333333,\"#9c179e\"],[0.4444444444444444,\"#bd3786\"],[0.5555555555555556,\"#d8576b\"],[0.6666666666666666,\"#ed7953\"],[0.7777777777777778,\"#fb9f3a\"],[0.8888888888888888,\"#fdca26\"],[1.0,\"#f0f921\"]],\"type\":\"heatmap\"}],\"histogram2dcontour\":[{\"colorbar\":{\"outlinewidth\":0,\"ticks\":\"\"},\"colorscale\":[[0.0,\"#0d0887\"],[0.1111111111111111,\"#46039f\"],[0.2222222222222222,\"#7201a8\"],[0.3333333333333333,\"#9c179e\"],[0.4444444444444444,\"#bd3786\"],[0.5555555555555556,\"#d8576b\"],[0.6666666666666666,\"#ed7953\"],[0.7777777777777778,\"#fb9f3a\"],[0.8888888888888888,\"#fdca26\"],[1.0,\"#f0f921\"]],\"type\":\"histogram2dcontour\"}],\"histogram2d\":[{\"colorbar\":{\"outlinewidth\":0,\"ticks\":\"\"},\"colorscale\":[[0.0,\"#0d0887\"],[0.1111111111111111,\"#46039f\"],[0.2222222222222222,\"#7201a8\"],[0.3333333333333333,\"#9c179e\"],[0.4444444444444444,\"#bd3786\"],[0.5555555555555556,\"#d8576b\"],[0.6666666666666666,\"#ed7953\"],[0.7777777777777778,\"#fb9f3a\"],[0.8888888888888888,\"#fdca26\"],[1.0,\"#f0f921\"]],\"type\":\"histogram2d\"}],\"histogram\":[{\"marker\":{\"pattern\":{\"fillmode\":\"overlay\",\"size\":10,\"solidity\":0.2}},\"type\":\"histogram\"}],\"mesh3d\":[{\"colorbar\":{\"outlinewidth\":0,\"ticks\":\"\"},\"type\":\"mesh3d\"}],\"parcoords\":[{\"line\":{\"colorbar\":{\"outlinewidth\":0,\"ticks\":\"\"}},\"type\":\"parcoords\"}],\"pie\":[{\"automargin\":true,\"type\":\"pie\"}],\"scatter3d\":[{\"line\":{\"colorbar\":{\"outlinewidth\":0,\"ticks\":\"\"}},\"marker\":{\"colorbar\":{\"outlinewidth\":0,\"ticks\":\"\"}},\"type\":\"scatter3d\"}],\"scattercarpet\":[{\"marker\":{\"colorbar\":{\"outlinewidth\":0,\"ticks\":\"\"}},\"type\":\"scattercarpet\"}],\"scattergeo\":[{\"marker\":{\"colorbar\":{\"outlinewidth\":0,\"ticks\":\"\"}},\"type\":\"scattergeo\"}],\"scattergl\":[{\"marker\":{\"colorbar\":{\"outlinewidth\":0,\"ticks\":\"\"}},\"type\":\"scattergl\"}],\"scattermapbox\":[{\"marker\":{\"colorbar\":{\"outlinewidth\":0,\"ticks\":\"\"}},\"type\":\"scattermapbox\"}],\"scatterpolargl\":[{\"marker\":{\"colorbar\":{\"outlinewidth\":0,\"ticks\":\"\"}},\"type\":\"scatterpolargl\"}],\"scatterpolar\":[{\"marker\":{\"colorbar\":{\"outlinewidth\":0,\"ticks\":\"\"}},\"type\":\"scatterpolar\"}],\"scatter\":[{\"fillpattern\":{\"fillmode\":\"overlay\",\"size\":10,\"solidity\":0.2},\"type\":\"scatter\"}],\"scatterternary\":[{\"marker\":{\"colorbar\":{\"outlinewidth\":0,\"ticks\":\"\"}},\"type\":\"scatterternary\"}],\"surface\":[{\"colorbar\":{\"outlinewidth\":0,\"ticks\":\"\"},\"colorscale\":[[0.0,\"#0d0887\"],[0.1111111111111111,\"#46039f\"],[0.2222222222222222,\"#7201a8\"],[0.3333333333333333,\"#9c179e\"],[0.4444444444444444,\"#bd3786\"],[0.5555555555555556,\"#d8576b\"],[0.6666666666666666,\"#ed7953\"],[0.7777777777777778,\"#fb9f3a\"],[0.8888888888888888,\"#fdca26\"],[1.0,\"#f0f921\"]],\"type\":\"surface\"}],\"table\":[{\"cells\":{\"fill\":{\"color\":\"#EBF0F8\"},\"line\":{\"color\":\"white\"}},\"header\":{\"fill\":{\"color\":\"#C8D4E3\"},\"line\":{\"color\":\"white\"}},\"type\":\"table\"}]},\"layout\":{\"annotationdefaults\":{\"arrowcolor\":\"#2a3f5f\",\"arrowhead\":0,\"arrowwidth\":1},\"autotypenumbers\":\"strict\",\"coloraxis\":{\"colorbar\":{\"outlinewidth\":0,\"ticks\":\"\"}},\"colorscale\":{\"diverging\":[[0,\"#8e0152\"],[0.1,\"#c51b7d\"],[0.2,\"#de77ae\"],[0.3,\"#f1b6da\"],[0.4,\"#fde0ef\"],[0.5,\"#f7f7f7\"],[0.6,\"#e6f5d0\"],[0.7,\"#b8e186\"],[0.8,\"#7fbc41\"],[0.9,\"#4d9221\"],[1,\"#276419\"]],\"sequential\":[[0.0,\"#0d0887\"],[0.1111111111111111,\"#46039f\"],[0.2222222222222222,\"#7201a8\"],[0.3333333333333333,\"#9c179e\"],[0.4444444444444444,\"#bd3786\"],[0.5555555555555556,\"#d8576b\"],[0.6666666666666666,\"#ed7953\"],[0.7777777777777778,\"#fb9f3a\"],[0.8888888888888888,\"#fdca26\"],[1.0,\"#f0f921\"]],\"sequentialminus\":[[0.0,\"#0d0887\"],[0.1111111111111111,\"#46039f\"],[0.2222222222222222,\"#7201a8\"],[0.3333333333333333,\"#9c179e\"],[0.4444444444444444,\"#bd3786\"],[0.5555555555555556,\"#d8576b\"],[0.6666666666666666,\"#ed7953\"],[0.7777777777777778,\"#fb9f3a\"],[0.8888888888888888,\"#fdca26\"],[1.0,\"#f0f921\"]]},\"colorway\":[\"#636efa\",\"#EF553B\",\"#00cc96\",\"#ab63fa\",\"#FFA15A\",\"#19d3f3\",\"#FF6692\",\"#B6E880\",\"#FF97FF\",\"#FECB52\"],\"font\":{\"color\":\"#2a3f5f\"},\"geo\":{\"bgcolor\":\"white\",\"lakecolor\":\"white\",\"landcolor\":\"#E5ECF6\",\"showlakes\":true,\"showland\":true,\"subunitcolor\":\"white\"},\"hoverlabel\":{\"align\":\"left\"},\"hovermode\":\"closest\",\"mapbox\":{\"style\":\"light\"},\"paper_bgcolor\":\"white\",\"plot_bgcolor\":\"#E5ECF6\",\"polar\":{\"angularaxis\":{\"gridcolor\":\"white\",\"linecolor\":\"white\",\"ticks\":\"\"},\"bgcolor\":\"#E5ECF6\",\"radialaxis\":{\"gridcolor\":\"white\",\"linecolor\":\"white\",\"ticks\":\"\"}},\"scene\":{\"xaxis\":{\"backgroundcolor\":\"#E5ECF6\",\"gridcolor\":\"white\",\"gridwidth\":2,\"linecolor\":\"white\",\"showbackground\":true,\"ticks\":\"\",\"zerolinecolor\":\"white\"},\"yaxis\":{\"backgroundcolor\":\"#E5ECF6\",\"gridcolor\":\"white\",\"gridwidth\":2,\"linecolor\":\"white\",\"showbackground\":true,\"ticks\":\"\",\"zerolinecolor\":\"white\"},\"zaxis\":{\"backgroundcolor\":\"#E5ECF6\",\"gridcolor\":\"white\",\"gridwidth\":2,\"linecolor\":\"white\",\"showbackground\":true,\"ticks\":\"\",\"zerolinecolor\":\"white\"}},\"shapedefaults\":{\"line\":{\"color\":\"#2a3f5f\"}},\"ternary\":{\"aaxis\":{\"gridcolor\":\"white\",\"linecolor\":\"white\",\"ticks\":\"\"},\"baxis\":{\"gridcolor\":\"white\",\"linecolor\":\"white\",\"ticks\":\"\"},\"bgcolor\":\"#E5ECF6\",\"caxis\":{\"gridcolor\":\"white\",\"linecolor\":\"white\",\"ticks\":\"\"}},\"title\":{\"x\":0.05},\"xaxis\":{\"automargin\":true,\"gridcolor\":\"white\",\"linecolor\":\"white\",\"ticks\":\"\",\"title\":{\"standoff\":15},\"zerolinecolor\":\"white\",\"zerolinewidth\":2},\"yaxis\":{\"automargin\":true,\"gridcolor\":\"white\",\"linecolor\":\"white\",\"ticks\":\"\",\"title\":{\"standoff\":15},\"zerolinecolor\":\"white\",\"zerolinewidth\":2}}},\"title\":{\"font\":{\"color\":\"#4D5663\"}},\"xaxis\":{\"gridcolor\":\"#E1E5ED\",\"showgrid\":true,\"tickfont\":{\"color\":\"#4D5663\"},\"title\":{\"font\":{\"color\":\"#4D5663\"},\"text\":\"\"},\"zerolinecolor\":\"#E1E5ED\"},\"yaxis\":{\"gridcolor\":\"#E1E5ED\",\"showgrid\":true,\"tickfont\":{\"color\":\"#4D5663\"},\"title\":{\"font\":{\"color\":\"#4D5663\"},\"text\":\"\"},\"zerolinecolor\":\"#E1E5ED\"}},                        {\"showLink\": true, \"linkText\": \"Export to plot.ly\", \"plotlyServerURL\": \"https://plot.ly\", \"responsive\": true}                    ).then(function(){\n                            \nvar gd = document.getElementById('b11725be-1ae9-4a25-b6b1-3f8b574fa679');\nvar x = new MutationObserver(function (mutations, observer) {{\n        var display = window.getComputedStyle(gd).display;\n        if (!display || display === 'none') {{\n            console.log([gd, 'removed!']);\n            Plotly.purge(gd);\n            observer.disconnect();\n        }}\n}});\n\n// Listen for the removal of the full notebook cells\nvar notebookContainer = gd.closest('#notebook-container');\nif (notebookContainer) {{\n    x.observe(notebookContainer, {childList: true});\n}}\n\n// Listen for the clearing of the current output cell\nvar outputEl = gd.closest('.output');\nif (outputEl) {{\n    x.observe(outputEl, {childList: true});\n}}\n\n                        })                };                });            </script>        </div>"
     },
     "metadata": {},
     "output_type": "display_data"
    }
   ],
   "source": [
    "df.iplot(kind = 'box')"
   ],
   "metadata": {
    "collapsed": false,
    "ExecuteTime": {
     "end_time": "2023-07-24T20:20:22.828977100Z",
     "start_time": "2023-07-24T20:20:22.694967800Z"
    }
   }
  },
  {
   "cell_type": "code",
   "execution_count": 28,
   "outputs": [
    {
     "data": {
      "text/plain": "  Category  Values\n0        A      32\n1        B      43\n2        C      50",
      "text/html": "<div>\n<style scoped>\n    .dataframe tbody tr th:only-of-type {\n        vertical-align: middle;\n    }\n\n    .dataframe tbody tr th {\n        vertical-align: top;\n    }\n\n    .dataframe thead th {\n        text-align: right;\n    }\n</style>\n<table border=\"1\" class=\"dataframe\">\n  <thead>\n    <tr style=\"text-align: right;\">\n      <th></th>\n      <th>Category</th>\n      <th>Values</th>\n    </tr>\n  </thead>\n  <tbody>\n    <tr>\n      <th>0</th>\n      <td>A</td>\n      <td>32</td>\n    </tr>\n    <tr>\n      <th>1</th>\n      <td>B</td>\n      <td>43</td>\n    </tr>\n    <tr>\n      <th>2</th>\n      <td>C</td>\n      <td>50</td>\n    </tr>\n  </tbody>\n</table>\n</div>"
     },
     "execution_count": 28,
     "metadata": {},
     "output_type": "execute_result"
    }
   ],
   "source": [
    "df2"
   ],
   "metadata": {
    "collapsed": false,
    "ExecuteTime": {
     "end_time": "2023-07-24T20:21:31.418226600Z",
     "start_time": "2023-07-24T20:21:31.378250500Z"
    }
   }
  },
  {
   "cell_type": "code",
   "execution_count": 29,
   "outputs": [],
   "source": [
    "pd3 = pd.DataFrame({'x' : [1, 2, 3, 14, 5], 'y':[10,20,30,40,50], 'z':[102, 289,13,234,121]})"
   ],
   "metadata": {
    "collapsed": false,
    "ExecuteTime": {
     "end_time": "2023-07-24T20:23:06.821563600Z",
     "start_time": "2023-07-24T20:23:06.791582900Z"
    }
   }
  },
  {
   "cell_type": "code",
   "execution_count": 30,
   "outputs": [
    {
     "data": {
      "text/plain": "    x   y    z\n0   1  10  102\n1   2  20  289\n2   3  30   13\n3  14  40  234\n4   5  50  121",
      "text/html": "<div>\n<style scoped>\n    .dataframe tbody tr th:only-of-type {\n        vertical-align: middle;\n    }\n\n    .dataframe tbody tr th {\n        vertical-align: top;\n    }\n\n    .dataframe thead th {\n        text-align: right;\n    }\n</style>\n<table border=\"1\" class=\"dataframe\">\n  <thead>\n    <tr style=\"text-align: right;\">\n      <th></th>\n      <th>x</th>\n      <th>y</th>\n      <th>z</th>\n    </tr>\n  </thead>\n  <tbody>\n    <tr>\n      <th>0</th>\n      <td>1</td>\n      <td>10</td>\n      <td>102</td>\n    </tr>\n    <tr>\n      <th>1</th>\n      <td>2</td>\n      <td>20</td>\n      <td>289</td>\n    </tr>\n    <tr>\n      <th>2</th>\n      <td>3</td>\n      <td>30</td>\n      <td>13</td>\n    </tr>\n    <tr>\n      <th>3</th>\n      <td>14</td>\n      <td>40</td>\n      <td>234</td>\n    </tr>\n    <tr>\n      <th>4</th>\n      <td>5</td>\n      <td>50</td>\n      <td>121</td>\n    </tr>\n  </tbody>\n</table>\n</div>"
     },
     "execution_count": 30,
     "metadata": {},
     "output_type": "execute_result"
    }
   ],
   "source": [
    "pd3"
   ],
   "metadata": {
    "collapsed": false,
    "ExecuteTime": {
     "end_time": "2023-07-24T20:23:11.341963400Z",
     "start_time": "2023-07-24T20:23:11.294991200Z"
    }
   }
  },
  {
   "cell_type": "code",
   "execution_count": 31,
   "outputs": [
    {
     "data": {
      "application/vnd.plotly.v1+json": {
       "data": [
        {
         "colorscale": [
          [
           0.0,
           "rgb(255, 153, 51)"
          ],
          [
           0.1111111111111111,
           "rgb(55, 128, 191)"
          ],
          [
           0.2222222222222222,
           "rgb(50, 171, 96)"
          ],
          [
           0.3333333333333333,
           "rgb(128, 0, 128)"
          ],
          [
           0.4444444444444444,
           "rgb(219, 64, 82)"
          ],
          [
           0.5555555555555556,
           "rgb(0, 128, 128)"
          ],
          [
           0.6666666666666666,
           "rgb(255, 255, 51)"
          ],
          [
           0.7777777777777778,
           "rgb(128, 128, 0)"
          ],
          [
           0.8888888888888888,
           "rgb(251, 128, 114)"
          ],
          [
           1.0,
           "rgb(128, 177, 211)"
          ]
         ],
         "x": [
          0,
          1,
          2,
          3,
          4,
          5,
          6,
          7,
          8,
          9,
          10,
          11,
          12,
          13,
          14,
          15,
          16,
          17,
          18,
          19,
          20,
          21,
          22,
          23,
          24,
          25,
          26,
          27,
          28,
          29,
          30,
          31,
          32,
          33,
          34,
          35,
          36,
          37,
          38,
          39,
          40,
          41,
          42,
          43,
          44,
          45,
          46,
          47,
          48,
          49,
          50,
          51,
          52,
          53,
          54,
          55,
          56,
          57,
          58,
          59,
          60,
          61,
          62,
          63,
          64,
          65,
          66,
          67,
          68,
          69,
          70,
          71,
          72,
          73,
          74,
          75,
          76,
          77,
          78,
          79,
          80,
          81,
          82,
          83,
          84,
          85,
          86,
          87,
          88,
          89,
          90,
          91,
          92,
          93,
          94,
          95,
          96,
          97,
          98,
          99
         ],
         "y": [
          "a",
          "b",
          "c",
          "d"
         ],
         "z": [
          [
           -0.47955835117961326,
           2.208528985383365,
           0.4679589633910048,
           -0.8551162799251366,
           1.2525226501637672,
           1.1319214520231038,
           0.15812173899452547,
           -0.9092022524719334,
           0.32852802693340066,
           -0.4676903591186404,
           -0.3493277560093259,
           1.1183452949278738,
           1.0373688122425815,
           -0.6453414703455302,
           0.03229546532035661,
           -0.6023069851028888,
           0.9121079412160702,
           1.0498745999585175,
           1.0919176486482147,
           0.19191573392508898,
           -0.18942501228613742,
           -0.81840921813167,
           -1.190074307457328,
           -0.9366038728507515,
           -0.856021391260267,
           -0.5615826830665962,
           0.6378853019783909,
           -0.4469043426630658,
           -0.30437064195722396,
           0.12651643036377053,
           1.5701773925381344,
           -0.9580031126548217,
           0.04328220572876478,
           0.2725744951757658,
           0.4222972618869988,
           -0.2920985389545437,
           0.16214011253466665,
           0.9540490890422607,
           1.7225130817761656,
           -0.10512997495124377,
           -0.17633757215891804,
           1.45413051536654,
           -1.0519315569532932,
           1.1387557835791358,
           1.1861446893126402,
           -1.7580736056974662,
           0.5292123753306647,
           -0.9993961605133591,
           0.4656671775443968,
           0.14081276623774347,
           1.010413912098985,
           0.2809253841822681,
           -0.17599998665524727,
           1.502021151027751,
           -0.3838066673391768,
           1.198474820214525,
           -0.44721845335323585,
           -0.14370261165006484,
           -0.8260516382539377,
           -0.6809444591047652,
           0.5975261318282004,
           -1.2671176535438404,
           -0.1451011980098431,
           -0.12245751430090913,
           -2.9311413567274505,
           0.3903574906989734,
           -0.5444592065848942,
           1.4805370340162713,
           -1.516818137400796,
           -0.36807158571373966,
           -0.16298781561838693,
           -2.180519736923615,
           1.1825365269446158,
           0.7316658802037822,
           0.011666208316439941,
           0.1859449212009432,
           -0.1704869670034482,
           0.5086650732355799,
           -0.6469319358610637,
           0.6787103800007991,
           -0.09385953422313559,
           1.1944846327409775,
           -0.1503167358094551,
           0.5904644508340733,
           0.42582199360480877,
           1.1586090185110205,
           -2.8031677845866,
           -0.6654053838251582,
           0.5205929889517756,
           0.2436354199909118,
           -0.4517153603280674,
           1.3044889871740712,
           0.3173682234696028,
           -0.7952936213078645,
           -0.9817079635434631,
           -0.10268464581201636,
           -0.49954305222214757,
           1.393297854592929,
           -0.5971193120230532,
           0.6050202842451881
          ],
          [
           -1.271843621889942,
           -2.9194771482654533,
           1.0778027419907863,
           -3.3880158092068644,
           0.16727993160964663,
           0.752657149357646,
           -0.23471773455215122,
           -0.5405081781298487,
           -2.718485469093071,
           1.3977621771945667,
           1.9146685524277431,
           0.5442835285398985,
           0.6920694699070546,
           1.3288616436071947,
           -1.6990132510416547,
           1.9951469381152758,
           -0.19244562711695304,
           -0.32523784472144124,
           0.6042049624099904,
           0.3423085542626006,
           -0.005723712507034573,
           0.1660708792426556,
           -0.25674707460214397,
           -0.1226287964154879,
           -1.0156204214589089,
           1.348641230156133,
           -0.8398316440997098,
           -0.8179472960460081,
           -1.4349465992015384,
           -1.499440425603565,
           1.517245350105534,
           -0.5308778868191003,
           -1.3472959906321316,
           -1.0406469384731583,
           -0.4977387501764713,
           1.275667989295518,
           1.1295127491665227,
           -1.6061400217783806,
           -0.8171279627165152,
           -0.4932602218745369,
           -0.7406254851198281,
           -0.199395177148563,
           1.0415158118454182,
           0.3306663594538813,
           0.08367312089908913,
           1.6710661620083822,
           1.6242630288549933,
           1.2441631698928521,
           -1.8427327464637056,
           -1.07841115026537,
           1.0373216854219938,
           1.243928951642244,
           0.4028753220836608,
           0.10716839746295827,
           -1.2469087711768443,
           -0.4416009998087673,
           -0.1468232659953732,
           1.9061089235064455,
           -1.4600887886691467,
           -1.3472652348843102,
           -0.19782739179798506,
           -0.564060507366717,
           0.6601245441938398,
           -1.8642517504969234,
           -0.853855547211736,
           -1.1533885564167732,
           0.5137118780719806,
           -0.8602111272746457,
           0.5283454136479098,
           -0.3927459258059125,
           -0.9987993727603097,
           0.685678981657241,
           1.0824709572760371,
           -0.8563875703591132,
           -0.08003984227964277,
           0.7121193710585941,
           1.029592809196191,
           -0.33060904117985307,
           0.597189021016201,
           1.994985364857601,
           1.5750586947586183,
           0.3732431896844038,
           0.2183568914505785,
           -1.5701190492530126,
           -0.021869881075446528,
           -1.6773201519956382,
           -0.35426462746605936,
           0.8111479806834876,
           0.17462866309631145,
           1.1811359917261979,
           -1.7985183343782079,
           -0.40976299717349285,
           -0.5766078869323968,
           -0.6599137284909488,
           -0.6276952753342473,
           1.5578846219563145,
           2.3818500342349207,
           0.5361410686341836,
           1.2528965783784614,
           0.9650038473548902
          ],
          [
           0.5967508133460097,
           -0.8310625436125187,
           -1.186075281486645,
           0.6839892029061092,
           0.33422412175490246,
           -0.3071702767291182,
           1.251127175522188,
           1.0003552532728113,
           -0.2377420517392665,
           -0.4697527063118209,
           0.5708434518927604,
           -1.1947960195694187,
           -0.5211675599806131,
           0.7158714474367859,
           0.8614422238381686,
           0.43157178546055064,
           1.3963028975464862,
           1.4875988076170195,
           1.7131776145581348,
           0.3262254353589354,
           -0.12552377386028193,
           -1.9022985701321304,
           -0.9120719616111599,
           1.7616033628142032,
           -0.6068907813949179,
           -0.2530358940260846,
           1.6050900725008113,
           0.8389317650171128,
           -0.002909916373665522,
           1.7231613931499312,
           0.42853309202866596,
           0.38562358104400046,
           -0.5816457524323265,
           -0.29516448723984784,
           1.1591737980493135,
           0.8823222830691667,
           -0.8290692062440366,
           -0.30242559226682475,
           0.6861308003160629,
           0.6657148569745158,
           -1.2223430945458924,
           -0.18390371544912945,
           -1.9892801418727477,
           -0.5532126817386545,
           0.14529208070328165,
           0.10530396944482108,
           0.840048514744419,
           0.3109258403053101,
           1.5149418881661314,
           0.6960741286557455,
           -0.5746995322937898,
           -1.2642798722621171,
           -0.8331997062746668,
           -0.4809489987602823,
           0.4879521164814944,
           -0.18970553016049113,
           -1.4460945647428922,
           -0.4197210086423235,
           1.0938141648237734,
           0.420365178460334,
           0.5437047780521163,
           2.1277396369110932,
           -1.4824255251585405,
           0.28014790326698,
           -1.0364764598428098,
           -1.0137255975534307,
           -0.5384372338453128,
           -1.7448174988513143,
           -1.2147675382539436,
           -0.1530862898792282,
           0.5975523415648675,
           -2.176185464348007,
           -1.2617209685508644,
           -1.3528072617329616,
           -0.6708566559177003,
           0.8891581711084477,
           0.44228700217665634,
           -0.09034793894769927,
           -0.8941483893465868,
           0.7359420705726158,
           -1.2330121017486972,
           -0.6461715862327733,
           -1.3642461847256528,
           0.24212955976515083,
           0.89404271749321,
           -0.7611759721173983,
           -0.2716282449010879,
           -0.7042685796637618,
           1.5145953401125853,
           0.36400562879899206,
           0.39065002581296315,
           -0.6182500302110686,
           0.5498062925369558,
           0.5543231928198981,
           2.3708937729816464,
           1.0361563012612234,
           -0.7183668727969715,
           -0.16522583193793056,
           0.4526790472959542,
           0.768056606707704
          ],
          [
           -0.21618728541816296,
           1.2525459226652675,
           -0.3358009163971509,
           -0.8184760749598912,
           -0.3772166077514853,
           -1.3861624474993819,
           0.30740710849638947,
           0.275202583116614,
           -1.3240388450379998,
           -0.7257645398150134,
           0.07045922949442338,
           -0.48676497457833123,
           -0.6106546321456783,
           0.6769412416691347,
           0.6236781296783847,
           0.8984182754961492,
           -1.208042194254034,
           -0.1659269927069783,
           -1.276342627133373,
           -0.6859594465868938,
           1.4403530242834823,
           -0.24477321840964772,
           -1.5222734448540447,
           0.14917116882110168,
           -0.13808883464957145,
           -0.4375375783247449,
           1.567233581242451,
           1.5565760717056871,
           -0.72034678773032,
           -0.7287806352140853,
           0.22302539078996866,
           -2.0335464140443538,
           0.3157987247980749,
           1.0890092593239864,
           -0.1513529934338727,
           -0.7978244768567099,
           0.3821087333243263,
           -1.6202464811848905,
           0.7034416052270022,
           -0.9791495147711768,
           -0.6134779201626838,
           -0.04851198245023964,
           1.20411303148368,
           -0.6614127908787752,
           0.452880998327755,
           1.6639408358453316,
           0.11648833214149902,
           -0.27393767537970026,
           0.06903471091473971,
           0.1385728064149139,
           -0.7919898601517497,
           -0.47316026107910164,
           -0.49955084677851036,
           -0.26818185877208356,
           -0.3619998555526626,
           0.4699353492725758,
           1.2321408411404553,
           -1.0803311292418136,
           -0.17751174030516542,
           0.6243373549201932,
           0.36301153604288394,
           -1.4370960940189874,
           0.07234991480975235,
           0.2330486893618556,
           0.04109102379992068,
           0.15324613118464026,
           0.4840986053270673,
           -0.539567382808983,
           -0.17519068744518013,
           0.8079551946384139,
           -1.850316786185605,
           -1.3192894598113594,
           -1.1041588175263408,
           -0.4795675713229714,
           -0.08268057407004485,
           0.8291394204101675,
           1.1569962886971963,
           0.17575314100585898,
           -0.7416799714059854,
           -0.07150431966075302,
           -0.6864755436356272,
           -0.26215642090932006,
           -1.0576739331278184,
           -0.6623089486977592,
           -1.7711151174399706,
           2.212812051653826,
           -0.46079828894359876,
           -1.654960509967774,
           0.06838860174176283,
           -1.2181228796557841,
           0.5446319116403866,
           0.32939615965767904,
           0.7440103538166203,
           -0.01972462708917305,
           -0.49069094822653325,
           1.020485452966454,
           -1.3701495514676203,
           0.2853686307035859,
           1.0522408642498642,
           -1.536015059559466
          ]
         ],
         "type": "surface"
        }
       ],
       "layout": {
        "legend": {
         "bgcolor": "#F5F6F9",
         "font": {
          "color": "#4D5663"
         }
        },
        "paper_bgcolor": "#F5F6F9",
        "plot_bgcolor": "#F5F6F9",
        "template": {
         "data": {
          "barpolar": [
           {
            "marker": {
             "line": {
              "color": "#E5ECF6",
              "width": 0.5
             },
             "pattern": {
              "fillmode": "overlay",
              "size": 10,
              "solidity": 0.2
             }
            },
            "type": "barpolar"
           }
          ],
          "bar": [
           {
            "error_x": {
             "color": "#2a3f5f"
            },
            "error_y": {
             "color": "#2a3f5f"
            },
            "marker": {
             "line": {
              "color": "#E5ECF6",
              "width": 0.5
             },
             "pattern": {
              "fillmode": "overlay",
              "size": 10,
              "solidity": 0.2
             }
            },
            "type": "bar"
           }
          ],
          "carpet": [
           {
            "aaxis": {
             "endlinecolor": "#2a3f5f",
             "gridcolor": "white",
             "linecolor": "white",
             "minorgridcolor": "white",
             "startlinecolor": "#2a3f5f"
            },
            "baxis": {
             "endlinecolor": "#2a3f5f",
             "gridcolor": "white",
             "linecolor": "white",
             "minorgridcolor": "white",
             "startlinecolor": "#2a3f5f"
            },
            "type": "carpet"
           }
          ],
          "choropleth": [
           {
            "colorbar": {
             "outlinewidth": 0,
             "ticks": ""
            },
            "type": "choropleth"
           }
          ],
          "contourcarpet": [
           {
            "colorbar": {
             "outlinewidth": 0,
             "ticks": ""
            },
            "type": "contourcarpet"
           }
          ],
          "contour": [
           {
            "colorbar": {
             "outlinewidth": 0,
             "ticks": ""
            },
            "colorscale": [
             [
              0.0,
              "#0d0887"
             ],
             [
              0.1111111111111111,
              "#46039f"
             ],
             [
              0.2222222222222222,
              "#7201a8"
             ],
             [
              0.3333333333333333,
              "#9c179e"
             ],
             [
              0.4444444444444444,
              "#bd3786"
             ],
             [
              0.5555555555555556,
              "#d8576b"
             ],
             [
              0.6666666666666666,
              "#ed7953"
             ],
             [
              0.7777777777777778,
              "#fb9f3a"
             ],
             [
              0.8888888888888888,
              "#fdca26"
             ],
             [
              1.0,
              "#f0f921"
             ]
            ],
            "type": "contour"
           }
          ],
          "heatmapgl": [
           {
            "colorbar": {
             "outlinewidth": 0,
             "ticks": ""
            },
            "colorscale": [
             [
              0.0,
              "#0d0887"
             ],
             [
              0.1111111111111111,
              "#46039f"
             ],
             [
              0.2222222222222222,
              "#7201a8"
             ],
             [
              0.3333333333333333,
              "#9c179e"
             ],
             [
              0.4444444444444444,
              "#bd3786"
             ],
             [
              0.5555555555555556,
              "#d8576b"
             ],
             [
              0.6666666666666666,
              "#ed7953"
             ],
             [
              0.7777777777777778,
              "#fb9f3a"
             ],
             [
              0.8888888888888888,
              "#fdca26"
             ],
             [
              1.0,
              "#f0f921"
             ]
            ],
            "type": "heatmapgl"
           }
          ],
          "heatmap": [
           {
            "colorbar": {
             "outlinewidth": 0,
             "ticks": ""
            },
            "colorscale": [
             [
              0.0,
              "#0d0887"
             ],
             [
              0.1111111111111111,
              "#46039f"
             ],
             [
              0.2222222222222222,
              "#7201a8"
             ],
             [
              0.3333333333333333,
              "#9c179e"
             ],
             [
              0.4444444444444444,
              "#bd3786"
             ],
             [
              0.5555555555555556,
              "#d8576b"
             ],
             [
              0.6666666666666666,
              "#ed7953"
             ],
             [
              0.7777777777777778,
              "#fb9f3a"
             ],
             [
              0.8888888888888888,
              "#fdca26"
             ],
             [
              1.0,
              "#f0f921"
             ]
            ],
            "type": "heatmap"
           }
          ],
          "histogram2dcontour": [
           {
            "colorbar": {
             "outlinewidth": 0,
             "ticks": ""
            },
            "colorscale": [
             [
              0.0,
              "#0d0887"
             ],
             [
              0.1111111111111111,
              "#46039f"
             ],
             [
              0.2222222222222222,
              "#7201a8"
             ],
             [
              0.3333333333333333,
              "#9c179e"
             ],
             [
              0.4444444444444444,
              "#bd3786"
             ],
             [
              0.5555555555555556,
              "#d8576b"
             ],
             [
              0.6666666666666666,
              "#ed7953"
             ],
             [
              0.7777777777777778,
              "#fb9f3a"
             ],
             [
              0.8888888888888888,
              "#fdca26"
             ],
             [
              1.0,
              "#f0f921"
             ]
            ],
            "type": "histogram2dcontour"
           }
          ],
          "histogram2d": [
           {
            "colorbar": {
             "outlinewidth": 0,
             "ticks": ""
            },
            "colorscale": [
             [
              0.0,
              "#0d0887"
             ],
             [
              0.1111111111111111,
              "#46039f"
             ],
             [
              0.2222222222222222,
              "#7201a8"
             ],
             [
              0.3333333333333333,
              "#9c179e"
             ],
             [
              0.4444444444444444,
              "#bd3786"
             ],
             [
              0.5555555555555556,
              "#d8576b"
             ],
             [
              0.6666666666666666,
              "#ed7953"
             ],
             [
              0.7777777777777778,
              "#fb9f3a"
             ],
             [
              0.8888888888888888,
              "#fdca26"
             ],
             [
              1.0,
              "#f0f921"
             ]
            ],
            "type": "histogram2d"
           }
          ],
          "histogram": [
           {
            "marker": {
             "pattern": {
              "fillmode": "overlay",
              "size": 10,
              "solidity": 0.2
             }
            },
            "type": "histogram"
           }
          ],
          "mesh3d": [
           {
            "colorbar": {
             "outlinewidth": 0,
             "ticks": ""
            },
            "type": "mesh3d"
           }
          ],
          "parcoords": [
           {
            "line": {
             "colorbar": {
              "outlinewidth": 0,
              "ticks": ""
             }
            },
            "type": "parcoords"
           }
          ],
          "pie": [
           {
            "automargin": true,
            "type": "pie"
           }
          ],
          "scatter3d": [
           {
            "line": {
             "colorbar": {
              "outlinewidth": 0,
              "ticks": ""
             }
            },
            "marker": {
             "colorbar": {
              "outlinewidth": 0,
              "ticks": ""
             }
            },
            "type": "scatter3d"
           }
          ],
          "scattercarpet": [
           {
            "marker": {
             "colorbar": {
              "outlinewidth": 0,
              "ticks": ""
             }
            },
            "type": "scattercarpet"
           }
          ],
          "scattergeo": [
           {
            "marker": {
             "colorbar": {
              "outlinewidth": 0,
              "ticks": ""
             }
            },
            "type": "scattergeo"
           }
          ],
          "scattergl": [
           {
            "marker": {
             "colorbar": {
              "outlinewidth": 0,
              "ticks": ""
             }
            },
            "type": "scattergl"
           }
          ],
          "scattermapbox": [
           {
            "marker": {
             "colorbar": {
              "outlinewidth": 0,
              "ticks": ""
             }
            },
            "type": "scattermapbox"
           }
          ],
          "scatterpolargl": [
           {
            "marker": {
             "colorbar": {
              "outlinewidth": 0,
              "ticks": ""
             }
            },
            "type": "scatterpolargl"
           }
          ],
          "scatterpolar": [
           {
            "marker": {
             "colorbar": {
              "outlinewidth": 0,
              "ticks": ""
             }
            },
            "type": "scatterpolar"
           }
          ],
          "scatter": [
           {
            "fillpattern": {
             "fillmode": "overlay",
             "size": 10,
             "solidity": 0.2
            },
            "type": "scatter"
           }
          ],
          "scatterternary": [
           {
            "marker": {
             "colorbar": {
              "outlinewidth": 0,
              "ticks": ""
             }
            },
            "type": "scatterternary"
           }
          ],
          "surface": [
           {
            "colorbar": {
             "outlinewidth": 0,
             "ticks": ""
            },
            "colorscale": [
             [
              0.0,
              "#0d0887"
             ],
             [
              0.1111111111111111,
              "#46039f"
             ],
             [
              0.2222222222222222,
              "#7201a8"
             ],
             [
              0.3333333333333333,
              "#9c179e"
             ],
             [
              0.4444444444444444,
              "#bd3786"
             ],
             [
              0.5555555555555556,
              "#d8576b"
             ],
             [
              0.6666666666666666,
              "#ed7953"
             ],
             [
              0.7777777777777778,
              "#fb9f3a"
             ],
             [
              0.8888888888888888,
              "#fdca26"
             ],
             [
              1.0,
              "#f0f921"
             ]
            ],
            "type": "surface"
           }
          ],
          "table": [
           {
            "cells": {
             "fill": {
              "color": "#EBF0F8"
             },
             "line": {
              "color": "white"
             }
            },
            "header": {
             "fill": {
              "color": "#C8D4E3"
             },
             "line": {
              "color": "white"
             }
            },
            "type": "table"
           }
          ]
         },
         "layout": {
          "annotationdefaults": {
           "arrowcolor": "#2a3f5f",
           "arrowhead": 0,
           "arrowwidth": 1
          },
          "autotypenumbers": "strict",
          "coloraxis": {
           "colorbar": {
            "outlinewidth": 0,
            "ticks": ""
           }
          },
          "colorscale": {
           "diverging": [
            [
             0,
             "#8e0152"
            ],
            [
             0.1,
             "#c51b7d"
            ],
            [
             0.2,
             "#de77ae"
            ],
            [
             0.3,
             "#f1b6da"
            ],
            [
             0.4,
             "#fde0ef"
            ],
            [
             0.5,
             "#f7f7f7"
            ],
            [
             0.6,
             "#e6f5d0"
            ],
            [
             0.7,
             "#b8e186"
            ],
            [
             0.8,
             "#7fbc41"
            ],
            [
             0.9,
             "#4d9221"
            ],
            [
             1,
             "#276419"
            ]
           ],
           "sequential": [
            [
             0.0,
             "#0d0887"
            ],
            [
             0.1111111111111111,
             "#46039f"
            ],
            [
             0.2222222222222222,
             "#7201a8"
            ],
            [
             0.3333333333333333,
             "#9c179e"
            ],
            [
             0.4444444444444444,
             "#bd3786"
            ],
            [
             0.5555555555555556,
             "#d8576b"
            ],
            [
             0.6666666666666666,
             "#ed7953"
            ],
            [
             0.7777777777777778,
             "#fb9f3a"
            ],
            [
             0.8888888888888888,
             "#fdca26"
            ],
            [
             1.0,
             "#f0f921"
            ]
           ],
           "sequentialminus": [
            [
             0.0,
             "#0d0887"
            ],
            [
             0.1111111111111111,
             "#46039f"
            ],
            [
             0.2222222222222222,
             "#7201a8"
            ],
            [
             0.3333333333333333,
             "#9c179e"
            ],
            [
             0.4444444444444444,
             "#bd3786"
            ],
            [
             0.5555555555555556,
             "#d8576b"
            ],
            [
             0.6666666666666666,
             "#ed7953"
            ],
            [
             0.7777777777777778,
             "#fb9f3a"
            ],
            [
             0.8888888888888888,
             "#fdca26"
            ],
            [
             1.0,
             "#f0f921"
            ]
           ]
          },
          "colorway": [
           "#636efa",
           "#EF553B",
           "#00cc96",
           "#ab63fa",
           "#FFA15A",
           "#19d3f3",
           "#FF6692",
           "#B6E880",
           "#FF97FF",
           "#FECB52"
          ],
          "font": {
           "color": "#2a3f5f"
          },
          "geo": {
           "bgcolor": "white",
           "lakecolor": "white",
           "landcolor": "#E5ECF6",
           "showlakes": true,
           "showland": true,
           "subunitcolor": "white"
          },
          "hoverlabel": {
           "align": "left"
          },
          "hovermode": "closest",
          "mapbox": {
           "style": "light"
          },
          "paper_bgcolor": "white",
          "plot_bgcolor": "#E5ECF6",
          "polar": {
           "angularaxis": {
            "gridcolor": "white",
            "linecolor": "white",
            "ticks": ""
           },
           "bgcolor": "#E5ECF6",
           "radialaxis": {
            "gridcolor": "white",
            "linecolor": "white",
            "ticks": ""
           }
          },
          "scene": {
           "xaxis": {
            "backgroundcolor": "#E5ECF6",
            "gridcolor": "white",
            "gridwidth": 2,
            "linecolor": "white",
            "showbackground": true,
            "ticks": "",
            "zerolinecolor": "white"
           },
           "yaxis": {
            "backgroundcolor": "#E5ECF6",
            "gridcolor": "white",
            "gridwidth": 2,
            "linecolor": "white",
            "showbackground": true,
            "ticks": "",
            "zerolinecolor": "white"
           },
           "zaxis": {
            "backgroundcolor": "#E5ECF6",
            "gridcolor": "white",
            "gridwidth": 2,
            "linecolor": "white",
            "showbackground": true,
            "ticks": "",
            "zerolinecolor": "white"
           }
          },
          "shapedefaults": {
           "line": {
            "color": "#2a3f5f"
           }
          },
          "ternary": {
           "aaxis": {
            "gridcolor": "white",
            "linecolor": "white",
            "ticks": ""
           },
           "baxis": {
            "gridcolor": "white",
            "linecolor": "white",
            "ticks": ""
           },
           "bgcolor": "#E5ECF6",
           "caxis": {
            "gridcolor": "white",
            "linecolor": "white",
            "ticks": ""
           }
          },
          "title": {
           "x": 0.05
          },
          "xaxis": {
           "automargin": true,
           "gridcolor": "white",
           "linecolor": "white",
           "ticks": "",
           "title": {
            "standoff": 15
           },
           "zerolinecolor": "white",
           "zerolinewidth": 2
          },
          "yaxis": {
           "automargin": true,
           "gridcolor": "white",
           "linecolor": "white",
           "ticks": "",
           "title": {
            "standoff": 15
           },
           "zerolinecolor": "white",
           "zerolinewidth": 2
          }
         }
        },
        "title": {
         "font": {
          "color": "#4D5663"
         }
        },
        "xaxis": {
         "gridcolor": "#E1E5ED",
         "showgrid": true,
         "tickfont": {
          "color": "#4D5663"
         },
         "title": {
          "font": {
           "color": "#4D5663"
          },
          "text": ""
         },
         "zerolinecolor": "#E1E5ED"
        },
        "yaxis": {
         "gridcolor": "#E1E5ED",
         "showgrid": true,
         "tickfont": {
          "color": "#4D5663"
         },
         "title": {
          "font": {
           "color": "#4D5663"
          },
          "text": ""
         },
         "zerolinecolor": "#E1E5ED"
        }
       },
       "config": {
        "showLink": true,
        "linkText": "Export to plot.ly",
        "plotlyServerURL": "https://plot.ly"
       }
      },
      "text/html": "<div>                            <div id=\"8b315377-94ce-48da-bfd1-08e25b05cbf8\" class=\"plotly-graph-div\" style=\"height:525px; width:100%;\"></div>            <script type=\"text/javascript\">                require([\"plotly\"], function(Plotly) {                    window.PLOTLYENV=window.PLOTLYENV || {};\n                    window.PLOTLYENV.BASE_URL='https://plot.ly';                                    if (document.getElementById(\"8b315377-94ce-48da-bfd1-08e25b05cbf8\")) {                    Plotly.newPlot(                        \"8b315377-94ce-48da-bfd1-08e25b05cbf8\",                        [{\"colorscale\":[[0.0,\"rgb(255, 153, 51)\"],[0.1111111111111111,\"rgb(55, 128, 191)\"],[0.2222222222222222,\"rgb(50, 171, 96)\"],[0.3333333333333333,\"rgb(128, 0, 128)\"],[0.4444444444444444,\"rgb(219, 64, 82)\"],[0.5555555555555556,\"rgb(0, 128, 128)\"],[0.6666666666666666,\"rgb(255, 255, 51)\"],[0.7777777777777778,\"rgb(128, 128, 0)\"],[0.8888888888888888,\"rgb(251, 128, 114)\"],[1.0,\"rgb(128, 177, 211)\"]],\"x\":[0,1,2,3,4,5,6,7,8,9,10,11,12,13,14,15,16,17,18,19,20,21,22,23,24,25,26,27,28,29,30,31,32,33,34,35,36,37,38,39,40,41,42,43,44,45,46,47,48,49,50,51,52,53,54,55,56,57,58,59,60,61,62,63,64,65,66,67,68,69,70,71,72,73,74,75,76,77,78,79,80,81,82,83,84,85,86,87,88,89,90,91,92,93,94,95,96,97,98,99],\"y\":[\"a\",\"b\",\"c\",\"d\"],\"z\":[[-0.47955835117961326,2.208528985383365,0.4679589633910048,-0.8551162799251366,1.2525226501637672,1.1319214520231038,0.15812173899452547,-0.9092022524719334,0.32852802693340066,-0.4676903591186404,-0.3493277560093259,1.1183452949278738,1.0373688122425815,-0.6453414703455302,0.03229546532035661,-0.6023069851028888,0.9121079412160702,1.0498745999585175,1.0919176486482147,0.19191573392508898,-0.18942501228613742,-0.81840921813167,-1.190074307457328,-0.9366038728507515,-0.856021391260267,-0.5615826830665962,0.6378853019783909,-0.4469043426630658,-0.30437064195722396,0.12651643036377053,1.5701773925381344,-0.9580031126548217,0.04328220572876478,0.2725744951757658,0.4222972618869988,-0.2920985389545437,0.16214011253466665,0.9540490890422607,1.7225130817761656,-0.10512997495124377,-0.17633757215891804,1.45413051536654,-1.0519315569532932,1.1387557835791358,1.1861446893126402,-1.7580736056974662,0.5292123753306647,-0.9993961605133591,0.4656671775443968,0.14081276623774347,1.010413912098985,0.2809253841822681,-0.17599998665524727,1.502021151027751,-0.3838066673391768,1.198474820214525,-0.44721845335323585,-0.14370261165006484,-0.8260516382539377,-0.6809444591047652,0.5975261318282004,-1.2671176535438404,-0.1451011980098431,-0.12245751430090913,-2.9311413567274505,0.3903574906989734,-0.5444592065848942,1.4805370340162713,-1.516818137400796,-0.36807158571373966,-0.16298781561838693,-2.180519736923615,1.1825365269446158,0.7316658802037822,0.011666208316439941,0.1859449212009432,-0.1704869670034482,0.5086650732355799,-0.6469319358610637,0.6787103800007991,-0.09385953422313559,1.1944846327409775,-0.1503167358094551,0.5904644508340733,0.42582199360480877,1.1586090185110205,-2.8031677845866,-0.6654053838251582,0.5205929889517756,0.2436354199909118,-0.4517153603280674,1.3044889871740712,0.3173682234696028,-0.7952936213078645,-0.9817079635434631,-0.10268464581201636,-0.49954305222214757,1.393297854592929,-0.5971193120230532,0.6050202842451881],[-1.271843621889942,-2.9194771482654533,1.0778027419907863,-3.3880158092068644,0.16727993160964663,0.752657149357646,-0.23471773455215122,-0.5405081781298487,-2.718485469093071,1.3977621771945667,1.9146685524277431,0.5442835285398985,0.6920694699070546,1.3288616436071947,-1.6990132510416547,1.9951469381152758,-0.19244562711695304,-0.32523784472144124,0.6042049624099904,0.3423085542626006,-0.005723712507034573,0.1660708792426556,-0.25674707460214397,-0.1226287964154879,-1.0156204214589089,1.348641230156133,-0.8398316440997098,-0.8179472960460081,-1.4349465992015384,-1.499440425603565,1.517245350105534,-0.5308778868191003,-1.3472959906321316,-1.0406469384731583,-0.4977387501764713,1.275667989295518,1.1295127491665227,-1.6061400217783806,-0.8171279627165152,-0.4932602218745369,-0.7406254851198281,-0.199395177148563,1.0415158118454182,0.3306663594538813,0.08367312089908913,1.6710661620083822,1.6242630288549933,1.2441631698928521,-1.8427327464637056,-1.07841115026537,1.0373216854219938,1.243928951642244,0.4028753220836608,0.10716839746295827,-1.2469087711768443,-0.4416009998087673,-0.1468232659953732,1.9061089235064455,-1.4600887886691467,-1.3472652348843102,-0.19782739179798506,-0.564060507366717,0.6601245441938398,-1.8642517504969234,-0.853855547211736,-1.1533885564167732,0.5137118780719806,-0.8602111272746457,0.5283454136479098,-0.3927459258059125,-0.9987993727603097,0.685678981657241,1.0824709572760371,-0.8563875703591132,-0.08003984227964277,0.7121193710585941,1.029592809196191,-0.33060904117985307,0.597189021016201,1.994985364857601,1.5750586947586183,0.3732431896844038,0.2183568914505785,-1.5701190492530126,-0.021869881075446528,-1.6773201519956382,-0.35426462746605936,0.8111479806834876,0.17462866309631145,1.1811359917261979,-1.7985183343782079,-0.40976299717349285,-0.5766078869323968,-0.6599137284909488,-0.6276952753342473,1.5578846219563145,2.3818500342349207,0.5361410686341836,1.2528965783784614,0.9650038473548902],[0.5967508133460097,-0.8310625436125187,-1.186075281486645,0.6839892029061092,0.33422412175490246,-0.3071702767291182,1.251127175522188,1.0003552532728113,-0.2377420517392665,-0.4697527063118209,0.5708434518927604,-1.1947960195694187,-0.5211675599806131,0.7158714474367859,0.8614422238381686,0.43157178546055064,1.3963028975464862,1.4875988076170195,1.7131776145581348,0.3262254353589354,-0.12552377386028193,-1.9022985701321304,-0.9120719616111599,1.7616033628142032,-0.6068907813949179,-0.2530358940260846,1.6050900725008113,0.8389317650171128,-0.002909916373665522,1.7231613931499312,0.42853309202866596,0.38562358104400046,-0.5816457524323265,-0.29516448723984784,1.1591737980493135,0.8823222830691667,-0.8290692062440366,-0.30242559226682475,0.6861308003160629,0.6657148569745158,-1.2223430945458924,-0.18390371544912945,-1.9892801418727477,-0.5532126817386545,0.14529208070328165,0.10530396944482108,0.840048514744419,0.3109258403053101,1.5149418881661314,0.6960741286557455,-0.5746995322937898,-1.2642798722621171,-0.8331997062746668,-0.4809489987602823,0.4879521164814944,-0.18970553016049113,-1.4460945647428922,-0.4197210086423235,1.0938141648237734,0.420365178460334,0.5437047780521163,2.1277396369110932,-1.4824255251585405,0.28014790326698,-1.0364764598428098,-1.0137255975534307,-0.5384372338453128,-1.7448174988513143,-1.2147675382539436,-0.1530862898792282,0.5975523415648675,-2.176185464348007,-1.2617209685508644,-1.3528072617329616,-0.6708566559177003,0.8891581711084477,0.44228700217665634,-0.09034793894769927,-0.8941483893465868,0.7359420705726158,-1.2330121017486972,-0.6461715862327733,-1.3642461847256528,0.24212955976515083,0.89404271749321,-0.7611759721173983,-0.2716282449010879,-0.7042685796637618,1.5145953401125853,0.36400562879899206,0.39065002581296315,-0.6182500302110686,0.5498062925369558,0.5543231928198981,2.3708937729816464,1.0361563012612234,-0.7183668727969715,-0.16522583193793056,0.4526790472959542,0.768056606707704],[-0.21618728541816296,1.2525459226652675,-0.3358009163971509,-0.8184760749598912,-0.3772166077514853,-1.3861624474993819,0.30740710849638947,0.275202583116614,-1.3240388450379998,-0.7257645398150134,0.07045922949442338,-0.48676497457833123,-0.6106546321456783,0.6769412416691347,0.6236781296783847,0.8984182754961492,-1.208042194254034,-0.1659269927069783,-1.276342627133373,-0.6859594465868938,1.4403530242834823,-0.24477321840964772,-1.5222734448540447,0.14917116882110168,-0.13808883464957145,-0.4375375783247449,1.567233581242451,1.5565760717056871,-0.72034678773032,-0.7287806352140853,0.22302539078996866,-2.0335464140443538,0.3157987247980749,1.0890092593239864,-0.1513529934338727,-0.7978244768567099,0.3821087333243263,-1.6202464811848905,0.7034416052270022,-0.9791495147711768,-0.6134779201626838,-0.04851198245023964,1.20411303148368,-0.6614127908787752,0.452880998327755,1.6639408358453316,0.11648833214149902,-0.27393767537970026,0.06903471091473971,0.1385728064149139,-0.7919898601517497,-0.47316026107910164,-0.49955084677851036,-0.26818185877208356,-0.3619998555526626,0.4699353492725758,1.2321408411404553,-1.0803311292418136,-0.17751174030516542,0.6243373549201932,0.36301153604288394,-1.4370960940189874,0.07234991480975235,0.2330486893618556,0.04109102379992068,0.15324613118464026,0.4840986053270673,-0.539567382808983,-0.17519068744518013,0.8079551946384139,-1.850316786185605,-1.3192894598113594,-1.1041588175263408,-0.4795675713229714,-0.08268057407004485,0.8291394204101675,1.1569962886971963,0.17575314100585898,-0.7416799714059854,-0.07150431966075302,-0.6864755436356272,-0.26215642090932006,-1.0576739331278184,-0.6623089486977592,-1.7711151174399706,2.212812051653826,-0.46079828894359876,-1.654960509967774,0.06838860174176283,-1.2181228796557841,0.5446319116403866,0.32939615965767904,0.7440103538166203,-0.01972462708917305,-0.49069094822653325,1.020485452966454,-1.3701495514676203,0.2853686307035859,1.0522408642498642,-1.536015059559466]],\"type\":\"surface\"}],                        {\"legend\":{\"bgcolor\":\"#F5F6F9\",\"font\":{\"color\":\"#4D5663\"}},\"paper_bgcolor\":\"#F5F6F9\",\"plot_bgcolor\":\"#F5F6F9\",\"template\":{\"data\":{\"barpolar\":[{\"marker\":{\"line\":{\"color\":\"#E5ECF6\",\"width\":0.5},\"pattern\":{\"fillmode\":\"overlay\",\"size\":10,\"solidity\":0.2}},\"type\":\"barpolar\"}],\"bar\":[{\"error_x\":{\"color\":\"#2a3f5f\"},\"error_y\":{\"color\":\"#2a3f5f\"},\"marker\":{\"line\":{\"color\":\"#E5ECF6\",\"width\":0.5},\"pattern\":{\"fillmode\":\"overlay\",\"size\":10,\"solidity\":0.2}},\"type\":\"bar\"}],\"carpet\":[{\"aaxis\":{\"endlinecolor\":\"#2a3f5f\",\"gridcolor\":\"white\",\"linecolor\":\"white\",\"minorgridcolor\":\"white\",\"startlinecolor\":\"#2a3f5f\"},\"baxis\":{\"endlinecolor\":\"#2a3f5f\",\"gridcolor\":\"white\",\"linecolor\":\"white\",\"minorgridcolor\":\"white\",\"startlinecolor\":\"#2a3f5f\"},\"type\":\"carpet\"}],\"choropleth\":[{\"colorbar\":{\"outlinewidth\":0,\"ticks\":\"\"},\"type\":\"choropleth\"}],\"contourcarpet\":[{\"colorbar\":{\"outlinewidth\":0,\"ticks\":\"\"},\"type\":\"contourcarpet\"}],\"contour\":[{\"colorbar\":{\"outlinewidth\":0,\"ticks\":\"\"},\"colorscale\":[[0.0,\"#0d0887\"],[0.1111111111111111,\"#46039f\"],[0.2222222222222222,\"#7201a8\"],[0.3333333333333333,\"#9c179e\"],[0.4444444444444444,\"#bd3786\"],[0.5555555555555556,\"#d8576b\"],[0.6666666666666666,\"#ed7953\"],[0.7777777777777778,\"#fb9f3a\"],[0.8888888888888888,\"#fdca26\"],[1.0,\"#f0f921\"]],\"type\":\"contour\"}],\"heatmapgl\":[{\"colorbar\":{\"outlinewidth\":0,\"ticks\":\"\"},\"colorscale\":[[0.0,\"#0d0887\"],[0.1111111111111111,\"#46039f\"],[0.2222222222222222,\"#7201a8\"],[0.3333333333333333,\"#9c179e\"],[0.4444444444444444,\"#bd3786\"],[0.5555555555555556,\"#d8576b\"],[0.6666666666666666,\"#ed7953\"],[0.7777777777777778,\"#fb9f3a\"],[0.8888888888888888,\"#fdca26\"],[1.0,\"#f0f921\"]],\"type\":\"heatmapgl\"}],\"heatmap\":[{\"colorbar\":{\"outlinewidth\":0,\"ticks\":\"\"},\"colorscale\":[[0.0,\"#0d0887\"],[0.1111111111111111,\"#46039f\"],[0.2222222222222222,\"#7201a8\"],[0.3333333333333333,\"#9c179e\"],[0.4444444444444444,\"#bd3786\"],[0.5555555555555556,\"#d8576b\"],[0.6666666666666666,\"#ed7953\"],[0.7777777777777778,\"#fb9f3a\"],[0.8888888888888888,\"#fdca26\"],[1.0,\"#f0f921\"]],\"type\":\"heatmap\"}],\"histogram2dcontour\":[{\"colorbar\":{\"outlinewidth\":0,\"ticks\":\"\"},\"colorscale\":[[0.0,\"#0d0887\"],[0.1111111111111111,\"#46039f\"],[0.2222222222222222,\"#7201a8\"],[0.3333333333333333,\"#9c179e\"],[0.4444444444444444,\"#bd3786\"],[0.5555555555555556,\"#d8576b\"],[0.6666666666666666,\"#ed7953\"],[0.7777777777777778,\"#fb9f3a\"],[0.8888888888888888,\"#fdca26\"],[1.0,\"#f0f921\"]],\"type\":\"histogram2dcontour\"}],\"histogram2d\":[{\"colorbar\":{\"outlinewidth\":0,\"ticks\":\"\"},\"colorscale\":[[0.0,\"#0d0887\"],[0.1111111111111111,\"#46039f\"],[0.2222222222222222,\"#7201a8\"],[0.3333333333333333,\"#9c179e\"],[0.4444444444444444,\"#bd3786\"],[0.5555555555555556,\"#d8576b\"],[0.6666666666666666,\"#ed7953\"],[0.7777777777777778,\"#fb9f3a\"],[0.8888888888888888,\"#fdca26\"],[1.0,\"#f0f921\"]],\"type\":\"histogram2d\"}],\"histogram\":[{\"marker\":{\"pattern\":{\"fillmode\":\"overlay\",\"size\":10,\"solidity\":0.2}},\"type\":\"histogram\"}],\"mesh3d\":[{\"colorbar\":{\"outlinewidth\":0,\"ticks\":\"\"},\"type\":\"mesh3d\"}],\"parcoords\":[{\"line\":{\"colorbar\":{\"outlinewidth\":0,\"ticks\":\"\"}},\"type\":\"parcoords\"}],\"pie\":[{\"automargin\":true,\"type\":\"pie\"}],\"scatter3d\":[{\"line\":{\"colorbar\":{\"outlinewidth\":0,\"ticks\":\"\"}},\"marker\":{\"colorbar\":{\"outlinewidth\":0,\"ticks\":\"\"}},\"type\":\"scatter3d\"}],\"scattercarpet\":[{\"marker\":{\"colorbar\":{\"outlinewidth\":0,\"ticks\":\"\"}},\"type\":\"scattercarpet\"}],\"scattergeo\":[{\"marker\":{\"colorbar\":{\"outlinewidth\":0,\"ticks\":\"\"}},\"type\":\"scattergeo\"}],\"scattergl\":[{\"marker\":{\"colorbar\":{\"outlinewidth\":0,\"ticks\":\"\"}},\"type\":\"scattergl\"}],\"scattermapbox\":[{\"marker\":{\"colorbar\":{\"outlinewidth\":0,\"ticks\":\"\"}},\"type\":\"scattermapbox\"}],\"scatterpolargl\":[{\"marker\":{\"colorbar\":{\"outlinewidth\":0,\"ticks\":\"\"}},\"type\":\"scatterpolargl\"}],\"scatterpolar\":[{\"marker\":{\"colorbar\":{\"outlinewidth\":0,\"ticks\":\"\"}},\"type\":\"scatterpolar\"}],\"scatter\":[{\"fillpattern\":{\"fillmode\":\"overlay\",\"size\":10,\"solidity\":0.2},\"type\":\"scatter\"}],\"scatterternary\":[{\"marker\":{\"colorbar\":{\"outlinewidth\":0,\"ticks\":\"\"}},\"type\":\"scatterternary\"}],\"surface\":[{\"colorbar\":{\"outlinewidth\":0,\"ticks\":\"\"},\"colorscale\":[[0.0,\"#0d0887\"],[0.1111111111111111,\"#46039f\"],[0.2222222222222222,\"#7201a8\"],[0.3333333333333333,\"#9c179e\"],[0.4444444444444444,\"#bd3786\"],[0.5555555555555556,\"#d8576b\"],[0.6666666666666666,\"#ed7953\"],[0.7777777777777778,\"#fb9f3a\"],[0.8888888888888888,\"#fdca26\"],[1.0,\"#f0f921\"]],\"type\":\"surface\"}],\"table\":[{\"cells\":{\"fill\":{\"color\":\"#EBF0F8\"},\"line\":{\"color\":\"white\"}},\"header\":{\"fill\":{\"color\":\"#C8D4E3\"},\"line\":{\"color\":\"white\"}},\"type\":\"table\"}]},\"layout\":{\"annotationdefaults\":{\"arrowcolor\":\"#2a3f5f\",\"arrowhead\":0,\"arrowwidth\":1},\"autotypenumbers\":\"strict\",\"coloraxis\":{\"colorbar\":{\"outlinewidth\":0,\"ticks\":\"\"}},\"colorscale\":{\"diverging\":[[0,\"#8e0152\"],[0.1,\"#c51b7d\"],[0.2,\"#de77ae\"],[0.3,\"#f1b6da\"],[0.4,\"#fde0ef\"],[0.5,\"#f7f7f7\"],[0.6,\"#e6f5d0\"],[0.7,\"#b8e186\"],[0.8,\"#7fbc41\"],[0.9,\"#4d9221\"],[1,\"#276419\"]],\"sequential\":[[0.0,\"#0d0887\"],[0.1111111111111111,\"#46039f\"],[0.2222222222222222,\"#7201a8\"],[0.3333333333333333,\"#9c179e\"],[0.4444444444444444,\"#bd3786\"],[0.5555555555555556,\"#d8576b\"],[0.6666666666666666,\"#ed7953\"],[0.7777777777777778,\"#fb9f3a\"],[0.8888888888888888,\"#fdca26\"],[1.0,\"#f0f921\"]],\"sequentialminus\":[[0.0,\"#0d0887\"],[0.1111111111111111,\"#46039f\"],[0.2222222222222222,\"#7201a8\"],[0.3333333333333333,\"#9c179e\"],[0.4444444444444444,\"#bd3786\"],[0.5555555555555556,\"#d8576b\"],[0.6666666666666666,\"#ed7953\"],[0.7777777777777778,\"#fb9f3a\"],[0.8888888888888888,\"#fdca26\"],[1.0,\"#f0f921\"]]},\"colorway\":[\"#636efa\",\"#EF553B\",\"#00cc96\",\"#ab63fa\",\"#FFA15A\",\"#19d3f3\",\"#FF6692\",\"#B6E880\",\"#FF97FF\",\"#FECB52\"],\"font\":{\"color\":\"#2a3f5f\"},\"geo\":{\"bgcolor\":\"white\",\"lakecolor\":\"white\",\"landcolor\":\"#E5ECF6\",\"showlakes\":true,\"showland\":true,\"subunitcolor\":\"white\"},\"hoverlabel\":{\"align\":\"left\"},\"hovermode\":\"closest\",\"mapbox\":{\"style\":\"light\"},\"paper_bgcolor\":\"white\",\"plot_bgcolor\":\"#E5ECF6\",\"polar\":{\"angularaxis\":{\"gridcolor\":\"white\",\"linecolor\":\"white\",\"ticks\":\"\"},\"bgcolor\":\"#E5ECF6\",\"radialaxis\":{\"gridcolor\":\"white\",\"linecolor\":\"white\",\"ticks\":\"\"}},\"scene\":{\"xaxis\":{\"backgroundcolor\":\"#E5ECF6\",\"gridcolor\":\"white\",\"gridwidth\":2,\"linecolor\":\"white\",\"showbackground\":true,\"ticks\":\"\",\"zerolinecolor\":\"white\"},\"yaxis\":{\"backgroundcolor\":\"#E5ECF6\",\"gridcolor\":\"white\",\"gridwidth\":2,\"linecolor\":\"white\",\"showbackground\":true,\"ticks\":\"\",\"zerolinecolor\":\"white\"},\"zaxis\":{\"backgroundcolor\":\"#E5ECF6\",\"gridcolor\":\"white\",\"gridwidth\":2,\"linecolor\":\"white\",\"showbackground\":true,\"ticks\":\"\",\"zerolinecolor\":\"white\"}},\"shapedefaults\":{\"line\":{\"color\":\"#2a3f5f\"}},\"ternary\":{\"aaxis\":{\"gridcolor\":\"white\",\"linecolor\":\"white\",\"ticks\":\"\"},\"baxis\":{\"gridcolor\":\"white\",\"linecolor\":\"white\",\"ticks\":\"\"},\"bgcolor\":\"#E5ECF6\",\"caxis\":{\"gridcolor\":\"white\",\"linecolor\":\"white\",\"ticks\":\"\"}},\"title\":{\"x\":0.05},\"xaxis\":{\"automargin\":true,\"gridcolor\":\"white\",\"linecolor\":\"white\",\"ticks\":\"\",\"title\":{\"standoff\":15},\"zerolinecolor\":\"white\",\"zerolinewidth\":2},\"yaxis\":{\"automargin\":true,\"gridcolor\":\"white\",\"linecolor\":\"white\",\"ticks\":\"\",\"title\":{\"standoff\":15},\"zerolinecolor\":\"white\",\"zerolinewidth\":2}}},\"title\":{\"font\":{\"color\":\"#4D5663\"}},\"xaxis\":{\"gridcolor\":\"#E1E5ED\",\"showgrid\":true,\"tickfont\":{\"color\":\"#4D5663\"},\"title\":{\"font\":{\"color\":\"#4D5663\"},\"text\":\"\"},\"zerolinecolor\":\"#E1E5ED\"},\"yaxis\":{\"gridcolor\":\"#E1E5ED\",\"showgrid\":true,\"tickfont\":{\"color\":\"#4D5663\"},\"title\":{\"font\":{\"color\":\"#4D5663\"},\"text\":\"\"},\"zerolinecolor\":\"#E1E5ED\"}},                        {\"showLink\": true, \"linkText\": \"Export to plot.ly\", \"plotlyServerURL\": \"https://plot.ly\", \"responsive\": true}                    ).then(function(){\n                            \nvar gd = document.getElementById('8b315377-94ce-48da-bfd1-08e25b05cbf8');\nvar x = new MutationObserver(function (mutations, observer) {{\n        var display = window.getComputedStyle(gd).display;\n        if (!display || display === 'none') {{\n            console.log([gd, 'removed!']);\n            Plotly.purge(gd);\n            observer.disconnect();\n        }}\n}});\n\n// Listen for the removal of the full notebook cells\nvar notebookContainer = gd.closest('#notebook-container');\nif (notebookContainer) {{\n    x.observe(notebookContainer, {childList: true});\n}}\n\n// Listen for the clearing of the current output cell\nvar outputEl = gd.closest('.output');\nif (outputEl) {{\n    x.observe(outputEl, {childList: true});\n}}\n\n                        })                };                });            </script>        </div>"
     },
     "metadata": {},
     "output_type": "display_data"
    }
   ],
   "source": [
    "df.iplot(kind='surface')"
   ],
   "metadata": {
    "collapsed": false,
    "ExecuteTime": {
     "end_time": "2023-07-24T20:23:38.889304900Z",
     "start_time": "2023-07-24T20:23:38.788361600Z"
    }
   }
  },
  {
   "cell_type": "code",
   "execution_count": 33,
   "outputs": [
    {
     "data": {
      "application/vnd.plotly.v1+json": {
       "data": [
        {
         "histfunc": "count",
         "histnorm": "",
         "marker": {
          "color": "rgba(255, 153, 51, 1.0)",
          "line": {
           "color": "#4D5663",
           "width": 1.3
          }
         },
         "name": "a",
         "opacity": 0.8,
         "orientation": "v",
         "x": [
          -0.47955835117961326,
          2.208528985383365,
          0.4679589633910048,
          -0.8551162799251366,
          1.2525226501637672,
          1.1319214520231038,
          0.15812173899452547,
          -0.9092022524719334,
          0.32852802693340066,
          -0.4676903591186404,
          -0.3493277560093259,
          1.1183452949278738,
          1.0373688122425815,
          -0.6453414703455302,
          0.03229546532035661,
          -0.6023069851028888,
          0.9121079412160702,
          1.0498745999585175,
          1.0919176486482147,
          0.19191573392508898,
          -0.18942501228613742,
          -0.81840921813167,
          -1.190074307457328,
          -0.9366038728507515,
          -0.856021391260267,
          -0.5615826830665962,
          0.6378853019783909,
          -0.4469043426630658,
          -0.30437064195722396,
          0.12651643036377053,
          1.5701773925381344,
          -0.9580031126548217,
          0.04328220572876478,
          0.2725744951757658,
          0.4222972618869988,
          -0.2920985389545437,
          0.16214011253466665,
          0.9540490890422607,
          1.7225130817761656,
          -0.10512997495124377,
          -0.17633757215891804,
          1.45413051536654,
          -1.0519315569532932,
          1.1387557835791358,
          1.1861446893126402,
          -1.7580736056974662,
          0.5292123753306647,
          -0.9993961605133591,
          0.4656671775443968,
          0.14081276623774347,
          1.010413912098985,
          0.2809253841822681,
          -0.17599998665524727,
          1.502021151027751,
          -0.3838066673391768,
          1.198474820214525,
          -0.44721845335323585,
          -0.14370261165006484,
          -0.8260516382539377,
          -0.6809444591047652,
          0.5975261318282004,
          -1.2671176535438404,
          -0.1451011980098431,
          -0.12245751430090913,
          -2.9311413567274505,
          0.3903574906989734,
          -0.5444592065848942,
          1.4805370340162713,
          -1.516818137400796,
          -0.36807158571373966,
          -0.16298781561838693,
          -2.180519736923615,
          1.1825365269446158,
          0.7316658802037822,
          0.011666208316439941,
          0.1859449212009432,
          -0.1704869670034482,
          0.5086650732355799,
          -0.6469319358610637,
          0.6787103800007991,
          -0.09385953422313559,
          1.1944846327409775,
          -0.1503167358094551,
          0.5904644508340733,
          0.42582199360480877,
          1.1586090185110205,
          -2.8031677845866,
          -0.6654053838251582,
          0.5205929889517756,
          0.2436354199909118,
          -0.4517153603280674,
          1.3044889871740712,
          0.3173682234696028,
          -0.7952936213078645,
          -0.9817079635434631,
          -0.10268464581201636,
          -0.49954305222214757,
          1.393297854592929,
          -0.5971193120230532,
          0.6050202842451881
         ],
         "type": "histogram"
        }
       ],
       "layout": {
        "barmode": "overlay",
        "legend": {
         "bgcolor": "#F5F6F9",
         "font": {
          "color": "#4D5663"
         }
        },
        "paper_bgcolor": "#F5F6F9",
        "plot_bgcolor": "#F5F6F9",
        "template": {
         "data": {
          "barpolar": [
           {
            "marker": {
             "line": {
              "color": "#E5ECF6",
              "width": 0.5
             },
             "pattern": {
              "fillmode": "overlay",
              "size": 10,
              "solidity": 0.2
             }
            },
            "type": "barpolar"
           }
          ],
          "bar": [
           {
            "error_x": {
             "color": "#2a3f5f"
            },
            "error_y": {
             "color": "#2a3f5f"
            },
            "marker": {
             "line": {
              "color": "#E5ECF6",
              "width": 0.5
             },
             "pattern": {
              "fillmode": "overlay",
              "size": 10,
              "solidity": 0.2
             }
            },
            "type": "bar"
           }
          ],
          "carpet": [
           {
            "aaxis": {
             "endlinecolor": "#2a3f5f",
             "gridcolor": "white",
             "linecolor": "white",
             "minorgridcolor": "white",
             "startlinecolor": "#2a3f5f"
            },
            "baxis": {
             "endlinecolor": "#2a3f5f",
             "gridcolor": "white",
             "linecolor": "white",
             "minorgridcolor": "white",
             "startlinecolor": "#2a3f5f"
            },
            "type": "carpet"
           }
          ],
          "choropleth": [
           {
            "colorbar": {
             "outlinewidth": 0,
             "ticks": ""
            },
            "type": "choropleth"
           }
          ],
          "contourcarpet": [
           {
            "colorbar": {
             "outlinewidth": 0,
             "ticks": ""
            },
            "type": "contourcarpet"
           }
          ],
          "contour": [
           {
            "colorbar": {
             "outlinewidth": 0,
             "ticks": ""
            },
            "colorscale": [
             [
              0.0,
              "#0d0887"
             ],
             [
              0.1111111111111111,
              "#46039f"
             ],
             [
              0.2222222222222222,
              "#7201a8"
             ],
             [
              0.3333333333333333,
              "#9c179e"
             ],
             [
              0.4444444444444444,
              "#bd3786"
             ],
             [
              0.5555555555555556,
              "#d8576b"
             ],
             [
              0.6666666666666666,
              "#ed7953"
             ],
             [
              0.7777777777777778,
              "#fb9f3a"
             ],
             [
              0.8888888888888888,
              "#fdca26"
             ],
             [
              1.0,
              "#f0f921"
             ]
            ],
            "type": "contour"
           }
          ],
          "heatmapgl": [
           {
            "colorbar": {
             "outlinewidth": 0,
             "ticks": ""
            },
            "colorscale": [
             [
              0.0,
              "#0d0887"
             ],
             [
              0.1111111111111111,
              "#46039f"
             ],
             [
              0.2222222222222222,
              "#7201a8"
             ],
             [
              0.3333333333333333,
              "#9c179e"
             ],
             [
              0.4444444444444444,
              "#bd3786"
             ],
             [
              0.5555555555555556,
              "#d8576b"
             ],
             [
              0.6666666666666666,
              "#ed7953"
             ],
             [
              0.7777777777777778,
              "#fb9f3a"
             ],
             [
              0.8888888888888888,
              "#fdca26"
             ],
             [
              1.0,
              "#f0f921"
             ]
            ],
            "type": "heatmapgl"
           }
          ],
          "heatmap": [
           {
            "colorbar": {
             "outlinewidth": 0,
             "ticks": ""
            },
            "colorscale": [
             [
              0.0,
              "#0d0887"
             ],
             [
              0.1111111111111111,
              "#46039f"
             ],
             [
              0.2222222222222222,
              "#7201a8"
             ],
             [
              0.3333333333333333,
              "#9c179e"
             ],
             [
              0.4444444444444444,
              "#bd3786"
             ],
             [
              0.5555555555555556,
              "#d8576b"
             ],
             [
              0.6666666666666666,
              "#ed7953"
             ],
             [
              0.7777777777777778,
              "#fb9f3a"
             ],
             [
              0.8888888888888888,
              "#fdca26"
             ],
             [
              1.0,
              "#f0f921"
             ]
            ],
            "type": "heatmap"
           }
          ],
          "histogram2dcontour": [
           {
            "colorbar": {
             "outlinewidth": 0,
             "ticks": ""
            },
            "colorscale": [
             [
              0.0,
              "#0d0887"
             ],
             [
              0.1111111111111111,
              "#46039f"
             ],
             [
              0.2222222222222222,
              "#7201a8"
             ],
             [
              0.3333333333333333,
              "#9c179e"
             ],
             [
              0.4444444444444444,
              "#bd3786"
             ],
             [
              0.5555555555555556,
              "#d8576b"
             ],
             [
              0.6666666666666666,
              "#ed7953"
             ],
             [
              0.7777777777777778,
              "#fb9f3a"
             ],
             [
              0.8888888888888888,
              "#fdca26"
             ],
             [
              1.0,
              "#f0f921"
             ]
            ],
            "type": "histogram2dcontour"
           }
          ],
          "histogram2d": [
           {
            "colorbar": {
             "outlinewidth": 0,
             "ticks": ""
            },
            "colorscale": [
             [
              0.0,
              "#0d0887"
             ],
             [
              0.1111111111111111,
              "#46039f"
             ],
             [
              0.2222222222222222,
              "#7201a8"
             ],
             [
              0.3333333333333333,
              "#9c179e"
             ],
             [
              0.4444444444444444,
              "#bd3786"
             ],
             [
              0.5555555555555556,
              "#d8576b"
             ],
             [
              0.6666666666666666,
              "#ed7953"
             ],
             [
              0.7777777777777778,
              "#fb9f3a"
             ],
             [
              0.8888888888888888,
              "#fdca26"
             ],
             [
              1.0,
              "#f0f921"
             ]
            ],
            "type": "histogram2d"
           }
          ],
          "histogram": [
           {
            "marker": {
             "pattern": {
              "fillmode": "overlay",
              "size": 10,
              "solidity": 0.2
             }
            },
            "type": "histogram"
           }
          ],
          "mesh3d": [
           {
            "colorbar": {
             "outlinewidth": 0,
             "ticks": ""
            },
            "type": "mesh3d"
           }
          ],
          "parcoords": [
           {
            "line": {
             "colorbar": {
              "outlinewidth": 0,
              "ticks": ""
             }
            },
            "type": "parcoords"
           }
          ],
          "pie": [
           {
            "automargin": true,
            "type": "pie"
           }
          ],
          "scatter3d": [
           {
            "line": {
             "colorbar": {
              "outlinewidth": 0,
              "ticks": ""
             }
            },
            "marker": {
             "colorbar": {
              "outlinewidth": 0,
              "ticks": ""
             }
            },
            "type": "scatter3d"
           }
          ],
          "scattercarpet": [
           {
            "marker": {
             "colorbar": {
              "outlinewidth": 0,
              "ticks": ""
             }
            },
            "type": "scattercarpet"
           }
          ],
          "scattergeo": [
           {
            "marker": {
             "colorbar": {
              "outlinewidth": 0,
              "ticks": ""
             }
            },
            "type": "scattergeo"
           }
          ],
          "scattergl": [
           {
            "marker": {
             "colorbar": {
              "outlinewidth": 0,
              "ticks": ""
             }
            },
            "type": "scattergl"
           }
          ],
          "scattermapbox": [
           {
            "marker": {
             "colorbar": {
              "outlinewidth": 0,
              "ticks": ""
             }
            },
            "type": "scattermapbox"
           }
          ],
          "scatterpolargl": [
           {
            "marker": {
             "colorbar": {
              "outlinewidth": 0,
              "ticks": ""
             }
            },
            "type": "scatterpolargl"
           }
          ],
          "scatterpolar": [
           {
            "marker": {
             "colorbar": {
              "outlinewidth": 0,
              "ticks": ""
             }
            },
            "type": "scatterpolar"
           }
          ],
          "scatter": [
           {
            "fillpattern": {
             "fillmode": "overlay",
             "size": 10,
             "solidity": 0.2
            },
            "type": "scatter"
           }
          ],
          "scatterternary": [
           {
            "marker": {
             "colorbar": {
              "outlinewidth": 0,
              "ticks": ""
             }
            },
            "type": "scatterternary"
           }
          ],
          "surface": [
           {
            "colorbar": {
             "outlinewidth": 0,
             "ticks": ""
            },
            "colorscale": [
             [
              0.0,
              "#0d0887"
             ],
             [
              0.1111111111111111,
              "#46039f"
             ],
             [
              0.2222222222222222,
              "#7201a8"
             ],
             [
              0.3333333333333333,
              "#9c179e"
             ],
             [
              0.4444444444444444,
              "#bd3786"
             ],
             [
              0.5555555555555556,
              "#d8576b"
             ],
             [
              0.6666666666666666,
              "#ed7953"
             ],
             [
              0.7777777777777778,
              "#fb9f3a"
             ],
             [
              0.8888888888888888,
              "#fdca26"
             ],
             [
              1.0,
              "#f0f921"
             ]
            ],
            "type": "surface"
           }
          ],
          "table": [
           {
            "cells": {
             "fill": {
              "color": "#EBF0F8"
             },
             "line": {
              "color": "white"
             }
            },
            "header": {
             "fill": {
              "color": "#C8D4E3"
             },
             "line": {
              "color": "white"
             }
            },
            "type": "table"
           }
          ]
         },
         "layout": {
          "annotationdefaults": {
           "arrowcolor": "#2a3f5f",
           "arrowhead": 0,
           "arrowwidth": 1
          },
          "autotypenumbers": "strict",
          "coloraxis": {
           "colorbar": {
            "outlinewidth": 0,
            "ticks": ""
           }
          },
          "colorscale": {
           "diverging": [
            [
             0,
             "#8e0152"
            ],
            [
             0.1,
             "#c51b7d"
            ],
            [
             0.2,
             "#de77ae"
            ],
            [
             0.3,
             "#f1b6da"
            ],
            [
             0.4,
             "#fde0ef"
            ],
            [
             0.5,
             "#f7f7f7"
            ],
            [
             0.6,
             "#e6f5d0"
            ],
            [
             0.7,
             "#b8e186"
            ],
            [
             0.8,
             "#7fbc41"
            ],
            [
             0.9,
             "#4d9221"
            ],
            [
             1,
             "#276419"
            ]
           ],
           "sequential": [
            [
             0.0,
             "#0d0887"
            ],
            [
             0.1111111111111111,
             "#46039f"
            ],
            [
             0.2222222222222222,
             "#7201a8"
            ],
            [
             0.3333333333333333,
             "#9c179e"
            ],
            [
             0.4444444444444444,
             "#bd3786"
            ],
            [
             0.5555555555555556,
             "#d8576b"
            ],
            [
             0.6666666666666666,
             "#ed7953"
            ],
            [
             0.7777777777777778,
             "#fb9f3a"
            ],
            [
             0.8888888888888888,
             "#fdca26"
            ],
            [
             1.0,
             "#f0f921"
            ]
           ],
           "sequentialminus": [
            [
             0.0,
             "#0d0887"
            ],
            [
             0.1111111111111111,
             "#46039f"
            ],
            [
             0.2222222222222222,
             "#7201a8"
            ],
            [
             0.3333333333333333,
             "#9c179e"
            ],
            [
             0.4444444444444444,
             "#bd3786"
            ],
            [
             0.5555555555555556,
             "#d8576b"
            ],
            [
             0.6666666666666666,
             "#ed7953"
            ],
            [
             0.7777777777777778,
             "#fb9f3a"
            ],
            [
             0.8888888888888888,
             "#fdca26"
            ],
            [
             1.0,
             "#f0f921"
            ]
           ]
          },
          "colorway": [
           "#636efa",
           "#EF553B",
           "#00cc96",
           "#ab63fa",
           "#FFA15A",
           "#19d3f3",
           "#FF6692",
           "#B6E880",
           "#FF97FF",
           "#FECB52"
          ],
          "font": {
           "color": "#2a3f5f"
          },
          "geo": {
           "bgcolor": "white",
           "lakecolor": "white",
           "landcolor": "#E5ECF6",
           "showlakes": true,
           "showland": true,
           "subunitcolor": "white"
          },
          "hoverlabel": {
           "align": "left"
          },
          "hovermode": "closest",
          "mapbox": {
           "style": "light"
          },
          "paper_bgcolor": "white",
          "plot_bgcolor": "#E5ECF6",
          "polar": {
           "angularaxis": {
            "gridcolor": "white",
            "linecolor": "white",
            "ticks": ""
           },
           "bgcolor": "#E5ECF6",
           "radialaxis": {
            "gridcolor": "white",
            "linecolor": "white",
            "ticks": ""
           }
          },
          "scene": {
           "xaxis": {
            "backgroundcolor": "#E5ECF6",
            "gridcolor": "white",
            "gridwidth": 2,
            "linecolor": "white",
            "showbackground": true,
            "ticks": "",
            "zerolinecolor": "white"
           },
           "yaxis": {
            "backgroundcolor": "#E5ECF6",
            "gridcolor": "white",
            "gridwidth": 2,
            "linecolor": "white",
            "showbackground": true,
            "ticks": "",
            "zerolinecolor": "white"
           },
           "zaxis": {
            "backgroundcolor": "#E5ECF6",
            "gridcolor": "white",
            "gridwidth": 2,
            "linecolor": "white",
            "showbackground": true,
            "ticks": "",
            "zerolinecolor": "white"
           }
          },
          "shapedefaults": {
           "line": {
            "color": "#2a3f5f"
           }
          },
          "ternary": {
           "aaxis": {
            "gridcolor": "white",
            "linecolor": "white",
            "ticks": ""
           },
           "baxis": {
            "gridcolor": "white",
            "linecolor": "white",
            "ticks": ""
           },
           "bgcolor": "#E5ECF6",
           "caxis": {
            "gridcolor": "white",
            "linecolor": "white",
            "ticks": ""
           }
          },
          "title": {
           "x": 0.05
          },
          "xaxis": {
           "automargin": true,
           "gridcolor": "white",
           "linecolor": "white",
           "ticks": "",
           "title": {
            "standoff": 15
           },
           "zerolinecolor": "white",
           "zerolinewidth": 2
          },
          "yaxis": {
           "automargin": true,
           "gridcolor": "white",
           "linecolor": "white",
           "ticks": "",
           "title": {
            "standoff": 15
           },
           "zerolinecolor": "white",
           "zerolinewidth": 2
          }
         }
        },
        "title": {
         "font": {
          "color": "#4D5663"
         }
        },
        "xaxis": {
         "gridcolor": "#E1E5ED",
         "showgrid": true,
         "tickfont": {
          "color": "#4D5663"
         },
         "title": {
          "font": {
           "color": "#4D5663"
          },
          "text": ""
         },
         "zerolinecolor": "#E1E5ED"
        },
        "yaxis": {
         "gridcolor": "#E1E5ED",
         "showgrid": true,
         "tickfont": {
          "color": "#4D5663"
         },
         "title": {
          "font": {
           "color": "#4D5663"
          },
          "text": ""
         },
         "zerolinecolor": "#E1E5ED"
        }
       },
       "config": {
        "showLink": true,
        "linkText": "Export to plot.ly",
        "plotlyServerURL": "https://plot.ly"
       }
      },
      "text/html": "<div>                            <div id=\"bb6ff478-4a38-4e81-b6cc-fba42346dd8b\" class=\"plotly-graph-div\" style=\"height:525px; width:100%;\"></div>            <script type=\"text/javascript\">                require([\"plotly\"], function(Plotly) {                    window.PLOTLYENV=window.PLOTLYENV || {};\n                    window.PLOTLYENV.BASE_URL='https://plot.ly';                                    if (document.getElementById(\"bb6ff478-4a38-4e81-b6cc-fba42346dd8b\")) {                    Plotly.newPlot(                        \"bb6ff478-4a38-4e81-b6cc-fba42346dd8b\",                        [{\"histfunc\":\"count\",\"histnorm\":\"\",\"marker\":{\"color\":\"rgba(255, 153, 51, 1.0)\",\"line\":{\"color\":\"#4D5663\",\"width\":1.3}},\"name\":\"a\",\"opacity\":0.8,\"orientation\":\"v\",\"x\":[-0.47955835117961326,2.208528985383365,0.4679589633910048,-0.8551162799251366,1.2525226501637672,1.1319214520231038,0.15812173899452547,-0.9092022524719334,0.32852802693340066,-0.4676903591186404,-0.3493277560093259,1.1183452949278738,1.0373688122425815,-0.6453414703455302,0.03229546532035661,-0.6023069851028888,0.9121079412160702,1.0498745999585175,1.0919176486482147,0.19191573392508898,-0.18942501228613742,-0.81840921813167,-1.190074307457328,-0.9366038728507515,-0.856021391260267,-0.5615826830665962,0.6378853019783909,-0.4469043426630658,-0.30437064195722396,0.12651643036377053,1.5701773925381344,-0.9580031126548217,0.04328220572876478,0.2725744951757658,0.4222972618869988,-0.2920985389545437,0.16214011253466665,0.9540490890422607,1.7225130817761656,-0.10512997495124377,-0.17633757215891804,1.45413051536654,-1.0519315569532932,1.1387557835791358,1.1861446893126402,-1.7580736056974662,0.5292123753306647,-0.9993961605133591,0.4656671775443968,0.14081276623774347,1.010413912098985,0.2809253841822681,-0.17599998665524727,1.502021151027751,-0.3838066673391768,1.198474820214525,-0.44721845335323585,-0.14370261165006484,-0.8260516382539377,-0.6809444591047652,0.5975261318282004,-1.2671176535438404,-0.1451011980098431,-0.12245751430090913,-2.9311413567274505,0.3903574906989734,-0.5444592065848942,1.4805370340162713,-1.516818137400796,-0.36807158571373966,-0.16298781561838693,-2.180519736923615,1.1825365269446158,0.7316658802037822,0.011666208316439941,0.1859449212009432,-0.1704869670034482,0.5086650732355799,-0.6469319358610637,0.6787103800007991,-0.09385953422313559,1.1944846327409775,-0.1503167358094551,0.5904644508340733,0.42582199360480877,1.1586090185110205,-2.8031677845866,-0.6654053838251582,0.5205929889517756,0.2436354199909118,-0.4517153603280674,1.3044889871740712,0.3173682234696028,-0.7952936213078645,-0.9817079635434631,-0.10268464581201636,-0.49954305222214757,1.393297854592929,-0.5971193120230532,0.6050202842451881],\"type\":\"histogram\"}],                        {\"barmode\":\"overlay\",\"legend\":{\"bgcolor\":\"#F5F6F9\",\"font\":{\"color\":\"#4D5663\"}},\"paper_bgcolor\":\"#F5F6F9\",\"plot_bgcolor\":\"#F5F6F9\",\"template\":{\"data\":{\"barpolar\":[{\"marker\":{\"line\":{\"color\":\"#E5ECF6\",\"width\":0.5},\"pattern\":{\"fillmode\":\"overlay\",\"size\":10,\"solidity\":0.2}},\"type\":\"barpolar\"}],\"bar\":[{\"error_x\":{\"color\":\"#2a3f5f\"},\"error_y\":{\"color\":\"#2a3f5f\"},\"marker\":{\"line\":{\"color\":\"#E5ECF6\",\"width\":0.5},\"pattern\":{\"fillmode\":\"overlay\",\"size\":10,\"solidity\":0.2}},\"type\":\"bar\"}],\"carpet\":[{\"aaxis\":{\"endlinecolor\":\"#2a3f5f\",\"gridcolor\":\"white\",\"linecolor\":\"white\",\"minorgridcolor\":\"white\",\"startlinecolor\":\"#2a3f5f\"},\"baxis\":{\"endlinecolor\":\"#2a3f5f\",\"gridcolor\":\"white\",\"linecolor\":\"white\",\"minorgridcolor\":\"white\",\"startlinecolor\":\"#2a3f5f\"},\"type\":\"carpet\"}],\"choropleth\":[{\"colorbar\":{\"outlinewidth\":0,\"ticks\":\"\"},\"type\":\"choropleth\"}],\"contourcarpet\":[{\"colorbar\":{\"outlinewidth\":0,\"ticks\":\"\"},\"type\":\"contourcarpet\"}],\"contour\":[{\"colorbar\":{\"outlinewidth\":0,\"ticks\":\"\"},\"colorscale\":[[0.0,\"#0d0887\"],[0.1111111111111111,\"#46039f\"],[0.2222222222222222,\"#7201a8\"],[0.3333333333333333,\"#9c179e\"],[0.4444444444444444,\"#bd3786\"],[0.5555555555555556,\"#d8576b\"],[0.6666666666666666,\"#ed7953\"],[0.7777777777777778,\"#fb9f3a\"],[0.8888888888888888,\"#fdca26\"],[1.0,\"#f0f921\"]],\"type\":\"contour\"}],\"heatmapgl\":[{\"colorbar\":{\"outlinewidth\":0,\"ticks\":\"\"},\"colorscale\":[[0.0,\"#0d0887\"],[0.1111111111111111,\"#46039f\"],[0.2222222222222222,\"#7201a8\"],[0.3333333333333333,\"#9c179e\"],[0.4444444444444444,\"#bd3786\"],[0.5555555555555556,\"#d8576b\"],[0.6666666666666666,\"#ed7953\"],[0.7777777777777778,\"#fb9f3a\"],[0.8888888888888888,\"#fdca26\"],[1.0,\"#f0f921\"]],\"type\":\"heatmapgl\"}],\"heatmap\":[{\"colorbar\":{\"outlinewidth\":0,\"ticks\":\"\"},\"colorscale\":[[0.0,\"#0d0887\"],[0.1111111111111111,\"#46039f\"],[0.2222222222222222,\"#7201a8\"],[0.3333333333333333,\"#9c179e\"],[0.4444444444444444,\"#bd3786\"],[0.5555555555555556,\"#d8576b\"],[0.6666666666666666,\"#ed7953\"],[0.7777777777777778,\"#fb9f3a\"],[0.8888888888888888,\"#fdca26\"],[1.0,\"#f0f921\"]],\"type\":\"heatmap\"}],\"histogram2dcontour\":[{\"colorbar\":{\"outlinewidth\":0,\"ticks\":\"\"},\"colorscale\":[[0.0,\"#0d0887\"],[0.1111111111111111,\"#46039f\"],[0.2222222222222222,\"#7201a8\"],[0.3333333333333333,\"#9c179e\"],[0.4444444444444444,\"#bd3786\"],[0.5555555555555556,\"#d8576b\"],[0.6666666666666666,\"#ed7953\"],[0.7777777777777778,\"#fb9f3a\"],[0.8888888888888888,\"#fdca26\"],[1.0,\"#f0f921\"]],\"type\":\"histogram2dcontour\"}],\"histogram2d\":[{\"colorbar\":{\"outlinewidth\":0,\"ticks\":\"\"},\"colorscale\":[[0.0,\"#0d0887\"],[0.1111111111111111,\"#46039f\"],[0.2222222222222222,\"#7201a8\"],[0.3333333333333333,\"#9c179e\"],[0.4444444444444444,\"#bd3786\"],[0.5555555555555556,\"#d8576b\"],[0.6666666666666666,\"#ed7953\"],[0.7777777777777778,\"#fb9f3a\"],[0.8888888888888888,\"#fdca26\"],[1.0,\"#f0f921\"]],\"type\":\"histogram2d\"}],\"histogram\":[{\"marker\":{\"pattern\":{\"fillmode\":\"overlay\",\"size\":10,\"solidity\":0.2}},\"type\":\"histogram\"}],\"mesh3d\":[{\"colorbar\":{\"outlinewidth\":0,\"ticks\":\"\"},\"type\":\"mesh3d\"}],\"parcoords\":[{\"line\":{\"colorbar\":{\"outlinewidth\":0,\"ticks\":\"\"}},\"type\":\"parcoords\"}],\"pie\":[{\"automargin\":true,\"type\":\"pie\"}],\"scatter3d\":[{\"line\":{\"colorbar\":{\"outlinewidth\":0,\"ticks\":\"\"}},\"marker\":{\"colorbar\":{\"outlinewidth\":0,\"ticks\":\"\"}},\"type\":\"scatter3d\"}],\"scattercarpet\":[{\"marker\":{\"colorbar\":{\"outlinewidth\":0,\"ticks\":\"\"}},\"type\":\"scattercarpet\"}],\"scattergeo\":[{\"marker\":{\"colorbar\":{\"outlinewidth\":0,\"ticks\":\"\"}},\"type\":\"scattergeo\"}],\"scattergl\":[{\"marker\":{\"colorbar\":{\"outlinewidth\":0,\"ticks\":\"\"}},\"type\":\"scattergl\"}],\"scattermapbox\":[{\"marker\":{\"colorbar\":{\"outlinewidth\":0,\"ticks\":\"\"}},\"type\":\"scattermapbox\"}],\"scatterpolargl\":[{\"marker\":{\"colorbar\":{\"outlinewidth\":0,\"ticks\":\"\"}},\"type\":\"scatterpolargl\"}],\"scatterpolar\":[{\"marker\":{\"colorbar\":{\"outlinewidth\":0,\"ticks\":\"\"}},\"type\":\"scatterpolar\"}],\"scatter\":[{\"fillpattern\":{\"fillmode\":\"overlay\",\"size\":10,\"solidity\":0.2},\"type\":\"scatter\"}],\"scatterternary\":[{\"marker\":{\"colorbar\":{\"outlinewidth\":0,\"ticks\":\"\"}},\"type\":\"scatterternary\"}],\"surface\":[{\"colorbar\":{\"outlinewidth\":0,\"ticks\":\"\"},\"colorscale\":[[0.0,\"#0d0887\"],[0.1111111111111111,\"#46039f\"],[0.2222222222222222,\"#7201a8\"],[0.3333333333333333,\"#9c179e\"],[0.4444444444444444,\"#bd3786\"],[0.5555555555555556,\"#d8576b\"],[0.6666666666666666,\"#ed7953\"],[0.7777777777777778,\"#fb9f3a\"],[0.8888888888888888,\"#fdca26\"],[1.0,\"#f0f921\"]],\"type\":\"surface\"}],\"table\":[{\"cells\":{\"fill\":{\"color\":\"#EBF0F8\"},\"line\":{\"color\":\"white\"}},\"header\":{\"fill\":{\"color\":\"#C8D4E3\"},\"line\":{\"color\":\"white\"}},\"type\":\"table\"}]},\"layout\":{\"annotationdefaults\":{\"arrowcolor\":\"#2a3f5f\",\"arrowhead\":0,\"arrowwidth\":1},\"autotypenumbers\":\"strict\",\"coloraxis\":{\"colorbar\":{\"outlinewidth\":0,\"ticks\":\"\"}},\"colorscale\":{\"diverging\":[[0,\"#8e0152\"],[0.1,\"#c51b7d\"],[0.2,\"#de77ae\"],[0.3,\"#f1b6da\"],[0.4,\"#fde0ef\"],[0.5,\"#f7f7f7\"],[0.6,\"#e6f5d0\"],[0.7,\"#b8e186\"],[0.8,\"#7fbc41\"],[0.9,\"#4d9221\"],[1,\"#276419\"]],\"sequential\":[[0.0,\"#0d0887\"],[0.1111111111111111,\"#46039f\"],[0.2222222222222222,\"#7201a8\"],[0.3333333333333333,\"#9c179e\"],[0.4444444444444444,\"#bd3786\"],[0.5555555555555556,\"#d8576b\"],[0.6666666666666666,\"#ed7953\"],[0.7777777777777778,\"#fb9f3a\"],[0.8888888888888888,\"#fdca26\"],[1.0,\"#f0f921\"]],\"sequentialminus\":[[0.0,\"#0d0887\"],[0.1111111111111111,\"#46039f\"],[0.2222222222222222,\"#7201a8\"],[0.3333333333333333,\"#9c179e\"],[0.4444444444444444,\"#bd3786\"],[0.5555555555555556,\"#d8576b\"],[0.6666666666666666,\"#ed7953\"],[0.7777777777777778,\"#fb9f3a\"],[0.8888888888888888,\"#fdca26\"],[1.0,\"#f0f921\"]]},\"colorway\":[\"#636efa\",\"#EF553B\",\"#00cc96\",\"#ab63fa\",\"#FFA15A\",\"#19d3f3\",\"#FF6692\",\"#B6E880\",\"#FF97FF\",\"#FECB52\"],\"font\":{\"color\":\"#2a3f5f\"},\"geo\":{\"bgcolor\":\"white\",\"lakecolor\":\"white\",\"landcolor\":\"#E5ECF6\",\"showlakes\":true,\"showland\":true,\"subunitcolor\":\"white\"},\"hoverlabel\":{\"align\":\"left\"},\"hovermode\":\"closest\",\"mapbox\":{\"style\":\"light\"},\"paper_bgcolor\":\"white\",\"plot_bgcolor\":\"#E5ECF6\",\"polar\":{\"angularaxis\":{\"gridcolor\":\"white\",\"linecolor\":\"white\",\"ticks\":\"\"},\"bgcolor\":\"#E5ECF6\",\"radialaxis\":{\"gridcolor\":\"white\",\"linecolor\":\"white\",\"ticks\":\"\"}},\"scene\":{\"xaxis\":{\"backgroundcolor\":\"#E5ECF6\",\"gridcolor\":\"white\",\"gridwidth\":2,\"linecolor\":\"white\",\"showbackground\":true,\"ticks\":\"\",\"zerolinecolor\":\"white\"},\"yaxis\":{\"backgroundcolor\":\"#E5ECF6\",\"gridcolor\":\"white\",\"gridwidth\":2,\"linecolor\":\"white\",\"showbackground\":true,\"ticks\":\"\",\"zerolinecolor\":\"white\"},\"zaxis\":{\"backgroundcolor\":\"#E5ECF6\",\"gridcolor\":\"white\",\"gridwidth\":2,\"linecolor\":\"white\",\"showbackground\":true,\"ticks\":\"\",\"zerolinecolor\":\"white\"}},\"shapedefaults\":{\"line\":{\"color\":\"#2a3f5f\"}},\"ternary\":{\"aaxis\":{\"gridcolor\":\"white\",\"linecolor\":\"white\",\"ticks\":\"\"},\"baxis\":{\"gridcolor\":\"white\",\"linecolor\":\"white\",\"ticks\":\"\"},\"bgcolor\":\"#E5ECF6\",\"caxis\":{\"gridcolor\":\"white\",\"linecolor\":\"white\",\"ticks\":\"\"}},\"title\":{\"x\":0.05},\"xaxis\":{\"automargin\":true,\"gridcolor\":\"white\",\"linecolor\":\"white\",\"ticks\":\"\",\"title\":{\"standoff\":15},\"zerolinecolor\":\"white\",\"zerolinewidth\":2},\"yaxis\":{\"automargin\":true,\"gridcolor\":\"white\",\"linecolor\":\"white\",\"ticks\":\"\",\"title\":{\"standoff\":15},\"zerolinecolor\":\"white\",\"zerolinewidth\":2}}},\"title\":{\"font\":{\"color\":\"#4D5663\"}},\"xaxis\":{\"gridcolor\":\"#E1E5ED\",\"showgrid\":true,\"tickfont\":{\"color\":\"#4D5663\"},\"title\":{\"font\":{\"color\":\"#4D5663\"},\"text\":\"\"},\"zerolinecolor\":\"#E1E5ED\"},\"yaxis\":{\"gridcolor\":\"#E1E5ED\",\"showgrid\":true,\"tickfont\":{\"color\":\"#4D5663\"},\"title\":{\"font\":{\"color\":\"#4D5663\"},\"text\":\"\"},\"zerolinecolor\":\"#E1E5ED\"}},                        {\"showLink\": true, \"linkText\": \"Export to plot.ly\", \"plotlyServerURL\": \"https://plot.ly\", \"responsive\": true}                    ).then(function(){\n                            \nvar gd = document.getElementById('bb6ff478-4a38-4e81-b6cc-fba42346dd8b');\nvar x = new MutationObserver(function (mutations, observer) {{\n        var display = window.getComputedStyle(gd).display;\n        if (!display || display === 'none') {{\n            console.log([gd, 'removed!']);\n            Plotly.purge(gd);\n            observer.disconnect();\n        }}\n}});\n\n// Listen for the removal of the full notebook cells\nvar notebookContainer = gd.closest('#notebook-container');\nif (notebookContainer) {{\n    x.observe(notebookContainer, {childList: true});\n}}\n\n// Listen for the clearing of the current output cell\nvar outputEl = gd.closest('.output');\nif (outputEl) {{\n    x.observe(outputEl, {childList: true});\n}}\n\n                        })                };                });            </script>        </div>"
     },
     "metadata": {},
     "output_type": "display_data"
    }
   ],
   "source": [
    "df['a'].iplot(kind = 'hist')"
   ],
   "metadata": {
    "collapsed": false,
    "ExecuteTime": {
     "end_time": "2023-07-24T20:25:51.962817700Z",
     "start_time": "2023-07-24T20:25:51.822894300Z"
    }
   }
  },
  {
   "cell_type": "code",
   "execution_count": 36,
   "outputs": [
    {
     "ename": "AttributeError",
     "evalue": "module 'pandas' has no attribute 'np'",
     "output_type": "error",
     "traceback": [
      "\u001B[1;31m---------------------------------------------------------------------------\u001B[0m",
      "\u001B[1;31mAttributeError\u001B[0m                            Traceback (most recent call last)",
      "Cell \u001B[1;32mIn[36], line 1\u001B[0m\n\u001B[1;32m----> 1\u001B[0m \u001B[43mdf\u001B[49m\u001B[43m[\u001B[49m\u001B[43m[\u001B[49m\u001B[38;5;124;43m'\u001B[39;49m\u001B[38;5;124;43ma\u001B[39;49m\u001B[38;5;124;43m'\u001B[39;49m\u001B[43m,\u001B[49m\u001B[43m \u001B[49m\u001B[38;5;124;43m'\u001B[39;49m\u001B[38;5;124;43mc\u001B[39;49m\u001B[38;5;124;43m'\u001B[39;49m\u001B[43m]\u001B[49m\u001B[43m]\u001B[49m\u001B[38;5;241;43m.\u001B[39;49m\u001B[43miplot\u001B[49m\u001B[43m(\u001B[49m\u001B[43mkind\u001B[49m\u001B[43m \u001B[49m\u001B[38;5;241;43m=\u001B[39;49m\u001B[43m \u001B[49m\u001B[38;5;124;43m'\u001B[39;49m\u001B[38;5;124;43mspread\u001B[39;49m\u001B[38;5;124;43m'\u001B[39;49m\u001B[43m)\u001B[49m\n",
      "File \u001B[1;32m~\\anaconda3\\envs\\notebooktask\\lib\\site-packages\\cufflinks\\plotlytools.py:849\u001B[0m, in \u001B[0;36m_iplot\u001B[1;34m(self, kind, data, layout, filename, sharing, title, xTitle, yTitle, zTitle, theme, colors, colorscale, fill, width, dash, mode, interpolation, symbol, size, barmode, sortbars, bargap, bargroupgap, bins, histnorm, histfunc, orientation, boxpoints, annotations, keys, bestfit, bestfit_colors, mean, mean_colors, categories, x, y, z, text, gridcolor, zerolinecolor, margin, labels, values, secondary_y, secondary_y_title, subplots, shape, error_x, error_y, error_type, locations, lon, lat, asFrame, asDates, asFigure, asImage, dimensions, asPlot, asUrl, online, **kwargs)\u001B[0m\n\u001B[0;32m    847\u001B[0m \u001B[38;5;28;01mif\u001B[39;00m kind\u001B[38;5;241m==\u001B[39m\u001B[38;5;124m'\u001B[39m\u001B[38;5;124mspread\u001B[39m\u001B[38;5;124m'\u001B[39m:\n\u001B[0;32m    848\u001B[0m \ttrace\u001B[38;5;241m=\u001B[39m\u001B[38;5;28mself\u001B[39m\u001B[38;5;241m.\u001B[39mapply(\u001B[38;5;28;01mlambda\u001B[39;00m x:x[\u001B[38;5;241m0\u001B[39m]\u001B[38;5;241m-\u001B[39mx[\u001B[38;5;241m1\u001B[39m],axis\u001B[38;5;241m=\u001B[39m\u001B[38;5;241m1\u001B[39m)\n\u001B[1;32m--> 849\u001B[0m \tpositive\u001B[38;5;241m=\u001B[39m\u001B[43mtrace\u001B[49m\u001B[38;5;241;43m.\u001B[39;49m\u001B[43mapply\u001B[49m\u001B[43m(\u001B[49m\u001B[38;5;28;43;01mlambda\u001B[39;49;00m\u001B[43m \u001B[49m\u001B[43mx\u001B[49m\u001B[43m:\u001B[49m\u001B[43mx\u001B[49m\u001B[43m \u001B[49m\u001B[38;5;28;43;01mif\u001B[39;49;00m\u001B[43m \u001B[49m\u001B[43mx\u001B[49m\u001B[38;5;241;43m>\u001B[39;49m\u001B[38;5;241;43m=\u001B[39;49m\u001B[38;5;241;43m0\u001B[39;49m\u001B[43m \u001B[49m\u001B[38;5;28;43;01melse\u001B[39;49;00m\u001B[43m \u001B[49m\u001B[43mpd\u001B[49m\u001B[38;5;241;43m.\u001B[39;49m\u001B[43mnp\u001B[49m\u001B[38;5;241;43m.\u001B[39;49m\u001B[43mnan\u001B[49m\u001B[43m)\u001B[49m\n\u001B[0;32m    850\u001B[0m \tnegative\u001B[38;5;241m=\u001B[39mtrace\u001B[38;5;241m.\u001B[39mapply(\u001B[38;5;28;01mlambda\u001B[39;00m x:x \u001B[38;5;28;01mif\u001B[39;00m x\u001B[38;5;241m<\u001B[39m\u001B[38;5;241m0\u001B[39m \u001B[38;5;28;01melse\u001B[39;00m pd\u001B[38;5;241m.\u001B[39mnp\u001B[38;5;241m.\u001B[39mnan)\n\u001B[0;32m    851\u001B[0m \ttrace\u001B[38;5;241m=\u001B[39mpd\u001B[38;5;241m.\u001B[39mDataFrame({\u001B[38;5;124m'\u001B[39m\u001B[38;5;124mpositive\u001B[39m\u001B[38;5;124m'\u001B[39m:positive,\u001B[38;5;124m'\u001B[39m\u001B[38;5;124mnegative\u001B[39m\u001B[38;5;124m'\u001B[39m:negative})\n",
      "File \u001B[1;32m~\\anaconda3\\envs\\notebooktask\\lib\\site-packages\\pandas\\core\\series.py:4630\u001B[0m, in \u001B[0;36mSeries.apply\u001B[1;34m(self, func, convert_dtype, args, **kwargs)\u001B[0m\n\u001B[0;32m   4520\u001B[0m \u001B[38;5;28;01mdef\u001B[39;00m \u001B[38;5;21mapply\u001B[39m(\n\u001B[0;32m   4521\u001B[0m     \u001B[38;5;28mself\u001B[39m,\n\u001B[0;32m   4522\u001B[0m     func: AggFuncType,\n\u001B[1;32m   (...)\u001B[0m\n\u001B[0;32m   4525\u001B[0m     \u001B[38;5;241m*\u001B[39m\u001B[38;5;241m*\u001B[39mkwargs,\n\u001B[0;32m   4526\u001B[0m ) \u001B[38;5;241m-\u001B[39m\u001B[38;5;241m>\u001B[39m DataFrame \u001B[38;5;241m|\u001B[39m Series:\n\u001B[0;32m   4527\u001B[0m \u001B[38;5;250m    \u001B[39m\u001B[38;5;124;03m\"\"\"\u001B[39;00m\n\u001B[0;32m   4528\u001B[0m \u001B[38;5;124;03m    Invoke function on values of Series.\u001B[39;00m\n\u001B[0;32m   4529\u001B[0m \n\u001B[1;32m   (...)\u001B[0m\n\u001B[0;32m   4628\u001B[0m \u001B[38;5;124;03m    dtype: float64\u001B[39;00m\n\u001B[0;32m   4629\u001B[0m \u001B[38;5;124;03m    \"\"\"\u001B[39;00m\n\u001B[1;32m-> 4630\u001B[0m     \u001B[38;5;28;01mreturn\u001B[39;00m \u001B[43mSeriesApply\u001B[49m\u001B[43m(\u001B[49m\u001B[38;5;28;43mself\u001B[39;49m\u001B[43m,\u001B[49m\u001B[43m \u001B[49m\u001B[43mfunc\u001B[49m\u001B[43m,\u001B[49m\u001B[43m \u001B[49m\u001B[43mconvert_dtype\u001B[49m\u001B[43m,\u001B[49m\u001B[43m \u001B[49m\u001B[43margs\u001B[49m\u001B[43m,\u001B[49m\u001B[43m \u001B[49m\u001B[43mkwargs\u001B[49m\u001B[43m)\u001B[49m\u001B[38;5;241;43m.\u001B[39;49m\u001B[43mapply\u001B[49m\u001B[43m(\u001B[49m\u001B[43m)\u001B[49m\n",
      "File \u001B[1;32m~\\anaconda3\\envs\\notebooktask\\lib\\site-packages\\pandas\\core\\apply.py:1025\u001B[0m, in \u001B[0;36mSeriesApply.apply\u001B[1;34m(self)\u001B[0m\n\u001B[0;32m   1022\u001B[0m     \u001B[38;5;28;01mreturn\u001B[39;00m \u001B[38;5;28mself\u001B[39m\u001B[38;5;241m.\u001B[39mapply_str()\n\u001B[0;32m   1024\u001B[0m \u001B[38;5;66;03m# self.f is Callable\u001B[39;00m\n\u001B[1;32m-> 1025\u001B[0m \u001B[38;5;28;01mreturn\u001B[39;00m \u001B[38;5;28;43mself\u001B[39;49m\u001B[38;5;241;43m.\u001B[39;49m\u001B[43mapply_standard\u001B[49m\u001B[43m(\u001B[49m\u001B[43m)\u001B[49m\n",
      "File \u001B[1;32m~\\anaconda3\\envs\\notebooktask\\lib\\site-packages\\pandas\\core\\apply.py:1076\u001B[0m, in \u001B[0;36mSeriesApply.apply_standard\u001B[1;34m(self)\u001B[0m\n\u001B[0;32m   1074\u001B[0m     \u001B[38;5;28;01melse\u001B[39;00m:\n\u001B[0;32m   1075\u001B[0m         values \u001B[38;5;241m=\u001B[39m obj\u001B[38;5;241m.\u001B[39mastype(\u001B[38;5;28mobject\u001B[39m)\u001B[38;5;241m.\u001B[39m_values\n\u001B[1;32m-> 1076\u001B[0m         mapped \u001B[38;5;241m=\u001B[39m \u001B[43mlib\u001B[49m\u001B[38;5;241;43m.\u001B[39;49m\u001B[43mmap_infer\u001B[49m\u001B[43m(\u001B[49m\n\u001B[0;32m   1077\u001B[0m \u001B[43m            \u001B[49m\u001B[43mvalues\u001B[49m\u001B[43m,\u001B[49m\n\u001B[0;32m   1078\u001B[0m \u001B[43m            \u001B[49m\u001B[43mf\u001B[49m\u001B[43m,\u001B[49m\n\u001B[0;32m   1079\u001B[0m \u001B[43m            \u001B[49m\u001B[43mconvert\u001B[49m\u001B[38;5;241;43m=\u001B[39;49m\u001B[38;5;28;43mself\u001B[39;49m\u001B[38;5;241;43m.\u001B[39;49m\u001B[43mconvert_dtype\u001B[49m\u001B[43m,\u001B[49m\n\u001B[0;32m   1080\u001B[0m \u001B[43m        \u001B[49m\u001B[43m)\u001B[49m\n\u001B[0;32m   1082\u001B[0m \u001B[38;5;28;01mif\u001B[39;00m \u001B[38;5;28mlen\u001B[39m(mapped) \u001B[38;5;129;01mand\u001B[39;00m \u001B[38;5;28misinstance\u001B[39m(mapped[\u001B[38;5;241m0\u001B[39m], ABCSeries):\n\u001B[0;32m   1083\u001B[0m     \u001B[38;5;66;03m# GH#43986 Need to do list(mapped) in order to get treated as nested\u001B[39;00m\n\u001B[0;32m   1084\u001B[0m     \u001B[38;5;66;03m#  See also GH#25959 regarding EA support\u001B[39;00m\n\u001B[0;32m   1085\u001B[0m     \u001B[38;5;28;01mreturn\u001B[39;00m obj\u001B[38;5;241m.\u001B[39m_constructor_expanddim(\u001B[38;5;28mlist\u001B[39m(mapped), index\u001B[38;5;241m=\u001B[39mobj\u001B[38;5;241m.\u001B[39mindex)\n",
      "File \u001B[1;32m~\\anaconda3\\envs\\notebooktask\\lib\\site-packages\\pandas\\_libs\\lib.pyx:2834\u001B[0m, in \u001B[0;36mpandas._libs.lib.map_infer\u001B[1;34m()\u001B[0m\n",
      "File \u001B[1;32m~\\anaconda3\\envs\\notebooktask\\lib\\site-packages\\cufflinks\\plotlytools.py:849\u001B[0m, in \u001B[0;36m_iplot.<locals>.<lambda>\u001B[1;34m(x)\u001B[0m\n\u001B[0;32m    847\u001B[0m \u001B[38;5;28;01mif\u001B[39;00m kind\u001B[38;5;241m==\u001B[39m\u001B[38;5;124m'\u001B[39m\u001B[38;5;124mspread\u001B[39m\u001B[38;5;124m'\u001B[39m:\n\u001B[0;32m    848\u001B[0m \ttrace\u001B[38;5;241m=\u001B[39m\u001B[38;5;28mself\u001B[39m\u001B[38;5;241m.\u001B[39mapply(\u001B[38;5;28;01mlambda\u001B[39;00m x:x[\u001B[38;5;241m0\u001B[39m]\u001B[38;5;241m-\u001B[39mx[\u001B[38;5;241m1\u001B[39m],axis\u001B[38;5;241m=\u001B[39m\u001B[38;5;241m1\u001B[39m)\n\u001B[1;32m--> 849\u001B[0m \tpositive\u001B[38;5;241m=\u001B[39mtrace\u001B[38;5;241m.\u001B[39mapply(\u001B[38;5;28;01mlambda\u001B[39;00m x:x \u001B[38;5;28;01mif\u001B[39;00m x\u001B[38;5;241m>\u001B[39m\u001B[38;5;241m=\u001B[39m\u001B[38;5;241m0\u001B[39m \u001B[38;5;28;01melse\u001B[39;00m \u001B[43mpd\u001B[49m\u001B[38;5;241;43m.\u001B[39;49m\u001B[43mnp\u001B[49m\u001B[38;5;241m.\u001B[39mnan)\n\u001B[0;32m    850\u001B[0m \tnegative\u001B[38;5;241m=\u001B[39mtrace\u001B[38;5;241m.\u001B[39mapply(\u001B[38;5;28;01mlambda\u001B[39;00m x:x \u001B[38;5;28;01mif\u001B[39;00m x\u001B[38;5;241m<\u001B[39m\u001B[38;5;241m0\u001B[39m \u001B[38;5;28;01melse\u001B[39;00m pd\u001B[38;5;241m.\u001B[39mnp\u001B[38;5;241m.\u001B[39mnan)\n\u001B[0;32m    851\u001B[0m \ttrace\u001B[38;5;241m=\u001B[39mpd\u001B[38;5;241m.\u001B[39mDataFrame({\u001B[38;5;124m'\u001B[39m\u001B[38;5;124mpositive\u001B[39m\u001B[38;5;124m'\u001B[39m:positive,\u001B[38;5;124m'\u001B[39m\u001B[38;5;124mnegative\u001B[39m\u001B[38;5;124m'\u001B[39m:negative})\n",
      "\u001B[1;31mAttributeError\u001B[0m: module 'pandas' has no attribute 'np'"
     ]
    }
   ],
   "source": [
    "df[['a', 'c']].iplot(kind = 'spread')"
   ],
   "metadata": {
    "collapsed": false,
    "ExecuteTime": {
     "end_time": "2023-07-24T20:28:29.538592300Z",
     "start_time": "2023-07-24T20:28:28.963923500Z"
    }
   }
  },
  {
   "cell_type": "code",
   "execution_count": 37,
   "outputs": [
    {
     "data": {
      "application/vnd.plotly.v1+json": {
       "data": [
        {
         "histfunc": "count",
         "histnorm": "",
         "marker": {
          "color": "rgba(255, 153, 51, 1.0)",
          "line": {
           "color": "#4D5663",
           "width": 1.3
          }
         },
         "name": "a",
         "nbinsx": 10,
         "opacity": 0.8,
         "orientation": "v",
         "x": [
          -0.47955835117961326,
          2.208528985383365,
          0.4679589633910048,
          -0.8551162799251366,
          1.2525226501637672,
          1.1319214520231038,
          0.15812173899452547,
          -0.9092022524719334,
          0.32852802693340066,
          -0.4676903591186404,
          -0.3493277560093259,
          1.1183452949278738,
          1.0373688122425815,
          -0.6453414703455302,
          0.03229546532035661,
          -0.6023069851028888,
          0.9121079412160702,
          1.0498745999585175,
          1.0919176486482147,
          0.19191573392508898,
          -0.18942501228613742,
          -0.81840921813167,
          -1.190074307457328,
          -0.9366038728507515,
          -0.856021391260267,
          -0.5615826830665962,
          0.6378853019783909,
          -0.4469043426630658,
          -0.30437064195722396,
          0.12651643036377053,
          1.5701773925381344,
          -0.9580031126548217,
          0.04328220572876478,
          0.2725744951757658,
          0.4222972618869988,
          -0.2920985389545437,
          0.16214011253466665,
          0.9540490890422607,
          1.7225130817761656,
          -0.10512997495124377,
          -0.17633757215891804,
          1.45413051536654,
          -1.0519315569532932,
          1.1387557835791358,
          1.1861446893126402,
          -1.7580736056974662,
          0.5292123753306647,
          -0.9993961605133591,
          0.4656671775443968,
          0.14081276623774347,
          1.010413912098985,
          0.2809253841822681,
          -0.17599998665524727,
          1.502021151027751,
          -0.3838066673391768,
          1.198474820214525,
          -0.44721845335323585,
          -0.14370261165006484,
          -0.8260516382539377,
          -0.6809444591047652,
          0.5975261318282004,
          -1.2671176535438404,
          -0.1451011980098431,
          -0.12245751430090913,
          -2.9311413567274505,
          0.3903574906989734,
          -0.5444592065848942,
          1.4805370340162713,
          -1.516818137400796,
          -0.36807158571373966,
          -0.16298781561838693,
          -2.180519736923615,
          1.1825365269446158,
          0.7316658802037822,
          0.011666208316439941,
          0.1859449212009432,
          -0.1704869670034482,
          0.5086650732355799,
          -0.6469319358610637,
          0.6787103800007991,
          -0.09385953422313559,
          1.1944846327409775,
          -0.1503167358094551,
          0.5904644508340733,
          0.42582199360480877,
          1.1586090185110205,
          -2.8031677845866,
          -0.6654053838251582,
          0.5205929889517756,
          0.2436354199909118,
          -0.4517153603280674,
          1.3044889871740712,
          0.3173682234696028,
          -0.7952936213078645,
          -0.9817079635434631,
          -0.10268464581201636,
          -0.49954305222214757,
          1.393297854592929,
          -0.5971193120230532,
          0.6050202842451881
         ],
         "xaxis": "x",
         "yaxis": "y",
         "type": "histogram"
        },
        {
         "line": {
          "color": "rgba(128, 128, 128, 1.0)",
          "dash": "solid",
          "shape": "linear",
          "width": 1.3
         },
         "marker": {
          "size": 2,
          "symbol": "circle"
         },
         "mode": "markers",
         "name": "a",
         "text": "",
         "x": [
          -1.271843621889942,
          -2.9194771482654533,
          1.0778027419907863,
          -3.3880158092068644,
          0.16727993160964663,
          0.752657149357646,
          -0.23471773455215122,
          -0.5405081781298487,
          -2.718485469093071,
          1.3977621771945667,
          1.9146685524277431,
          0.5442835285398985,
          0.6920694699070546,
          1.3288616436071947,
          -1.6990132510416547,
          1.9951469381152758,
          -0.19244562711695304,
          -0.32523784472144124,
          0.6042049624099904,
          0.3423085542626006,
          -0.005723712507034573,
          0.1660708792426556,
          -0.25674707460214397,
          -0.1226287964154879,
          -1.0156204214589089,
          1.348641230156133,
          -0.8398316440997098,
          -0.8179472960460081,
          -1.4349465992015384,
          -1.499440425603565,
          1.517245350105534,
          -0.5308778868191003,
          -1.3472959906321316,
          -1.0406469384731583,
          -0.4977387501764713,
          1.275667989295518,
          1.1295127491665227,
          -1.6061400217783806,
          -0.8171279627165152,
          -0.4932602218745369,
          -0.7406254851198281,
          -0.199395177148563,
          1.0415158118454182,
          0.3306663594538813,
          0.08367312089908913,
          1.6710661620083822,
          1.6242630288549933,
          1.2441631698928521,
          -1.8427327464637056,
          -1.07841115026537,
          1.0373216854219938,
          1.243928951642244,
          0.4028753220836608,
          0.10716839746295827,
          -1.2469087711768443,
          -0.4416009998087673,
          -0.1468232659953732,
          1.9061089235064455,
          -1.4600887886691467,
          -1.3472652348843102,
          -0.19782739179798506,
          -0.564060507366717,
          0.6601245441938398,
          -1.8642517504969234,
          -0.853855547211736,
          -1.1533885564167732,
          0.5137118780719806,
          -0.8602111272746457,
          0.5283454136479098,
          -0.3927459258059125,
          -0.9987993727603097,
          0.685678981657241,
          1.0824709572760371,
          -0.8563875703591132,
          -0.08003984227964277,
          0.7121193710585941,
          1.029592809196191,
          -0.33060904117985307,
          0.597189021016201,
          1.994985364857601,
          1.5750586947586183,
          0.3732431896844038,
          0.2183568914505785,
          -1.5701190492530126,
          -0.021869881075446528,
          -1.6773201519956382,
          -0.35426462746605936,
          0.8111479806834876,
          0.17462866309631145,
          1.1811359917261979,
          -1.7985183343782079,
          -0.40976299717349285,
          -0.5766078869323968,
          -0.6599137284909488,
          -0.6276952753342473,
          1.5578846219563145,
          2.3818500342349207,
          0.5361410686341836,
          1.2528965783784614,
          0.9650038473548902
         ],
         "xaxis": "x2",
         "y": [
          -0.47955835117961326,
          2.208528985383365,
          0.4679589633910048,
          -0.8551162799251366,
          1.2525226501637672,
          1.1319214520231038,
          0.15812173899452547,
          -0.9092022524719334,
          0.32852802693340066,
          -0.4676903591186404,
          -0.3493277560093259,
          1.1183452949278738,
          1.0373688122425815,
          -0.6453414703455302,
          0.03229546532035661,
          -0.6023069851028888,
          0.9121079412160702,
          1.0498745999585175,
          1.0919176486482147,
          0.19191573392508898,
          -0.18942501228613742,
          -0.81840921813167,
          -1.190074307457328,
          -0.9366038728507515,
          -0.856021391260267,
          -0.5615826830665962,
          0.6378853019783909,
          -0.4469043426630658,
          -0.30437064195722396,
          0.12651643036377053,
          1.5701773925381344,
          -0.9580031126548217,
          0.04328220572876478,
          0.2725744951757658,
          0.4222972618869988,
          -0.2920985389545437,
          0.16214011253466665,
          0.9540490890422607,
          1.7225130817761656,
          -0.10512997495124377,
          -0.17633757215891804,
          1.45413051536654,
          -1.0519315569532932,
          1.1387557835791358,
          1.1861446893126402,
          -1.7580736056974662,
          0.5292123753306647,
          -0.9993961605133591,
          0.4656671775443968,
          0.14081276623774347,
          1.010413912098985,
          0.2809253841822681,
          -0.17599998665524727,
          1.502021151027751,
          -0.3838066673391768,
          1.198474820214525,
          -0.44721845335323585,
          -0.14370261165006484,
          -0.8260516382539377,
          -0.6809444591047652,
          0.5975261318282004,
          -1.2671176535438404,
          -0.1451011980098431,
          -0.12245751430090913,
          -2.9311413567274505,
          0.3903574906989734,
          -0.5444592065848942,
          1.4805370340162713,
          -1.516818137400796,
          -0.36807158571373966,
          -0.16298781561838693,
          -2.180519736923615,
          1.1825365269446158,
          0.7316658802037822,
          0.011666208316439941,
          0.1859449212009432,
          -0.1704869670034482,
          0.5086650732355799,
          -0.6469319358610637,
          0.6787103800007991,
          -0.09385953422313559,
          1.1944846327409775,
          -0.1503167358094551,
          0.5904644508340733,
          0.42582199360480877,
          1.1586090185110205,
          -2.8031677845866,
          -0.6654053838251582,
          0.5205929889517756,
          0.2436354199909118,
          -0.4517153603280674,
          1.3044889871740712,
          0.3173682234696028,
          -0.7952936213078645,
          -0.9817079635434631,
          -0.10268464581201636,
          -0.49954305222214757,
          1.393297854592929,
          -0.5971193120230532,
          0.6050202842451881
         ],
         "yaxis": "y2",
         "type": "scatter"
        },
        {
         "line": {
          "color": "rgba(128, 128, 128, 1.0)",
          "dash": "solid",
          "shape": "linear",
          "width": 1.3
         },
         "marker": {
          "size": 2,
          "symbol": "circle"
         },
         "mode": "markers",
         "name": "a",
         "text": "",
         "x": [
          0.5967508133460097,
          -0.8310625436125187,
          -1.186075281486645,
          0.6839892029061092,
          0.33422412175490246,
          -0.3071702767291182,
          1.251127175522188,
          1.0003552532728113,
          -0.2377420517392665,
          -0.4697527063118209,
          0.5708434518927604,
          -1.1947960195694187,
          -0.5211675599806131,
          0.7158714474367859,
          0.8614422238381686,
          0.43157178546055064,
          1.3963028975464862,
          1.4875988076170195,
          1.7131776145581348,
          0.3262254353589354,
          -0.12552377386028193,
          -1.9022985701321304,
          -0.9120719616111599,
          1.7616033628142032,
          -0.6068907813949179,
          -0.2530358940260846,
          1.6050900725008113,
          0.8389317650171128,
          -0.002909916373665522,
          1.7231613931499312,
          0.42853309202866596,
          0.38562358104400046,
          -0.5816457524323265,
          -0.29516448723984784,
          1.1591737980493135,
          0.8823222830691667,
          -0.8290692062440366,
          -0.30242559226682475,
          0.6861308003160629,
          0.6657148569745158,
          -1.2223430945458924,
          -0.18390371544912945,
          -1.9892801418727477,
          -0.5532126817386545,
          0.14529208070328165,
          0.10530396944482108,
          0.840048514744419,
          0.3109258403053101,
          1.5149418881661314,
          0.6960741286557455,
          -0.5746995322937898,
          -1.2642798722621171,
          -0.8331997062746668,
          -0.4809489987602823,
          0.4879521164814944,
          -0.18970553016049113,
          -1.4460945647428922,
          -0.4197210086423235,
          1.0938141648237734,
          0.420365178460334,
          0.5437047780521163,
          2.1277396369110932,
          -1.4824255251585405,
          0.28014790326698,
          -1.0364764598428098,
          -1.0137255975534307,
          -0.5384372338453128,
          -1.7448174988513143,
          -1.2147675382539436,
          -0.1530862898792282,
          0.5975523415648675,
          -2.176185464348007,
          -1.2617209685508644,
          -1.3528072617329616,
          -0.6708566559177003,
          0.8891581711084477,
          0.44228700217665634,
          -0.09034793894769927,
          -0.8941483893465868,
          0.7359420705726158,
          -1.2330121017486972,
          -0.6461715862327733,
          -1.3642461847256528,
          0.24212955976515083,
          0.89404271749321,
          -0.7611759721173983,
          -0.2716282449010879,
          -0.7042685796637618,
          1.5145953401125853,
          0.36400562879899206,
          0.39065002581296315,
          -0.6182500302110686,
          0.5498062925369558,
          0.5543231928198981,
          2.3708937729816464,
          1.0361563012612234,
          -0.7183668727969715,
          -0.16522583193793056,
          0.4526790472959542,
          0.768056606707704
         ],
         "xaxis": "x3",
         "y": [
          -0.47955835117961326,
          2.208528985383365,
          0.4679589633910048,
          -0.8551162799251366,
          1.2525226501637672,
          1.1319214520231038,
          0.15812173899452547,
          -0.9092022524719334,
          0.32852802693340066,
          -0.4676903591186404,
          -0.3493277560093259,
          1.1183452949278738,
          1.0373688122425815,
          -0.6453414703455302,
          0.03229546532035661,
          -0.6023069851028888,
          0.9121079412160702,
          1.0498745999585175,
          1.0919176486482147,
          0.19191573392508898,
          -0.18942501228613742,
          -0.81840921813167,
          -1.190074307457328,
          -0.9366038728507515,
          -0.856021391260267,
          -0.5615826830665962,
          0.6378853019783909,
          -0.4469043426630658,
          -0.30437064195722396,
          0.12651643036377053,
          1.5701773925381344,
          -0.9580031126548217,
          0.04328220572876478,
          0.2725744951757658,
          0.4222972618869988,
          -0.2920985389545437,
          0.16214011253466665,
          0.9540490890422607,
          1.7225130817761656,
          -0.10512997495124377,
          -0.17633757215891804,
          1.45413051536654,
          -1.0519315569532932,
          1.1387557835791358,
          1.1861446893126402,
          -1.7580736056974662,
          0.5292123753306647,
          -0.9993961605133591,
          0.4656671775443968,
          0.14081276623774347,
          1.010413912098985,
          0.2809253841822681,
          -0.17599998665524727,
          1.502021151027751,
          -0.3838066673391768,
          1.198474820214525,
          -0.44721845335323585,
          -0.14370261165006484,
          -0.8260516382539377,
          -0.6809444591047652,
          0.5975261318282004,
          -1.2671176535438404,
          -0.1451011980098431,
          -0.12245751430090913,
          -2.9311413567274505,
          0.3903574906989734,
          -0.5444592065848942,
          1.4805370340162713,
          -1.516818137400796,
          -0.36807158571373966,
          -0.16298781561838693,
          -2.180519736923615,
          1.1825365269446158,
          0.7316658802037822,
          0.011666208316439941,
          0.1859449212009432,
          -0.1704869670034482,
          0.5086650732355799,
          -0.6469319358610637,
          0.6787103800007991,
          -0.09385953422313559,
          1.1944846327409775,
          -0.1503167358094551,
          0.5904644508340733,
          0.42582199360480877,
          1.1586090185110205,
          -2.8031677845866,
          -0.6654053838251582,
          0.5205929889517756,
          0.2436354199909118,
          -0.4517153603280674,
          1.3044889871740712,
          0.3173682234696028,
          -0.7952936213078645,
          -0.9817079635434631,
          -0.10268464581201636,
          -0.49954305222214757,
          1.393297854592929,
          -0.5971193120230532,
          0.6050202842451881
         ],
         "yaxis": "y3",
         "type": "scatter"
        },
        {
         "line": {
          "color": "rgba(128, 128, 128, 1.0)",
          "dash": "solid",
          "shape": "linear",
          "width": 1.3
         },
         "marker": {
          "size": 2,
          "symbol": "circle"
         },
         "mode": "markers",
         "name": "a",
         "text": "",
         "x": [
          -0.21618728541816296,
          1.2525459226652675,
          -0.3358009163971509,
          -0.8184760749598912,
          -0.3772166077514853,
          -1.3861624474993819,
          0.30740710849638947,
          0.275202583116614,
          -1.3240388450379998,
          -0.7257645398150134,
          0.07045922949442338,
          -0.48676497457833123,
          -0.6106546321456783,
          0.6769412416691347,
          0.6236781296783847,
          0.8984182754961492,
          -1.208042194254034,
          -0.1659269927069783,
          -1.276342627133373,
          -0.6859594465868938,
          1.4403530242834823,
          -0.24477321840964772,
          -1.5222734448540447,
          0.14917116882110168,
          -0.13808883464957145,
          -0.4375375783247449,
          1.567233581242451,
          1.5565760717056871,
          -0.72034678773032,
          -0.7287806352140853,
          0.22302539078996866,
          -2.0335464140443538,
          0.3157987247980749,
          1.0890092593239864,
          -0.1513529934338727,
          -0.7978244768567099,
          0.3821087333243263,
          -1.6202464811848905,
          0.7034416052270022,
          -0.9791495147711768,
          -0.6134779201626838,
          -0.04851198245023964,
          1.20411303148368,
          -0.6614127908787752,
          0.452880998327755,
          1.6639408358453316,
          0.11648833214149902,
          -0.27393767537970026,
          0.06903471091473971,
          0.1385728064149139,
          -0.7919898601517497,
          -0.47316026107910164,
          -0.49955084677851036,
          -0.26818185877208356,
          -0.3619998555526626,
          0.4699353492725758,
          1.2321408411404553,
          -1.0803311292418136,
          -0.17751174030516542,
          0.6243373549201932,
          0.36301153604288394,
          -1.4370960940189874,
          0.07234991480975235,
          0.2330486893618556,
          0.04109102379992068,
          0.15324613118464026,
          0.4840986053270673,
          -0.539567382808983,
          -0.17519068744518013,
          0.8079551946384139,
          -1.850316786185605,
          -1.3192894598113594,
          -1.1041588175263408,
          -0.4795675713229714,
          -0.08268057407004485,
          0.8291394204101675,
          1.1569962886971963,
          0.17575314100585898,
          -0.7416799714059854,
          -0.07150431966075302,
          -0.6864755436356272,
          -0.26215642090932006,
          -1.0576739331278184,
          -0.6623089486977592,
          -1.7711151174399706,
          2.212812051653826,
          -0.46079828894359876,
          -1.654960509967774,
          0.06838860174176283,
          -1.2181228796557841,
          0.5446319116403866,
          0.32939615965767904,
          0.7440103538166203,
          -0.01972462708917305,
          -0.49069094822653325,
          1.020485452966454,
          -1.3701495514676203,
          0.2853686307035859,
          1.0522408642498642,
          -1.536015059559466
         ],
         "xaxis": "x4",
         "y": [
          -0.47955835117961326,
          2.208528985383365,
          0.4679589633910048,
          -0.8551162799251366,
          1.2525226501637672,
          1.1319214520231038,
          0.15812173899452547,
          -0.9092022524719334,
          0.32852802693340066,
          -0.4676903591186404,
          -0.3493277560093259,
          1.1183452949278738,
          1.0373688122425815,
          -0.6453414703455302,
          0.03229546532035661,
          -0.6023069851028888,
          0.9121079412160702,
          1.0498745999585175,
          1.0919176486482147,
          0.19191573392508898,
          -0.18942501228613742,
          -0.81840921813167,
          -1.190074307457328,
          -0.9366038728507515,
          -0.856021391260267,
          -0.5615826830665962,
          0.6378853019783909,
          -0.4469043426630658,
          -0.30437064195722396,
          0.12651643036377053,
          1.5701773925381344,
          -0.9580031126548217,
          0.04328220572876478,
          0.2725744951757658,
          0.4222972618869988,
          -0.2920985389545437,
          0.16214011253466665,
          0.9540490890422607,
          1.7225130817761656,
          -0.10512997495124377,
          -0.17633757215891804,
          1.45413051536654,
          -1.0519315569532932,
          1.1387557835791358,
          1.1861446893126402,
          -1.7580736056974662,
          0.5292123753306647,
          -0.9993961605133591,
          0.4656671775443968,
          0.14081276623774347,
          1.010413912098985,
          0.2809253841822681,
          -0.17599998665524727,
          1.502021151027751,
          -0.3838066673391768,
          1.198474820214525,
          -0.44721845335323585,
          -0.14370261165006484,
          -0.8260516382539377,
          -0.6809444591047652,
          0.5975261318282004,
          -1.2671176535438404,
          -0.1451011980098431,
          -0.12245751430090913,
          -2.9311413567274505,
          0.3903574906989734,
          -0.5444592065848942,
          1.4805370340162713,
          -1.516818137400796,
          -0.36807158571373966,
          -0.16298781561838693,
          -2.180519736923615,
          1.1825365269446158,
          0.7316658802037822,
          0.011666208316439941,
          0.1859449212009432,
          -0.1704869670034482,
          0.5086650732355799,
          -0.6469319358610637,
          0.6787103800007991,
          -0.09385953422313559,
          1.1944846327409775,
          -0.1503167358094551,
          0.5904644508340733,
          0.42582199360480877,
          1.1586090185110205,
          -2.8031677845866,
          -0.6654053838251582,
          0.5205929889517756,
          0.2436354199909118,
          -0.4517153603280674,
          1.3044889871740712,
          0.3173682234696028,
          -0.7952936213078645,
          -0.9817079635434631,
          -0.10268464581201636,
          -0.49954305222214757,
          1.393297854592929,
          -0.5971193120230532,
          0.6050202842451881
         ],
         "yaxis": "y4",
         "type": "scatter"
        },
        {
         "line": {
          "color": "rgba(128, 128, 128, 1.0)",
          "dash": "solid",
          "shape": "linear",
          "width": 1.3
         },
         "marker": {
          "size": 2,
          "symbol": "circle"
         },
         "mode": "markers",
         "name": "b",
         "text": "",
         "x": [
          -0.47955835117961326,
          2.208528985383365,
          0.4679589633910048,
          -0.8551162799251366,
          1.2525226501637672,
          1.1319214520231038,
          0.15812173899452547,
          -0.9092022524719334,
          0.32852802693340066,
          -0.4676903591186404,
          -0.3493277560093259,
          1.1183452949278738,
          1.0373688122425815,
          -0.6453414703455302,
          0.03229546532035661,
          -0.6023069851028888,
          0.9121079412160702,
          1.0498745999585175,
          1.0919176486482147,
          0.19191573392508898,
          -0.18942501228613742,
          -0.81840921813167,
          -1.190074307457328,
          -0.9366038728507515,
          -0.856021391260267,
          -0.5615826830665962,
          0.6378853019783909,
          -0.4469043426630658,
          -0.30437064195722396,
          0.12651643036377053,
          1.5701773925381344,
          -0.9580031126548217,
          0.04328220572876478,
          0.2725744951757658,
          0.4222972618869988,
          -0.2920985389545437,
          0.16214011253466665,
          0.9540490890422607,
          1.7225130817761656,
          -0.10512997495124377,
          -0.17633757215891804,
          1.45413051536654,
          -1.0519315569532932,
          1.1387557835791358,
          1.1861446893126402,
          -1.7580736056974662,
          0.5292123753306647,
          -0.9993961605133591,
          0.4656671775443968,
          0.14081276623774347,
          1.010413912098985,
          0.2809253841822681,
          -0.17599998665524727,
          1.502021151027751,
          -0.3838066673391768,
          1.198474820214525,
          -0.44721845335323585,
          -0.14370261165006484,
          -0.8260516382539377,
          -0.6809444591047652,
          0.5975261318282004,
          -1.2671176535438404,
          -0.1451011980098431,
          -0.12245751430090913,
          -2.9311413567274505,
          0.3903574906989734,
          -0.5444592065848942,
          1.4805370340162713,
          -1.516818137400796,
          -0.36807158571373966,
          -0.16298781561838693,
          -2.180519736923615,
          1.1825365269446158,
          0.7316658802037822,
          0.011666208316439941,
          0.1859449212009432,
          -0.1704869670034482,
          0.5086650732355799,
          -0.6469319358610637,
          0.6787103800007991,
          -0.09385953422313559,
          1.1944846327409775,
          -0.1503167358094551,
          0.5904644508340733,
          0.42582199360480877,
          1.1586090185110205,
          -2.8031677845866,
          -0.6654053838251582,
          0.5205929889517756,
          0.2436354199909118,
          -0.4517153603280674,
          1.3044889871740712,
          0.3173682234696028,
          -0.7952936213078645,
          -0.9817079635434631,
          -0.10268464581201636,
          -0.49954305222214757,
          1.393297854592929,
          -0.5971193120230532,
          0.6050202842451881
         ],
         "xaxis": "x5",
         "y": [
          -1.271843621889942,
          -2.9194771482654533,
          1.0778027419907863,
          -3.3880158092068644,
          0.16727993160964663,
          0.752657149357646,
          -0.23471773455215122,
          -0.5405081781298487,
          -2.718485469093071,
          1.3977621771945667,
          1.9146685524277431,
          0.5442835285398985,
          0.6920694699070546,
          1.3288616436071947,
          -1.6990132510416547,
          1.9951469381152758,
          -0.19244562711695304,
          -0.32523784472144124,
          0.6042049624099904,
          0.3423085542626006,
          -0.005723712507034573,
          0.1660708792426556,
          -0.25674707460214397,
          -0.1226287964154879,
          -1.0156204214589089,
          1.348641230156133,
          -0.8398316440997098,
          -0.8179472960460081,
          -1.4349465992015384,
          -1.499440425603565,
          1.517245350105534,
          -0.5308778868191003,
          -1.3472959906321316,
          -1.0406469384731583,
          -0.4977387501764713,
          1.275667989295518,
          1.1295127491665227,
          -1.6061400217783806,
          -0.8171279627165152,
          -0.4932602218745369,
          -0.7406254851198281,
          -0.199395177148563,
          1.0415158118454182,
          0.3306663594538813,
          0.08367312089908913,
          1.6710661620083822,
          1.6242630288549933,
          1.2441631698928521,
          -1.8427327464637056,
          -1.07841115026537,
          1.0373216854219938,
          1.243928951642244,
          0.4028753220836608,
          0.10716839746295827,
          -1.2469087711768443,
          -0.4416009998087673,
          -0.1468232659953732,
          1.9061089235064455,
          -1.4600887886691467,
          -1.3472652348843102,
          -0.19782739179798506,
          -0.564060507366717,
          0.6601245441938398,
          -1.8642517504969234,
          -0.853855547211736,
          -1.1533885564167732,
          0.5137118780719806,
          -0.8602111272746457,
          0.5283454136479098,
          -0.3927459258059125,
          -0.9987993727603097,
          0.685678981657241,
          1.0824709572760371,
          -0.8563875703591132,
          -0.08003984227964277,
          0.7121193710585941,
          1.029592809196191,
          -0.33060904117985307,
          0.597189021016201,
          1.994985364857601,
          1.5750586947586183,
          0.3732431896844038,
          0.2183568914505785,
          -1.5701190492530126,
          -0.021869881075446528,
          -1.6773201519956382,
          -0.35426462746605936,
          0.8111479806834876,
          0.17462866309631145,
          1.1811359917261979,
          -1.7985183343782079,
          -0.40976299717349285,
          -0.5766078869323968,
          -0.6599137284909488,
          -0.6276952753342473,
          1.5578846219563145,
          2.3818500342349207,
          0.5361410686341836,
          1.2528965783784614,
          0.9650038473548902
         ],
         "yaxis": "y5",
         "type": "scatter"
        },
        {
         "histfunc": "count",
         "histnorm": "",
         "marker": {
          "color": "rgba(55, 128, 191, 1.0)",
          "line": {
           "color": "#4D5663",
           "width": 1.3
          }
         },
         "name": "b",
         "nbinsx": 10,
         "opacity": 0.8,
         "orientation": "v",
         "x": [
          -1.271843621889942,
          -2.9194771482654533,
          1.0778027419907863,
          -3.3880158092068644,
          0.16727993160964663,
          0.752657149357646,
          -0.23471773455215122,
          -0.5405081781298487,
          -2.718485469093071,
          1.3977621771945667,
          1.9146685524277431,
          0.5442835285398985,
          0.6920694699070546,
          1.3288616436071947,
          -1.6990132510416547,
          1.9951469381152758,
          -0.19244562711695304,
          -0.32523784472144124,
          0.6042049624099904,
          0.3423085542626006,
          -0.005723712507034573,
          0.1660708792426556,
          -0.25674707460214397,
          -0.1226287964154879,
          -1.0156204214589089,
          1.348641230156133,
          -0.8398316440997098,
          -0.8179472960460081,
          -1.4349465992015384,
          -1.499440425603565,
          1.517245350105534,
          -0.5308778868191003,
          -1.3472959906321316,
          -1.0406469384731583,
          -0.4977387501764713,
          1.275667989295518,
          1.1295127491665227,
          -1.6061400217783806,
          -0.8171279627165152,
          -0.4932602218745369,
          -0.7406254851198281,
          -0.199395177148563,
          1.0415158118454182,
          0.3306663594538813,
          0.08367312089908913,
          1.6710661620083822,
          1.6242630288549933,
          1.2441631698928521,
          -1.8427327464637056,
          -1.07841115026537,
          1.0373216854219938,
          1.243928951642244,
          0.4028753220836608,
          0.10716839746295827,
          -1.2469087711768443,
          -0.4416009998087673,
          -0.1468232659953732,
          1.9061089235064455,
          -1.4600887886691467,
          -1.3472652348843102,
          -0.19782739179798506,
          -0.564060507366717,
          0.6601245441938398,
          -1.8642517504969234,
          -0.853855547211736,
          -1.1533885564167732,
          0.5137118780719806,
          -0.8602111272746457,
          0.5283454136479098,
          -0.3927459258059125,
          -0.9987993727603097,
          0.685678981657241,
          1.0824709572760371,
          -0.8563875703591132,
          -0.08003984227964277,
          0.7121193710585941,
          1.029592809196191,
          -0.33060904117985307,
          0.597189021016201,
          1.994985364857601,
          1.5750586947586183,
          0.3732431896844038,
          0.2183568914505785,
          -1.5701190492530126,
          -0.021869881075446528,
          -1.6773201519956382,
          -0.35426462746605936,
          0.8111479806834876,
          0.17462866309631145,
          1.1811359917261979,
          -1.7985183343782079,
          -0.40976299717349285,
          -0.5766078869323968,
          -0.6599137284909488,
          -0.6276952753342473,
          1.5578846219563145,
          2.3818500342349207,
          0.5361410686341836,
          1.2528965783784614,
          0.9650038473548902
         ],
         "xaxis": "x6",
         "yaxis": "y6",
         "type": "histogram"
        },
        {
         "line": {
          "color": "rgba(128, 128, 128, 1.0)",
          "dash": "solid",
          "shape": "linear",
          "width": 1.3
         },
         "marker": {
          "size": 2,
          "symbol": "circle"
         },
         "mode": "markers",
         "name": "b",
         "text": "",
         "x": [
          0.5967508133460097,
          -0.8310625436125187,
          -1.186075281486645,
          0.6839892029061092,
          0.33422412175490246,
          -0.3071702767291182,
          1.251127175522188,
          1.0003552532728113,
          -0.2377420517392665,
          -0.4697527063118209,
          0.5708434518927604,
          -1.1947960195694187,
          -0.5211675599806131,
          0.7158714474367859,
          0.8614422238381686,
          0.43157178546055064,
          1.3963028975464862,
          1.4875988076170195,
          1.7131776145581348,
          0.3262254353589354,
          -0.12552377386028193,
          -1.9022985701321304,
          -0.9120719616111599,
          1.7616033628142032,
          -0.6068907813949179,
          -0.2530358940260846,
          1.6050900725008113,
          0.8389317650171128,
          -0.002909916373665522,
          1.7231613931499312,
          0.42853309202866596,
          0.38562358104400046,
          -0.5816457524323265,
          -0.29516448723984784,
          1.1591737980493135,
          0.8823222830691667,
          -0.8290692062440366,
          -0.30242559226682475,
          0.6861308003160629,
          0.6657148569745158,
          -1.2223430945458924,
          -0.18390371544912945,
          -1.9892801418727477,
          -0.5532126817386545,
          0.14529208070328165,
          0.10530396944482108,
          0.840048514744419,
          0.3109258403053101,
          1.5149418881661314,
          0.6960741286557455,
          -0.5746995322937898,
          -1.2642798722621171,
          -0.8331997062746668,
          -0.4809489987602823,
          0.4879521164814944,
          -0.18970553016049113,
          -1.4460945647428922,
          -0.4197210086423235,
          1.0938141648237734,
          0.420365178460334,
          0.5437047780521163,
          2.1277396369110932,
          -1.4824255251585405,
          0.28014790326698,
          -1.0364764598428098,
          -1.0137255975534307,
          -0.5384372338453128,
          -1.7448174988513143,
          -1.2147675382539436,
          -0.1530862898792282,
          0.5975523415648675,
          -2.176185464348007,
          -1.2617209685508644,
          -1.3528072617329616,
          -0.6708566559177003,
          0.8891581711084477,
          0.44228700217665634,
          -0.09034793894769927,
          -0.8941483893465868,
          0.7359420705726158,
          -1.2330121017486972,
          -0.6461715862327733,
          -1.3642461847256528,
          0.24212955976515083,
          0.89404271749321,
          -0.7611759721173983,
          -0.2716282449010879,
          -0.7042685796637618,
          1.5145953401125853,
          0.36400562879899206,
          0.39065002581296315,
          -0.6182500302110686,
          0.5498062925369558,
          0.5543231928198981,
          2.3708937729816464,
          1.0361563012612234,
          -0.7183668727969715,
          -0.16522583193793056,
          0.4526790472959542,
          0.768056606707704
         ],
         "xaxis": "x7",
         "y": [
          -1.271843621889942,
          -2.9194771482654533,
          1.0778027419907863,
          -3.3880158092068644,
          0.16727993160964663,
          0.752657149357646,
          -0.23471773455215122,
          -0.5405081781298487,
          -2.718485469093071,
          1.3977621771945667,
          1.9146685524277431,
          0.5442835285398985,
          0.6920694699070546,
          1.3288616436071947,
          -1.6990132510416547,
          1.9951469381152758,
          -0.19244562711695304,
          -0.32523784472144124,
          0.6042049624099904,
          0.3423085542626006,
          -0.005723712507034573,
          0.1660708792426556,
          -0.25674707460214397,
          -0.1226287964154879,
          -1.0156204214589089,
          1.348641230156133,
          -0.8398316440997098,
          -0.8179472960460081,
          -1.4349465992015384,
          -1.499440425603565,
          1.517245350105534,
          -0.5308778868191003,
          -1.3472959906321316,
          -1.0406469384731583,
          -0.4977387501764713,
          1.275667989295518,
          1.1295127491665227,
          -1.6061400217783806,
          -0.8171279627165152,
          -0.4932602218745369,
          -0.7406254851198281,
          -0.199395177148563,
          1.0415158118454182,
          0.3306663594538813,
          0.08367312089908913,
          1.6710661620083822,
          1.6242630288549933,
          1.2441631698928521,
          -1.8427327464637056,
          -1.07841115026537,
          1.0373216854219938,
          1.243928951642244,
          0.4028753220836608,
          0.10716839746295827,
          -1.2469087711768443,
          -0.4416009998087673,
          -0.1468232659953732,
          1.9061089235064455,
          -1.4600887886691467,
          -1.3472652348843102,
          -0.19782739179798506,
          -0.564060507366717,
          0.6601245441938398,
          -1.8642517504969234,
          -0.853855547211736,
          -1.1533885564167732,
          0.5137118780719806,
          -0.8602111272746457,
          0.5283454136479098,
          -0.3927459258059125,
          -0.9987993727603097,
          0.685678981657241,
          1.0824709572760371,
          -0.8563875703591132,
          -0.08003984227964277,
          0.7121193710585941,
          1.029592809196191,
          -0.33060904117985307,
          0.597189021016201,
          1.994985364857601,
          1.5750586947586183,
          0.3732431896844038,
          0.2183568914505785,
          -1.5701190492530126,
          -0.021869881075446528,
          -1.6773201519956382,
          -0.35426462746605936,
          0.8111479806834876,
          0.17462866309631145,
          1.1811359917261979,
          -1.7985183343782079,
          -0.40976299717349285,
          -0.5766078869323968,
          -0.6599137284909488,
          -0.6276952753342473,
          1.5578846219563145,
          2.3818500342349207,
          0.5361410686341836,
          1.2528965783784614,
          0.9650038473548902
         ],
         "yaxis": "y7",
         "type": "scatter"
        },
        {
         "line": {
          "color": "rgba(128, 128, 128, 1.0)",
          "dash": "solid",
          "shape": "linear",
          "width": 1.3
         },
         "marker": {
          "size": 2,
          "symbol": "circle"
         },
         "mode": "markers",
         "name": "b",
         "text": "",
         "x": [
          -0.21618728541816296,
          1.2525459226652675,
          -0.3358009163971509,
          -0.8184760749598912,
          -0.3772166077514853,
          -1.3861624474993819,
          0.30740710849638947,
          0.275202583116614,
          -1.3240388450379998,
          -0.7257645398150134,
          0.07045922949442338,
          -0.48676497457833123,
          -0.6106546321456783,
          0.6769412416691347,
          0.6236781296783847,
          0.8984182754961492,
          -1.208042194254034,
          -0.1659269927069783,
          -1.276342627133373,
          -0.6859594465868938,
          1.4403530242834823,
          -0.24477321840964772,
          -1.5222734448540447,
          0.14917116882110168,
          -0.13808883464957145,
          -0.4375375783247449,
          1.567233581242451,
          1.5565760717056871,
          -0.72034678773032,
          -0.7287806352140853,
          0.22302539078996866,
          -2.0335464140443538,
          0.3157987247980749,
          1.0890092593239864,
          -0.1513529934338727,
          -0.7978244768567099,
          0.3821087333243263,
          -1.6202464811848905,
          0.7034416052270022,
          -0.9791495147711768,
          -0.6134779201626838,
          -0.04851198245023964,
          1.20411303148368,
          -0.6614127908787752,
          0.452880998327755,
          1.6639408358453316,
          0.11648833214149902,
          -0.27393767537970026,
          0.06903471091473971,
          0.1385728064149139,
          -0.7919898601517497,
          -0.47316026107910164,
          -0.49955084677851036,
          -0.26818185877208356,
          -0.3619998555526626,
          0.4699353492725758,
          1.2321408411404553,
          -1.0803311292418136,
          -0.17751174030516542,
          0.6243373549201932,
          0.36301153604288394,
          -1.4370960940189874,
          0.07234991480975235,
          0.2330486893618556,
          0.04109102379992068,
          0.15324613118464026,
          0.4840986053270673,
          -0.539567382808983,
          -0.17519068744518013,
          0.8079551946384139,
          -1.850316786185605,
          -1.3192894598113594,
          -1.1041588175263408,
          -0.4795675713229714,
          -0.08268057407004485,
          0.8291394204101675,
          1.1569962886971963,
          0.17575314100585898,
          -0.7416799714059854,
          -0.07150431966075302,
          -0.6864755436356272,
          -0.26215642090932006,
          -1.0576739331278184,
          -0.6623089486977592,
          -1.7711151174399706,
          2.212812051653826,
          -0.46079828894359876,
          -1.654960509967774,
          0.06838860174176283,
          -1.2181228796557841,
          0.5446319116403866,
          0.32939615965767904,
          0.7440103538166203,
          -0.01972462708917305,
          -0.49069094822653325,
          1.020485452966454,
          -1.3701495514676203,
          0.2853686307035859,
          1.0522408642498642,
          -1.536015059559466
         ],
         "xaxis": "x8",
         "y": [
          -1.271843621889942,
          -2.9194771482654533,
          1.0778027419907863,
          -3.3880158092068644,
          0.16727993160964663,
          0.752657149357646,
          -0.23471773455215122,
          -0.5405081781298487,
          -2.718485469093071,
          1.3977621771945667,
          1.9146685524277431,
          0.5442835285398985,
          0.6920694699070546,
          1.3288616436071947,
          -1.6990132510416547,
          1.9951469381152758,
          -0.19244562711695304,
          -0.32523784472144124,
          0.6042049624099904,
          0.3423085542626006,
          -0.005723712507034573,
          0.1660708792426556,
          -0.25674707460214397,
          -0.1226287964154879,
          -1.0156204214589089,
          1.348641230156133,
          -0.8398316440997098,
          -0.8179472960460081,
          -1.4349465992015384,
          -1.499440425603565,
          1.517245350105534,
          -0.5308778868191003,
          -1.3472959906321316,
          -1.0406469384731583,
          -0.4977387501764713,
          1.275667989295518,
          1.1295127491665227,
          -1.6061400217783806,
          -0.8171279627165152,
          -0.4932602218745369,
          -0.7406254851198281,
          -0.199395177148563,
          1.0415158118454182,
          0.3306663594538813,
          0.08367312089908913,
          1.6710661620083822,
          1.6242630288549933,
          1.2441631698928521,
          -1.8427327464637056,
          -1.07841115026537,
          1.0373216854219938,
          1.243928951642244,
          0.4028753220836608,
          0.10716839746295827,
          -1.2469087711768443,
          -0.4416009998087673,
          -0.1468232659953732,
          1.9061089235064455,
          -1.4600887886691467,
          -1.3472652348843102,
          -0.19782739179798506,
          -0.564060507366717,
          0.6601245441938398,
          -1.8642517504969234,
          -0.853855547211736,
          -1.1533885564167732,
          0.5137118780719806,
          -0.8602111272746457,
          0.5283454136479098,
          -0.3927459258059125,
          -0.9987993727603097,
          0.685678981657241,
          1.0824709572760371,
          -0.8563875703591132,
          -0.08003984227964277,
          0.7121193710585941,
          1.029592809196191,
          -0.33060904117985307,
          0.597189021016201,
          1.994985364857601,
          1.5750586947586183,
          0.3732431896844038,
          0.2183568914505785,
          -1.5701190492530126,
          -0.021869881075446528,
          -1.6773201519956382,
          -0.35426462746605936,
          0.8111479806834876,
          0.17462866309631145,
          1.1811359917261979,
          -1.7985183343782079,
          -0.40976299717349285,
          -0.5766078869323968,
          -0.6599137284909488,
          -0.6276952753342473,
          1.5578846219563145,
          2.3818500342349207,
          0.5361410686341836,
          1.2528965783784614,
          0.9650038473548902
         ],
         "yaxis": "y8",
         "type": "scatter"
        },
        {
         "line": {
          "color": "rgba(128, 128, 128, 1.0)",
          "dash": "solid",
          "shape": "linear",
          "width": 1.3
         },
         "marker": {
          "size": 2,
          "symbol": "circle"
         },
         "mode": "markers",
         "name": "c",
         "text": "",
         "x": [
          -0.47955835117961326,
          2.208528985383365,
          0.4679589633910048,
          -0.8551162799251366,
          1.2525226501637672,
          1.1319214520231038,
          0.15812173899452547,
          -0.9092022524719334,
          0.32852802693340066,
          -0.4676903591186404,
          -0.3493277560093259,
          1.1183452949278738,
          1.0373688122425815,
          -0.6453414703455302,
          0.03229546532035661,
          -0.6023069851028888,
          0.9121079412160702,
          1.0498745999585175,
          1.0919176486482147,
          0.19191573392508898,
          -0.18942501228613742,
          -0.81840921813167,
          -1.190074307457328,
          -0.9366038728507515,
          -0.856021391260267,
          -0.5615826830665962,
          0.6378853019783909,
          -0.4469043426630658,
          -0.30437064195722396,
          0.12651643036377053,
          1.5701773925381344,
          -0.9580031126548217,
          0.04328220572876478,
          0.2725744951757658,
          0.4222972618869988,
          -0.2920985389545437,
          0.16214011253466665,
          0.9540490890422607,
          1.7225130817761656,
          -0.10512997495124377,
          -0.17633757215891804,
          1.45413051536654,
          -1.0519315569532932,
          1.1387557835791358,
          1.1861446893126402,
          -1.7580736056974662,
          0.5292123753306647,
          -0.9993961605133591,
          0.4656671775443968,
          0.14081276623774347,
          1.010413912098985,
          0.2809253841822681,
          -0.17599998665524727,
          1.502021151027751,
          -0.3838066673391768,
          1.198474820214525,
          -0.44721845335323585,
          -0.14370261165006484,
          -0.8260516382539377,
          -0.6809444591047652,
          0.5975261318282004,
          -1.2671176535438404,
          -0.1451011980098431,
          -0.12245751430090913,
          -2.9311413567274505,
          0.3903574906989734,
          -0.5444592065848942,
          1.4805370340162713,
          -1.516818137400796,
          -0.36807158571373966,
          -0.16298781561838693,
          -2.180519736923615,
          1.1825365269446158,
          0.7316658802037822,
          0.011666208316439941,
          0.1859449212009432,
          -0.1704869670034482,
          0.5086650732355799,
          -0.6469319358610637,
          0.6787103800007991,
          -0.09385953422313559,
          1.1944846327409775,
          -0.1503167358094551,
          0.5904644508340733,
          0.42582199360480877,
          1.1586090185110205,
          -2.8031677845866,
          -0.6654053838251582,
          0.5205929889517756,
          0.2436354199909118,
          -0.4517153603280674,
          1.3044889871740712,
          0.3173682234696028,
          -0.7952936213078645,
          -0.9817079635434631,
          -0.10268464581201636,
          -0.49954305222214757,
          1.393297854592929,
          -0.5971193120230532,
          0.6050202842451881
         ],
         "xaxis": "x9",
         "y": [
          0.5967508133460097,
          -0.8310625436125187,
          -1.186075281486645,
          0.6839892029061092,
          0.33422412175490246,
          -0.3071702767291182,
          1.251127175522188,
          1.0003552532728113,
          -0.2377420517392665,
          -0.4697527063118209,
          0.5708434518927604,
          -1.1947960195694187,
          -0.5211675599806131,
          0.7158714474367859,
          0.8614422238381686,
          0.43157178546055064,
          1.3963028975464862,
          1.4875988076170195,
          1.7131776145581348,
          0.3262254353589354,
          -0.12552377386028193,
          -1.9022985701321304,
          -0.9120719616111599,
          1.7616033628142032,
          -0.6068907813949179,
          -0.2530358940260846,
          1.6050900725008113,
          0.8389317650171128,
          -0.002909916373665522,
          1.7231613931499312,
          0.42853309202866596,
          0.38562358104400046,
          -0.5816457524323265,
          -0.29516448723984784,
          1.1591737980493135,
          0.8823222830691667,
          -0.8290692062440366,
          -0.30242559226682475,
          0.6861308003160629,
          0.6657148569745158,
          -1.2223430945458924,
          -0.18390371544912945,
          -1.9892801418727477,
          -0.5532126817386545,
          0.14529208070328165,
          0.10530396944482108,
          0.840048514744419,
          0.3109258403053101,
          1.5149418881661314,
          0.6960741286557455,
          -0.5746995322937898,
          -1.2642798722621171,
          -0.8331997062746668,
          -0.4809489987602823,
          0.4879521164814944,
          -0.18970553016049113,
          -1.4460945647428922,
          -0.4197210086423235,
          1.0938141648237734,
          0.420365178460334,
          0.5437047780521163,
          2.1277396369110932,
          -1.4824255251585405,
          0.28014790326698,
          -1.0364764598428098,
          -1.0137255975534307,
          -0.5384372338453128,
          -1.7448174988513143,
          -1.2147675382539436,
          -0.1530862898792282,
          0.5975523415648675,
          -2.176185464348007,
          -1.2617209685508644,
          -1.3528072617329616,
          -0.6708566559177003,
          0.8891581711084477,
          0.44228700217665634,
          -0.09034793894769927,
          -0.8941483893465868,
          0.7359420705726158,
          -1.2330121017486972,
          -0.6461715862327733,
          -1.3642461847256528,
          0.24212955976515083,
          0.89404271749321,
          -0.7611759721173983,
          -0.2716282449010879,
          -0.7042685796637618,
          1.5145953401125853,
          0.36400562879899206,
          0.39065002581296315,
          -0.6182500302110686,
          0.5498062925369558,
          0.5543231928198981,
          2.3708937729816464,
          1.0361563012612234,
          -0.7183668727969715,
          -0.16522583193793056,
          0.4526790472959542,
          0.768056606707704
         ],
         "yaxis": "y9",
         "type": "scatter"
        },
        {
         "line": {
          "color": "rgba(128, 128, 128, 1.0)",
          "dash": "solid",
          "shape": "linear",
          "width": 1.3
         },
         "marker": {
          "size": 2,
          "symbol": "circle"
         },
         "mode": "markers",
         "name": "c",
         "text": "",
         "x": [
          -1.271843621889942,
          -2.9194771482654533,
          1.0778027419907863,
          -3.3880158092068644,
          0.16727993160964663,
          0.752657149357646,
          -0.23471773455215122,
          -0.5405081781298487,
          -2.718485469093071,
          1.3977621771945667,
          1.9146685524277431,
          0.5442835285398985,
          0.6920694699070546,
          1.3288616436071947,
          -1.6990132510416547,
          1.9951469381152758,
          -0.19244562711695304,
          -0.32523784472144124,
          0.6042049624099904,
          0.3423085542626006,
          -0.005723712507034573,
          0.1660708792426556,
          -0.25674707460214397,
          -0.1226287964154879,
          -1.0156204214589089,
          1.348641230156133,
          -0.8398316440997098,
          -0.8179472960460081,
          -1.4349465992015384,
          -1.499440425603565,
          1.517245350105534,
          -0.5308778868191003,
          -1.3472959906321316,
          -1.0406469384731583,
          -0.4977387501764713,
          1.275667989295518,
          1.1295127491665227,
          -1.6061400217783806,
          -0.8171279627165152,
          -0.4932602218745369,
          -0.7406254851198281,
          -0.199395177148563,
          1.0415158118454182,
          0.3306663594538813,
          0.08367312089908913,
          1.6710661620083822,
          1.6242630288549933,
          1.2441631698928521,
          -1.8427327464637056,
          -1.07841115026537,
          1.0373216854219938,
          1.243928951642244,
          0.4028753220836608,
          0.10716839746295827,
          -1.2469087711768443,
          -0.4416009998087673,
          -0.1468232659953732,
          1.9061089235064455,
          -1.4600887886691467,
          -1.3472652348843102,
          -0.19782739179798506,
          -0.564060507366717,
          0.6601245441938398,
          -1.8642517504969234,
          -0.853855547211736,
          -1.1533885564167732,
          0.5137118780719806,
          -0.8602111272746457,
          0.5283454136479098,
          -0.3927459258059125,
          -0.9987993727603097,
          0.685678981657241,
          1.0824709572760371,
          -0.8563875703591132,
          -0.08003984227964277,
          0.7121193710585941,
          1.029592809196191,
          -0.33060904117985307,
          0.597189021016201,
          1.994985364857601,
          1.5750586947586183,
          0.3732431896844038,
          0.2183568914505785,
          -1.5701190492530126,
          -0.021869881075446528,
          -1.6773201519956382,
          -0.35426462746605936,
          0.8111479806834876,
          0.17462866309631145,
          1.1811359917261979,
          -1.7985183343782079,
          -0.40976299717349285,
          -0.5766078869323968,
          -0.6599137284909488,
          -0.6276952753342473,
          1.5578846219563145,
          2.3818500342349207,
          0.5361410686341836,
          1.2528965783784614,
          0.9650038473548902
         ],
         "xaxis": "x10",
         "y": [
          0.5967508133460097,
          -0.8310625436125187,
          -1.186075281486645,
          0.6839892029061092,
          0.33422412175490246,
          -0.3071702767291182,
          1.251127175522188,
          1.0003552532728113,
          -0.2377420517392665,
          -0.4697527063118209,
          0.5708434518927604,
          -1.1947960195694187,
          -0.5211675599806131,
          0.7158714474367859,
          0.8614422238381686,
          0.43157178546055064,
          1.3963028975464862,
          1.4875988076170195,
          1.7131776145581348,
          0.3262254353589354,
          -0.12552377386028193,
          -1.9022985701321304,
          -0.9120719616111599,
          1.7616033628142032,
          -0.6068907813949179,
          -0.2530358940260846,
          1.6050900725008113,
          0.8389317650171128,
          -0.002909916373665522,
          1.7231613931499312,
          0.42853309202866596,
          0.38562358104400046,
          -0.5816457524323265,
          -0.29516448723984784,
          1.1591737980493135,
          0.8823222830691667,
          -0.8290692062440366,
          -0.30242559226682475,
          0.6861308003160629,
          0.6657148569745158,
          -1.2223430945458924,
          -0.18390371544912945,
          -1.9892801418727477,
          -0.5532126817386545,
          0.14529208070328165,
          0.10530396944482108,
          0.840048514744419,
          0.3109258403053101,
          1.5149418881661314,
          0.6960741286557455,
          -0.5746995322937898,
          -1.2642798722621171,
          -0.8331997062746668,
          -0.4809489987602823,
          0.4879521164814944,
          -0.18970553016049113,
          -1.4460945647428922,
          -0.4197210086423235,
          1.0938141648237734,
          0.420365178460334,
          0.5437047780521163,
          2.1277396369110932,
          -1.4824255251585405,
          0.28014790326698,
          -1.0364764598428098,
          -1.0137255975534307,
          -0.5384372338453128,
          -1.7448174988513143,
          -1.2147675382539436,
          -0.1530862898792282,
          0.5975523415648675,
          -2.176185464348007,
          -1.2617209685508644,
          -1.3528072617329616,
          -0.6708566559177003,
          0.8891581711084477,
          0.44228700217665634,
          -0.09034793894769927,
          -0.8941483893465868,
          0.7359420705726158,
          -1.2330121017486972,
          -0.6461715862327733,
          -1.3642461847256528,
          0.24212955976515083,
          0.89404271749321,
          -0.7611759721173983,
          -0.2716282449010879,
          -0.7042685796637618,
          1.5145953401125853,
          0.36400562879899206,
          0.39065002581296315,
          -0.6182500302110686,
          0.5498062925369558,
          0.5543231928198981,
          2.3708937729816464,
          1.0361563012612234,
          -0.7183668727969715,
          -0.16522583193793056,
          0.4526790472959542,
          0.768056606707704
         ],
         "yaxis": "y10",
         "type": "scatter"
        },
        {
         "histfunc": "count",
         "histnorm": "",
         "marker": {
          "color": "rgba(50, 171, 96, 1.0)",
          "line": {
           "color": "#4D5663",
           "width": 1.3
          }
         },
         "name": "c",
         "nbinsx": 10,
         "opacity": 0.8,
         "orientation": "v",
         "x": [
          0.5967508133460097,
          -0.8310625436125187,
          -1.186075281486645,
          0.6839892029061092,
          0.33422412175490246,
          -0.3071702767291182,
          1.251127175522188,
          1.0003552532728113,
          -0.2377420517392665,
          -0.4697527063118209,
          0.5708434518927604,
          -1.1947960195694187,
          -0.5211675599806131,
          0.7158714474367859,
          0.8614422238381686,
          0.43157178546055064,
          1.3963028975464862,
          1.4875988076170195,
          1.7131776145581348,
          0.3262254353589354,
          -0.12552377386028193,
          -1.9022985701321304,
          -0.9120719616111599,
          1.7616033628142032,
          -0.6068907813949179,
          -0.2530358940260846,
          1.6050900725008113,
          0.8389317650171128,
          -0.002909916373665522,
          1.7231613931499312,
          0.42853309202866596,
          0.38562358104400046,
          -0.5816457524323265,
          -0.29516448723984784,
          1.1591737980493135,
          0.8823222830691667,
          -0.8290692062440366,
          -0.30242559226682475,
          0.6861308003160629,
          0.6657148569745158,
          -1.2223430945458924,
          -0.18390371544912945,
          -1.9892801418727477,
          -0.5532126817386545,
          0.14529208070328165,
          0.10530396944482108,
          0.840048514744419,
          0.3109258403053101,
          1.5149418881661314,
          0.6960741286557455,
          -0.5746995322937898,
          -1.2642798722621171,
          -0.8331997062746668,
          -0.4809489987602823,
          0.4879521164814944,
          -0.18970553016049113,
          -1.4460945647428922,
          -0.4197210086423235,
          1.0938141648237734,
          0.420365178460334,
          0.5437047780521163,
          2.1277396369110932,
          -1.4824255251585405,
          0.28014790326698,
          -1.0364764598428098,
          -1.0137255975534307,
          -0.5384372338453128,
          -1.7448174988513143,
          -1.2147675382539436,
          -0.1530862898792282,
          0.5975523415648675,
          -2.176185464348007,
          -1.2617209685508644,
          -1.3528072617329616,
          -0.6708566559177003,
          0.8891581711084477,
          0.44228700217665634,
          -0.09034793894769927,
          -0.8941483893465868,
          0.7359420705726158,
          -1.2330121017486972,
          -0.6461715862327733,
          -1.3642461847256528,
          0.24212955976515083,
          0.89404271749321,
          -0.7611759721173983,
          -0.2716282449010879,
          -0.7042685796637618,
          1.5145953401125853,
          0.36400562879899206,
          0.39065002581296315,
          -0.6182500302110686,
          0.5498062925369558,
          0.5543231928198981,
          2.3708937729816464,
          1.0361563012612234,
          -0.7183668727969715,
          -0.16522583193793056,
          0.4526790472959542,
          0.768056606707704
         ],
         "xaxis": "x11",
         "yaxis": "y11",
         "type": "histogram"
        },
        {
         "line": {
          "color": "rgba(128, 128, 128, 1.0)",
          "dash": "solid",
          "shape": "linear",
          "width": 1.3
         },
         "marker": {
          "size": 2,
          "symbol": "circle"
         },
         "mode": "markers",
         "name": "c",
         "text": "",
         "x": [
          -0.21618728541816296,
          1.2525459226652675,
          -0.3358009163971509,
          -0.8184760749598912,
          -0.3772166077514853,
          -1.3861624474993819,
          0.30740710849638947,
          0.275202583116614,
          -1.3240388450379998,
          -0.7257645398150134,
          0.07045922949442338,
          -0.48676497457833123,
          -0.6106546321456783,
          0.6769412416691347,
          0.6236781296783847,
          0.8984182754961492,
          -1.208042194254034,
          -0.1659269927069783,
          -1.276342627133373,
          -0.6859594465868938,
          1.4403530242834823,
          -0.24477321840964772,
          -1.5222734448540447,
          0.14917116882110168,
          -0.13808883464957145,
          -0.4375375783247449,
          1.567233581242451,
          1.5565760717056871,
          -0.72034678773032,
          -0.7287806352140853,
          0.22302539078996866,
          -2.0335464140443538,
          0.3157987247980749,
          1.0890092593239864,
          -0.1513529934338727,
          -0.7978244768567099,
          0.3821087333243263,
          -1.6202464811848905,
          0.7034416052270022,
          -0.9791495147711768,
          -0.6134779201626838,
          -0.04851198245023964,
          1.20411303148368,
          -0.6614127908787752,
          0.452880998327755,
          1.6639408358453316,
          0.11648833214149902,
          -0.27393767537970026,
          0.06903471091473971,
          0.1385728064149139,
          -0.7919898601517497,
          -0.47316026107910164,
          -0.49955084677851036,
          -0.26818185877208356,
          -0.3619998555526626,
          0.4699353492725758,
          1.2321408411404553,
          -1.0803311292418136,
          -0.17751174030516542,
          0.6243373549201932,
          0.36301153604288394,
          -1.4370960940189874,
          0.07234991480975235,
          0.2330486893618556,
          0.04109102379992068,
          0.15324613118464026,
          0.4840986053270673,
          -0.539567382808983,
          -0.17519068744518013,
          0.8079551946384139,
          -1.850316786185605,
          -1.3192894598113594,
          -1.1041588175263408,
          -0.4795675713229714,
          -0.08268057407004485,
          0.8291394204101675,
          1.1569962886971963,
          0.17575314100585898,
          -0.7416799714059854,
          -0.07150431966075302,
          -0.6864755436356272,
          -0.26215642090932006,
          -1.0576739331278184,
          -0.6623089486977592,
          -1.7711151174399706,
          2.212812051653826,
          -0.46079828894359876,
          -1.654960509967774,
          0.06838860174176283,
          -1.2181228796557841,
          0.5446319116403866,
          0.32939615965767904,
          0.7440103538166203,
          -0.01972462708917305,
          -0.49069094822653325,
          1.020485452966454,
          -1.3701495514676203,
          0.2853686307035859,
          1.0522408642498642,
          -1.536015059559466
         ],
         "xaxis": "x12",
         "y": [
          0.5967508133460097,
          -0.8310625436125187,
          -1.186075281486645,
          0.6839892029061092,
          0.33422412175490246,
          -0.3071702767291182,
          1.251127175522188,
          1.0003552532728113,
          -0.2377420517392665,
          -0.4697527063118209,
          0.5708434518927604,
          -1.1947960195694187,
          -0.5211675599806131,
          0.7158714474367859,
          0.8614422238381686,
          0.43157178546055064,
          1.3963028975464862,
          1.4875988076170195,
          1.7131776145581348,
          0.3262254353589354,
          -0.12552377386028193,
          -1.9022985701321304,
          -0.9120719616111599,
          1.7616033628142032,
          -0.6068907813949179,
          -0.2530358940260846,
          1.6050900725008113,
          0.8389317650171128,
          -0.002909916373665522,
          1.7231613931499312,
          0.42853309202866596,
          0.38562358104400046,
          -0.5816457524323265,
          -0.29516448723984784,
          1.1591737980493135,
          0.8823222830691667,
          -0.8290692062440366,
          -0.30242559226682475,
          0.6861308003160629,
          0.6657148569745158,
          -1.2223430945458924,
          -0.18390371544912945,
          -1.9892801418727477,
          -0.5532126817386545,
          0.14529208070328165,
          0.10530396944482108,
          0.840048514744419,
          0.3109258403053101,
          1.5149418881661314,
          0.6960741286557455,
          -0.5746995322937898,
          -1.2642798722621171,
          -0.8331997062746668,
          -0.4809489987602823,
          0.4879521164814944,
          -0.18970553016049113,
          -1.4460945647428922,
          -0.4197210086423235,
          1.0938141648237734,
          0.420365178460334,
          0.5437047780521163,
          2.1277396369110932,
          -1.4824255251585405,
          0.28014790326698,
          -1.0364764598428098,
          -1.0137255975534307,
          -0.5384372338453128,
          -1.7448174988513143,
          -1.2147675382539436,
          -0.1530862898792282,
          0.5975523415648675,
          -2.176185464348007,
          -1.2617209685508644,
          -1.3528072617329616,
          -0.6708566559177003,
          0.8891581711084477,
          0.44228700217665634,
          -0.09034793894769927,
          -0.8941483893465868,
          0.7359420705726158,
          -1.2330121017486972,
          -0.6461715862327733,
          -1.3642461847256528,
          0.24212955976515083,
          0.89404271749321,
          -0.7611759721173983,
          -0.2716282449010879,
          -0.7042685796637618,
          1.5145953401125853,
          0.36400562879899206,
          0.39065002581296315,
          -0.6182500302110686,
          0.5498062925369558,
          0.5543231928198981,
          2.3708937729816464,
          1.0361563012612234,
          -0.7183668727969715,
          -0.16522583193793056,
          0.4526790472959542,
          0.768056606707704
         ],
         "yaxis": "y12",
         "type": "scatter"
        },
        {
         "line": {
          "color": "rgba(128, 128, 128, 1.0)",
          "dash": "solid",
          "shape": "linear",
          "width": 1.3
         },
         "marker": {
          "size": 2,
          "symbol": "circle"
         },
         "mode": "markers",
         "name": "d",
         "text": "",
         "x": [
          -0.47955835117961326,
          2.208528985383365,
          0.4679589633910048,
          -0.8551162799251366,
          1.2525226501637672,
          1.1319214520231038,
          0.15812173899452547,
          -0.9092022524719334,
          0.32852802693340066,
          -0.4676903591186404,
          -0.3493277560093259,
          1.1183452949278738,
          1.0373688122425815,
          -0.6453414703455302,
          0.03229546532035661,
          -0.6023069851028888,
          0.9121079412160702,
          1.0498745999585175,
          1.0919176486482147,
          0.19191573392508898,
          -0.18942501228613742,
          -0.81840921813167,
          -1.190074307457328,
          -0.9366038728507515,
          -0.856021391260267,
          -0.5615826830665962,
          0.6378853019783909,
          -0.4469043426630658,
          -0.30437064195722396,
          0.12651643036377053,
          1.5701773925381344,
          -0.9580031126548217,
          0.04328220572876478,
          0.2725744951757658,
          0.4222972618869988,
          -0.2920985389545437,
          0.16214011253466665,
          0.9540490890422607,
          1.7225130817761656,
          -0.10512997495124377,
          -0.17633757215891804,
          1.45413051536654,
          -1.0519315569532932,
          1.1387557835791358,
          1.1861446893126402,
          -1.7580736056974662,
          0.5292123753306647,
          -0.9993961605133591,
          0.4656671775443968,
          0.14081276623774347,
          1.010413912098985,
          0.2809253841822681,
          -0.17599998665524727,
          1.502021151027751,
          -0.3838066673391768,
          1.198474820214525,
          -0.44721845335323585,
          -0.14370261165006484,
          -0.8260516382539377,
          -0.6809444591047652,
          0.5975261318282004,
          -1.2671176535438404,
          -0.1451011980098431,
          -0.12245751430090913,
          -2.9311413567274505,
          0.3903574906989734,
          -0.5444592065848942,
          1.4805370340162713,
          -1.516818137400796,
          -0.36807158571373966,
          -0.16298781561838693,
          -2.180519736923615,
          1.1825365269446158,
          0.7316658802037822,
          0.011666208316439941,
          0.1859449212009432,
          -0.1704869670034482,
          0.5086650732355799,
          -0.6469319358610637,
          0.6787103800007991,
          -0.09385953422313559,
          1.1944846327409775,
          -0.1503167358094551,
          0.5904644508340733,
          0.42582199360480877,
          1.1586090185110205,
          -2.8031677845866,
          -0.6654053838251582,
          0.5205929889517756,
          0.2436354199909118,
          -0.4517153603280674,
          1.3044889871740712,
          0.3173682234696028,
          -0.7952936213078645,
          -0.9817079635434631,
          -0.10268464581201636,
          -0.49954305222214757,
          1.393297854592929,
          -0.5971193120230532,
          0.6050202842451881
         ],
         "xaxis": "x13",
         "y": [
          -0.21618728541816296,
          1.2525459226652675,
          -0.3358009163971509,
          -0.8184760749598912,
          -0.3772166077514853,
          -1.3861624474993819,
          0.30740710849638947,
          0.275202583116614,
          -1.3240388450379998,
          -0.7257645398150134,
          0.07045922949442338,
          -0.48676497457833123,
          -0.6106546321456783,
          0.6769412416691347,
          0.6236781296783847,
          0.8984182754961492,
          -1.208042194254034,
          -0.1659269927069783,
          -1.276342627133373,
          -0.6859594465868938,
          1.4403530242834823,
          -0.24477321840964772,
          -1.5222734448540447,
          0.14917116882110168,
          -0.13808883464957145,
          -0.4375375783247449,
          1.567233581242451,
          1.5565760717056871,
          -0.72034678773032,
          -0.7287806352140853,
          0.22302539078996866,
          -2.0335464140443538,
          0.3157987247980749,
          1.0890092593239864,
          -0.1513529934338727,
          -0.7978244768567099,
          0.3821087333243263,
          -1.6202464811848905,
          0.7034416052270022,
          -0.9791495147711768,
          -0.6134779201626838,
          -0.04851198245023964,
          1.20411303148368,
          -0.6614127908787752,
          0.452880998327755,
          1.6639408358453316,
          0.11648833214149902,
          -0.27393767537970026,
          0.06903471091473971,
          0.1385728064149139,
          -0.7919898601517497,
          -0.47316026107910164,
          -0.49955084677851036,
          -0.26818185877208356,
          -0.3619998555526626,
          0.4699353492725758,
          1.2321408411404553,
          -1.0803311292418136,
          -0.17751174030516542,
          0.6243373549201932,
          0.36301153604288394,
          -1.4370960940189874,
          0.07234991480975235,
          0.2330486893618556,
          0.04109102379992068,
          0.15324613118464026,
          0.4840986053270673,
          -0.539567382808983,
          -0.17519068744518013,
          0.8079551946384139,
          -1.850316786185605,
          -1.3192894598113594,
          -1.1041588175263408,
          -0.4795675713229714,
          -0.08268057407004485,
          0.8291394204101675,
          1.1569962886971963,
          0.17575314100585898,
          -0.7416799714059854,
          -0.07150431966075302,
          -0.6864755436356272,
          -0.26215642090932006,
          -1.0576739331278184,
          -0.6623089486977592,
          -1.7711151174399706,
          2.212812051653826,
          -0.46079828894359876,
          -1.654960509967774,
          0.06838860174176283,
          -1.2181228796557841,
          0.5446319116403866,
          0.32939615965767904,
          0.7440103538166203,
          -0.01972462708917305,
          -0.49069094822653325,
          1.020485452966454,
          -1.3701495514676203,
          0.2853686307035859,
          1.0522408642498642,
          -1.536015059559466
         ],
         "yaxis": "y13",
         "type": "scatter"
        },
        {
         "line": {
          "color": "rgba(128, 128, 128, 1.0)",
          "dash": "solid",
          "shape": "linear",
          "width": 1.3
         },
         "marker": {
          "size": 2,
          "symbol": "circle"
         },
         "mode": "markers",
         "name": "d",
         "text": "",
         "x": [
          -1.271843621889942,
          -2.9194771482654533,
          1.0778027419907863,
          -3.3880158092068644,
          0.16727993160964663,
          0.752657149357646,
          -0.23471773455215122,
          -0.5405081781298487,
          -2.718485469093071,
          1.3977621771945667,
          1.9146685524277431,
          0.5442835285398985,
          0.6920694699070546,
          1.3288616436071947,
          -1.6990132510416547,
          1.9951469381152758,
          -0.19244562711695304,
          -0.32523784472144124,
          0.6042049624099904,
          0.3423085542626006,
          -0.005723712507034573,
          0.1660708792426556,
          -0.25674707460214397,
          -0.1226287964154879,
          -1.0156204214589089,
          1.348641230156133,
          -0.8398316440997098,
          -0.8179472960460081,
          -1.4349465992015384,
          -1.499440425603565,
          1.517245350105534,
          -0.5308778868191003,
          -1.3472959906321316,
          -1.0406469384731583,
          -0.4977387501764713,
          1.275667989295518,
          1.1295127491665227,
          -1.6061400217783806,
          -0.8171279627165152,
          -0.4932602218745369,
          -0.7406254851198281,
          -0.199395177148563,
          1.0415158118454182,
          0.3306663594538813,
          0.08367312089908913,
          1.6710661620083822,
          1.6242630288549933,
          1.2441631698928521,
          -1.8427327464637056,
          -1.07841115026537,
          1.0373216854219938,
          1.243928951642244,
          0.4028753220836608,
          0.10716839746295827,
          -1.2469087711768443,
          -0.4416009998087673,
          -0.1468232659953732,
          1.9061089235064455,
          -1.4600887886691467,
          -1.3472652348843102,
          -0.19782739179798506,
          -0.564060507366717,
          0.6601245441938398,
          -1.8642517504969234,
          -0.853855547211736,
          -1.1533885564167732,
          0.5137118780719806,
          -0.8602111272746457,
          0.5283454136479098,
          -0.3927459258059125,
          -0.9987993727603097,
          0.685678981657241,
          1.0824709572760371,
          -0.8563875703591132,
          -0.08003984227964277,
          0.7121193710585941,
          1.029592809196191,
          -0.33060904117985307,
          0.597189021016201,
          1.994985364857601,
          1.5750586947586183,
          0.3732431896844038,
          0.2183568914505785,
          -1.5701190492530126,
          -0.021869881075446528,
          -1.6773201519956382,
          -0.35426462746605936,
          0.8111479806834876,
          0.17462866309631145,
          1.1811359917261979,
          -1.7985183343782079,
          -0.40976299717349285,
          -0.5766078869323968,
          -0.6599137284909488,
          -0.6276952753342473,
          1.5578846219563145,
          2.3818500342349207,
          0.5361410686341836,
          1.2528965783784614,
          0.9650038473548902
         ],
         "xaxis": "x14",
         "y": [
          -0.21618728541816296,
          1.2525459226652675,
          -0.3358009163971509,
          -0.8184760749598912,
          -0.3772166077514853,
          -1.3861624474993819,
          0.30740710849638947,
          0.275202583116614,
          -1.3240388450379998,
          -0.7257645398150134,
          0.07045922949442338,
          -0.48676497457833123,
          -0.6106546321456783,
          0.6769412416691347,
          0.6236781296783847,
          0.8984182754961492,
          -1.208042194254034,
          -0.1659269927069783,
          -1.276342627133373,
          -0.6859594465868938,
          1.4403530242834823,
          -0.24477321840964772,
          -1.5222734448540447,
          0.14917116882110168,
          -0.13808883464957145,
          -0.4375375783247449,
          1.567233581242451,
          1.5565760717056871,
          -0.72034678773032,
          -0.7287806352140853,
          0.22302539078996866,
          -2.0335464140443538,
          0.3157987247980749,
          1.0890092593239864,
          -0.1513529934338727,
          -0.7978244768567099,
          0.3821087333243263,
          -1.6202464811848905,
          0.7034416052270022,
          -0.9791495147711768,
          -0.6134779201626838,
          -0.04851198245023964,
          1.20411303148368,
          -0.6614127908787752,
          0.452880998327755,
          1.6639408358453316,
          0.11648833214149902,
          -0.27393767537970026,
          0.06903471091473971,
          0.1385728064149139,
          -0.7919898601517497,
          -0.47316026107910164,
          -0.49955084677851036,
          -0.26818185877208356,
          -0.3619998555526626,
          0.4699353492725758,
          1.2321408411404553,
          -1.0803311292418136,
          -0.17751174030516542,
          0.6243373549201932,
          0.36301153604288394,
          -1.4370960940189874,
          0.07234991480975235,
          0.2330486893618556,
          0.04109102379992068,
          0.15324613118464026,
          0.4840986053270673,
          -0.539567382808983,
          -0.17519068744518013,
          0.8079551946384139,
          -1.850316786185605,
          -1.3192894598113594,
          -1.1041588175263408,
          -0.4795675713229714,
          -0.08268057407004485,
          0.8291394204101675,
          1.1569962886971963,
          0.17575314100585898,
          -0.7416799714059854,
          -0.07150431966075302,
          -0.6864755436356272,
          -0.26215642090932006,
          -1.0576739331278184,
          -0.6623089486977592,
          -1.7711151174399706,
          2.212812051653826,
          -0.46079828894359876,
          -1.654960509967774,
          0.06838860174176283,
          -1.2181228796557841,
          0.5446319116403866,
          0.32939615965767904,
          0.7440103538166203,
          -0.01972462708917305,
          -0.49069094822653325,
          1.020485452966454,
          -1.3701495514676203,
          0.2853686307035859,
          1.0522408642498642,
          -1.536015059559466
         ],
         "yaxis": "y14",
         "type": "scatter"
        },
        {
         "line": {
          "color": "rgba(128, 128, 128, 1.0)",
          "dash": "solid",
          "shape": "linear",
          "width": 1.3
         },
         "marker": {
          "size": 2,
          "symbol": "circle"
         },
         "mode": "markers",
         "name": "d",
         "text": "",
         "x": [
          0.5967508133460097,
          -0.8310625436125187,
          -1.186075281486645,
          0.6839892029061092,
          0.33422412175490246,
          -0.3071702767291182,
          1.251127175522188,
          1.0003552532728113,
          -0.2377420517392665,
          -0.4697527063118209,
          0.5708434518927604,
          -1.1947960195694187,
          -0.5211675599806131,
          0.7158714474367859,
          0.8614422238381686,
          0.43157178546055064,
          1.3963028975464862,
          1.4875988076170195,
          1.7131776145581348,
          0.3262254353589354,
          -0.12552377386028193,
          -1.9022985701321304,
          -0.9120719616111599,
          1.7616033628142032,
          -0.6068907813949179,
          -0.2530358940260846,
          1.6050900725008113,
          0.8389317650171128,
          -0.002909916373665522,
          1.7231613931499312,
          0.42853309202866596,
          0.38562358104400046,
          -0.5816457524323265,
          -0.29516448723984784,
          1.1591737980493135,
          0.8823222830691667,
          -0.8290692062440366,
          -0.30242559226682475,
          0.6861308003160629,
          0.6657148569745158,
          -1.2223430945458924,
          -0.18390371544912945,
          -1.9892801418727477,
          -0.5532126817386545,
          0.14529208070328165,
          0.10530396944482108,
          0.840048514744419,
          0.3109258403053101,
          1.5149418881661314,
          0.6960741286557455,
          -0.5746995322937898,
          -1.2642798722621171,
          -0.8331997062746668,
          -0.4809489987602823,
          0.4879521164814944,
          -0.18970553016049113,
          -1.4460945647428922,
          -0.4197210086423235,
          1.0938141648237734,
          0.420365178460334,
          0.5437047780521163,
          2.1277396369110932,
          -1.4824255251585405,
          0.28014790326698,
          -1.0364764598428098,
          -1.0137255975534307,
          -0.5384372338453128,
          -1.7448174988513143,
          -1.2147675382539436,
          -0.1530862898792282,
          0.5975523415648675,
          -2.176185464348007,
          -1.2617209685508644,
          -1.3528072617329616,
          -0.6708566559177003,
          0.8891581711084477,
          0.44228700217665634,
          -0.09034793894769927,
          -0.8941483893465868,
          0.7359420705726158,
          -1.2330121017486972,
          -0.6461715862327733,
          -1.3642461847256528,
          0.24212955976515083,
          0.89404271749321,
          -0.7611759721173983,
          -0.2716282449010879,
          -0.7042685796637618,
          1.5145953401125853,
          0.36400562879899206,
          0.39065002581296315,
          -0.6182500302110686,
          0.5498062925369558,
          0.5543231928198981,
          2.3708937729816464,
          1.0361563012612234,
          -0.7183668727969715,
          -0.16522583193793056,
          0.4526790472959542,
          0.768056606707704
         ],
         "xaxis": "x15",
         "y": [
          -0.21618728541816296,
          1.2525459226652675,
          -0.3358009163971509,
          -0.8184760749598912,
          -0.3772166077514853,
          -1.3861624474993819,
          0.30740710849638947,
          0.275202583116614,
          -1.3240388450379998,
          -0.7257645398150134,
          0.07045922949442338,
          -0.48676497457833123,
          -0.6106546321456783,
          0.6769412416691347,
          0.6236781296783847,
          0.8984182754961492,
          -1.208042194254034,
          -0.1659269927069783,
          -1.276342627133373,
          -0.6859594465868938,
          1.4403530242834823,
          -0.24477321840964772,
          -1.5222734448540447,
          0.14917116882110168,
          -0.13808883464957145,
          -0.4375375783247449,
          1.567233581242451,
          1.5565760717056871,
          -0.72034678773032,
          -0.7287806352140853,
          0.22302539078996866,
          -2.0335464140443538,
          0.3157987247980749,
          1.0890092593239864,
          -0.1513529934338727,
          -0.7978244768567099,
          0.3821087333243263,
          -1.6202464811848905,
          0.7034416052270022,
          -0.9791495147711768,
          -0.6134779201626838,
          -0.04851198245023964,
          1.20411303148368,
          -0.6614127908787752,
          0.452880998327755,
          1.6639408358453316,
          0.11648833214149902,
          -0.27393767537970026,
          0.06903471091473971,
          0.1385728064149139,
          -0.7919898601517497,
          -0.47316026107910164,
          -0.49955084677851036,
          -0.26818185877208356,
          -0.3619998555526626,
          0.4699353492725758,
          1.2321408411404553,
          -1.0803311292418136,
          -0.17751174030516542,
          0.6243373549201932,
          0.36301153604288394,
          -1.4370960940189874,
          0.07234991480975235,
          0.2330486893618556,
          0.04109102379992068,
          0.15324613118464026,
          0.4840986053270673,
          -0.539567382808983,
          -0.17519068744518013,
          0.8079551946384139,
          -1.850316786185605,
          -1.3192894598113594,
          -1.1041588175263408,
          -0.4795675713229714,
          -0.08268057407004485,
          0.8291394204101675,
          1.1569962886971963,
          0.17575314100585898,
          -0.7416799714059854,
          -0.07150431966075302,
          -0.6864755436356272,
          -0.26215642090932006,
          -1.0576739331278184,
          -0.6623089486977592,
          -1.7711151174399706,
          2.212812051653826,
          -0.46079828894359876,
          -1.654960509967774,
          0.06838860174176283,
          -1.2181228796557841,
          0.5446319116403866,
          0.32939615965767904,
          0.7440103538166203,
          -0.01972462708917305,
          -0.49069094822653325,
          1.020485452966454,
          -1.3701495514676203,
          0.2853686307035859,
          1.0522408642498642,
          -1.536015059559466
         ],
         "yaxis": "y15",
         "type": "scatter"
        },
        {
         "histfunc": "count",
         "histnorm": "",
         "marker": {
          "color": "rgba(128, 0, 128, 1.0)",
          "line": {
           "color": "#4D5663",
           "width": 1.3
          }
         },
         "name": "d",
         "nbinsx": 10,
         "opacity": 0.8,
         "orientation": "v",
         "x": [
          -0.21618728541816296,
          1.2525459226652675,
          -0.3358009163971509,
          -0.8184760749598912,
          -0.3772166077514853,
          -1.3861624474993819,
          0.30740710849638947,
          0.275202583116614,
          -1.3240388450379998,
          -0.7257645398150134,
          0.07045922949442338,
          -0.48676497457833123,
          -0.6106546321456783,
          0.6769412416691347,
          0.6236781296783847,
          0.8984182754961492,
          -1.208042194254034,
          -0.1659269927069783,
          -1.276342627133373,
          -0.6859594465868938,
          1.4403530242834823,
          -0.24477321840964772,
          -1.5222734448540447,
          0.14917116882110168,
          -0.13808883464957145,
          -0.4375375783247449,
          1.567233581242451,
          1.5565760717056871,
          -0.72034678773032,
          -0.7287806352140853,
          0.22302539078996866,
          -2.0335464140443538,
          0.3157987247980749,
          1.0890092593239864,
          -0.1513529934338727,
          -0.7978244768567099,
          0.3821087333243263,
          -1.6202464811848905,
          0.7034416052270022,
          -0.9791495147711768,
          -0.6134779201626838,
          -0.04851198245023964,
          1.20411303148368,
          -0.6614127908787752,
          0.452880998327755,
          1.6639408358453316,
          0.11648833214149902,
          -0.27393767537970026,
          0.06903471091473971,
          0.1385728064149139,
          -0.7919898601517497,
          -0.47316026107910164,
          -0.49955084677851036,
          -0.26818185877208356,
          -0.3619998555526626,
          0.4699353492725758,
          1.2321408411404553,
          -1.0803311292418136,
          -0.17751174030516542,
          0.6243373549201932,
          0.36301153604288394,
          -1.4370960940189874,
          0.07234991480975235,
          0.2330486893618556,
          0.04109102379992068,
          0.15324613118464026,
          0.4840986053270673,
          -0.539567382808983,
          -0.17519068744518013,
          0.8079551946384139,
          -1.850316786185605,
          -1.3192894598113594,
          -1.1041588175263408,
          -0.4795675713229714,
          -0.08268057407004485,
          0.8291394204101675,
          1.1569962886971963,
          0.17575314100585898,
          -0.7416799714059854,
          -0.07150431966075302,
          -0.6864755436356272,
          -0.26215642090932006,
          -1.0576739331278184,
          -0.6623089486977592,
          -1.7711151174399706,
          2.212812051653826,
          -0.46079828894359876,
          -1.654960509967774,
          0.06838860174176283,
          -1.2181228796557841,
          0.5446319116403866,
          0.32939615965767904,
          0.7440103538166203,
          -0.01972462708917305,
          -0.49069094822653325,
          1.020485452966454,
          -1.3701495514676203,
          0.2853686307035859,
          1.0522408642498642,
          -1.536015059559466
         ],
         "xaxis": "x16",
         "yaxis": "y16",
         "type": "histogram"
        }
       ],
       "layout": {
        "bargap": 0.02,
        "legend": {
         "bgcolor": "#F5F6F9",
         "font": {
          "color": "#4D5663"
         }
        },
        "paper_bgcolor": "#F5F6F9",
        "plot_bgcolor": "#F5F6F9",
        "showlegend": false,
        "template": {
         "data": {
          "barpolar": [
           {
            "marker": {
             "line": {
              "color": "#E5ECF6",
              "width": 0.5
             },
             "pattern": {
              "fillmode": "overlay",
              "size": 10,
              "solidity": 0.2
             }
            },
            "type": "barpolar"
           }
          ],
          "bar": [
           {
            "error_x": {
             "color": "#2a3f5f"
            },
            "error_y": {
             "color": "#2a3f5f"
            },
            "marker": {
             "line": {
              "color": "#E5ECF6",
              "width": 0.5
             },
             "pattern": {
              "fillmode": "overlay",
              "size": 10,
              "solidity": 0.2
             }
            },
            "type": "bar"
           }
          ],
          "carpet": [
           {
            "aaxis": {
             "endlinecolor": "#2a3f5f",
             "gridcolor": "white",
             "linecolor": "white",
             "minorgridcolor": "white",
             "startlinecolor": "#2a3f5f"
            },
            "baxis": {
             "endlinecolor": "#2a3f5f",
             "gridcolor": "white",
             "linecolor": "white",
             "minorgridcolor": "white",
             "startlinecolor": "#2a3f5f"
            },
            "type": "carpet"
           }
          ],
          "choropleth": [
           {
            "colorbar": {
             "outlinewidth": 0,
             "ticks": ""
            },
            "type": "choropleth"
           }
          ],
          "contourcarpet": [
           {
            "colorbar": {
             "outlinewidth": 0,
             "ticks": ""
            },
            "type": "contourcarpet"
           }
          ],
          "contour": [
           {
            "colorbar": {
             "outlinewidth": 0,
             "ticks": ""
            },
            "colorscale": [
             [
              0.0,
              "#0d0887"
             ],
             [
              0.1111111111111111,
              "#46039f"
             ],
             [
              0.2222222222222222,
              "#7201a8"
             ],
             [
              0.3333333333333333,
              "#9c179e"
             ],
             [
              0.4444444444444444,
              "#bd3786"
             ],
             [
              0.5555555555555556,
              "#d8576b"
             ],
             [
              0.6666666666666666,
              "#ed7953"
             ],
             [
              0.7777777777777778,
              "#fb9f3a"
             ],
             [
              0.8888888888888888,
              "#fdca26"
             ],
             [
              1.0,
              "#f0f921"
             ]
            ],
            "type": "contour"
           }
          ],
          "heatmapgl": [
           {
            "colorbar": {
             "outlinewidth": 0,
             "ticks": ""
            },
            "colorscale": [
             [
              0.0,
              "#0d0887"
             ],
             [
              0.1111111111111111,
              "#46039f"
             ],
             [
              0.2222222222222222,
              "#7201a8"
             ],
             [
              0.3333333333333333,
              "#9c179e"
             ],
             [
              0.4444444444444444,
              "#bd3786"
             ],
             [
              0.5555555555555556,
              "#d8576b"
             ],
             [
              0.6666666666666666,
              "#ed7953"
             ],
             [
              0.7777777777777778,
              "#fb9f3a"
             ],
             [
              0.8888888888888888,
              "#fdca26"
             ],
             [
              1.0,
              "#f0f921"
             ]
            ],
            "type": "heatmapgl"
           }
          ],
          "heatmap": [
           {
            "colorbar": {
             "outlinewidth": 0,
             "ticks": ""
            },
            "colorscale": [
             [
              0.0,
              "#0d0887"
             ],
             [
              0.1111111111111111,
              "#46039f"
             ],
             [
              0.2222222222222222,
              "#7201a8"
             ],
             [
              0.3333333333333333,
              "#9c179e"
             ],
             [
              0.4444444444444444,
              "#bd3786"
             ],
             [
              0.5555555555555556,
              "#d8576b"
             ],
             [
              0.6666666666666666,
              "#ed7953"
             ],
             [
              0.7777777777777778,
              "#fb9f3a"
             ],
             [
              0.8888888888888888,
              "#fdca26"
             ],
             [
              1.0,
              "#f0f921"
             ]
            ],
            "type": "heatmap"
           }
          ],
          "histogram2dcontour": [
           {
            "colorbar": {
             "outlinewidth": 0,
             "ticks": ""
            },
            "colorscale": [
             [
              0.0,
              "#0d0887"
             ],
             [
              0.1111111111111111,
              "#46039f"
             ],
             [
              0.2222222222222222,
              "#7201a8"
             ],
             [
              0.3333333333333333,
              "#9c179e"
             ],
             [
              0.4444444444444444,
              "#bd3786"
             ],
             [
              0.5555555555555556,
              "#d8576b"
             ],
             [
              0.6666666666666666,
              "#ed7953"
             ],
             [
              0.7777777777777778,
              "#fb9f3a"
             ],
             [
              0.8888888888888888,
              "#fdca26"
             ],
             [
              1.0,
              "#f0f921"
             ]
            ],
            "type": "histogram2dcontour"
           }
          ],
          "histogram2d": [
           {
            "colorbar": {
             "outlinewidth": 0,
             "ticks": ""
            },
            "colorscale": [
             [
              0.0,
              "#0d0887"
             ],
             [
              0.1111111111111111,
              "#46039f"
             ],
             [
              0.2222222222222222,
              "#7201a8"
             ],
             [
              0.3333333333333333,
              "#9c179e"
             ],
             [
              0.4444444444444444,
              "#bd3786"
             ],
             [
              0.5555555555555556,
              "#d8576b"
             ],
             [
              0.6666666666666666,
              "#ed7953"
             ],
             [
              0.7777777777777778,
              "#fb9f3a"
             ],
             [
              0.8888888888888888,
              "#fdca26"
             ],
             [
              1.0,
              "#f0f921"
             ]
            ],
            "type": "histogram2d"
           }
          ],
          "histogram": [
           {
            "marker": {
             "pattern": {
              "fillmode": "overlay",
              "size": 10,
              "solidity": 0.2
             }
            },
            "type": "histogram"
           }
          ],
          "mesh3d": [
           {
            "colorbar": {
             "outlinewidth": 0,
             "ticks": ""
            },
            "type": "mesh3d"
           }
          ],
          "parcoords": [
           {
            "line": {
             "colorbar": {
              "outlinewidth": 0,
              "ticks": ""
             }
            },
            "type": "parcoords"
           }
          ],
          "pie": [
           {
            "automargin": true,
            "type": "pie"
           }
          ],
          "scatter3d": [
           {
            "line": {
             "colorbar": {
              "outlinewidth": 0,
              "ticks": ""
             }
            },
            "marker": {
             "colorbar": {
              "outlinewidth": 0,
              "ticks": ""
             }
            },
            "type": "scatter3d"
           }
          ],
          "scattercarpet": [
           {
            "marker": {
             "colorbar": {
              "outlinewidth": 0,
              "ticks": ""
             }
            },
            "type": "scattercarpet"
           }
          ],
          "scattergeo": [
           {
            "marker": {
             "colorbar": {
              "outlinewidth": 0,
              "ticks": ""
             }
            },
            "type": "scattergeo"
           }
          ],
          "scattergl": [
           {
            "marker": {
             "colorbar": {
              "outlinewidth": 0,
              "ticks": ""
             }
            },
            "type": "scattergl"
           }
          ],
          "scattermapbox": [
           {
            "marker": {
             "colorbar": {
              "outlinewidth": 0,
              "ticks": ""
             }
            },
            "type": "scattermapbox"
           }
          ],
          "scatterpolargl": [
           {
            "marker": {
             "colorbar": {
              "outlinewidth": 0,
              "ticks": ""
             }
            },
            "type": "scatterpolargl"
           }
          ],
          "scatterpolar": [
           {
            "marker": {
             "colorbar": {
              "outlinewidth": 0,
              "ticks": ""
             }
            },
            "type": "scatterpolar"
           }
          ],
          "scatter": [
           {
            "fillpattern": {
             "fillmode": "overlay",
             "size": 10,
             "solidity": 0.2
            },
            "type": "scatter"
           }
          ],
          "scatterternary": [
           {
            "marker": {
             "colorbar": {
              "outlinewidth": 0,
              "ticks": ""
             }
            },
            "type": "scatterternary"
           }
          ],
          "surface": [
           {
            "colorbar": {
             "outlinewidth": 0,
             "ticks": ""
            },
            "colorscale": [
             [
              0.0,
              "#0d0887"
             ],
             [
              0.1111111111111111,
              "#46039f"
             ],
             [
              0.2222222222222222,
              "#7201a8"
             ],
             [
              0.3333333333333333,
              "#9c179e"
             ],
             [
              0.4444444444444444,
              "#bd3786"
             ],
             [
              0.5555555555555556,
              "#d8576b"
             ],
             [
              0.6666666666666666,
              "#ed7953"
             ],
             [
              0.7777777777777778,
              "#fb9f3a"
             ],
             [
              0.8888888888888888,
              "#fdca26"
             ],
             [
              1.0,
              "#f0f921"
             ]
            ],
            "type": "surface"
           }
          ],
          "table": [
           {
            "cells": {
             "fill": {
              "color": "#EBF0F8"
             },
             "line": {
              "color": "white"
             }
            },
            "header": {
             "fill": {
              "color": "#C8D4E3"
             },
             "line": {
              "color": "white"
             }
            },
            "type": "table"
           }
          ]
         },
         "layout": {
          "annotationdefaults": {
           "arrowcolor": "#2a3f5f",
           "arrowhead": 0,
           "arrowwidth": 1
          },
          "autotypenumbers": "strict",
          "coloraxis": {
           "colorbar": {
            "outlinewidth": 0,
            "ticks": ""
           }
          },
          "colorscale": {
           "diverging": [
            [
             0,
             "#8e0152"
            ],
            [
             0.1,
             "#c51b7d"
            ],
            [
             0.2,
             "#de77ae"
            ],
            [
             0.3,
             "#f1b6da"
            ],
            [
             0.4,
             "#fde0ef"
            ],
            [
             0.5,
             "#f7f7f7"
            ],
            [
             0.6,
             "#e6f5d0"
            ],
            [
             0.7,
             "#b8e186"
            ],
            [
             0.8,
             "#7fbc41"
            ],
            [
             0.9,
             "#4d9221"
            ],
            [
             1,
             "#276419"
            ]
           ],
           "sequential": [
            [
             0.0,
             "#0d0887"
            ],
            [
             0.1111111111111111,
             "#46039f"
            ],
            [
             0.2222222222222222,
             "#7201a8"
            ],
            [
             0.3333333333333333,
             "#9c179e"
            ],
            [
             0.4444444444444444,
             "#bd3786"
            ],
            [
             0.5555555555555556,
             "#d8576b"
            ],
            [
             0.6666666666666666,
             "#ed7953"
            ],
            [
             0.7777777777777778,
             "#fb9f3a"
            ],
            [
             0.8888888888888888,
             "#fdca26"
            ],
            [
             1.0,
             "#f0f921"
            ]
           ],
           "sequentialminus": [
            [
             0.0,
             "#0d0887"
            ],
            [
             0.1111111111111111,
             "#46039f"
            ],
            [
             0.2222222222222222,
             "#7201a8"
            ],
            [
             0.3333333333333333,
             "#9c179e"
            ],
            [
             0.4444444444444444,
             "#bd3786"
            ],
            [
             0.5555555555555556,
             "#d8576b"
            ],
            [
             0.6666666666666666,
             "#ed7953"
            ],
            [
             0.7777777777777778,
             "#fb9f3a"
            ],
            [
             0.8888888888888888,
             "#fdca26"
            ],
            [
             1.0,
             "#f0f921"
            ]
           ]
          },
          "colorway": [
           "#636efa",
           "#EF553B",
           "#00cc96",
           "#ab63fa",
           "#FFA15A",
           "#19d3f3",
           "#FF6692",
           "#B6E880",
           "#FF97FF",
           "#FECB52"
          ],
          "font": {
           "color": "#2a3f5f"
          },
          "geo": {
           "bgcolor": "white",
           "lakecolor": "white",
           "landcolor": "#E5ECF6",
           "showlakes": true,
           "showland": true,
           "subunitcolor": "white"
          },
          "hoverlabel": {
           "align": "left"
          },
          "hovermode": "closest",
          "mapbox": {
           "style": "light"
          },
          "paper_bgcolor": "white",
          "plot_bgcolor": "#E5ECF6",
          "polar": {
           "angularaxis": {
            "gridcolor": "white",
            "linecolor": "white",
            "ticks": ""
           },
           "bgcolor": "#E5ECF6",
           "radialaxis": {
            "gridcolor": "white",
            "linecolor": "white",
            "ticks": ""
           }
          },
          "scene": {
           "xaxis": {
            "backgroundcolor": "#E5ECF6",
            "gridcolor": "white",
            "gridwidth": 2,
            "linecolor": "white",
            "showbackground": true,
            "ticks": "",
            "zerolinecolor": "white"
           },
           "yaxis": {
            "backgroundcolor": "#E5ECF6",
            "gridcolor": "white",
            "gridwidth": 2,
            "linecolor": "white",
            "showbackground": true,
            "ticks": "",
            "zerolinecolor": "white"
           },
           "zaxis": {
            "backgroundcolor": "#E5ECF6",
            "gridcolor": "white",
            "gridwidth": 2,
            "linecolor": "white",
            "showbackground": true,
            "ticks": "",
            "zerolinecolor": "white"
           }
          },
          "shapedefaults": {
           "line": {
            "color": "#2a3f5f"
           }
          },
          "ternary": {
           "aaxis": {
            "gridcolor": "white",
            "linecolor": "white",
            "ticks": ""
           },
           "baxis": {
            "gridcolor": "white",
            "linecolor": "white",
            "ticks": ""
           },
           "bgcolor": "#E5ECF6",
           "caxis": {
            "gridcolor": "white",
            "linecolor": "white",
            "ticks": ""
           }
          },
          "title": {
           "x": 0.05
          },
          "xaxis": {
           "automargin": true,
           "gridcolor": "white",
           "linecolor": "white",
           "ticks": "",
           "title": {
            "standoff": 15
           },
           "zerolinecolor": "white",
           "zerolinewidth": 2
          },
          "yaxis": {
           "automargin": true,
           "gridcolor": "white",
           "linecolor": "white",
           "ticks": "",
           "title": {
            "standoff": 15
           },
           "zerolinecolor": "white",
           "zerolinewidth": 2
          }
         }
        },
        "title": {
         "font": {
          "color": "#4D5663"
         }
        },
        "xaxis": {
         "anchor": "y",
         "domain": [
          0.0,
          0.2125
         ],
         "gridcolor": "#E1E5ED",
         "showgrid": false,
         "tickfont": {
          "color": "#4D5663"
         },
         "title": {
          "font": {
           "color": "#4D5663"
          },
          "text": ""
         },
         "zerolinecolor": "#E1E5ED"
        },
        "yaxis": {
         "anchor": "x",
         "domain": [
          0.8025,
          1.0
         ],
         "gridcolor": "#E1E5ED",
         "showgrid": false,
         "tickfont": {
          "color": "#4D5663"
         },
         "title": {
          "font": {
           "color": "#4D5663"
          },
          "text": ""
         },
         "zerolinecolor": "#E1E5ED"
        },
        "xaxis2": {
         "anchor": "y2",
         "domain": [
          0.2625,
          0.475
         ],
         "gridcolor": "#E1E5ED",
         "showgrid": false,
         "tickfont": {
          "color": "#4D5663"
         },
         "title": {
          "font": {
           "color": "#4D5663"
          },
          "text": ""
         },
         "zerolinecolor": "#E1E5ED"
        },
        "yaxis2": {
         "anchor": "x2",
         "domain": [
          0.8025,
          1.0
         ],
         "gridcolor": "#E1E5ED",
         "showgrid": false,
         "tickfont": {
          "color": "#4D5663"
         },
         "title": {
          "font": {
           "color": "#4D5663"
          },
          "text": ""
         },
         "zerolinecolor": "#E1E5ED"
        },
        "xaxis3": {
         "anchor": "y3",
         "domain": [
          0.525,
          0.7375
         ],
         "gridcolor": "#E1E5ED",
         "showgrid": false,
         "tickfont": {
          "color": "#4D5663"
         },
         "title": {
          "font": {
           "color": "#4D5663"
          },
          "text": ""
         },
         "zerolinecolor": "#E1E5ED"
        },
        "yaxis3": {
         "anchor": "x3",
         "domain": [
          0.8025,
          1.0
         ],
         "gridcolor": "#E1E5ED",
         "showgrid": false,
         "tickfont": {
          "color": "#4D5663"
         },
         "title": {
          "font": {
           "color": "#4D5663"
          },
          "text": ""
         },
         "zerolinecolor": "#E1E5ED"
        },
        "xaxis4": {
         "anchor": "y4",
         "domain": [
          0.7875,
          1.0
         ],
         "gridcolor": "#E1E5ED",
         "showgrid": false,
         "tickfont": {
          "color": "#4D5663"
         },
         "title": {
          "font": {
           "color": "#4D5663"
          },
          "text": ""
         },
         "zerolinecolor": "#E1E5ED"
        },
        "yaxis4": {
         "anchor": "x4",
         "domain": [
          0.8025,
          1.0
         ],
         "gridcolor": "#E1E5ED",
         "showgrid": false,
         "tickfont": {
          "color": "#4D5663"
         },
         "title": {
          "font": {
           "color": "#4D5663"
          },
          "text": ""
         },
         "zerolinecolor": "#E1E5ED"
        },
        "xaxis5": {
         "anchor": "y5",
         "domain": [
          0.0,
          0.2125
         ],
         "gridcolor": "#E1E5ED",
         "showgrid": false,
         "tickfont": {
          "color": "#4D5663"
         },
         "title": {
          "font": {
           "color": "#4D5663"
          },
          "text": ""
         },
         "zerolinecolor": "#E1E5ED"
        },
        "yaxis5": {
         "anchor": "x5",
         "domain": [
          0.535,
          0.7325
         ],
         "gridcolor": "#E1E5ED",
         "showgrid": false,
         "tickfont": {
          "color": "#4D5663"
         },
         "title": {
          "font": {
           "color": "#4D5663"
          },
          "text": ""
         },
         "zerolinecolor": "#E1E5ED"
        },
        "xaxis6": {
         "anchor": "y6",
         "domain": [
          0.2625,
          0.475
         ],
         "gridcolor": "#E1E5ED",
         "showgrid": false,
         "tickfont": {
          "color": "#4D5663"
         },
         "title": {
          "font": {
           "color": "#4D5663"
          },
          "text": ""
         },
         "zerolinecolor": "#E1E5ED"
        },
        "yaxis6": {
         "anchor": "x6",
         "domain": [
          0.535,
          0.7325
         ],
         "gridcolor": "#E1E5ED",
         "showgrid": false,
         "tickfont": {
          "color": "#4D5663"
         },
         "title": {
          "font": {
           "color": "#4D5663"
          },
          "text": ""
         },
         "zerolinecolor": "#E1E5ED"
        },
        "xaxis7": {
         "anchor": "y7",
         "domain": [
          0.525,
          0.7375
         ],
         "gridcolor": "#E1E5ED",
         "showgrid": false,
         "tickfont": {
          "color": "#4D5663"
         },
         "title": {
          "font": {
           "color": "#4D5663"
          },
          "text": ""
         },
         "zerolinecolor": "#E1E5ED"
        },
        "yaxis7": {
         "anchor": "x7",
         "domain": [
          0.535,
          0.7325
         ],
         "gridcolor": "#E1E5ED",
         "showgrid": false,
         "tickfont": {
          "color": "#4D5663"
         },
         "title": {
          "font": {
           "color": "#4D5663"
          },
          "text": ""
         },
         "zerolinecolor": "#E1E5ED"
        },
        "xaxis8": {
         "anchor": "y8",
         "domain": [
          0.7875,
          1.0
         ],
         "gridcolor": "#E1E5ED",
         "showgrid": false,
         "tickfont": {
          "color": "#4D5663"
         },
         "title": {
          "font": {
           "color": "#4D5663"
          },
          "text": ""
         },
         "zerolinecolor": "#E1E5ED"
        },
        "yaxis8": {
         "anchor": "x8",
         "domain": [
          0.535,
          0.7325
         ],
         "gridcolor": "#E1E5ED",
         "showgrid": false,
         "tickfont": {
          "color": "#4D5663"
         },
         "title": {
          "font": {
           "color": "#4D5663"
          },
          "text": ""
         },
         "zerolinecolor": "#E1E5ED"
        },
        "xaxis9": {
         "anchor": "y9",
         "domain": [
          0.0,
          0.2125
         ],
         "gridcolor": "#E1E5ED",
         "showgrid": false,
         "tickfont": {
          "color": "#4D5663"
         },
         "title": {
          "font": {
           "color": "#4D5663"
          },
          "text": ""
         },
         "zerolinecolor": "#E1E5ED"
        },
        "yaxis9": {
         "anchor": "x9",
         "domain": [
          0.2675,
          0.465
         ],
         "gridcolor": "#E1E5ED",
         "showgrid": false,
         "tickfont": {
          "color": "#4D5663"
         },
         "title": {
          "font": {
           "color": "#4D5663"
          },
          "text": ""
         },
         "zerolinecolor": "#E1E5ED"
        },
        "xaxis10": {
         "anchor": "y10",
         "domain": [
          0.2625,
          0.475
         ],
         "gridcolor": "#E1E5ED",
         "showgrid": false,
         "tickfont": {
          "color": "#4D5663"
         },
         "title": {
          "font": {
           "color": "#4D5663"
          },
          "text": ""
         },
         "zerolinecolor": "#E1E5ED"
        },
        "yaxis10": {
         "anchor": "x10",
         "domain": [
          0.2675,
          0.465
         ],
         "gridcolor": "#E1E5ED",
         "showgrid": false,
         "tickfont": {
          "color": "#4D5663"
         },
         "title": {
          "font": {
           "color": "#4D5663"
          },
          "text": ""
         },
         "zerolinecolor": "#E1E5ED"
        },
        "xaxis11": {
         "anchor": "y11",
         "domain": [
          0.525,
          0.7375
         ],
         "gridcolor": "#E1E5ED",
         "showgrid": false,
         "tickfont": {
          "color": "#4D5663"
         },
         "title": {
          "font": {
           "color": "#4D5663"
          },
          "text": ""
         },
         "zerolinecolor": "#E1E5ED"
        },
        "yaxis11": {
         "anchor": "x11",
         "domain": [
          0.2675,
          0.465
         ],
         "gridcolor": "#E1E5ED",
         "showgrid": false,
         "tickfont": {
          "color": "#4D5663"
         },
         "title": {
          "font": {
           "color": "#4D5663"
          },
          "text": ""
         },
         "zerolinecolor": "#E1E5ED"
        },
        "xaxis12": {
         "anchor": "y12",
         "domain": [
          0.7875,
          1.0
         ],
         "gridcolor": "#E1E5ED",
         "showgrid": false,
         "tickfont": {
          "color": "#4D5663"
         },
         "title": {
          "font": {
           "color": "#4D5663"
          },
          "text": ""
         },
         "zerolinecolor": "#E1E5ED"
        },
        "yaxis12": {
         "anchor": "x12",
         "domain": [
          0.2675,
          0.465
         ],
         "gridcolor": "#E1E5ED",
         "showgrid": false,
         "tickfont": {
          "color": "#4D5663"
         },
         "title": {
          "font": {
           "color": "#4D5663"
          },
          "text": ""
         },
         "zerolinecolor": "#E1E5ED"
        },
        "xaxis13": {
         "anchor": "y13",
         "domain": [
          0.0,
          0.2125
         ],
         "gridcolor": "#E1E5ED",
         "showgrid": false,
         "tickfont": {
          "color": "#4D5663"
         },
         "title": {
          "font": {
           "color": "#4D5663"
          },
          "text": ""
         },
         "zerolinecolor": "#E1E5ED"
        },
        "yaxis13": {
         "anchor": "x13",
         "domain": [
          0.0,
          0.1975
         ],
         "gridcolor": "#E1E5ED",
         "showgrid": false,
         "tickfont": {
          "color": "#4D5663"
         },
         "title": {
          "font": {
           "color": "#4D5663"
          },
          "text": ""
         },
         "zerolinecolor": "#E1E5ED"
        },
        "xaxis14": {
         "anchor": "y14",
         "domain": [
          0.2625,
          0.475
         ],
         "gridcolor": "#E1E5ED",
         "showgrid": false,
         "tickfont": {
          "color": "#4D5663"
         },
         "title": {
          "font": {
           "color": "#4D5663"
          },
          "text": ""
         },
         "zerolinecolor": "#E1E5ED"
        },
        "yaxis14": {
         "anchor": "x14",
         "domain": [
          0.0,
          0.1975
         ],
         "gridcolor": "#E1E5ED",
         "showgrid": false,
         "tickfont": {
          "color": "#4D5663"
         },
         "title": {
          "font": {
           "color": "#4D5663"
          },
          "text": ""
         },
         "zerolinecolor": "#E1E5ED"
        },
        "xaxis15": {
         "anchor": "y15",
         "domain": [
          0.525,
          0.7375
         ],
         "gridcolor": "#E1E5ED",
         "showgrid": false,
         "tickfont": {
          "color": "#4D5663"
         },
         "title": {
          "font": {
           "color": "#4D5663"
          },
          "text": ""
         },
         "zerolinecolor": "#E1E5ED"
        },
        "yaxis15": {
         "anchor": "x15",
         "domain": [
          0.0,
          0.1975
         ],
         "gridcolor": "#E1E5ED",
         "showgrid": false,
         "tickfont": {
          "color": "#4D5663"
         },
         "title": {
          "font": {
           "color": "#4D5663"
          },
          "text": ""
         },
         "zerolinecolor": "#E1E5ED"
        },
        "xaxis16": {
         "anchor": "y16",
         "domain": [
          0.7875,
          1.0
         ],
         "gridcolor": "#E1E5ED",
         "showgrid": false,
         "tickfont": {
          "color": "#4D5663"
         },
         "title": {
          "font": {
           "color": "#4D5663"
          },
          "text": ""
         },
         "zerolinecolor": "#E1E5ED"
        },
        "yaxis16": {
         "anchor": "x16",
         "domain": [
          0.0,
          0.1975
         ],
         "gridcolor": "#E1E5ED",
         "showgrid": false,
         "tickfont": {
          "color": "#4D5663"
         },
         "title": {
          "font": {
           "color": "#4D5663"
          },
          "text": ""
         },
         "zerolinecolor": "#E1E5ED"
        }
       },
       "config": {
        "showLink": true,
        "linkText": "Export to plot.ly",
        "plotlyServerURL": "https://plot.ly"
       }
      },
      "text/html": "<div>                            <div id=\"cb344e12-914f-46f4-a412-1ee072e5d740\" class=\"plotly-graph-div\" style=\"height:525px; width:100%;\"></div>            <script type=\"text/javascript\">                require([\"plotly\"], function(Plotly) {                    window.PLOTLYENV=window.PLOTLYENV || {};\n                    window.PLOTLYENV.BASE_URL='https://plot.ly';                                    if (document.getElementById(\"cb344e12-914f-46f4-a412-1ee072e5d740\")) {                    Plotly.newPlot(                        \"cb344e12-914f-46f4-a412-1ee072e5d740\",                        [{\"histfunc\":\"count\",\"histnorm\":\"\",\"marker\":{\"color\":\"rgba(255, 153, 51, 1.0)\",\"line\":{\"color\":\"#4D5663\",\"width\":1.3}},\"name\":\"a\",\"nbinsx\":10,\"opacity\":0.8,\"orientation\":\"v\",\"x\":[-0.47955835117961326,2.208528985383365,0.4679589633910048,-0.8551162799251366,1.2525226501637672,1.1319214520231038,0.15812173899452547,-0.9092022524719334,0.32852802693340066,-0.4676903591186404,-0.3493277560093259,1.1183452949278738,1.0373688122425815,-0.6453414703455302,0.03229546532035661,-0.6023069851028888,0.9121079412160702,1.0498745999585175,1.0919176486482147,0.19191573392508898,-0.18942501228613742,-0.81840921813167,-1.190074307457328,-0.9366038728507515,-0.856021391260267,-0.5615826830665962,0.6378853019783909,-0.4469043426630658,-0.30437064195722396,0.12651643036377053,1.5701773925381344,-0.9580031126548217,0.04328220572876478,0.2725744951757658,0.4222972618869988,-0.2920985389545437,0.16214011253466665,0.9540490890422607,1.7225130817761656,-0.10512997495124377,-0.17633757215891804,1.45413051536654,-1.0519315569532932,1.1387557835791358,1.1861446893126402,-1.7580736056974662,0.5292123753306647,-0.9993961605133591,0.4656671775443968,0.14081276623774347,1.010413912098985,0.2809253841822681,-0.17599998665524727,1.502021151027751,-0.3838066673391768,1.198474820214525,-0.44721845335323585,-0.14370261165006484,-0.8260516382539377,-0.6809444591047652,0.5975261318282004,-1.2671176535438404,-0.1451011980098431,-0.12245751430090913,-2.9311413567274505,0.3903574906989734,-0.5444592065848942,1.4805370340162713,-1.516818137400796,-0.36807158571373966,-0.16298781561838693,-2.180519736923615,1.1825365269446158,0.7316658802037822,0.011666208316439941,0.1859449212009432,-0.1704869670034482,0.5086650732355799,-0.6469319358610637,0.6787103800007991,-0.09385953422313559,1.1944846327409775,-0.1503167358094551,0.5904644508340733,0.42582199360480877,1.1586090185110205,-2.8031677845866,-0.6654053838251582,0.5205929889517756,0.2436354199909118,-0.4517153603280674,1.3044889871740712,0.3173682234696028,-0.7952936213078645,-0.9817079635434631,-0.10268464581201636,-0.49954305222214757,1.393297854592929,-0.5971193120230532,0.6050202842451881],\"xaxis\":\"x\",\"yaxis\":\"y\",\"type\":\"histogram\"},{\"line\":{\"color\":\"rgba(128, 128, 128, 1.0)\",\"dash\":\"solid\",\"shape\":\"linear\",\"width\":1.3},\"marker\":{\"size\":2,\"symbol\":\"circle\"},\"mode\":\"markers\",\"name\":\"a\",\"text\":\"\",\"x\":[-1.271843621889942,-2.9194771482654533,1.0778027419907863,-3.3880158092068644,0.16727993160964663,0.752657149357646,-0.23471773455215122,-0.5405081781298487,-2.718485469093071,1.3977621771945667,1.9146685524277431,0.5442835285398985,0.6920694699070546,1.3288616436071947,-1.6990132510416547,1.9951469381152758,-0.19244562711695304,-0.32523784472144124,0.6042049624099904,0.3423085542626006,-0.005723712507034573,0.1660708792426556,-0.25674707460214397,-0.1226287964154879,-1.0156204214589089,1.348641230156133,-0.8398316440997098,-0.8179472960460081,-1.4349465992015384,-1.499440425603565,1.517245350105534,-0.5308778868191003,-1.3472959906321316,-1.0406469384731583,-0.4977387501764713,1.275667989295518,1.1295127491665227,-1.6061400217783806,-0.8171279627165152,-0.4932602218745369,-0.7406254851198281,-0.199395177148563,1.0415158118454182,0.3306663594538813,0.08367312089908913,1.6710661620083822,1.6242630288549933,1.2441631698928521,-1.8427327464637056,-1.07841115026537,1.0373216854219938,1.243928951642244,0.4028753220836608,0.10716839746295827,-1.2469087711768443,-0.4416009998087673,-0.1468232659953732,1.9061089235064455,-1.4600887886691467,-1.3472652348843102,-0.19782739179798506,-0.564060507366717,0.6601245441938398,-1.8642517504969234,-0.853855547211736,-1.1533885564167732,0.5137118780719806,-0.8602111272746457,0.5283454136479098,-0.3927459258059125,-0.9987993727603097,0.685678981657241,1.0824709572760371,-0.8563875703591132,-0.08003984227964277,0.7121193710585941,1.029592809196191,-0.33060904117985307,0.597189021016201,1.994985364857601,1.5750586947586183,0.3732431896844038,0.2183568914505785,-1.5701190492530126,-0.021869881075446528,-1.6773201519956382,-0.35426462746605936,0.8111479806834876,0.17462866309631145,1.1811359917261979,-1.7985183343782079,-0.40976299717349285,-0.5766078869323968,-0.6599137284909488,-0.6276952753342473,1.5578846219563145,2.3818500342349207,0.5361410686341836,1.2528965783784614,0.9650038473548902],\"xaxis\":\"x2\",\"y\":[-0.47955835117961326,2.208528985383365,0.4679589633910048,-0.8551162799251366,1.2525226501637672,1.1319214520231038,0.15812173899452547,-0.9092022524719334,0.32852802693340066,-0.4676903591186404,-0.3493277560093259,1.1183452949278738,1.0373688122425815,-0.6453414703455302,0.03229546532035661,-0.6023069851028888,0.9121079412160702,1.0498745999585175,1.0919176486482147,0.19191573392508898,-0.18942501228613742,-0.81840921813167,-1.190074307457328,-0.9366038728507515,-0.856021391260267,-0.5615826830665962,0.6378853019783909,-0.4469043426630658,-0.30437064195722396,0.12651643036377053,1.5701773925381344,-0.9580031126548217,0.04328220572876478,0.2725744951757658,0.4222972618869988,-0.2920985389545437,0.16214011253466665,0.9540490890422607,1.7225130817761656,-0.10512997495124377,-0.17633757215891804,1.45413051536654,-1.0519315569532932,1.1387557835791358,1.1861446893126402,-1.7580736056974662,0.5292123753306647,-0.9993961605133591,0.4656671775443968,0.14081276623774347,1.010413912098985,0.2809253841822681,-0.17599998665524727,1.502021151027751,-0.3838066673391768,1.198474820214525,-0.44721845335323585,-0.14370261165006484,-0.8260516382539377,-0.6809444591047652,0.5975261318282004,-1.2671176535438404,-0.1451011980098431,-0.12245751430090913,-2.9311413567274505,0.3903574906989734,-0.5444592065848942,1.4805370340162713,-1.516818137400796,-0.36807158571373966,-0.16298781561838693,-2.180519736923615,1.1825365269446158,0.7316658802037822,0.011666208316439941,0.1859449212009432,-0.1704869670034482,0.5086650732355799,-0.6469319358610637,0.6787103800007991,-0.09385953422313559,1.1944846327409775,-0.1503167358094551,0.5904644508340733,0.42582199360480877,1.1586090185110205,-2.8031677845866,-0.6654053838251582,0.5205929889517756,0.2436354199909118,-0.4517153603280674,1.3044889871740712,0.3173682234696028,-0.7952936213078645,-0.9817079635434631,-0.10268464581201636,-0.49954305222214757,1.393297854592929,-0.5971193120230532,0.6050202842451881],\"yaxis\":\"y2\",\"type\":\"scatter\"},{\"line\":{\"color\":\"rgba(128, 128, 128, 1.0)\",\"dash\":\"solid\",\"shape\":\"linear\",\"width\":1.3},\"marker\":{\"size\":2,\"symbol\":\"circle\"},\"mode\":\"markers\",\"name\":\"a\",\"text\":\"\",\"x\":[0.5967508133460097,-0.8310625436125187,-1.186075281486645,0.6839892029061092,0.33422412175490246,-0.3071702767291182,1.251127175522188,1.0003552532728113,-0.2377420517392665,-0.4697527063118209,0.5708434518927604,-1.1947960195694187,-0.5211675599806131,0.7158714474367859,0.8614422238381686,0.43157178546055064,1.3963028975464862,1.4875988076170195,1.7131776145581348,0.3262254353589354,-0.12552377386028193,-1.9022985701321304,-0.9120719616111599,1.7616033628142032,-0.6068907813949179,-0.2530358940260846,1.6050900725008113,0.8389317650171128,-0.002909916373665522,1.7231613931499312,0.42853309202866596,0.38562358104400046,-0.5816457524323265,-0.29516448723984784,1.1591737980493135,0.8823222830691667,-0.8290692062440366,-0.30242559226682475,0.6861308003160629,0.6657148569745158,-1.2223430945458924,-0.18390371544912945,-1.9892801418727477,-0.5532126817386545,0.14529208070328165,0.10530396944482108,0.840048514744419,0.3109258403053101,1.5149418881661314,0.6960741286557455,-0.5746995322937898,-1.2642798722621171,-0.8331997062746668,-0.4809489987602823,0.4879521164814944,-0.18970553016049113,-1.4460945647428922,-0.4197210086423235,1.0938141648237734,0.420365178460334,0.5437047780521163,2.1277396369110932,-1.4824255251585405,0.28014790326698,-1.0364764598428098,-1.0137255975534307,-0.5384372338453128,-1.7448174988513143,-1.2147675382539436,-0.1530862898792282,0.5975523415648675,-2.176185464348007,-1.2617209685508644,-1.3528072617329616,-0.6708566559177003,0.8891581711084477,0.44228700217665634,-0.09034793894769927,-0.8941483893465868,0.7359420705726158,-1.2330121017486972,-0.6461715862327733,-1.3642461847256528,0.24212955976515083,0.89404271749321,-0.7611759721173983,-0.2716282449010879,-0.7042685796637618,1.5145953401125853,0.36400562879899206,0.39065002581296315,-0.6182500302110686,0.5498062925369558,0.5543231928198981,2.3708937729816464,1.0361563012612234,-0.7183668727969715,-0.16522583193793056,0.4526790472959542,0.768056606707704],\"xaxis\":\"x3\",\"y\":[-0.47955835117961326,2.208528985383365,0.4679589633910048,-0.8551162799251366,1.2525226501637672,1.1319214520231038,0.15812173899452547,-0.9092022524719334,0.32852802693340066,-0.4676903591186404,-0.3493277560093259,1.1183452949278738,1.0373688122425815,-0.6453414703455302,0.03229546532035661,-0.6023069851028888,0.9121079412160702,1.0498745999585175,1.0919176486482147,0.19191573392508898,-0.18942501228613742,-0.81840921813167,-1.190074307457328,-0.9366038728507515,-0.856021391260267,-0.5615826830665962,0.6378853019783909,-0.4469043426630658,-0.30437064195722396,0.12651643036377053,1.5701773925381344,-0.9580031126548217,0.04328220572876478,0.2725744951757658,0.4222972618869988,-0.2920985389545437,0.16214011253466665,0.9540490890422607,1.7225130817761656,-0.10512997495124377,-0.17633757215891804,1.45413051536654,-1.0519315569532932,1.1387557835791358,1.1861446893126402,-1.7580736056974662,0.5292123753306647,-0.9993961605133591,0.4656671775443968,0.14081276623774347,1.010413912098985,0.2809253841822681,-0.17599998665524727,1.502021151027751,-0.3838066673391768,1.198474820214525,-0.44721845335323585,-0.14370261165006484,-0.8260516382539377,-0.6809444591047652,0.5975261318282004,-1.2671176535438404,-0.1451011980098431,-0.12245751430090913,-2.9311413567274505,0.3903574906989734,-0.5444592065848942,1.4805370340162713,-1.516818137400796,-0.36807158571373966,-0.16298781561838693,-2.180519736923615,1.1825365269446158,0.7316658802037822,0.011666208316439941,0.1859449212009432,-0.1704869670034482,0.5086650732355799,-0.6469319358610637,0.6787103800007991,-0.09385953422313559,1.1944846327409775,-0.1503167358094551,0.5904644508340733,0.42582199360480877,1.1586090185110205,-2.8031677845866,-0.6654053838251582,0.5205929889517756,0.2436354199909118,-0.4517153603280674,1.3044889871740712,0.3173682234696028,-0.7952936213078645,-0.9817079635434631,-0.10268464581201636,-0.49954305222214757,1.393297854592929,-0.5971193120230532,0.6050202842451881],\"yaxis\":\"y3\",\"type\":\"scatter\"},{\"line\":{\"color\":\"rgba(128, 128, 128, 1.0)\",\"dash\":\"solid\",\"shape\":\"linear\",\"width\":1.3},\"marker\":{\"size\":2,\"symbol\":\"circle\"},\"mode\":\"markers\",\"name\":\"a\",\"text\":\"\",\"x\":[-0.21618728541816296,1.2525459226652675,-0.3358009163971509,-0.8184760749598912,-0.3772166077514853,-1.3861624474993819,0.30740710849638947,0.275202583116614,-1.3240388450379998,-0.7257645398150134,0.07045922949442338,-0.48676497457833123,-0.6106546321456783,0.6769412416691347,0.6236781296783847,0.8984182754961492,-1.208042194254034,-0.1659269927069783,-1.276342627133373,-0.6859594465868938,1.4403530242834823,-0.24477321840964772,-1.5222734448540447,0.14917116882110168,-0.13808883464957145,-0.4375375783247449,1.567233581242451,1.5565760717056871,-0.72034678773032,-0.7287806352140853,0.22302539078996866,-2.0335464140443538,0.3157987247980749,1.0890092593239864,-0.1513529934338727,-0.7978244768567099,0.3821087333243263,-1.6202464811848905,0.7034416052270022,-0.9791495147711768,-0.6134779201626838,-0.04851198245023964,1.20411303148368,-0.6614127908787752,0.452880998327755,1.6639408358453316,0.11648833214149902,-0.27393767537970026,0.06903471091473971,0.1385728064149139,-0.7919898601517497,-0.47316026107910164,-0.49955084677851036,-0.26818185877208356,-0.3619998555526626,0.4699353492725758,1.2321408411404553,-1.0803311292418136,-0.17751174030516542,0.6243373549201932,0.36301153604288394,-1.4370960940189874,0.07234991480975235,0.2330486893618556,0.04109102379992068,0.15324613118464026,0.4840986053270673,-0.539567382808983,-0.17519068744518013,0.8079551946384139,-1.850316786185605,-1.3192894598113594,-1.1041588175263408,-0.4795675713229714,-0.08268057407004485,0.8291394204101675,1.1569962886971963,0.17575314100585898,-0.7416799714059854,-0.07150431966075302,-0.6864755436356272,-0.26215642090932006,-1.0576739331278184,-0.6623089486977592,-1.7711151174399706,2.212812051653826,-0.46079828894359876,-1.654960509967774,0.06838860174176283,-1.2181228796557841,0.5446319116403866,0.32939615965767904,0.7440103538166203,-0.01972462708917305,-0.49069094822653325,1.020485452966454,-1.3701495514676203,0.2853686307035859,1.0522408642498642,-1.536015059559466],\"xaxis\":\"x4\",\"y\":[-0.47955835117961326,2.208528985383365,0.4679589633910048,-0.8551162799251366,1.2525226501637672,1.1319214520231038,0.15812173899452547,-0.9092022524719334,0.32852802693340066,-0.4676903591186404,-0.3493277560093259,1.1183452949278738,1.0373688122425815,-0.6453414703455302,0.03229546532035661,-0.6023069851028888,0.9121079412160702,1.0498745999585175,1.0919176486482147,0.19191573392508898,-0.18942501228613742,-0.81840921813167,-1.190074307457328,-0.9366038728507515,-0.856021391260267,-0.5615826830665962,0.6378853019783909,-0.4469043426630658,-0.30437064195722396,0.12651643036377053,1.5701773925381344,-0.9580031126548217,0.04328220572876478,0.2725744951757658,0.4222972618869988,-0.2920985389545437,0.16214011253466665,0.9540490890422607,1.7225130817761656,-0.10512997495124377,-0.17633757215891804,1.45413051536654,-1.0519315569532932,1.1387557835791358,1.1861446893126402,-1.7580736056974662,0.5292123753306647,-0.9993961605133591,0.4656671775443968,0.14081276623774347,1.010413912098985,0.2809253841822681,-0.17599998665524727,1.502021151027751,-0.3838066673391768,1.198474820214525,-0.44721845335323585,-0.14370261165006484,-0.8260516382539377,-0.6809444591047652,0.5975261318282004,-1.2671176535438404,-0.1451011980098431,-0.12245751430090913,-2.9311413567274505,0.3903574906989734,-0.5444592065848942,1.4805370340162713,-1.516818137400796,-0.36807158571373966,-0.16298781561838693,-2.180519736923615,1.1825365269446158,0.7316658802037822,0.011666208316439941,0.1859449212009432,-0.1704869670034482,0.5086650732355799,-0.6469319358610637,0.6787103800007991,-0.09385953422313559,1.1944846327409775,-0.1503167358094551,0.5904644508340733,0.42582199360480877,1.1586090185110205,-2.8031677845866,-0.6654053838251582,0.5205929889517756,0.2436354199909118,-0.4517153603280674,1.3044889871740712,0.3173682234696028,-0.7952936213078645,-0.9817079635434631,-0.10268464581201636,-0.49954305222214757,1.393297854592929,-0.5971193120230532,0.6050202842451881],\"yaxis\":\"y4\",\"type\":\"scatter\"},{\"line\":{\"color\":\"rgba(128, 128, 128, 1.0)\",\"dash\":\"solid\",\"shape\":\"linear\",\"width\":1.3},\"marker\":{\"size\":2,\"symbol\":\"circle\"},\"mode\":\"markers\",\"name\":\"b\",\"text\":\"\",\"x\":[-0.47955835117961326,2.208528985383365,0.4679589633910048,-0.8551162799251366,1.2525226501637672,1.1319214520231038,0.15812173899452547,-0.9092022524719334,0.32852802693340066,-0.4676903591186404,-0.3493277560093259,1.1183452949278738,1.0373688122425815,-0.6453414703455302,0.03229546532035661,-0.6023069851028888,0.9121079412160702,1.0498745999585175,1.0919176486482147,0.19191573392508898,-0.18942501228613742,-0.81840921813167,-1.190074307457328,-0.9366038728507515,-0.856021391260267,-0.5615826830665962,0.6378853019783909,-0.4469043426630658,-0.30437064195722396,0.12651643036377053,1.5701773925381344,-0.9580031126548217,0.04328220572876478,0.2725744951757658,0.4222972618869988,-0.2920985389545437,0.16214011253466665,0.9540490890422607,1.7225130817761656,-0.10512997495124377,-0.17633757215891804,1.45413051536654,-1.0519315569532932,1.1387557835791358,1.1861446893126402,-1.7580736056974662,0.5292123753306647,-0.9993961605133591,0.4656671775443968,0.14081276623774347,1.010413912098985,0.2809253841822681,-0.17599998665524727,1.502021151027751,-0.3838066673391768,1.198474820214525,-0.44721845335323585,-0.14370261165006484,-0.8260516382539377,-0.6809444591047652,0.5975261318282004,-1.2671176535438404,-0.1451011980098431,-0.12245751430090913,-2.9311413567274505,0.3903574906989734,-0.5444592065848942,1.4805370340162713,-1.516818137400796,-0.36807158571373966,-0.16298781561838693,-2.180519736923615,1.1825365269446158,0.7316658802037822,0.011666208316439941,0.1859449212009432,-0.1704869670034482,0.5086650732355799,-0.6469319358610637,0.6787103800007991,-0.09385953422313559,1.1944846327409775,-0.1503167358094551,0.5904644508340733,0.42582199360480877,1.1586090185110205,-2.8031677845866,-0.6654053838251582,0.5205929889517756,0.2436354199909118,-0.4517153603280674,1.3044889871740712,0.3173682234696028,-0.7952936213078645,-0.9817079635434631,-0.10268464581201636,-0.49954305222214757,1.393297854592929,-0.5971193120230532,0.6050202842451881],\"xaxis\":\"x5\",\"y\":[-1.271843621889942,-2.9194771482654533,1.0778027419907863,-3.3880158092068644,0.16727993160964663,0.752657149357646,-0.23471773455215122,-0.5405081781298487,-2.718485469093071,1.3977621771945667,1.9146685524277431,0.5442835285398985,0.6920694699070546,1.3288616436071947,-1.6990132510416547,1.9951469381152758,-0.19244562711695304,-0.32523784472144124,0.6042049624099904,0.3423085542626006,-0.005723712507034573,0.1660708792426556,-0.25674707460214397,-0.1226287964154879,-1.0156204214589089,1.348641230156133,-0.8398316440997098,-0.8179472960460081,-1.4349465992015384,-1.499440425603565,1.517245350105534,-0.5308778868191003,-1.3472959906321316,-1.0406469384731583,-0.4977387501764713,1.275667989295518,1.1295127491665227,-1.6061400217783806,-0.8171279627165152,-0.4932602218745369,-0.7406254851198281,-0.199395177148563,1.0415158118454182,0.3306663594538813,0.08367312089908913,1.6710661620083822,1.6242630288549933,1.2441631698928521,-1.8427327464637056,-1.07841115026537,1.0373216854219938,1.243928951642244,0.4028753220836608,0.10716839746295827,-1.2469087711768443,-0.4416009998087673,-0.1468232659953732,1.9061089235064455,-1.4600887886691467,-1.3472652348843102,-0.19782739179798506,-0.564060507366717,0.6601245441938398,-1.8642517504969234,-0.853855547211736,-1.1533885564167732,0.5137118780719806,-0.8602111272746457,0.5283454136479098,-0.3927459258059125,-0.9987993727603097,0.685678981657241,1.0824709572760371,-0.8563875703591132,-0.08003984227964277,0.7121193710585941,1.029592809196191,-0.33060904117985307,0.597189021016201,1.994985364857601,1.5750586947586183,0.3732431896844038,0.2183568914505785,-1.5701190492530126,-0.021869881075446528,-1.6773201519956382,-0.35426462746605936,0.8111479806834876,0.17462866309631145,1.1811359917261979,-1.7985183343782079,-0.40976299717349285,-0.5766078869323968,-0.6599137284909488,-0.6276952753342473,1.5578846219563145,2.3818500342349207,0.5361410686341836,1.2528965783784614,0.9650038473548902],\"yaxis\":\"y5\",\"type\":\"scatter\"},{\"histfunc\":\"count\",\"histnorm\":\"\",\"marker\":{\"color\":\"rgba(55, 128, 191, 1.0)\",\"line\":{\"color\":\"#4D5663\",\"width\":1.3}},\"name\":\"b\",\"nbinsx\":10,\"opacity\":0.8,\"orientation\":\"v\",\"x\":[-1.271843621889942,-2.9194771482654533,1.0778027419907863,-3.3880158092068644,0.16727993160964663,0.752657149357646,-0.23471773455215122,-0.5405081781298487,-2.718485469093071,1.3977621771945667,1.9146685524277431,0.5442835285398985,0.6920694699070546,1.3288616436071947,-1.6990132510416547,1.9951469381152758,-0.19244562711695304,-0.32523784472144124,0.6042049624099904,0.3423085542626006,-0.005723712507034573,0.1660708792426556,-0.25674707460214397,-0.1226287964154879,-1.0156204214589089,1.348641230156133,-0.8398316440997098,-0.8179472960460081,-1.4349465992015384,-1.499440425603565,1.517245350105534,-0.5308778868191003,-1.3472959906321316,-1.0406469384731583,-0.4977387501764713,1.275667989295518,1.1295127491665227,-1.6061400217783806,-0.8171279627165152,-0.4932602218745369,-0.7406254851198281,-0.199395177148563,1.0415158118454182,0.3306663594538813,0.08367312089908913,1.6710661620083822,1.6242630288549933,1.2441631698928521,-1.8427327464637056,-1.07841115026537,1.0373216854219938,1.243928951642244,0.4028753220836608,0.10716839746295827,-1.2469087711768443,-0.4416009998087673,-0.1468232659953732,1.9061089235064455,-1.4600887886691467,-1.3472652348843102,-0.19782739179798506,-0.564060507366717,0.6601245441938398,-1.8642517504969234,-0.853855547211736,-1.1533885564167732,0.5137118780719806,-0.8602111272746457,0.5283454136479098,-0.3927459258059125,-0.9987993727603097,0.685678981657241,1.0824709572760371,-0.8563875703591132,-0.08003984227964277,0.7121193710585941,1.029592809196191,-0.33060904117985307,0.597189021016201,1.994985364857601,1.5750586947586183,0.3732431896844038,0.2183568914505785,-1.5701190492530126,-0.021869881075446528,-1.6773201519956382,-0.35426462746605936,0.8111479806834876,0.17462866309631145,1.1811359917261979,-1.7985183343782079,-0.40976299717349285,-0.5766078869323968,-0.6599137284909488,-0.6276952753342473,1.5578846219563145,2.3818500342349207,0.5361410686341836,1.2528965783784614,0.9650038473548902],\"xaxis\":\"x6\",\"yaxis\":\"y6\",\"type\":\"histogram\"},{\"line\":{\"color\":\"rgba(128, 128, 128, 1.0)\",\"dash\":\"solid\",\"shape\":\"linear\",\"width\":1.3},\"marker\":{\"size\":2,\"symbol\":\"circle\"},\"mode\":\"markers\",\"name\":\"b\",\"text\":\"\",\"x\":[0.5967508133460097,-0.8310625436125187,-1.186075281486645,0.6839892029061092,0.33422412175490246,-0.3071702767291182,1.251127175522188,1.0003552532728113,-0.2377420517392665,-0.4697527063118209,0.5708434518927604,-1.1947960195694187,-0.5211675599806131,0.7158714474367859,0.8614422238381686,0.43157178546055064,1.3963028975464862,1.4875988076170195,1.7131776145581348,0.3262254353589354,-0.12552377386028193,-1.9022985701321304,-0.9120719616111599,1.7616033628142032,-0.6068907813949179,-0.2530358940260846,1.6050900725008113,0.8389317650171128,-0.002909916373665522,1.7231613931499312,0.42853309202866596,0.38562358104400046,-0.5816457524323265,-0.29516448723984784,1.1591737980493135,0.8823222830691667,-0.8290692062440366,-0.30242559226682475,0.6861308003160629,0.6657148569745158,-1.2223430945458924,-0.18390371544912945,-1.9892801418727477,-0.5532126817386545,0.14529208070328165,0.10530396944482108,0.840048514744419,0.3109258403053101,1.5149418881661314,0.6960741286557455,-0.5746995322937898,-1.2642798722621171,-0.8331997062746668,-0.4809489987602823,0.4879521164814944,-0.18970553016049113,-1.4460945647428922,-0.4197210086423235,1.0938141648237734,0.420365178460334,0.5437047780521163,2.1277396369110932,-1.4824255251585405,0.28014790326698,-1.0364764598428098,-1.0137255975534307,-0.5384372338453128,-1.7448174988513143,-1.2147675382539436,-0.1530862898792282,0.5975523415648675,-2.176185464348007,-1.2617209685508644,-1.3528072617329616,-0.6708566559177003,0.8891581711084477,0.44228700217665634,-0.09034793894769927,-0.8941483893465868,0.7359420705726158,-1.2330121017486972,-0.6461715862327733,-1.3642461847256528,0.24212955976515083,0.89404271749321,-0.7611759721173983,-0.2716282449010879,-0.7042685796637618,1.5145953401125853,0.36400562879899206,0.39065002581296315,-0.6182500302110686,0.5498062925369558,0.5543231928198981,2.3708937729816464,1.0361563012612234,-0.7183668727969715,-0.16522583193793056,0.4526790472959542,0.768056606707704],\"xaxis\":\"x7\",\"y\":[-1.271843621889942,-2.9194771482654533,1.0778027419907863,-3.3880158092068644,0.16727993160964663,0.752657149357646,-0.23471773455215122,-0.5405081781298487,-2.718485469093071,1.3977621771945667,1.9146685524277431,0.5442835285398985,0.6920694699070546,1.3288616436071947,-1.6990132510416547,1.9951469381152758,-0.19244562711695304,-0.32523784472144124,0.6042049624099904,0.3423085542626006,-0.005723712507034573,0.1660708792426556,-0.25674707460214397,-0.1226287964154879,-1.0156204214589089,1.348641230156133,-0.8398316440997098,-0.8179472960460081,-1.4349465992015384,-1.499440425603565,1.517245350105534,-0.5308778868191003,-1.3472959906321316,-1.0406469384731583,-0.4977387501764713,1.275667989295518,1.1295127491665227,-1.6061400217783806,-0.8171279627165152,-0.4932602218745369,-0.7406254851198281,-0.199395177148563,1.0415158118454182,0.3306663594538813,0.08367312089908913,1.6710661620083822,1.6242630288549933,1.2441631698928521,-1.8427327464637056,-1.07841115026537,1.0373216854219938,1.243928951642244,0.4028753220836608,0.10716839746295827,-1.2469087711768443,-0.4416009998087673,-0.1468232659953732,1.9061089235064455,-1.4600887886691467,-1.3472652348843102,-0.19782739179798506,-0.564060507366717,0.6601245441938398,-1.8642517504969234,-0.853855547211736,-1.1533885564167732,0.5137118780719806,-0.8602111272746457,0.5283454136479098,-0.3927459258059125,-0.9987993727603097,0.685678981657241,1.0824709572760371,-0.8563875703591132,-0.08003984227964277,0.7121193710585941,1.029592809196191,-0.33060904117985307,0.597189021016201,1.994985364857601,1.5750586947586183,0.3732431896844038,0.2183568914505785,-1.5701190492530126,-0.021869881075446528,-1.6773201519956382,-0.35426462746605936,0.8111479806834876,0.17462866309631145,1.1811359917261979,-1.7985183343782079,-0.40976299717349285,-0.5766078869323968,-0.6599137284909488,-0.6276952753342473,1.5578846219563145,2.3818500342349207,0.5361410686341836,1.2528965783784614,0.9650038473548902],\"yaxis\":\"y7\",\"type\":\"scatter\"},{\"line\":{\"color\":\"rgba(128, 128, 128, 1.0)\",\"dash\":\"solid\",\"shape\":\"linear\",\"width\":1.3},\"marker\":{\"size\":2,\"symbol\":\"circle\"},\"mode\":\"markers\",\"name\":\"b\",\"text\":\"\",\"x\":[-0.21618728541816296,1.2525459226652675,-0.3358009163971509,-0.8184760749598912,-0.3772166077514853,-1.3861624474993819,0.30740710849638947,0.275202583116614,-1.3240388450379998,-0.7257645398150134,0.07045922949442338,-0.48676497457833123,-0.6106546321456783,0.6769412416691347,0.6236781296783847,0.8984182754961492,-1.208042194254034,-0.1659269927069783,-1.276342627133373,-0.6859594465868938,1.4403530242834823,-0.24477321840964772,-1.5222734448540447,0.14917116882110168,-0.13808883464957145,-0.4375375783247449,1.567233581242451,1.5565760717056871,-0.72034678773032,-0.7287806352140853,0.22302539078996866,-2.0335464140443538,0.3157987247980749,1.0890092593239864,-0.1513529934338727,-0.7978244768567099,0.3821087333243263,-1.6202464811848905,0.7034416052270022,-0.9791495147711768,-0.6134779201626838,-0.04851198245023964,1.20411303148368,-0.6614127908787752,0.452880998327755,1.6639408358453316,0.11648833214149902,-0.27393767537970026,0.06903471091473971,0.1385728064149139,-0.7919898601517497,-0.47316026107910164,-0.49955084677851036,-0.26818185877208356,-0.3619998555526626,0.4699353492725758,1.2321408411404553,-1.0803311292418136,-0.17751174030516542,0.6243373549201932,0.36301153604288394,-1.4370960940189874,0.07234991480975235,0.2330486893618556,0.04109102379992068,0.15324613118464026,0.4840986053270673,-0.539567382808983,-0.17519068744518013,0.8079551946384139,-1.850316786185605,-1.3192894598113594,-1.1041588175263408,-0.4795675713229714,-0.08268057407004485,0.8291394204101675,1.1569962886971963,0.17575314100585898,-0.7416799714059854,-0.07150431966075302,-0.6864755436356272,-0.26215642090932006,-1.0576739331278184,-0.6623089486977592,-1.7711151174399706,2.212812051653826,-0.46079828894359876,-1.654960509967774,0.06838860174176283,-1.2181228796557841,0.5446319116403866,0.32939615965767904,0.7440103538166203,-0.01972462708917305,-0.49069094822653325,1.020485452966454,-1.3701495514676203,0.2853686307035859,1.0522408642498642,-1.536015059559466],\"xaxis\":\"x8\",\"y\":[-1.271843621889942,-2.9194771482654533,1.0778027419907863,-3.3880158092068644,0.16727993160964663,0.752657149357646,-0.23471773455215122,-0.5405081781298487,-2.718485469093071,1.3977621771945667,1.9146685524277431,0.5442835285398985,0.6920694699070546,1.3288616436071947,-1.6990132510416547,1.9951469381152758,-0.19244562711695304,-0.32523784472144124,0.6042049624099904,0.3423085542626006,-0.005723712507034573,0.1660708792426556,-0.25674707460214397,-0.1226287964154879,-1.0156204214589089,1.348641230156133,-0.8398316440997098,-0.8179472960460081,-1.4349465992015384,-1.499440425603565,1.517245350105534,-0.5308778868191003,-1.3472959906321316,-1.0406469384731583,-0.4977387501764713,1.275667989295518,1.1295127491665227,-1.6061400217783806,-0.8171279627165152,-0.4932602218745369,-0.7406254851198281,-0.199395177148563,1.0415158118454182,0.3306663594538813,0.08367312089908913,1.6710661620083822,1.6242630288549933,1.2441631698928521,-1.8427327464637056,-1.07841115026537,1.0373216854219938,1.243928951642244,0.4028753220836608,0.10716839746295827,-1.2469087711768443,-0.4416009998087673,-0.1468232659953732,1.9061089235064455,-1.4600887886691467,-1.3472652348843102,-0.19782739179798506,-0.564060507366717,0.6601245441938398,-1.8642517504969234,-0.853855547211736,-1.1533885564167732,0.5137118780719806,-0.8602111272746457,0.5283454136479098,-0.3927459258059125,-0.9987993727603097,0.685678981657241,1.0824709572760371,-0.8563875703591132,-0.08003984227964277,0.7121193710585941,1.029592809196191,-0.33060904117985307,0.597189021016201,1.994985364857601,1.5750586947586183,0.3732431896844038,0.2183568914505785,-1.5701190492530126,-0.021869881075446528,-1.6773201519956382,-0.35426462746605936,0.8111479806834876,0.17462866309631145,1.1811359917261979,-1.7985183343782079,-0.40976299717349285,-0.5766078869323968,-0.6599137284909488,-0.6276952753342473,1.5578846219563145,2.3818500342349207,0.5361410686341836,1.2528965783784614,0.9650038473548902],\"yaxis\":\"y8\",\"type\":\"scatter\"},{\"line\":{\"color\":\"rgba(128, 128, 128, 1.0)\",\"dash\":\"solid\",\"shape\":\"linear\",\"width\":1.3},\"marker\":{\"size\":2,\"symbol\":\"circle\"},\"mode\":\"markers\",\"name\":\"c\",\"text\":\"\",\"x\":[-0.47955835117961326,2.208528985383365,0.4679589633910048,-0.8551162799251366,1.2525226501637672,1.1319214520231038,0.15812173899452547,-0.9092022524719334,0.32852802693340066,-0.4676903591186404,-0.3493277560093259,1.1183452949278738,1.0373688122425815,-0.6453414703455302,0.03229546532035661,-0.6023069851028888,0.9121079412160702,1.0498745999585175,1.0919176486482147,0.19191573392508898,-0.18942501228613742,-0.81840921813167,-1.190074307457328,-0.9366038728507515,-0.856021391260267,-0.5615826830665962,0.6378853019783909,-0.4469043426630658,-0.30437064195722396,0.12651643036377053,1.5701773925381344,-0.9580031126548217,0.04328220572876478,0.2725744951757658,0.4222972618869988,-0.2920985389545437,0.16214011253466665,0.9540490890422607,1.7225130817761656,-0.10512997495124377,-0.17633757215891804,1.45413051536654,-1.0519315569532932,1.1387557835791358,1.1861446893126402,-1.7580736056974662,0.5292123753306647,-0.9993961605133591,0.4656671775443968,0.14081276623774347,1.010413912098985,0.2809253841822681,-0.17599998665524727,1.502021151027751,-0.3838066673391768,1.198474820214525,-0.44721845335323585,-0.14370261165006484,-0.8260516382539377,-0.6809444591047652,0.5975261318282004,-1.2671176535438404,-0.1451011980098431,-0.12245751430090913,-2.9311413567274505,0.3903574906989734,-0.5444592065848942,1.4805370340162713,-1.516818137400796,-0.36807158571373966,-0.16298781561838693,-2.180519736923615,1.1825365269446158,0.7316658802037822,0.011666208316439941,0.1859449212009432,-0.1704869670034482,0.5086650732355799,-0.6469319358610637,0.6787103800007991,-0.09385953422313559,1.1944846327409775,-0.1503167358094551,0.5904644508340733,0.42582199360480877,1.1586090185110205,-2.8031677845866,-0.6654053838251582,0.5205929889517756,0.2436354199909118,-0.4517153603280674,1.3044889871740712,0.3173682234696028,-0.7952936213078645,-0.9817079635434631,-0.10268464581201636,-0.49954305222214757,1.393297854592929,-0.5971193120230532,0.6050202842451881],\"xaxis\":\"x9\",\"y\":[0.5967508133460097,-0.8310625436125187,-1.186075281486645,0.6839892029061092,0.33422412175490246,-0.3071702767291182,1.251127175522188,1.0003552532728113,-0.2377420517392665,-0.4697527063118209,0.5708434518927604,-1.1947960195694187,-0.5211675599806131,0.7158714474367859,0.8614422238381686,0.43157178546055064,1.3963028975464862,1.4875988076170195,1.7131776145581348,0.3262254353589354,-0.12552377386028193,-1.9022985701321304,-0.9120719616111599,1.7616033628142032,-0.6068907813949179,-0.2530358940260846,1.6050900725008113,0.8389317650171128,-0.002909916373665522,1.7231613931499312,0.42853309202866596,0.38562358104400046,-0.5816457524323265,-0.29516448723984784,1.1591737980493135,0.8823222830691667,-0.8290692062440366,-0.30242559226682475,0.6861308003160629,0.6657148569745158,-1.2223430945458924,-0.18390371544912945,-1.9892801418727477,-0.5532126817386545,0.14529208070328165,0.10530396944482108,0.840048514744419,0.3109258403053101,1.5149418881661314,0.6960741286557455,-0.5746995322937898,-1.2642798722621171,-0.8331997062746668,-0.4809489987602823,0.4879521164814944,-0.18970553016049113,-1.4460945647428922,-0.4197210086423235,1.0938141648237734,0.420365178460334,0.5437047780521163,2.1277396369110932,-1.4824255251585405,0.28014790326698,-1.0364764598428098,-1.0137255975534307,-0.5384372338453128,-1.7448174988513143,-1.2147675382539436,-0.1530862898792282,0.5975523415648675,-2.176185464348007,-1.2617209685508644,-1.3528072617329616,-0.6708566559177003,0.8891581711084477,0.44228700217665634,-0.09034793894769927,-0.8941483893465868,0.7359420705726158,-1.2330121017486972,-0.6461715862327733,-1.3642461847256528,0.24212955976515083,0.89404271749321,-0.7611759721173983,-0.2716282449010879,-0.7042685796637618,1.5145953401125853,0.36400562879899206,0.39065002581296315,-0.6182500302110686,0.5498062925369558,0.5543231928198981,2.3708937729816464,1.0361563012612234,-0.7183668727969715,-0.16522583193793056,0.4526790472959542,0.768056606707704],\"yaxis\":\"y9\",\"type\":\"scatter\"},{\"line\":{\"color\":\"rgba(128, 128, 128, 1.0)\",\"dash\":\"solid\",\"shape\":\"linear\",\"width\":1.3},\"marker\":{\"size\":2,\"symbol\":\"circle\"},\"mode\":\"markers\",\"name\":\"c\",\"text\":\"\",\"x\":[-1.271843621889942,-2.9194771482654533,1.0778027419907863,-3.3880158092068644,0.16727993160964663,0.752657149357646,-0.23471773455215122,-0.5405081781298487,-2.718485469093071,1.3977621771945667,1.9146685524277431,0.5442835285398985,0.6920694699070546,1.3288616436071947,-1.6990132510416547,1.9951469381152758,-0.19244562711695304,-0.32523784472144124,0.6042049624099904,0.3423085542626006,-0.005723712507034573,0.1660708792426556,-0.25674707460214397,-0.1226287964154879,-1.0156204214589089,1.348641230156133,-0.8398316440997098,-0.8179472960460081,-1.4349465992015384,-1.499440425603565,1.517245350105534,-0.5308778868191003,-1.3472959906321316,-1.0406469384731583,-0.4977387501764713,1.275667989295518,1.1295127491665227,-1.6061400217783806,-0.8171279627165152,-0.4932602218745369,-0.7406254851198281,-0.199395177148563,1.0415158118454182,0.3306663594538813,0.08367312089908913,1.6710661620083822,1.6242630288549933,1.2441631698928521,-1.8427327464637056,-1.07841115026537,1.0373216854219938,1.243928951642244,0.4028753220836608,0.10716839746295827,-1.2469087711768443,-0.4416009998087673,-0.1468232659953732,1.9061089235064455,-1.4600887886691467,-1.3472652348843102,-0.19782739179798506,-0.564060507366717,0.6601245441938398,-1.8642517504969234,-0.853855547211736,-1.1533885564167732,0.5137118780719806,-0.8602111272746457,0.5283454136479098,-0.3927459258059125,-0.9987993727603097,0.685678981657241,1.0824709572760371,-0.8563875703591132,-0.08003984227964277,0.7121193710585941,1.029592809196191,-0.33060904117985307,0.597189021016201,1.994985364857601,1.5750586947586183,0.3732431896844038,0.2183568914505785,-1.5701190492530126,-0.021869881075446528,-1.6773201519956382,-0.35426462746605936,0.8111479806834876,0.17462866309631145,1.1811359917261979,-1.7985183343782079,-0.40976299717349285,-0.5766078869323968,-0.6599137284909488,-0.6276952753342473,1.5578846219563145,2.3818500342349207,0.5361410686341836,1.2528965783784614,0.9650038473548902],\"xaxis\":\"x10\",\"y\":[0.5967508133460097,-0.8310625436125187,-1.186075281486645,0.6839892029061092,0.33422412175490246,-0.3071702767291182,1.251127175522188,1.0003552532728113,-0.2377420517392665,-0.4697527063118209,0.5708434518927604,-1.1947960195694187,-0.5211675599806131,0.7158714474367859,0.8614422238381686,0.43157178546055064,1.3963028975464862,1.4875988076170195,1.7131776145581348,0.3262254353589354,-0.12552377386028193,-1.9022985701321304,-0.9120719616111599,1.7616033628142032,-0.6068907813949179,-0.2530358940260846,1.6050900725008113,0.8389317650171128,-0.002909916373665522,1.7231613931499312,0.42853309202866596,0.38562358104400046,-0.5816457524323265,-0.29516448723984784,1.1591737980493135,0.8823222830691667,-0.8290692062440366,-0.30242559226682475,0.6861308003160629,0.6657148569745158,-1.2223430945458924,-0.18390371544912945,-1.9892801418727477,-0.5532126817386545,0.14529208070328165,0.10530396944482108,0.840048514744419,0.3109258403053101,1.5149418881661314,0.6960741286557455,-0.5746995322937898,-1.2642798722621171,-0.8331997062746668,-0.4809489987602823,0.4879521164814944,-0.18970553016049113,-1.4460945647428922,-0.4197210086423235,1.0938141648237734,0.420365178460334,0.5437047780521163,2.1277396369110932,-1.4824255251585405,0.28014790326698,-1.0364764598428098,-1.0137255975534307,-0.5384372338453128,-1.7448174988513143,-1.2147675382539436,-0.1530862898792282,0.5975523415648675,-2.176185464348007,-1.2617209685508644,-1.3528072617329616,-0.6708566559177003,0.8891581711084477,0.44228700217665634,-0.09034793894769927,-0.8941483893465868,0.7359420705726158,-1.2330121017486972,-0.6461715862327733,-1.3642461847256528,0.24212955976515083,0.89404271749321,-0.7611759721173983,-0.2716282449010879,-0.7042685796637618,1.5145953401125853,0.36400562879899206,0.39065002581296315,-0.6182500302110686,0.5498062925369558,0.5543231928198981,2.3708937729816464,1.0361563012612234,-0.7183668727969715,-0.16522583193793056,0.4526790472959542,0.768056606707704],\"yaxis\":\"y10\",\"type\":\"scatter\"},{\"histfunc\":\"count\",\"histnorm\":\"\",\"marker\":{\"color\":\"rgba(50, 171, 96, 1.0)\",\"line\":{\"color\":\"#4D5663\",\"width\":1.3}},\"name\":\"c\",\"nbinsx\":10,\"opacity\":0.8,\"orientation\":\"v\",\"x\":[0.5967508133460097,-0.8310625436125187,-1.186075281486645,0.6839892029061092,0.33422412175490246,-0.3071702767291182,1.251127175522188,1.0003552532728113,-0.2377420517392665,-0.4697527063118209,0.5708434518927604,-1.1947960195694187,-0.5211675599806131,0.7158714474367859,0.8614422238381686,0.43157178546055064,1.3963028975464862,1.4875988076170195,1.7131776145581348,0.3262254353589354,-0.12552377386028193,-1.9022985701321304,-0.9120719616111599,1.7616033628142032,-0.6068907813949179,-0.2530358940260846,1.6050900725008113,0.8389317650171128,-0.002909916373665522,1.7231613931499312,0.42853309202866596,0.38562358104400046,-0.5816457524323265,-0.29516448723984784,1.1591737980493135,0.8823222830691667,-0.8290692062440366,-0.30242559226682475,0.6861308003160629,0.6657148569745158,-1.2223430945458924,-0.18390371544912945,-1.9892801418727477,-0.5532126817386545,0.14529208070328165,0.10530396944482108,0.840048514744419,0.3109258403053101,1.5149418881661314,0.6960741286557455,-0.5746995322937898,-1.2642798722621171,-0.8331997062746668,-0.4809489987602823,0.4879521164814944,-0.18970553016049113,-1.4460945647428922,-0.4197210086423235,1.0938141648237734,0.420365178460334,0.5437047780521163,2.1277396369110932,-1.4824255251585405,0.28014790326698,-1.0364764598428098,-1.0137255975534307,-0.5384372338453128,-1.7448174988513143,-1.2147675382539436,-0.1530862898792282,0.5975523415648675,-2.176185464348007,-1.2617209685508644,-1.3528072617329616,-0.6708566559177003,0.8891581711084477,0.44228700217665634,-0.09034793894769927,-0.8941483893465868,0.7359420705726158,-1.2330121017486972,-0.6461715862327733,-1.3642461847256528,0.24212955976515083,0.89404271749321,-0.7611759721173983,-0.2716282449010879,-0.7042685796637618,1.5145953401125853,0.36400562879899206,0.39065002581296315,-0.6182500302110686,0.5498062925369558,0.5543231928198981,2.3708937729816464,1.0361563012612234,-0.7183668727969715,-0.16522583193793056,0.4526790472959542,0.768056606707704],\"xaxis\":\"x11\",\"yaxis\":\"y11\",\"type\":\"histogram\"},{\"line\":{\"color\":\"rgba(128, 128, 128, 1.0)\",\"dash\":\"solid\",\"shape\":\"linear\",\"width\":1.3},\"marker\":{\"size\":2,\"symbol\":\"circle\"},\"mode\":\"markers\",\"name\":\"c\",\"text\":\"\",\"x\":[-0.21618728541816296,1.2525459226652675,-0.3358009163971509,-0.8184760749598912,-0.3772166077514853,-1.3861624474993819,0.30740710849638947,0.275202583116614,-1.3240388450379998,-0.7257645398150134,0.07045922949442338,-0.48676497457833123,-0.6106546321456783,0.6769412416691347,0.6236781296783847,0.8984182754961492,-1.208042194254034,-0.1659269927069783,-1.276342627133373,-0.6859594465868938,1.4403530242834823,-0.24477321840964772,-1.5222734448540447,0.14917116882110168,-0.13808883464957145,-0.4375375783247449,1.567233581242451,1.5565760717056871,-0.72034678773032,-0.7287806352140853,0.22302539078996866,-2.0335464140443538,0.3157987247980749,1.0890092593239864,-0.1513529934338727,-0.7978244768567099,0.3821087333243263,-1.6202464811848905,0.7034416052270022,-0.9791495147711768,-0.6134779201626838,-0.04851198245023964,1.20411303148368,-0.6614127908787752,0.452880998327755,1.6639408358453316,0.11648833214149902,-0.27393767537970026,0.06903471091473971,0.1385728064149139,-0.7919898601517497,-0.47316026107910164,-0.49955084677851036,-0.26818185877208356,-0.3619998555526626,0.4699353492725758,1.2321408411404553,-1.0803311292418136,-0.17751174030516542,0.6243373549201932,0.36301153604288394,-1.4370960940189874,0.07234991480975235,0.2330486893618556,0.04109102379992068,0.15324613118464026,0.4840986053270673,-0.539567382808983,-0.17519068744518013,0.8079551946384139,-1.850316786185605,-1.3192894598113594,-1.1041588175263408,-0.4795675713229714,-0.08268057407004485,0.8291394204101675,1.1569962886971963,0.17575314100585898,-0.7416799714059854,-0.07150431966075302,-0.6864755436356272,-0.26215642090932006,-1.0576739331278184,-0.6623089486977592,-1.7711151174399706,2.212812051653826,-0.46079828894359876,-1.654960509967774,0.06838860174176283,-1.2181228796557841,0.5446319116403866,0.32939615965767904,0.7440103538166203,-0.01972462708917305,-0.49069094822653325,1.020485452966454,-1.3701495514676203,0.2853686307035859,1.0522408642498642,-1.536015059559466],\"xaxis\":\"x12\",\"y\":[0.5967508133460097,-0.8310625436125187,-1.186075281486645,0.6839892029061092,0.33422412175490246,-0.3071702767291182,1.251127175522188,1.0003552532728113,-0.2377420517392665,-0.4697527063118209,0.5708434518927604,-1.1947960195694187,-0.5211675599806131,0.7158714474367859,0.8614422238381686,0.43157178546055064,1.3963028975464862,1.4875988076170195,1.7131776145581348,0.3262254353589354,-0.12552377386028193,-1.9022985701321304,-0.9120719616111599,1.7616033628142032,-0.6068907813949179,-0.2530358940260846,1.6050900725008113,0.8389317650171128,-0.002909916373665522,1.7231613931499312,0.42853309202866596,0.38562358104400046,-0.5816457524323265,-0.29516448723984784,1.1591737980493135,0.8823222830691667,-0.8290692062440366,-0.30242559226682475,0.6861308003160629,0.6657148569745158,-1.2223430945458924,-0.18390371544912945,-1.9892801418727477,-0.5532126817386545,0.14529208070328165,0.10530396944482108,0.840048514744419,0.3109258403053101,1.5149418881661314,0.6960741286557455,-0.5746995322937898,-1.2642798722621171,-0.8331997062746668,-0.4809489987602823,0.4879521164814944,-0.18970553016049113,-1.4460945647428922,-0.4197210086423235,1.0938141648237734,0.420365178460334,0.5437047780521163,2.1277396369110932,-1.4824255251585405,0.28014790326698,-1.0364764598428098,-1.0137255975534307,-0.5384372338453128,-1.7448174988513143,-1.2147675382539436,-0.1530862898792282,0.5975523415648675,-2.176185464348007,-1.2617209685508644,-1.3528072617329616,-0.6708566559177003,0.8891581711084477,0.44228700217665634,-0.09034793894769927,-0.8941483893465868,0.7359420705726158,-1.2330121017486972,-0.6461715862327733,-1.3642461847256528,0.24212955976515083,0.89404271749321,-0.7611759721173983,-0.2716282449010879,-0.7042685796637618,1.5145953401125853,0.36400562879899206,0.39065002581296315,-0.6182500302110686,0.5498062925369558,0.5543231928198981,2.3708937729816464,1.0361563012612234,-0.7183668727969715,-0.16522583193793056,0.4526790472959542,0.768056606707704],\"yaxis\":\"y12\",\"type\":\"scatter\"},{\"line\":{\"color\":\"rgba(128, 128, 128, 1.0)\",\"dash\":\"solid\",\"shape\":\"linear\",\"width\":1.3},\"marker\":{\"size\":2,\"symbol\":\"circle\"},\"mode\":\"markers\",\"name\":\"d\",\"text\":\"\",\"x\":[-0.47955835117961326,2.208528985383365,0.4679589633910048,-0.8551162799251366,1.2525226501637672,1.1319214520231038,0.15812173899452547,-0.9092022524719334,0.32852802693340066,-0.4676903591186404,-0.3493277560093259,1.1183452949278738,1.0373688122425815,-0.6453414703455302,0.03229546532035661,-0.6023069851028888,0.9121079412160702,1.0498745999585175,1.0919176486482147,0.19191573392508898,-0.18942501228613742,-0.81840921813167,-1.190074307457328,-0.9366038728507515,-0.856021391260267,-0.5615826830665962,0.6378853019783909,-0.4469043426630658,-0.30437064195722396,0.12651643036377053,1.5701773925381344,-0.9580031126548217,0.04328220572876478,0.2725744951757658,0.4222972618869988,-0.2920985389545437,0.16214011253466665,0.9540490890422607,1.7225130817761656,-0.10512997495124377,-0.17633757215891804,1.45413051536654,-1.0519315569532932,1.1387557835791358,1.1861446893126402,-1.7580736056974662,0.5292123753306647,-0.9993961605133591,0.4656671775443968,0.14081276623774347,1.010413912098985,0.2809253841822681,-0.17599998665524727,1.502021151027751,-0.3838066673391768,1.198474820214525,-0.44721845335323585,-0.14370261165006484,-0.8260516382539377,-0.6809444591047652,0.5975261318282004,-1.2671176535438404,-0.1451011980098431,-0.12245751430090913,-2.9311413567274505,0.3903574906989734,-0.5444592065848942,1.4805370340162713,-1.516818137400796,-0.36807158571373966,-0.16298781561838693,-2.180519736923615,1.1825365269446158,0.7316658802037822,0.011666208316439941,0.1859449212009432,-0.1704869670034482,0.5086650732355799,-0.6469319358610637,0.6787103800007991,-0.09385953422313559,1.1944846327409775,-0.1503167358094551,0.5904644508340733,0.42582199360480877,1.1586090185110205,-2.8031677845866,-0.6654053838251582,0.5205929889517756,0.2436354199909118,-0.4517153603280674,1.3044889871740712,0.3173682234696028,-0.7952936213078645,-0.9817079635434631,-0.10268464581201636,-0.49954305222214757,1.393297854592929,-0.5971193120230532,0.6050202842451881],\"xaxis\":\"x13\",\"y\":[-0.21618728541816296,1.2525459226652675,-0.3358009163971509,-0.8184760749598912,-0.3772166077514853,-1.3861624474993819,0.30740710849638947,0.275202583116614,-1.3240388450379998,-0.7257645398150134,0.07045922949442338,-0.48676497457833123,-0.6106546321456783,0.6769412416691347,0.6236781296783847,0.8984182754961492,-1.208042194254034,-0.1659269927069783,-1.276342627133373,-0.6859594465868938,1.4403530242834823,-0.24477321840964772,-1.5222734448540447,0.14917116882110168,-0.13808883464957145,-0.4375375783247449,1.567233581242451,1.5565760717056871,-0.72034678773032,-0.7287806352140853,0.22302539078996866,-2.0335464140443538,0.3157987247980749,1.0890092593239864,-0.1513529934338727,-0.7978244768567099,0.3821087333243263,-1.6202464811848905,0.7034416052270022,-0.9791495147711768,-0.6134779201626838,-0.04851198245023964,1.20411303148368,-0.6614127908787752,0.452880998327755,1.6639408358453316,0.11648833214149902,-0.27393767537970026,0.06903471091473971,0.1385728064149139,-0.7919898601517497,-0.47316026107910164,-0.49955084677851036,-0.26818185877208356,-0.3619998555526626,0.4699353492725758,1.2321408411404553,-1.0803311292418136,-0.17751174030516542,0.6243373549201932,0.36301153604288394,-1.4370960940189874,0.07234991480975235,0.2330486893618556,0.04109102379992068,0.15324613118464026,0.4840986053270673,-0.539567382808983,-0.17519068744518013,0.8079551946384139,-1.850316786185605,-1.3192894598113594,-1.1041588175263408,-0.4795675713229714,-0.08268057407004485,0.8291394204101675,1.1569962886971963,0.17575314100585898,-0.7416799714059854,-0.07150431966075302,-0.6864755436356272,-0.26215642090932006,-1.0576739331278184,-0.6623089486977592,-1.7711151174399706,2.212812051653826,-0.46079828894359876,-1.654960509967774,0.06838860174176283,-1.2181228796557841,0.5446319116403866,0.32939615965767904,0.7440103538166203,-0.01972462708917305,-0.49069094822653325,1.020485452966454,-1.3701495514676203,0.2853686307035859,1.0522408642498642,-1.536015059559466],\"yaxis\":\"y13\",\"type\":\"scatter\"},{\"line\":{\"color\":\"rgba(128, 128, 128, 1.0)\",\"dash\":\"solid\",\"shape\":\"linear\",\"width\":1.3},\"marker\":{\"size\":2,\"symbol\":\"circle\"},\"mode\":\"markers\",\"name\":\"d\",\"text\":\"\",\"x\":[-1.271843621889942,-2.9194771482654533,1.0778027419907863,-3.3880158092068644,0.16727993160964663,0.752657149357646,-0.23471773455215122,-0.5405081781298487,-2.718485469093071,1.3977621771945667,1.9146685524277431,0.5442835285398985,0.6920694699070546,1.3288616436071947,-1.6990132510416547,1.9951469381152758,-0.19244562711695304,-0.32523784472144124,0.6042049624099904,0.3423085542626006,-0.005723712507034573,0.1660708792426556,-0.25674707460214397,-0.1226287964154879,-1.0156204214589089,1.348641230156133,-0.8398316440997098,-0.8179472960460081,-1.4349465992015384,-1.499440425603565,1.517245350105534,-0.5308778868191003,-1.3472959906321316,-1.0406469384731583,-0.4977387501764713,1.275667989295518,1.1295127491665227,-1.6061400217783806,-0.8171279627165152,-0.4932602218745369,-0.7406254851198281,-0.199395177148563,1.0415158118454182,0.3306663594538813,0.08367312089908913,1.6710661620083822,1.6242630288549933,1.2441631698928521,-1.8427327464637056,-1.07841115026537,1.0373216854219938,1.243928951642244,0.4028753220836608,0.10716839746295827,-1.2469087711768443,-0.4416009998087673,-0.1468232659953732,1.9061089235064455,-1.4600887886691467,-1.3472652348843102,-0.19782739179798506,-0.564060507366717,0.6601245441938398,-1.8642517504969234,-0.853855547211736,-1.1533885564167732,0.5137118780719806,-0.8602111272746457,0.5283454136479098,-0.3927459258059125,-0.9987993727603097,0.685678981657241,1.0824709572760371,-0.8563875703591132,-0.08003984227964277,0.7121193710585941,1.029592809196191,-0.33060904117985307,0.597189021016201,1.994985364857601,1.5750586947586183,0.3732431896844038,0.2183568914505785,-1.5701190492530126,-0.021869881075446528,-1.6773201519956382,-0.35426462746605936,0.8111479806834876,0.17462866309631145,1.1811359917261979,-1.7985183343782079,-0.40976299717349285,-0.5766078869323968,-0.6599137284909488,-0.6276952753342473,1.5578846219563145,2.3818500342349207,0.5361410686341836,1.2528965783784614,0.9650038473548902],\"xaxis\":\"x14\",\"y\":[-0.21618728541816296,1.2525459226652675,-0.3358009163971509,-0.8184760749598912,-0.3772166077514853,-1.3861624474993819,0.30740710849638947,0.275202583116614,-1.3240388450379998,-0.7257645398150134,0.07045922949442338,-0.48676497457833123,-0.6106546321456783,0.6769412416691347,0.6236781296783847,0.8984182754961492,-1.208042194254034,-0.1659269927069783,-1.276342627133373,-0.6859594465868938,1.4403530242834823,-0.24477321840964772,-1.5222734448540447,0.14917116882110168,-0.13808883464957145,-0.4375375783247449,1.567233581242451,1.5565760717056871,-0.72034678773032,-0.7287806352140853,0.22302539078996866,-2.0335464140443538,0.3157987247980749,1.0890092593239864,-0.1513529934338727,-0.7978244768567099,0.3821087333243263,-1.6202464811848905,0.7034416052270022,-0.9791495147711768,-0.6134779201626838,-0.04851198245023964,1.20411303148368,-0.6614127908787752,0.452880998327755,1.6639408358453316,0.11648833214149902,-0.27393767537970026,0.06903471091473971,0.1385728064149139,-0.7919898601517497,-0.47316026107910164,-0.49955084677851036,-0.26818185877208356,-0.3619998555526626,0.4699353492725758,1.2321408411404553,-1.0803311292418136,-0.17751174030516542,0.6243373549201932,0.36301153604288394,-1.4370960940189874,0.07234991480975235,0.2330486893618556,0.04109102379992068,0.15324613118464026,0.4840986053270673,-0.539567382808983,-0.17519068744518013,0.8079551946384139,-1.850316786185605,-1.3192894598113594,-1.1041588175263408,-0.4795675713229714,-0.08268057407004485,0.8291394204101675,1.1569962886971963,0.17575314100585898,-0.7416799714059854,-0.07150431966075302,-0.6864755436356272,-0.26215642090932006,-1.0576739331278184,-0.6623089486977592,-1.7711151174399706,2.212812051653826,-0.46079828894359876,-1.654960509967774,0.06838860174176283,-1.2181228796557841,0.5446319116403866,0.32939615965767904,0.7440103538166203,-0.01972462708917305,-0.49069094822653325,1.020485452966454,-1.3701495514676203,0.2853686307035859,1.0522408642498642,-1.536015059559466],\"yaxis\":\"y14\",\"type\":\"scatter\"},{\"line\":{\"color\":\"rgba(128, 128, 128, 1.0)\",\"dash\":\"solid\",\"shape\":\"linear\",\"width\":1.3},\"marker\":{\"size\":2,\"symbol\":\"circle\"},\"mode\":\"markers\",\"name\":\"d\",\"text\":\"\",\"x\":[0.5967508133460097,-0.8310625436125187,-1.186075281486645,0.6839892029061092,0.33422412175490246,-0.3071702767291182,1.251127175522188,1.0003552532728113,-0.2377420517392665,-0.4697527063118209,0.5708434518927604,-1.1947960195694187,-0.5211675599806131,0.7158714474367859,0.8614422238381686,0.43157178546055064,1.3963028975464862,1.4875988076170195,1.7131776145581348,0.3262254353589354,-0.12552377386028193,-1.9022985701321304,-0.9120719616111599,1.7616033628142032,-0.6068907813949179,-0.2530358940260846,1.6050900725008113,0.8389317650171128,-0.002909916373665522,1.7231613931499312,0.42853309202866596,0.38562358104400046,-0.5816457524323265,-0.29516448723984784,1.1591737980493135,0.8823222830691667,-0.8290692062440366,-0.30242559226682475,0.6861308003160629,0.6657148569745158,-1.2223430945458924,-0.18390371544912945,-1.9892801418727477,-0.5532126817386545,0.14529208070328165,0.10530396944482108,0.840048514744419,0.3109258403053101,1.5149418881661314,0.6960741286557455,-0.5746995322937898,-1.2642798722621171,-0.8331997062746668,-0.4809489987602823,0.4879521164814944,-0.18970553016049113,-1.4460945647428922,-0.4197210086423235,1.0938141648237734,0.420365178460334,0.5437047780521163,2.1277396369110932,-1.4824255251585405,0.28014790326698,-1.0364764598428098,-1.0137255975534307,-0.5384372338453128,-1.7448174988513143,-1.2147675382539436,-0.1530862898792282,0.5975523415648675,-2.176185464348007,-1.2617209685508644,-1.3528072617329616,-0.6708566559177003,0.8891581711084477,0.44228700217665634,-0.09034793894769927,-0.8941483893465868,0.7359420705726158,-1.2330121017486972,-0.6461715862327733,-1.3642461847256528,0.24212955976515083,0.89404271749321,-0.7611759721173983,-0.2716282449010879,-0.7042685796637618,1.5145953401125853,0.36400562879899206,0.39065002581296315,-0.6182500302110686,0.5498062925369558,0.5543231928198981,2.3708937729816464,1.0361563012612234,-0.7183668727969715,-0.16522583193793056,0.4526790472959542,0.768056606707704],\"xaxis\":\"x15\",\"y\":[-0.21618728541816296,1.2525459226652675,-0.3358009163971509,-0.8184760749598912,-0.3772166077514853,-1.3861624474993819,0.30740710849638947,0.275202583116614,-1.3240388450379998,-0.7257645398150134,0.07045922949442338,-0.48676497457833123,-0.6106546321456783,0.6769412416691347,0.6236781296783847,0.8984182754961492,-1.208042194254034,-0.1659269927069783,-1.276342627133373,-0.6859594465868938,1.4403530242834823,-0.24477321840964772,-1.5222734448540447,0.14917116882110168,-0.13808883464957145,-0.4375375783247449,1.567233581242451,1.5565760717056871,-0.72034678773032,-0.7287806352140853,0.22302539078996866,-2.0335464140443538,0.3157987247980749,1.0890092593239864,-0.1513529934338727,-0.7978244768567099,0.3821087333243263,-1.6202464811848905,0.7034416052270022,-0.9791495147711768,-0.6134779201626838,-0.04851198245023964,1.20411303148368,-0.6614127908787752,0.452880998327755,1.6639408358453316,0.11648833214149902,-0.27393767537970026,0.06903471091473971,0.1385728064149139,-0.7919898601517497,-0.47316026107910164,-0.49955084677851036,-0.26818185877208356,-0.3619998555526626,0.4699353492725758,1.2321408411404553,-1.0803311292418136,-0.17751174030516542,0.6243373549201932,0.36301153604288394,-1.4370960940189874,0.07234991480975235,0.2330486893618556,0.04109102379992068,0.15324613118464026,0.4840986053270673,-0.539567382808983,-0.17519068744518013,0.8079551946384139,-1.850316786185605,-1.3192894598113594,-1.1041588175263408,-0.4795675713229714,-0.08268057407004485,0.8291394204101675,1.1569962886971963,0.17575314100585898,-0.7416799714059854,-0.07150431966075302,-0.6864755436356272,-0.26215642090932006,-1.0576739331278184,-0.6623089486977592,-1.7711151174399706,2.212812051653826,-0.46079828894359876,-1.654960509967774,0.06838860174176283,-1.2181228796557841,0.5446319116403866,0.32939615965767904,0.7440103538166203,-0.01972462708917305,-0.49069094822653325,1.020485452966454,-1.3701495514676203,0.2853686307035859,1.0522408642498642,-1.536015059559466],\"yaxis\":\"y15\",\"type\":\"scatter\"},{\"histfunc\":\"count\",\"histnorm\":\"\",\"marker\":{\"color\":\"rgba(128, 0, 128, 1.0)\",\"line\":{\"color\":\"#4D5663\",\"width\":1.3}},\"name\":\"d\",\"nbinsx\":10,\"opacity\":0.8,\"orientation\":\"v\",\"x\":[-0.21618728541816296,1.2525459226652675,-0.3358009163971509,-0.8184760749598912,-0.3772166077514853,-1.3861624474993819,0.30740710849638947,0.275202583116614,-1.3240388450379998,-0.7257645398150134,0.07045922949442338,-0.48676497457833123,-0.6106546321456783,0.6769412416691347,0.6236781296783847,0.8984182754961492,-1.208042194254034,-0.1659269927069783,-1.276342627133373,-0.6859594465868938,1.4403530242834823,-0.24477321840964772,-1.5222734448540447,0.14917116882110168,-0.13808883464957145,-0.4375375783247449,1.567233581242451,1.5565760717056871,-0.72034678773032,-0.7287806352140853,0.22302539078996866,-2.0335464140443538,0.3157987247980749,1.0890092593239864,-0.1513529934338727,-0.7978244768567099,0.3821087333243263,-1.6202464811848905,0.7034416052270022,-0.9791495147711768,-0.6134779201626838,-0.04851198245023964,1.20411303148368,-0.6614127908787752,0.452880998327755,1.6639408358453316,0.11648833214149902,-0.27393767537970026,0.06903471091473971,0.1385728064149139,-0.7919898601517497,-0.47316026107910164,-0.49955084677851036,-0.26818185877208356,-0.3619998555526626,0.4699353492725758,1.2321408411404553,-1.0803311292418136,-0.17751174030516542,0.6243373549201932,0.36301153604288394,-1.4370960940189874,0.07234991480975235,0.2330486893618556,0.04109102379992068,0.15324613118464026,0.4840986053270673,-0.539567382808983,-0.17519068744518013,0.8079551946384139,-1.850316786185605,-1.3192894598113594,-1.1041588175263408,-0.4795675713229714,-0.08268057407004485,0.8291394204101675,1.1569962886971963,0.17575314100585898,-0.7416799714059854,-0.07150431966075302,-0.6864755436356272,-0.26215642090932006,-1.0576739331278184,-0.6623089486977592,-1.7711151174399706,2.212812051653826,-0.46079828894359876,-1.654960509967774,0.06838860174176283,-1.2181228796557841,0.5446319116403866,0.32939615965767904,0.7440103538166203,-0.01972462708917305,-0.49069094822653325,1.020485452966454,-1.3701495514676203,0.2853686307035859,1.0522408642498642,-1.536015059559466],\"xaxis\":\"x16\",\"yaxis\":\"y16\",\"type\":\"histogram\"}],                        {\"bargap\":0.02,\"legend\":{\"bgcolor\":\"#F5F6F9\",\"font\":{\"color\":\"#4D5663\"}},\"paper_bgcolor\":\"#F5F6F9\",\"plot_bgcolor\":\"#F5F6F9\",\"showlegend\":false,\"template\":{\"data\":{\"barpolar\":[{\"marker\":{\"line\":{\"color\":\"#E5ECF6\",\"width\":0.5},\"pattern\":{\"fillmode\":\"overlay\",\"size\":10,\"solidity\":0.2}},\"type\":\"barpolar\"}],\"bar\":[{\"error_x\":{\"color\":\"#2a3f5f\"},\"error_y\":{\"color\":\"#2a3f5f\"},\"marker\":{\"line\":{\"color\":\"#E5ECF6\",\"width\":0.5},\"pattern\":{\"fillmode\":\"overlay\",\"size\":10,\"solidity\":0.2}},\"type\":\"bar\"}],\"carpet\":[{\"aaxis\":{\"endlinecolor\":\"#2a3f5f\",\"gridcolor\":\"white\",\"linecolor\":\"white\",\"minorgridcolor\":\"white\",\"startlinecolor\":\"#2a3f5f\"},\"baxis\":{\"endlinecolor\":\"#2a3f5f\",\"gridcolor\":\"white\",\"linecolor\":\"white\",\"minorgridcolor\":\"white\",\"startlinecolor\":\"#2a3f5f\"},\"type\":\"carpet\"}],\"choropleth\":[{\"colorbar\":{\"outlinewidth\":0,\"ticks\":\"\"},\"type\":\"choropleth\"}],\"contourcarpet\":[{\"colorbar\":{\"outlinewidth\":0,\"ticks\":\"\"},\"type\":\"contourcarpet\"}],\"contour\":[{\"colorbar\":{\"outlinewidth\":0,\"ticks\":\"\"},\"colorscale\":[[0.0,\"#0d0887\"],[0.1111111111111111,\"#46039f\"],[0.2222222222222222,\"#7201a8\"],[0.3333333333333333,\"#9c179e\"],[0.4444444444444444,\"#bd3786\"],[0.5555555555555556,\"#d8576b\"],[0.6666666666666666,\"#ed7953\"],[0.7777777777777778,\"#fb9f3a\"],[0.8888888888888888,\"#fdca26\"],[1.0,\"#f0f921\"]],\"type\":\"contour\"}],\"heatmapgl\":[{\"colorbar\":{\"outlinewidth\":0,\"ticks\":\"\"},\"colorscale\":[[0.0,\"#0d0887\"],[0.1111111111111111,\"#46039f\"],[0.2222222222222222,\"#7201a8\"],[0.3333333333333333,\"#9c179e\"],[0.4444444444444444,\"#bd3786\"],[0.5555555555555556,\"#d8576b\"],[0.6666666666666666,\"#ed7953\"],[0.7777777777777778,\"#fb9f3a\"],[0.8888888888888888,\"#fdca26\"],[1.0,\"#f0f921\"]],\"type\":\"heatmapgl\"}],\"heatmap\":[{\"colorbar\":{\"outlinewidth\":0,\"ticks\":\"\"},\"colorscale\":[[0.0,\"#0d0887\"],[0.1111111111111111,\"#46039f\"],[0.2222222222222222,\"#7201a8\"],[0.3333333333333333,\"#9c179e\"],[0.4444444444444444,\"#bd3786\"],[0.5555555555555556,\"#d8576b\"],[0.6666666666666666,\"#ed7953\"],[0.7777777777777778,\"#fb9f3a\"],[0.8888888888888888,\"#fdca26\"],[1.0,\"#f0f921\"]],\"type\":\"heatmap\"}],\"histogram2dcontour\":[{\"colorbar\":{\"outlinewidth\":0,\"ticks\":\"\"},\"colorscale\":[[0.0,\"#0d0887\"],[0.1111111111111111,\"#46039f\"],[0.2222222222222222,\"#7201a8\"],[0.3333333333333333,\"#9c179e\"],[0.4444444444444444,\"#bd3786\"],[0.5555555555555556,\"#d8576b\"],[0.6666666666666666,\"#ed7953\"],[0.7777777777777778,\"#fb9f3a\"],[0.8888888888888888,\"#fdca26\"],[1.0,\"#f0f921\"]],\"type\":\"histogram2dcontour\"}],\"histogram2d\":[{\"colorbar\":{\"outlinewidth\":0,\"ticks\":\"\"},\"colorscale\":[[0.0,\"#0d0887\"],[0.1111111111111111,\"#46039f\"],[0.2222222222222222,\"#7201a8\"],[0.3333333333333333,\"#9c179e\"],[0.4444444444444444,\"#bd3786\"],[0.5555555555555556,\"#d8576b\"],[0.6666666666666666,\"#ed7953\"],[0.7777777777777778,\"#fb9f3a\"],[0.8888888888888888,\"#fdca26\"],[1.0,\"#f0f921\"]],\"type\":\"histogram2d\"}],\"histogram\":[{\"marker\":{\"pattern\":{\"fillmode\":\"overlay\",\"size\":10,\"solidity\":0.2}},\"type\":\"histogram\"}],\"mesh3d\":[{\"colorbar\":{\"outlinewidth\":0,\"ticks\":\"\"},\"type\":\"mesh3d\"}],\"parcoords\":[{\"line\":{\"colorbar\":{\"outlinewidth\":0,\"ticks\":\"\"}},\"type\":\"parcoords\"}],\"pie\":[{\"automargin\":true,\"type\":\"pie\"}],\"scatter3d\":[{\"line\":{\"colorbar\":{\"outlinewidth\":0,\"ticks\":\"\"}},\"marker\":{\"colorbar\":{\"outlinewidth\":0,\"ticks\":\"\"}},\"type\":\"scatter3d\"}],\"scattercarpet\":[{\"marker\":{\"colorbar\":{\"outlinewidth\":0,\"ticks\":\"\"}},\"type\":\"scattercarpet\"}],\"scattergeo\":[{\"marker\":{\"colorbar\":{\"outlinewidth\":0,\"ticks\":\"\"}},\"type\":\"scattergeo\"}],\"scattergl\":[{\"marker\":{\"colorbar\":{\"outlinewidth\":0,\"ticks\":\"\"}},\"type\":\"scattergl\"}],\"scattermapbox\":[{\"marker\":{\"colorbar\":{\"outlinewidth\":0,\"ticks\":\"\"}},\"type\":\"scattermapbox\"}],\"scatterpolargl\":[{\"marker\":{\"colorbar\":{\"outlinewidth\":0,\"ticks\":\"\"}},\"type\":\"scatterpolargl\"}],\"scatterpolar\":[{\"marker\":{\"colorbar\":{\"outlinewidth\":0,\"ticks\":\"\"}},\"type\":\"scatterpolar\"}],\"scatter\":[{\"fillpattern\":{\"fillmode\":\"overlay\",\"size\":10,\"solidity\":0.2},\"type\":\"scatter\"}],\"scatterternary\":[{\"marker\":{\"colorbar\":{\"outlinewidth\":0,\"ticks\":\"\"}},\"type\":\"scatterternary\"}],\"surface\":[{\"colorbar\":{\"outlinewidth\":0,\"ticks\":\"\"},\"colorscale\":[[0.0,\"#0d0887\"],[0.1111111111111111,\"#46039f\"],[0.2222222222222222,\"#7201a8\"],[0.3333333333333333,\"#9c179e\"],[0.4444444444444444,\"#bd3786\"],[0.5555555555555556,\"#d8576b\"],[0.6666666666666666,\"#ed7953\"],[0.7777777777777778,\"#fb9f3a\"],[0.8888888888888888,\"#fdca26\"],[1.0,\"#f0f921\"]],\"type\":\"surface\"}],\"table\":[{\"cells\":{\"fill\":{\"color\":\"#EBF0F8\"},\"line\":{\"color\":\"white\"}},\"header\":{\"fill\":{\"color\":\"#C8D4E3\"},\"line\":{\"color\":\"white\"}},\"type\":\"table\"}]},\"layout\":{\"annotationdefaults\":{\"arrowcolor\":\"#2a3f5f\",\"arrowhead\":0,\"arrowwidth\":1},\"autotypenumbers\":\"strict\",\"coloraxis\":{\"colorbar\":{\"outlinewidth\":0,\"ticks\":\"\"}},\"colorscale\":{\"diverging\":[[0,\"#8e0152\"],[0.1,\"#c51b7d\"],[0.2,\"#de77ae\"],[0.3,\"#f1b6da\"],[0.4,\"#fde0ef\"],[0.5,\"#f7f7f7\"],[0.6,\"#e6f5d0\"],[0.7,\"#b8e186\"],[0.8,\"#7fbc41\"],[0.9,\"#4d9221\"],[1,\"#276419\"]],\"sequential\":[[0.0,\"#0d0887\"],[0.1111111111111111,\"#46039f\"],[0.2222222222222222,\"#7201a8\"],[0.3333333333333333,\"#9c179e\"],[0.4444444444444444,\"#bd3786\"],[0.5555555555555556,\"#d8576b\"],[0.6666666666666666,\"#ed7953\"],[0.7777777777777778,\"#fb9f3a\"],[0.8888888888888888,\"#fdca26\"],[1.0,\"#f0f921\"]],\"sequentialminus\":[[0.0,\"#0d0887\"],[0.1111111111111111,\"#46039f\"],[0.2222222222222222,\"#7201a8\"],[0.3333333333333333,\"#9c179e\"],[0.4444444444444444,\"#bd3786\"],[0.5555555555555556,\"#d8576b\"],[0.6666666666666666,\"#ed7953\"],[0.7777777777777778,\"#fb9f3a\"],[0.8888888888888888,\"#fdca26\"],[1.0,\"#f0f921\"]]},\"colorway\":[\"#636efa\",\"#EF553B\",\"#00cc96\",\"#ab63fa\",\"#FFA15A\",\"#19d3f3\",\"#FF6692\",\"#B6E880\",\"#FF97FF\",\"#FECB52\"],\"font\":{\"color\":\"#2a3f5f\"},\"geo\":{\"bgcolor\":\"white\",\"lakecolor\":\"white\",\"landcolor\":\"#E5ECF6\",\"showlakes\":true,\"showland\":true,\"subunitcolor\":\"white\"},\"hoverlabel\":{\"align\":\"left\"},\"hovermode\":\"closest\",\"mapbox\":{\"style\":\"light\"},\"paper_bgcolor\":\"white\",\"plot_bgcolor\":\"#E5ECF6\",\"polar\":{\"angularaxis\":{\"gridcolor\":\"white\",\"linecolor\":\"white\",\"ticks\":\"\"},\"bgcolor\":\"#E5ECF6\",\"radialaxis\":{\"gridcolor\":\"white\",\"linecolor\":\"white\",\"ticks\":\"\"}},\"scene\":{\"xaxis\":{\"backgroundcolor\":\"#E5ECF6\",\"gridcolor\":\"white\",\"gridwidth\":2,\"linecolor\":\"white\",\"showbackground\":true,\"ticks\":\"\",\"zerolinecolor\":\"white\"},\"yaxis\":{\"backgroundcolor\":\"#E5ECF6\",\"gridcolor\":\"white\",\"gridwidth\":2,\"linecolor\":\"white\",\"showbackground\":true,\"ticks\":\"\",\"zerolinecolor\":\"white\"},\"zaxis\":{\"backgroundcolor\":\"#E5ECF6\",\"gridcolor\":\"white\",\"gridwidth\":2,\"linecolor\":\"white\",\"showbackground\":true,\"ticks\":\"\",\"zerolinecolor\":\"white\"}},\"shapedefaults\":{\"line\":{\"color\":\"#2a3f5f\"}},\"ternary\":{\"aaxis\":{\"gridcolor\":\"white\",\"linecolor\":\"white\",\"ticks\":\"\"},\"baxis\":{\"gridcolor\":\"white\",\"linecolor\":\"white\",\"ticks\":\"\"},\"bgcolor\":\"#E5ECF6\",\"caxis\":{\"gridcolor\":\"white\",\"linecolor\":\"white\",\"ticks\":\"\"}},\"title\":{\"x\":0.05},\"xaxis\":{\"automargin\":true,\"gridcolor\":\"white\",\"linecolor\":\"white\",\"ticks\":\"\",\"title\":{\"standoff\":15},\"zerolinecolor\":\"white\",\"zerolinewidth\":2},\"yaxis\":{\"automargin\":true,\"gridcolor\":\"white\",\"linecolor\":\"white\",\"ticks\":\"\",\"title\":{\"standoff\":15},\"zerolinecolor\":\"white\",\"zerolinewidth\":2}}},\"title\":{\"font\":{\"color\":\"#4D5663\"}},\"xaxis\":{\"anchor\":\"y\",\"domain\":[0.0,0.2125],\"gridcolor\":\"#E1E5ED\",\"showgrid\":false,\"tickfont\":{\"color\":\"#4D5663\"},\"title\":{\"font\":{\"color\":\"#4D5663\"},\"text\":\"\"},\"zerolinecolor\":\"#E1E5ED\"},\"yaxis\":{\"anchor\":\"x\",\"domain\":[0.8025,1.0],\"gridcolor\":\"#E1E5ED\",\"showgrid\":false,\"tickfont\":{\"color\":\"#4D5663\"},\"title\":{\"font\":{\"color\":\"#4D5663\"},\"text\":\"\"},\"zerolinecolor\":\"#E1E5ED\"},\"xaxis2\":{\"anchor\":\"y2\",\"domain\":[0.2625,0.475],\"gridcolor\":\"#E1E5ED\",\"showgrid\":false,\"tickfont\":{\"color\":\"#4D5663\"},\"title\":{\"font\":{\"color\":\"#4D5663\"},\"text\":\"\"},\"zerolinecolor\":\"#E1E5ED\"},\"yaxis2\":{\"anchor\":\"x2\",\"domain\":[0.8025,1.0],\"gridcolor\":\"#E1E5ED\",\"showgrid\":false,\"tickfont\":{\"color\":\"#4D5663\"},\"title\":{\"font\":{\"color\":\"#4D5663\"},\"text\":\"\"},\"zerolinecolor\":\"#E1E5ED\"},\"xaxis3\":{\"anchor\":\"y3\",\"domain\":[0.525,0.7375],\"gridcolor\":\"#E1E5ED\",\"showgrid\":false,\"tickfont\":{\"color\":\"#4D5663\"},\"title\":{\"font\":{\"color\":\"#4D5663\"},\"text\":\"\"},\"zerolinecolor\":\"#E1E5ED\"},\"yaxis3\":{\"anchor\":\"x3\",\"domain\":[0.8025,1.0],\"gridcolor\":\"#E1E5ED\",\"showgrid\":false,\"tickfont\":{\"color\":\"#4D5663\"},\"title\":{\"font\":{\"color\":\"#4D5663\"},\"text\":\"\"},\"zerolinecolor\":\"#E1E5ED\"},\"xaxis4\":{\"anchor\":\"y4\",\"domain\":[0.7875,1.0],\"gridcolor\":\"#E1E5ED\",\"showgrid\":false,\"tickfont\":{\"color\":\"#4D5663\"},\"title\":{\"font\":{\"color\":\"#4D5663\"},\"text\":\"\"},\"zerolinecolor\":\"#E1E5ED\"},\"yaxis4\":{\"anchor\":\"x4\",\"domain\":[0.8025,1.0],\"gridcolor\":\"#E1E5ED\",\"showgrid\":false,\"tickfont\":{\"color\":\"#4D5663\"},\"title\":{\"font\":{\"color\":\"#4D5663\"},\"text\":\"\"},\"zerolinecolor\":\"#E1E5ED\"},\"xaxis5\":{\"anchor\":\"y5\",\"domain\":[0.0,0.2125],\"gridcolor\":\"#E1E5ED\",\"showgrid\":false,\"tickfont\":{\"color\":\"#4D5663\"},\"title\":{\"font\":{\"color\":\"#4D5663\"},\"text\":\"\"},\"zerolinecolor\":\"#E1E5ED\"},\"yaxis5\":{\"anchor\":\"x5\",\"domain\":[0.535,0.7325],\"gridcolor\":\"#E1E5ED\",\"showgrid\":false,\"tickfont\":{\"color\":\"#4D5663\"},\"title\":{\"font\":{\"color\":\"#4D5663\"},\"text\":\"\"},\"zerolinecolor\":\"#E1E5ED\"},\"xaxis6\":{\"anchor\":\"y6\",\"domain\":[0.2625,0.475],\"gridcolor\":\"#E1E5ED\",\"showgrid\":false,\"tickfont\":{\"color\":\"#4D5663\"},\"title\":{\"font\":{\"color\":\"#4D5663\"},\"text\":\"\"},\"zerolinecolor\":\"#E1E5ED\"},\"yaxis6\":{\"anchor\":\"x6\",\"domain\":[0.535,0.7325],\"gridcolor\":\"#E1E5ED\",\"showgrid\":false,\"tickfont\":{\"color\":\"#4D5663\"},\"title\":{\"font\":{\"color\":\"#4D5663\"},\"text\":\"\"},\"zerolinecolor\":\"#E1E5ED\"},\"xaxis7\":{\"anchor\":\"y7\",\"domain\":[0.525,0.7375],\"gridcolor\":\"#E1E5ED\",\"showgrid\":false,\"tickfont\":{\"color\":\"#4D5663\"},\"title\":{\"font\":{\"color\":\"#4D5663\"},\"text\":\"\"},\"zerolinecolor\":\"#E1E5ED\"},\"yaxis7\":{\"anchor\":\"x7\",\"domain\":[0.535,0.7325],\"gridcolor\":\"#E1E5ED\",\"showgrid\":false,\"tickfont\":{\"color\":\"#4D5663\"},\"title\":{\"font\":{\"color\":\"#4D5663\"},\"text\":\"\"},\"zerolinecolor\":\"#E1E5ED\"},\"xaxis8\":{\"anchor\":\"y8\",\"domain\":[0.7875,1.0],\"gridcolor\":\"#E1E5ED\",\"showgrid\":false,\"tickfont\":{\"color\":\"#4D5663\"},\"title\":{\"font\":{\"color\":\"#4D5663\"},\"text\":\"\"},\"zerolinecolor\":\"#E1E5ED\"},\"yaxis8\":{\"anchor\":\"x8\",\"domain\":[0.535,0.7325],\"gridcolor\":\"#E1E5ED\",\"showgrid\":false,\"tickfont\":{\"color\":\"#4D5663\"},\"title\":{\"font\":{\"color\":\"#4D5663\"},\"text\":\"\"},\"zerolinecolor\":\"#E1E5ED\"},\"xaxis9\":{\"anchor\":\"y9\",\"domain\":[0.0,0.2125],\"gridcolor\":\"#E1E5ED\",\"showgrid\":false,\"tickfont\":{\"color\":\"#4D5663\"},\"title\":{\"font\":{\"color\":\"#4D5663\"},\"text\":\"\"},\"zerolinecolor\":\"#E1E5ED\"},\"yaxis9\":{\"anchor\":\"x9\",\"domain\":[0.2675,0.465],\"gridcolor\":\"#E1E5ED\",\"showgrid\":false,\"tickfont\":{\"color\":\"#4D5663\"},\"title\":{\"font\":{\"color\":\"#4D5663\"},\"text\":\"\"},\"zerolinecolor\":\"#E1E5ED\"},\"xaxis10\":{\"anchor\":\"y10\",\"domain\":[0.2625,0.475],\"gridcolor\":\"#E1E5ED\",\"showgrid\":false,\"tickfont\":{\"color\":\"#4D5663\"},\"title\":{\"font\":{\"color\":\"#4D5663\"},\"text\":\"\"},\"zerolinecolor\":\"#E1E5ED\"},\"yaxis10\":{\"anchor\":\"x10\",\"domain\":[0.2675,0.465],\"gridcolor\":\"#E1E5ED\",\"showgrid\":false,\"tickfont\":{\"color\":\"#4D5663\"},\"title\":{\"font\":{\"color\":\"#4D5663\"},\"text\":\"\"},\"zerolinecolor\":\"#E1E5ED\"},\"xaxis11\":{\"anchor\":\"y11\",\"domain\":[0.525,0.7375],\"gridcolor\":\"#E1E5ED\",\"showgrid\":false,\"tickfont\":{\"color\":\"#4D5663\"},\"title\":{\"font\":{\"color\":\"#4D5663\"},\"text\":\"\"},\"zerolinecolor\":\"#E1E5ED\"},\"yaxis11\":{\"anchor\":\"x11\",\"domain\":[0.2675,0.465],\"gridcolor\":\"#E1E5ED\",\"showgrid\":false,\"tickfont\":{\"color\":\"#4D5663\"},\"title\":{\"font\":{\"color\":\"#4D5663\"},\"text\":\"\"},\"zerolinecolor\":\"#E1E5ED\"},\"xaxis12\":{\"anchor\":\"y12\",\"domain\":[0.7875,1.0],\"gridcolor\":\"#E1E5ED\",\"showgrid\":false,\"tickfont\":{\"color\":\"#4D5663\"},\"title\":{\"font\":{\"color\":\"#4D5663\"},\"text\":\"\"},\"zerolinecolor\":\"#E1E5ED\"},\"yaxis12\":{\"anchor\":\"x12\",\"domain\":[0.2675,0.465],\"gridcolor\":\"#E1E5ED\",\"showgrid\":false,\"tickfont\":{\"color\":\"#4D5663\"},\"title\":{\"font\":{\"color\":\"#4D5663\"},\"text\":\"\"},\"zerolinecolor\":\"#E1E5ED\"},\"xaxis13\":{\"anchor\":\"y13\",\"domain\":[0.0,0.2125],\"gridcolor\":\"#E1E5ED\",\"showgrid\":false,\"tickfont\":{\"color\":\"#4D5663\"},\"title\":{\"font\":{\"color\":\"#4D5663\"},\"text\":\"\"},\"zerolinecolor\":\"#E1E5ED\"},\"yaxis13\":{\"anchor\":\"x13\",\"domain\":[0.0,0.1975],\"gridcolor\":\"#E1E5ED\",\"showgrid\":false,\"tickfont\":{\"color\":\"#4D5663\"},\"title\":{\"font\":{\"color\":\"#4D5663\"},\"text\":\"\"},\"zerolinecolor\":\"#E1E5ED\"},\"xaxis14\":{\"anchor\":\"y14\",\"domain\":[0.2625,0.475],\"gridcolor\":\"#E1E5ED\",\"showgrid\":false,\"tickfont\":{\"color\":\"#4D5663\"},\"title\":{\"font\":{\"color\":\"#4D5663\"},\"text\":\"\"},\"zerolinecolor\":\"#E1E5ED\"},\"yaxis14\":{\"anchor\":\"x14\",\"domain\":[0.0,0.1975],\"gridcolor\":\"#E1E5ED\",\"showgrid\":false,\"tickfont\":{\"color\":\"#4D5663\"},\"title\":{\"font\":{\"color\":\"#4D5663\"},\"text\":\"\"},\"zerolinecolor\":\"#E1E5ED\"},\"xaxis15\":{\"anchor\":\"y15\",\"domain\":[0.525,0.7375],\"gridcolor\":\"#E1E5ED\",\"showgrid\":false,\"tickfont\":{\"color\":\"#4D5663\"},\"title\":{\"font\":{\"color\":\"#4D5663\"},\"text\":\"\"},\"zerolinecolor\":\"#E1E5ED\"},\"yaxis15\":{\"anchor\":\"x15\",\"domain\":[0.0,0.1975],\"gridcolor\":\"#E1E5ED\",\"showgrid\":false,\"tickfont\":{\"color\":\"#4D5663\"},\"title\":{\"font\":{\"color\":\"#4D5663\"},\"text\":\"\"},\"zerolinecolor\":\"#E1E5ED\"},\"xaxis16\":{\"anchor\":\"y16\",\"domain\":[0.7875,1.0],\"gridcolor\":\"#E1E5ED\",\"showgrid\":false,\"tickfont\":{\"color\":\"#4D5663\"},\"title\":{\"font\":{\"color\":\"#4D5663\"},\"text\":\"\"},\"zerolinecolor\":\"#E1E5ED\"},\"yaxis16\":{\"anchor\":\"x16\",\"domain\":[0.0,0.1975],\"gridcolor\":\"#E1E5ED\",\"showgrid\":false,\"tickfont\":{\"color\":\"#4D5663\"},\"title\":{\"font\":{\"color\":\"#4D5663\"},\"text\":\"\"},\"zerolinecolor\":\"#E1E5ED\"}},                        {\"showLink\": true, \"linkText\": \"Export to plot.ly\", \"plotlyServerURL\": \"https://plot.ly\", \"responsive\": true}                    ).then(function(){\n                            \nvar gd = document.getElementById('cb344e12-914f-46f4-a412-1ee072e5d740');\nvar x = new MutationObserver(function (mutations, observer) {{\n        var display = window.getComputedStyle(gd).display;\n        if (!display || display === 'none') {{\n            console.log([gd, 'removed!']);\n            Plotly.purge(gd);\n            observer.disconnect();\n        }}\n}});\n\n// Listen for the removal of the full notebook cells\nvar notebookContainer = gd.closest('#notebook-container');\nif (notebookContainer) {{\n    x.observe(notebookContainer, {childList: true});\n}}\n\n// Listen for the clearing of the current output cell\nvar outputEl = gd.closest('.output');\nif (outputEl) {{\n    x.observe(outputEl, {childList: true});\n}}\n\n                        })                };                });            </script>        </div>"
     },
     "metadata": {},
     "output_type": "display_data"
    }
   ],
   "source": [
    "df.scatter_matrix()#need all column numerical"
   ],
   "metadata": {
    "collapsed": false,
    "ExecuteTime": {
     "end_time": "2023-07-24T20:29:11.359403900Z",
     "start_time": "2023-07-24T20:29:10.439676700Z"
    }
   }
  },
  {
   "cell_type": "code",
   "execution_count": null,
   "outputs": [],
   "source": [],
   "metadata": {
    "collapsed": false
   }
  }
 ],
 "metadata": {
  "kernelspec": {
   "display_name": "Python 3",
   "language": "python",
   "name": "python3"
  },
  "language_info": {
   "codemirror_mode": {
    "name": "ipython",
    "version": 2
   },
   "file_extension": ".py",
   "mimetype": "text/x-python",
   "name": "python",
   "nbconvert_exporter": "python",
   "pygments_lexer": "ipython2",
   "version": "2.7.6"
  }
 },
 "nbformat": 4,
 "nbformat_minor": 0
}
